{
 "cells": [
  {
   "cell_type": "markdown",
   "metadata": {},
   "source": [
    "## dbt performance"
   ]
  },
  {
   "cell_type": "markdown",
   "metadata": {},
   "source": [
    "We're going to track cpu usage over time by running dbt commands in a container. We're also interested in the delay between parsing all of the models and the start of the first run of a model (when dbt establishes a connection) which is why we will be printing out some relevant log lines after the `dbt build` command generates those logs."
   ]
  },
  {
   "cell_type": "code",
   "execution_count": 1,
   "metadata": {
    "scrolled": true
   },
   "outputs": [
    {
     "data": {
      "text/plain": [
       "RendererRegistry.enable('mimetype')"
      ]
     },
     "execution_count": 1,
     "metadata": {},
     "output_type": "execute_result"
    }
   ],
   "source": [
    "import os\n",
    "import subprocess\n",
    "import json\n",
    "import requests_unixsocket\n",
    "import pandas as pd\n",
    "import warnings\n",
    "warnings.filterwarnings('ignore')\n",
    "import altair as alt\n",
    "alt.renderers.enable('mimetype') # required for charts in GitHub notebook renders."
   ]
  },
  {
   "cell_type": "code",
   "execution_count": 2,
   "metadata": {},
   "outputs": [],
   "source": [
    "cwd = os.getcwd()\n",
    "\n",
    "def run_with_num_cpu(num=None):\n",
    "    \"\"\"Run commands in containers and poll the socket for the containers stats.\"\"\"\n",
    "\n",
    "    cmd = f\"rm -rf {cwd}/01_2000_simple_models/logs\".split(\" \")\n",
    "    clear_logs = subprocess.Popen(cmd)\n",
    "    clear_logs.wait()\n",
    "\n",
    "    if num:\n",
    "        cmd = f\"docker run -d -t --name dbt_app --rm --cpus {num} -p 8580:8580 -v {cwd}/01_2000_simple_models:/app dbt-app-1.0\".split()\n",
    "    else:\n",
    "        cmd = f\"docker run -d -t --name dbt_app --rm -p 8580:8580 -v {cwd}/01_2000_simple_models:/app dbt-app-1.0\".split() \n",
    "    run_container = subprocess.Popen(cmd, stdout=subprocess.DEVNULL)\n",
    "    run_container.wait()\n",
    "\n",
    "    cmd = \"docker exec dbt_app dbt --no-partial-parse build -s node_0\".split(\" \")\n",
    "    run_build = subprocess.Popen(cmd, stdout=subprocess.DEVNULL)\n",
    "\n",
    "    session = requests_unixsocket.Session()\n",
    "    data = []\n",
    "\n",
    "    while not run_build.poll():\n",
    "        r = session.get('http+unix://%2Fvar%2Frun%2Fdocker.sock/containers/dbt_app/stats?stream=false')\n",
    "        data.append(r.json())\n",
    "\n",
    "    cmd = \"docker kill dbt_app\".split(\" \")\n",
    "    kill = subprocess.Popen(cmd, stdout=subprocess.PIPE)\n",
    "    kill.wait()\n",
    "    return data, num\n",
    "\n",
    "def generate_chart(data):\n",
    "    \"\"\"Format the data and do some math to calculate CPU usage percentage.\n",
    "\n",
    "    The calculations for CPU percentage is from https://docs.docker.com/engine/api/v1.41/#tag/Container/operation/ContainerStats\n",
    "    \"\"\"\n",
    "\n",
    "    df = pd.json_normalize(data[0])\n",
    "    cpu_stats = df.loc[:, [\"read\", \"cpu_stats.online_cpus\", \"cpu_stats.cpu_usage.total_usage\", \"precpu_stats.cpu_usage.total_usage\", \"cpu_stats.system_cpu_usage\", \"precpu_stats.system_cpu_usage\"]]\n",
    "    cpu_stats[\"cpu_delta\"] = cpu_stats[\"cpu_stats.cpu_usage.total_usage\"] - cpu_stats[\"precpu_stats.cpu_usage.total_usage\"]\n",
    "    cpu_stats[\"system_cpu_delta\"] = cpu_stats[\"cpu_stats.system_cpu_usage\"] - cpu_stats[\"precpu_stats.system_cpu_usage\"]\n",
    "    cpu_stats[\"cpu_usage_perc\"] = (cpu_stats[\"cpu_delta\"] / cpu_stats[\"system_cpu_delta\"]) * cpu_stats[\"cpu_stats.online_cpus\"] * 100\n",
    "    cpu_stats[\"read\"] = pd.to_datetime(cpu_stats[\"read\"]).dt.tz_localize(None)\n",
    "\n",
    "    return alt.Chart(cpu_stats).mark_line().encode(\n",
    "        x=alt.X(\"yearmonthdatehoursminutesseconds(read):O\", axis=alt.Axis(labelAngle=-90, format=\"%H:%M:%S\")), \n",
    "        y=\"cpu_usage_perc\"\n",
    "    ).properties(\n",
    "        width=800,\n",
    "        height=400,\n",
    "        title=f\"Container with {data[1]} cpu limit\"\n",
    "    )\n",
    "\n",
    "def print_relevant_logs():\n",
    "    \"\"\"Print relevant log lines to check timing.\"\"\"\n",
    "    with open(f\"{cwd}/01_2000_simple_models/logs/dbt.log\", \"r\") as f:\n",
    "        all_lines = f.readlines()\n",
    "    start = [s for s in all_lines if \"Found\" in s][0]\n",
    "    end = [s for s in all_lines if \"Acquiring new postgres connection\" in s][0]\n",
    "    print(start + end)"
   ]
  },
  {
   "cell_type": "code",
   "execution_count": 3,
   "metadata": {},
   "outputs": [
    {
     "name": "stdout",
     "output_type": "stream",
     "text": [
      "19:28:20.279921 [info ] [MainThread]: Found 2000 models, 6000 tests, 0 snapshots, 0 analyses, 165 macros, 0 operations, 0 seed files, 0 sources, 0 exposures, 0 metrics\n",
      "19:28:21.605619 [debug] [MainThread]: Acquiring new postgres connection \"master\"\n",
      "\n"
     ]
    },
    {
     "data": {
      "application/vnd.vegalite.v4+json": {
       "$schema": "https://vega.github.io/schema/vega-lite/v4.17.0.json",
       "config": {
        "view": {
         "continuousHeight": 300,
         "continuousWidth": 400
        }
       },
       "data": {
        "name": "data-61e4c9a3e7ff208fe3791d1c127c621d"
       },
       "datasets": {
        "data-61e4c9a3e7ff208fe3791d1c127c621d": [
         {
          "cpu_delta": 998450000,
          "cpu_stats.cpu_usage.total_usage": 1231420000,
          "cpu_stats.online_cpus": 4,
          "cpu_stats.system_cpu_usage": 4032377830000000,
          "cpu_usage_perc": 101.36548223350255,
          "precpu_stats.cpu_usage.total_usage": 232970000,
          "precpu_stats.system_cpu_usage": 4032373890000000,
          "read": "2022-11-08T19:27:03.334079143",
          "system_cpu_delta": 3940000000
         },
         {
          "cpu_delta": 528311000,
          "cpu_stats.cpu_usage.total_usage": 2674842000,
          "cpu_stats.online_cpus": 4,
          "cpu_stats.system_cpu_usage": 4032385170000000,
          "cpu_usage_perc": 60.725402298850575,
          "precpu_stats.cpu_usage.total_usage": 2146531000,
          "precpu_stats.system_cpu_usage": 4032381690000000,
          "read": "2022-11-08T19:27:05.354008644",
          "system_cpu_delta": 3480000000
         },
         {
          "cpu_delta": 175022000,
          "cpu_stats.cpu_usage.total_usage": 3036663000,
          "cpu_stats.online_cpus": 4,
          "cpu_stats.system_cpu_usage": 4032391700000000,
          "cpu_usage_perc": 21.475092024539876,
          "precpu_stats.cpu_usage.total_usage": 2861641000,
          "precpu_stats.system_cpu_usage": 4032388440000000,
          "read": "2022-11-08T19:27:07.382618810",
          "system_cpu_delta": 3260000000
         },
         {
          "cpu_delta": 185941000,
          "cpu_stats.cpu_usage.total_usage": 3388706000,
          "cpu_stats.online_cpus": 4,
          "cpu_stats.system_cpu_usage": 4032398170000000,
          "cpu_usage_perc": 22.885046153846154,
          "precpu_stats.cpu_usage.total_usage": 3202765000,
          "precpu_stats.system_cpu_usage": 4032394920000000,
          "read": "2022-11-08T19:27:09.398709238",
          "system_cpu_delta": 3250000000
         },
         {
          "cpu_delta": 209434000,
          "cpu_stats.cpu_usage.total_usage": 3783309000,
          "cpu_stats.online_cpus": 4,
          "cpu_stats.system_cpu_usage": 4032404790000000,
          "cpu_usage_perc": 24.858635014836793,
          "precpu_stats.cpu_usage.total_usage": 3573875000,
          "precpu_stats.system_cpu_usage": 4032401420000000,
          "read": "2022-11-08T19:27:11.457095803",
          "system_cpu_delta": 3370000000
         },
         {
          "cpu_delta": 268811000,
          "cpu_stats.cpu_usage.total_usage": 4255217000,
          "cpu_stats.online_cpus": 4,
          "cpu_stats.system_cpu_usage": 4032411560000000,
          "cpu_usage_perc": 31.53208211143695,
          "precpu_stats.cpu_usage.total_usage": 3986406000,
          "precpu_stats.system_cpu_usage": 4032408150000000,
          "read": "2022-11-08T19:27:13.515602324",
          "system_cpu_delta": 3410000000
         },
         {
          "cpu_delta": 300933000,
          "cpu_stats.cpu_usage.total_usage": 4861430000,
          "cpu_stats.online_cpus": 4,
          "cpu_stats.system_cpu_usage": 4032418180000000,
          "cpu_usage_perc": 35.93229850746268,
          "precpu_stats.cpu_usage.total_usage": 4560497000,
          "precpu_stats.system_cpu_usage": 4032414830000000,
          "read": "2022-11-08T19:27:15.538461517",
          "system_cpu_delta": 3350000000
         },
         {
          "cpu_delta": 279759000,
          "cpu_stats.cpu_usage.total_usage": 5431078000,
          "cpu_stats.online_cpus": 4,
          "cpu_stats.system_cpu_usage": 4032424690000000,
          "cpu_usage_perc": 34.326257668711655,
          "precpu_stats.cpu_usage.total_usage": 5151319000,
          "precpu_stats.system_cpu_usage": 4032421430000000,
          "read": "2022-11-08T19:27:17.558056384",
          "system_cpu_delta": 3260000000
         },
         {
          "cpu_delta": 759059000,
          "cpu_stats.cpu_usage.total_usage": 6382257000,
          "cpu_stats.online_cpus": 4,
          "cpu_stats.system_cpu_usage": 4032431590000000,
          "cpu_usage_perc": 82.73122615803815,
          "precpu_stats.cpu_usage.total_usage": 5623198000,
          "precpu_stats.system_cpu_usage": 4032427920000000,
          "read": "2022-11-08T19:27:19.587288229",
          "system_cpu_delta": 3670000000
         },
         {
          "cpu_delta": 717139000,
          "cpu_stats.cpu_usage.total_usage": 7877088000,
          "cpu_stats.online_cpus": 4,
          "cpu_stats.system_cpu_usage": 4032438720000000,
          "cpu_usage_perc": 80.57741573033708,
          "precpu_stats.cpu_usage.total_usage": 7159949000,
          "precpu_stats.system_cpu_usage": 4032435160000000,
          "read": "2022-11-08T19:27:21.600861209",
          "system_cpu_delta": 3560000000
         },
         {
          "cpu_delta": 749540000,
          "cpu_stats.cpu_usage.total_usage": 9362623000,
          "cpu_stats.online_cpus": 4,
          "cpu_stats.system_cpu_usage": 4032445830000000,
          "cpu_usage_perc": 85.66171428571428,
          "precpu_stats.cpu_usage.total_usage": 8613083000,
          "precpu_stats.system_cpu_usage": 4032442330000000,
          "read": "2022-11-08T19:27:23.635295177",
          "system_cpu_delta": 3500000000
         },
         {
          "cpu_delta": 770727000,
          "cpu_stats.cpu_usage.total_usage": 10937385000,
          "cpu_stats.online_cpus": 4,
          "cpu_stats.system_cpu_usage": 4032453580000000,
          "cpu_usage_perc": 83.09725067385445,
          "precpu_stats.cpu_usage.total_usage": 10166658000,
          "precpu_stats.system_cpu_usage": 4032449870000000,
          "read": "2022-11-08T19:27:25.812956929",
          "system_cpu_delta": 3710000000
         },
         {
          "cpu_delta": 739356000,
          "cpu_stats.cpu_usage.total_usage": 12424704000,
          "cpu_stats.online_cpus": 4,
          "cpu_stats.system_cpu_usage": 4032460750000000,
          "cpu_usage_perc": 82.37949860724234,
          "precpu_stats.cpu_usage.total_usage": 11685348000,
          "precpu_stats.system_cpu_usage": 4032457160000000,
          "read": "2022-11-08T19:27:27.831113522",
          "system_cpu_delta": 3590000000
         },
         {
          "cpu_delta": 748342000,
          "cpu_stats.cpu_usage.total_usage": 13919962000,
          "cpu_stats.online_cpus": 4,
          "cpu_stats.system_cpu_usage": 4032467930000000,
          "cpu_usage_perc": 83.6136312849162,
          "precpu_stats.cpu_usage.total_usage": 13171620000,
          "precpu_stats.system_cpu_usage": 4032464350000000,
          "read": "2022-11-08T19:27:29.852855455",
          "system_cpu_delta": 3580000000
         },
         {
          "cpu_delta": 764709000,
          "cpu_stats.cpu_usage.total_usage": 15450636000,
          "cpu_stats.online_cpus": 4,
          "cpu_stats.system_cpu_usage": 4032475220000000,
          "cpu_usage_perc": 84.03395604395605,
          "precpu_stats.cpu_usage.total_usage": 14685927000,
          "precpu_stats.system_cpu_usage": 4032471580000000,
          "read": "2022-11-08T19:27:31.864117333",
          "system_cpu_delta": 3640000000
         },
         {
          "cpu_delta": 762284000,
          "cpu_stats.cpu_usage.total_usage": 16911304000,
          "cpu_stats.online_cpus": 4,
          "cpu_stats.system_cpu_usage": 4032482540000000,
          "cpu_usage_perc": 82.85695652173914,
          "precpu_stats.cpu_usage.total_usage": 16149020000,
          "precpu_stats.system_cpu_usage": 4032478860000000,
          "read": "2022-11-08T19:27:33.888277490",
          "system_cpu_delta": 3680000000
         },
         {
          "cpu_delta": 750937000,
          "cpu_stats.cpu_usage.total_usage": 18415108000,
          "cpu_stats.online_cpus": 4,
          "cpu_stats.system_cpu_usage": 4032489940000000,
          "cpu_usage_perc": 80.31411764705882,
          "precpu_stats.cpu_usage.total_usage": 17664171000,
          "precpu_stats.system_cpu_usage": 4032486200000000,
          "read": "2022-11-08T19:27:35.954873305",
          "system_cpu_delta": 3740000000
         },
         {
          "cpu_delta": 782993000,
          "cpu_stats.cpu_usage.total_usage": 20017923000,
          "cpu_stats.online_cpus": 4,
          "cpu_stats.system_cpu_usage": 4032497480000000,
          "cpu_usage_perc": 82.20398950131234,
          "precpu_stats.cpu_usage.total_usage": 19234930000,
          "precpu_stats.system_cpu_usage": 4032493670000000,
          "read": "2022-11-08T19:27:38.049291549",
          "system_cpu_delta": 3810000000
         },
         {
          "cpu_delta": 784261000,
          "cpu_stats.cpu_usage.total_usage": 21576594000,
          "cpu_stats.online_cpus": 4,
          "cpu_stats.system_cpu_usage": 4032504770000000,
          "cpu_usage_perc": 86.18252747252747,
          "precpu_stats.cpu_usage.total_usage": 20792333000,
          "precpu_stats.system_cpu_usage": 4032501130000000,
          "read": "2022-11-08T19:27:40.066232548",
          "system_cpu_delta": 3640000000
         },
         {
          "cpu_delta": 767431000,
          "cpu_stats.cpu_usage.total_usage": 23106803000,
          "cpu_stats.online_cpus": 4,
          "cpu_stats.system_cpu_usage": 4032512040000000,
          "cpu_usage_perc": 84.33307692307692,
          "precpu_stats.cpu_usage.total_usage": 22339372000,
          "precpu_stats.system_cpu_usage": 4032508400000000,
          "read": "2022-11-08T19:27:42.084956502",
          "system_cpu_delta": 3640000000
         },
         {
          "cpu_delta": 785400000,
          "cpu_stats.cpu_usage.total_usage": 24683053000,
          "cpu_stats.online_cpus": 4,
          "cpu_stats.system_cpu_usage": 4032519300000000,
          "cpu_usage_perc": 86.3076923076923,
          "precpu_stats.cpu_usage.total_usage": 23897653000,
          "precpu_stats.system_cpu_usage": 4032515660000000,
          "read": "2022-11-08T19:27:44.075828729",
          "system_cpu_delta": 3640000000
         },
         {
          "cpu_delta": 776991000,
          "cpu_stats.cpu_usage.total_usage": 26236699000,
          "cpu_stats.online_cpus": 4,
          "cpu_stats.system_cpu_usage": 4032526610000000,
          "cpu_usage_perc": 84.91704918032787,
          "precpu_stats.cpu_usage.total_usage": 25459708000,
          "precpu_stats.system_cpu_usage": 4032522950000000,
          "read": "2022-11-08T19:27:46.097688650",
          "system_cpu_delta": 3660000000
         },
         {
          "cpu_delta": 783538000,
          "cpu_stats.cpu_usage.total_usage": 27781096000,
          "cpu_stats.online_cpus": 4,
          "cpu_stats.system_cpu_usage": 4032533920000000,
          "cpu_usage_perc": 86.34027548209366,
          "precpu_stats.cpu_usage.total_usage": 26997558000,
          "precpu_stats.system_cpu_usage": 4032530290000000,
          "read": "2022-11-08T19:27:48.148337823",
          "system_cpu_delta": 3630000000
         },
         {
          "cpu_delta": 745081000,
          "cpu_stats.cpu_usage.total_usage": 29322820000,
          "cpu_stats.online_cpus": 4,
          "cpu_stats.system_cpu_usage": 4032541630000000,
          "cpu_usage_perc": 77.81524804177545,
          "precpu_stats.cpu_usage.total_usage": 28577739000,
          "precpu_stats.system_cpu_usage": 4032537800000000,
          "read": "2022-11-08T19:27:50.275112015",
          "system_cpu_delta": 3830000000
         },
         {
          "cpu_delta": 771384000,
          "cpu_stats.cpu_usage.total_usage": 30868309000,
          "cpu_stats.online_cpus": 4,
          "cpu_stats.system_cpu_usage": 4032548930000000,
          "cpu_usage_perc": 84.76747252747253,
          "precpu_stats.cpu_usage.total_usage": 30096925000,
          "precpu_stats.system_cpu_usage": 4032545290000000,
          "read": "2022-11-08T19:27:52.296587485",
          "system_cpu_delta": 3640000000
         },
         {
          "cpu_delta": 787727000,
          "cpu_stats.cpu_usage.total_usage": 32414916000,
          "cpu_stats.online_cpus": 4,
          "cpu_stats.system_cpu_usage": 4032556240000000,
          "cpu_usage_perc": 86.0903825136612,
          "precpu_stats.cpu_usage.total_usage": 31627189000,
          "precpu_stats.system_cpu_usage": 4032552580000000,
          "read": "2022-11-08T19:27:54.322262772",
          "system_cpu_delta": 3660000000
         },
         {
          "cpu_delta": 775560000,
          "cpu_stats.cpu_usage.total_usage": 33956354000,
          "cpu_stats.online_cpus": 4,
          "cpu_stats.system_cpu_usage": 4032563550000000,
          "cpu_usage_perc": 84.3,
          "precpu_stats.cpu_usage.total_usage": 33180794000,
          "precpu_stats.system_cpu_usage": 4032559870000000,
          "read": "2022-11-08T19:27:56.339458793",
          "system_cpu_delta": 3680000000
         },
         {
          "cpu_delta": 767737000,
          "cpu_stats.cpu_usage.total_usage": 35498765000,
          "cpu_stats.online_cpus": 4,
          "cpu_stats.system_cpu_usage": 4032570840000000,
          "cpu_usage_perc": 84.59911845730026,
          "precpu_stats.cpu_usage.total_usage": 34731028000,
          "precpu_stats.system_cpu_usage": 4032567210000000,
          "read": "2022-11-08T19:27:58.351625170",
          "system_cpu_delta": 3630000000
         },
         {
          "cpu_delta": 800625000,
          "cpu_stats.cpu_usage.total_usage": 37091834000,
          "cpu_stats.online_cpus": 4,
          "cpu_stats.system_cpu_usage": 4032578150000000,
          "cpu_usage_perc": 87.73972602739725,
          "precpu_stats.cpu_usage.total_usage": 36291209000,
          "precpu_stats.system_cpu_usage": 4032574500000000,
          "read": "2022-11-08T19:28:00.378501811",
          "system_cpu_delta": 3650000000
         },
         {
          "cpu_delta": 790238000,
          "cpu_stats.cpu_usage.total_usage": 38769746000,
          "cpu_stats.online_cpus": 4,
          "cpu_stats.system_cpu_usage": 4032585970000000,
          "cpu_usage_perc": 85.20086253369273,
          "precpu_stats.cpu_usage.total_usage": 37979508000,
          "precpu_stats.system_cpu_usage": 4032582260000000,
          "read": "2022-11-08T19:28:02.560759760",
          "system_cpu_delta": 3710000000
         },
         {
          "cpu_delta": 725890000,
          "cpu_stats.cpu_usage.total_usage": 40214798000,
          "cpu_stats.online_cpus": 4,
          "cpu_stats.system_cpu_usage": 4032593090000000,
          "cpu_usage_perc": 81.33221288515406,
          "precpu_stats.cpu_usage.total_usage": 39488908000,
          "precpu_stats.system_cpu_usage": 4032589520000000,
          "read": "2022-11-08T19:28:04.586284397",
          "system_cpu_delta": 3570000000
         },
         {
          "cpu_delta": 782496000,
          "cpu_stats.cpu_usage.total_usage": 41742666000,
          "cpu_stats.online_cpus": 4,
          "cpu_stats.system_cpu_usage": 4032600440000000,
          "cpu_usage_perc": 84.82341463414635,
          "precpu_stats.cpu_usage.total_usage": 40960170000,
          "precpu_stats.system_cpu_usage": 4032596750000000,
          "read": "2022-11-08T19:28:06.629360375",
          "system_cpu_delta": 3690000000
         },
         {
          "cpu_delta": 767077000,
          "cpu_stats.cpu_usage.total_usage": 43269217000,
          "cpu_stats.online_cpus": 4,
          "cpu_stats.system_cpu_usage": 4032607710000000,
          "cpu_usage_perc": 84.526391184573,
          "precpu_stats.cpu_usage.total_usage": 42502140000,
          "precpu_stats.system_cpu_usage": 4032604080000000,
          "read": "2022-11-08T19:28:08.643466704",
          "system_cpu_delta": 3630000000
         },
         {
          "cpu_delta": 736311000,
          "cpu_stats.cpu_usage.total_usage": 44782652000,
          "cpu_stats.online_cpus": 4,
          "cpu_stats.system_cpu_usage": 4032615050000000,
          "cpu_usage_perc": 80.47114754098361,
          "precpu_stats.cpu_usage.total_usage": 44046341000,
          "precpu_stats.system_cpu_usage": 4032611390000000,
          "read": "2022-11-08T19:28:10.664586466",
          "system_cpu_delta": 3660000000
         },
         {
          "cpu_delta": 979925000,
          "cpu_stats.cpu_usage.total_usage": 46592425000,
          "cpu_stats.online_cpus": 4,
          "cpu_stats.system_cpu_usage": 4032622870000000,
          "cpu_usage_perc": 96.07107843137254,
          "precpu_stats.cpu_usage.total_usage": 45612500000,
          "precpu_stats.system_cpu_usage": 4032618790000000,
          "read": "2022-11-08T19:28:12.735019716",
          "system_cpu_delta": 4080000000
         },
         {
          "cpu_delta": 1006907000,
          "cpu_stats.cpu_usage.total_usage": 48557598000,
          "cpu_stats.online_cpus": 4,
          "cpu_stats.system_cpu_usage": 4032630740000000,
          "cpu_usage_perc": 102.48417302798983,
          "precpu_stats.cpu_usage.total_usage": 47550691000,
          "precpu_stats.system_cpu_usage": 4032626810000000,
          "read": "2022-11-08T19:28:14.750928100",
          "system_cpu_delta": 3930000000
         },
         {
          "cpu_delta": 1006731000,
          "cpu_stats.cpu_usage.total_usage": 50567207000,
          "cpu_stats.online_cpus": 4,
          "cpu_stats.system_cpu_usage": 4032638630000000,
          "cpu_usage_perc": 101.69,
          "precpu_stats.cpu_usage.total_usage": 49560476000,
          "precpu_stats.system_cpu_usage": 4032634670000000,
          "read": "2022-11-08T19:28:16.770333019",
          "system_cpu_delta": 3960000000
         },
         {
          "cpu_delta": 1005487000,
          "cpu_stats.cpu_usage.total_usage": 52577551000,
          "cpu_stats.online_cpus": 4,
          "cpu_stats.system_cpu_usage": 4032646490000000,
          "cpu_usage_perc": 102.3396437659033,
          "precpu_stats.cpu_usage.total_usage": 51572064000,
          "precpu_stats.system_cpu_usage": 4032642560000000,
          "read": "2022-11-08T19:28:18.784553784",
          "system_cpu_delta": 3930000000
         },
         {
          "cpu_delta": 835553000,
          "cpu_stats.cpu_usage.total_usage": 54418657000,
          "cpu_stats.online_cpus": 4,
          "cpu_stats.system_cpu_usage": 4032654190000000,
          "cpu_usage_perc": 88.65283819628648,
          "precpu_stats.cpu_usage.total_usage": 53583104000,
          "precpu_stats.system_cpu_usage": 4032650420000000,
          "read": "2022-11-08T19:28:20.798627414",
          "system_cpu_delta": 3770000000
         },
         {
          "cpu_delta": 394319000,
          "cpu_stats.cpu_usage.total_usage": 55735358000,
          "cpu_stats.online_cpus": 4,
          "cpu_stats.system_cpu_usage": 4032661810000000,
          "cpu_usage_perc": 42.86076086956522,
          "precpu_stats.cpu_usage.total_usage": 55341039000,
          "precpu_stats.system_cpu_usage": 4032658130000000,
          "read": "2022-11-08T19:28:22.822309161",
          "system_cpu_delta": 3680000000
         },
         {
          "cpu_delta": 498054000,
          "cpu_stats.cpu_usage.total_usage": 56581295000,
          "cpu_stats.online_cpus": 4,
          "cpu_stats.system_cpu_usage": 4032668920000000,
          "cpu_usage_perc": 56.75829059829059,
          "precpu_stats.cpu_usage.total_usage": 56083241000,
          "precpu_stats.system_cpu_usage": 4032665410000000,
          "read": "2022-11-08T19:28:24.897841367",
          "system_cpu_delta": 3510000000
         },
         {
          "cpu_delta": 479867000,
          "cpu_stats.cpu_usage.total_usage": 57561172000,
          "cpu_stats.online_cpus": 4,
          "cpu_stats.system_cpu_usage": 4032675790000000,
          "cpu_usage_perc": 57.12702380952381,
          "precpu_stats.cpu_usage.total_usage": 57081305000,
          "precpu_stats.system_cpu_usage": 4032672430000000,
          "read": "2022-11-08T19:28:26.971175157",
          "system_cpu_delta": 3360000000
         },
         {
          "cpu_delta": 411811000,
          "cpu_stats.cpu_usage.total_usage": 58436538000,
          "cpu_stats.online_cpus": 4,
          "cpu_stats.system_cpu_usage": 4032682590000000,
          "cpu_usage_perc": 48.30627565982405,
          "precpu_stats.cpu_usage.total_usage": 58024727000,
          "precpu_stats.system_cpu_usage": 4032679180000000,
          "read": "2022-11-08T19:28:28.995069190",
          "system_cpu_delta": 3410000000
         },
         {
          "cpu_delta": 442584000,
          "cpu_stats.cpu_usage.total_usage": 58993736000,
          "cpu_stats.online_cpus": 4,
          "cpu_stats.system_cpu_usage": 4032690620000000,
          "cpu_usage_perc": 52.22230088495575,
          "precpu_stats.cpu_usage.total_usage": 58551152000,
          "precpu_stats.system_cpu_usage": 4032687230000000,
          "read": "2022-11-08T19:28:31.262243374",
          "system_cpu_delta": 3390000000
         },
         {
          "cpu_delta": 442268000,
          "cpu_stats.cpu_usage.total_usage": 59879970000,
          "cpu_stats.online_cpus": 4,
          "cpu_stats.system_cpu_usage": 4032697310000000,
          "cpu_usage_perc": 52.4947181008902,
          "precpu_stats.cpu_usage.total_usage": 59437702000,
          "precpu_stats.system_cpu_usage": 4032693940000000,
          "read": "2022-11-08T19:28:33.292168613",
          "system_cpu_delta": 3370000000
         },
         {
          "cpu_delta": 398646000,
          "cpu_stats.cpu_usage.total_usage": 60695842000,
          "cpu_stats.online_cpus": 4,
          "cpu_stats.system_cpu_usage": 4032704060000000,
          "cpu_usage_perc": 47.457857142857144,
          "precpu_stats.cpu_usage.total_usage": 60297196000,
          "precpu_stats.system_cpu_usage": 4032700700000000,
          "read": "2022-11-08T19:28:35.306222954",
          "system_cpu_delta": 3360000000
         },
         {
          "cpu_delta": 833669000,
          "cpu_stats.cpu_usage.total_usage": 61908641000,
          "cpu_stats.online_cpus": 4,
          "cpu_stats.system_cpu_usage": 4032711600000000,
          "cpu_usage_perc": 85.72431876606684,
          "precpu_stats.cpu_usage.total_usage": 61074972000,
          "precpu_stats.system_cpu_usage": 4032707710000000,
          "read": "2022-11-08T19:28:37.433543404",
          "system_cpu_delta": 3890000000
         },
         {
          "cpu_delta": 465416000,
          "cpu_stats.cpu_usage.total_usage": 62442916000,
          "cpu_stats.online_cpus": 4,
          "cpu_stats.system_cpu_usage": 4032719230000000,
          "cpu_usage_perc": 48.10501291989664,
          "precpu_stats.cpu_usage.total_usage": 61977500000,
          "precpu_stats.system_cpu_usage": 4032715360000000,
          "read": "2022-11-08T19:28:39.451332635",
          "system_cpu_delta": 3870000000
         },
         {
          "cpu_delta": 0,
          "cpu_stats.cpu_usage.total_usage": 63026831000,
          "cpu_stats.online_cpus": 4,
          "cpu_stats.system_cpu_usage": 4032727050000000,
          "cpu_usage_perc": 0,
          "precpu_stats.cpu_usage.total_usage": 63026831000,
          "precpu_stats.system_cpu_usage": 4032723180000000,
          "read": "2022-11-08T19:28:41.476334358",
          "system_cpu_delta": 3870000000
         }
        ]
       },
       "encoding": {
        "x": {
         "axis": {
          "format": "%H:%M:%S",
          "labelAngle": -90
         },
         "field": "read",
         "timeUnit": "yearmonthdatehoursminutesseconds",
         "type": "ordinal"
        },
        "y": {
         "field": "cpu_usage_perc",
         "type": "quantitative"
        }
       },
       "height": 400,
       "mark": "line",
       "title": "Container with 1 cpu limit",
       "width": 800
      },
      "image/png": "[encoded data removed]",
      "text/plain": [
       "<VegaLite 4 object>\n",
       "\n",
       "If you see this message, it means the renderer has not been properly enabled\n",
       "for the frontend that you are using. For more information, see\n",
       "https://altair-viz.github.io/user_guide/troubleshooting.html\n"
      ]
     },
     "execution_count": 3,
     "metadata": {},
     "output_type": "execute_result"
    }
   ],
   "source": [
    "chart = generate_chart(run_with_num_cpu(1))\n",
    "print_relevant_logs()\n",
    "chart"
   ]
  },
  {
   "cell_type": "code",
   "execution_count": 4,
   "metadata": {},
   "outputs": [
    {
     "name": "stdout",
     "output_type": "stream",
     "text": [
      "19:30:53.983262 [info ] [MainThread]: Found 2000 models, 6000 tests, 0 snapshots, 0 analyses, 165 macros, 0 operations, 0 seed files, 0 sources, 0 exposures, 0 metrics\n",
      "19:30:57.432708 [debug] [MainThread]: Acquiring new postgres connection \"master\"\n",
      "\n"
     ]
    },
    {
     "data": {
      "application/vnd.vegalite.v4+json": {
       "$schema": "https://vega.github.io/schema/vega-lite/v4.17.0.json",
       "config": {
        "view": {
         "continuousHeight": 300,
         "continuousWidth": 400
        }
       },
       "data": {
        "name": "data-13200f0975e6300705e6ccbfc5d22d21"
       },
       "datasets": {
        "data-13200f0975e6300705e6ccbfc5d22d21": [
         {
          "cpu_delta": 509717000,
          "cpu_stats.cpu_usage.total_usage": 700526000,
          "cpu_stats.online_cpus": 4,
          "cpu_stats.system_cpu_usage": 4032737880000000,
          "cpu_usage_perc": 51.48656565656565,
          "precpu_stats.cpu_usage.total_usage": 190809000,
          "precpu_stats.system_cpu_usage": 4032733920000000,
          "read": "2022-11-08T19:28:44.511554941",
          "system_cpu_delta": 3960000000
         },
         {
          "cpu_delta": 528126000,
          "cpu_stats.cpu_usage.total_usage": 1740893000,
          "cpu_stats.online_cpus": 4,
          "cpu_stats.system_cpu_usage": 4032745770000000,
          "cpu_usage_perc": 53.21168765743073,
          "precpu_stats.cpu_usage.total_usage": 1212767000,
          "precpu_stats.system_cpu_usage": 4032741800000000,
          "read": "2022-11-08T19:28:46.556750299",
          "system_cpu_delta": 3970000000
         },
         {
          "cpu_delta": 535026000,
          "cpu_stats.cpu_usage.total_usage": 2781111000,
          "cpu_stats.online_cpus": 4,
          "cpu_stats.system_cpu_usage": 4032753710000000,
          "cpu_usage_perc": 54.317360406091375,
          "precpu_stats.cpu_usage.total_usage": 2246085000,
          "precpu_stats.system_cpu_usage": 4032749770000000,
          "read": "2022-11-08T19:28:48.646168492",
          "system_cpu_delta": 3940000000
         },
         {
          "cpu_delta": 199040000,
          "cpu_stats.cpu_usage.total_usage": 3488249000,
          "cpu_stats.online_cpus": 4,
          "cpu_stats.system_cpu_usage": 4032760960000000,
          "cpu_usage_perc": 23.27953216374269,
          "precpu_stats.cpu_usage.total_usage": 3289209000,
          "precpu_stats.system_cpu_usage": 4032757540000000,
          "read": "2022-11-08T19:28:50.666297347",
          "system_cpu_delta": 3420000000
         },
         {
          "cpu_delta": 154746000,
          "cpu_stats.cpu_usage.total_usage": 3811966000,
          "cpu_stats.online_cpus": 4,
          "cpu_stats.system_cpu_usage": 4032767440000000,
          "cpu_usage_perc": 19.16359133126935,
          "precpu_stats.cpu_usage.total_usage": 3657220000,
          "precpu_stats.system_cpu_usage": 4032764210000000,
          "read": "2022-11-08T19:28:52.679877969",
          "system_cpu_delta": 3230000000
         },
         {
          "cpu_delta": 196531000,
          "cpu_stats.cpu_usage.total_usage": 4176538000,
          "cpu_stats.online_cpus": 4,
          "cpu_stats.system_cpu_usage": 4032773960000000,
          "cpu_usage_perc": 23.894346504559273,
          "precpu_stats.cpu_usage.total_usage": 3980007000,
          "precpu_stats.system_cpu_usage": 4032770670000000,
          "read": "2022-11-08T19:28:54.703215547",
          "system_cpu_delta": 3290000000
         },
         {
          "cpu_delta": 192793000,
          "cpu_stats.cpu_usage.total_usage": 4590799000,
          "cpu_stats.online_cpus": 4,
          "cpu_stats.system_cpu_usage": 4032780470000000,
          "cpu_usage_perc": 23.728369230769232,
          "precpu_stats.cpu_usage.total_usage": 4398006000,
          "precpu_stats.system_cpu_usage": 4032777220000000,
          "read": "2022-11-08T19:28:56.723004284",
          "system_cpu_delta": 3250000000
         },
         {
          "cpu_delta": 292979000,
          "cpu_stats.cpu_usage.total_usage": 5080756000,
          "cpu_stats.online_cpus": 4,
          "cpu_stats.system_cpu_usage": 4032787160000000,
          "cpu_usage_perc": 34.46811764705882,
          "precpu_stats.cpu_usage.total_usage": 4787777000,
          "precpu_stats.system_cpu_usage": 4032783760000000,
          "read": "2022-11-08T19:28:58.758458512",
          "system_cpu_delta": 3400000000
         },
         {
          "cpu_delta": 314064000,
          "cpu_stats.cpu_usage.total_usage": 5710591000,
          "cpu_stats.online_cpus": 4,
          "cpu_stats.system_cpu_usage": 4032794010000000,
          "cpu_usage_perc": 37.50017910447761,
          "precpu_stats.cpu_usage.total_usage": 5396527000,
          "precpu_stats.system_cpu_usage": 4032790660000000,
          "read": "2022-11-08T19:29:00.873855856",
          "system_cpu_delta": 3350000000
         },
         {
          "cpu_delta": 274950000,
          "cpu_stats.cpu_usage.total_usage": 6291690000,
          "cpu_stats.online_cpus": 4,
          "cpu_stats.system_cpu_usage": 4032800560000000,
          "cpu_usage_perc": 33.839999999999996,
          "precpu_stats.cpu_usage.total_usage": 6016740000,
          "precpu_stats.system_cpu_usage": 4032797310000000,
          "read": "2022-11-08T19:29:02.892461424",
          "system_cpu_delta": 3250000000
         },
         {
          "cpu_delta": 518460000,
          "cpu_stats.cpu_usage.total_usage": 7040170000,
          "cpu_stats.online_cpus": 4,
          "cpu_stats.system_cpu_usage": 4032807780000000,
          "cpu_usage_perc": 53.587596899224806,
          "precpu_stats.cpu_usage.total_usage": 6521710000,
          "precpu_stats.system_cpu_usage": 4032803910000000,
          "read": "2022-11-08T19:29:04.922319693",
          "system_cpu_delta": 3870000000
         },
         {
          "cpu_delta": 505221000,
          "cpu_stats.cpu_usage.total_usage": 8047581000,
          "cpu_stats.online_cpus": 4,
          "cpu_stats.system_cpu_usage": 4032815210000000,
          "cpu_usage_perc": 54.179195710455765,
          "precpu_stats.cpu_usage.total_usage": 7542360000,
          "precpu_stats.system_cpu_usage": 4032811480000000,
          "read": "2022-11-08T19:29:06.943307973",
          "system_cpu_delta": 3730000000
         },
         {
          "cpu_delta": 515596000,
          "cpu_stats.cpu_usage.total_usage": 9068302000,
          "cpu_stats.online_cpus": 4,
          "cpu_stats.system_cpu_usage": 4032822530000000,
          "cpu_usage_perc": 56.19574931880109,
          "precpu_stats.cpu_usage.total_usage": 8552706000,
          "precpu_stats.system_cpu_usage": 4032818860000000,
          "read": "2022-11-08T19:29:08.964524559",
          "system_cpu_delta": 3670000000
         },
         {
          "cpu_delta": 508157000,
          "cpu_stats.cpu_usage.total_usage": 10070227000,
          "cpu_stats.online_cpus": 4,
          "cpu_stats.system_cpu_usage": 4032829870000000,
          "cpu_usage_perc": 55.084769647696476,
          "precpu_stats.cpu_usage.total_usage": 9562070000,
          "precpu_stats.system_cpu_usage": 4032826180000000,
          "read": "2022-11-08T19:29:10.985065849",
          "system_cpu_delta": 3690000000
         },
         {
          "cpu_delta": 499854000,
          "cpu_stats.cpu_usage.total_usage": 11105263000,
          "cpu_stats.online_cpus": 4,
          "cpu_stats.system_cpu_usage": 4032837470000000,
          "cpu_usage_perc": 54.33195652173913,
          "precpu_stats.cpu_usage.total_usage": 10605409000,
          "precpu_stats.system_cpu_usage": 4032833790000000,
          "read": "2022-11-08T19:29:13.079761485",
          "system_cpu_delta": 3680000000
         },
         {
          "cpu_delta": 509104000,
          "cpu_stats.cpu_usage.total_usage": 12116882000,
          "cpu_stats.online_cpus": 4,
          "cpu_stats.system_cpu_usage": 4032844870000000,
          "cpu_usage_perc": 55.63978142076502,
          "precpu_stats.cpu_usage.total_usage": 11607778000,
          "precpu_stats.system_cpu_usage": 4032841210000000,
          "read": "2022-11-08T19:29:15.094337999",
          "system_cpu_delta": 3660000000
         },
         {
          "cpu_delta": 512001000,
          "cpu_stats.cpu_usage.total_usage": 13135685000,
          "cpu_stats.online_cpus": 4,
          "cpu_stats.system_cpu_usage": 4032852210000000,
          "cpu_usage_perc": 56.10969863013698,
          "precpu_stats.cpu_usage.total_usage": 12623684000,
          "precpu_stats.system_cpu_usage": 4032848560000000,
          "read": "2022-11-08T19:29:17.113741848",
          "system_cpu_delta": 3650000000
         },
         {
          "cpu_delta": 498068000,
          "cpu_stats.cpu_usage.total_usage": 14144944000,
          "cpu_stats.online_cpus": 4,
          "cpu_stats.system_cpu_usage": 4032859510000000,
          "cpu_usage_perc": 54.8835261707989,
          "precpu_stats.cpu_usage.total_usage": 13646876000,
          "precpu_stats.system_cpu_usage": 4032855880000000,
          "read": "2022-11-08T19:29:19.132091700",
          "system_cpu_delta": 3630000000
         },
         {
          "cpu_delta": 498890000,
          "cpu_stats.cpu_usage.total_usage": 15155873000,
          "cpu_stats.online_cpus": 4,
          "cpu_stats.system_cpu_usage": 4032866850000000,
          "cpu_usage_perc": 54.52349726775956,
          "precpu_stats.cpu_usage.total_usage": 14656983000,
          "precpu_stats.system_cpu_usage": 4032863190000000,
          "read": "2022-11-08T19:29:21.150736223",
          "system_cpu_delta": 3660000000
         },
         {
          "cpu_delta": 508077000,
          "cpu_stats.cpu_usage.total_usage": 16162843000,
          "cpu_stats.online_cpus": 4,
          "cpu_stats.system_cpu_usage": 4032874310000000,
          "cpu_usage_perc": 53.764761904761905,
          "precpu_stats.cpu_usage.total_usage": 15654766000,
          "precpu_stats.system_cpu_usage": 4032870530000000,
          "read": "2022-11-08T19:29:23.186735079",
          "system_cpu_delta": 3780000000
         },
         {
          "cpu_delta": 523953000,
          "cpu_stats.cpu_usage.total_usage": 17211796000,
          "cpu_stats.online_cpus": 4,
          "cpu_stats.system_cpu_usage": 4032882050000000,
          "cpu_usage_perc": 53.058531645569616,
          "precpu_stats.cpu_usage.total_usage": 16687843000,
          "precpu_stats.system_cpu_usage": 4032878100000000,
          "read": "2022-11-08T19:29:25.286425241",
          "system_cpu_delta": 3950000000
         },
         {
          "cpu_delta": 508413000,
          "cpu_stats.cpu_usage.total_usage": 18230012000,
          "cpu_stats.online_cpus": 4,
          "cpu_stats.system_cpu_usage": 4032889500000000,
          "cpu_usage_perc": 54.81541778975741,
          "precpu_stats.cpu_usage.total_usage": 17721599000,
          "precpu_stats.system_cpu_usage": 4032885790000000,
          "read": "2022-11-08T19:29:27.308987902",
          "system_cpu_delta": 3710000000
         },
         {
          "cpu_delta": 500680000,
          "cpu_stats.cpu_usage.total_usage": 19244064000,
          "cpu_stats.online_cpus": 4,
          "cpu_stats.system_cpu_usage": 4032896930000000,
          "cpu_usage_perc": 54.27425474254742,
          "precpu_stats.cpu_usage.total_usage": 18743384000,
          "precpu_stats.system_cpu_usage": 4032893240000000,
          "read": "2022-11-08T19:29:29.329782826",
          "system_cpu_delta": 3690000000
         },
         {
          "cpu_delta": 501880000,
          "cpu_stats.cpu_usage.total_usage": 20254481000,
          "cpu_stats.online_cpus": 4,
          "cpu_stats.system_cpu_usage": 4032904410000000,
          "cpu_usage_perc": 53.82091152815014,
          "precpu_stats.cpu_usage.total_usage": 19752601000,
          "precpu_stats.system_cpu_usage": 4032900680000000,
          "read": "2022-11-08T19:29:31.350662104",
          "system_cpu_delta": 3730000000
         },
         {
          "cpu_delta": 499689000,
          "cpu_stats.cpu_usage.total_usage": 21254341000,
          "cpu_stats.online_cpus": 4,
          "cpu_stats.system_cpu_usage": 4032911840000000,
          "cpu_usage_perc": 54.02043243243243,
          "precpu_stats.cpu_usage.total_usage": 20754652000,
          "precpu_stats.system_cpu_usage": 4032908140000000,
          "read": "2022-11-08T19:29:33.365085942",
          "system_cpu_delta": 3700000000
         },
         {
          "cpu_delta": 516765000,
          "cpu_stats.cpu_usage.total_usage": 22271773000,
          "cpu_stats.online_cpus": 4,
          "cpu_stats.system_cpu_usage": 4032919480000000,
          "cpu_usage_perc": 53.55077720207254,
          "precpu_stats.cpu_usage.total_usage": 21755008000,
          "precpu_stats.system_cpu_usage": 4032915620000000,
          "read": "2022-11-08T19:29:35.415714460",
          "system_cpu_delta": 3860000000
         },
         {
          "cpu_delta": 512520000,
          "cpu_stats.cpu_usage.total_usage": 23307799000,
          "cpu_stats.online_cpus": 4,
          "cpu_stats.system_cpu_usage": 4032927090000000,
          "cpu_usage_perc": 53.11088082901554,
          "precpu_stats.cpu_usage.total_usage": 22795279000,
          "precpu_stats.system_cpu_usage": 4032923230000000,
          "read": "2022-11-08T19:29:37.482045409",
          "system_cpu_delta": 3860000000
         },
         {
          "cpu_delta": 497329000,
          "cpu_stats.cpu_usage.total_usage": 24328739000,
          "cpu_stats.online_cpus": 4,
          "cpu_stats.system_cpu_usage": 4032934680000000,
          "cpu_usage_perc": 53.47623655913979,
          "precpu_stats.cpu_usage.total_usage": 23831410000,
          "precpu_stats.system_cpu_usage": 4032930960000000,
          "read": "2022-11-08T19:29:39.529466787",
          "system_cpu_delta": 3720000000
         },
         {
          "cpu_delta": 502715000,
          "cpu_stats.cpu_usage.total_usage": 25349827000,
          "cpu_stats.online_cpus": 4,
          "cpu_stats.system_cpu_usage": 4032942130000000,
          "cpu_usage_perc": 54.347567567567566,
          "precpu_stats.cpu_usage.total_usage": 24847112000,
          "precpu_stats.system_cpu_usage": 4032938430000000,
          "read": "2022-11-08T19:29:41.548567458",
          "system_cpu_delta": 3700000000
         },
         {
          "cpu_delta": 501411000,
          "cpu_stats.cpu_usage.total_usage": 26350769000,
          "cpu_stats.online_cpus": 4,
          "cpu_stats.system_cpu_usage": 4032949560000000,
          "cpu_usage_perc": 53.77061662198391,
          "precpu_stats.cpu_usage.total_usage": 25849358000,
          "precpu_stats.system_cpu_usage": 4032945830000000,
          "read": "2022-11-08T19:29:43.539560603",
          "system_cpu_delta": 3730000000
         },
         {
          "cpu_delta": 503985000,
          "cpu_stats.cpu_usage.total_usage": 27353428000,
          "cpu_stats.online_cpus": 4,
          "cpu_stats.system_cpu_usage": 4032957040000000,
          "cpu_usage_perc": 53.90213903743315,
          "precpu_stats.cpu_usage.total_usage": 26849443000,
          "precpu_stats.system_cpu_usage": 4032953300000000,
          "read": "2022-11-08T19:29:45.559344469",
          "system_cpu_delta": 3740000000
         },
         {
          "cpu_delta": 543230000,
          "cpu_stats.cpu_usage.total_usage": 28399406000,
          "cpu_stats.online_cpus": 4,
          "cpu_stats.system_cpu_usage": 4032964610000000,
          "cpu_usage_perc": 56.00309278350516,
          "precpu_stats.cpu_usage.total_usage": 27856176000,
          "precpu_stats.system_cpu_usage": 4032960730000000,
          "read": "2022-11-08T19:29:47.635247947",
          "system_cpu_delta": 3880000000
         },
         {
          "cpu_delta": 506702000,
          "cpu_stats.cpu_usage.total_usage": 29418124000,
          "cpu_stats.online_cpus": 4,
          "cpu_stats.system_cpu_usage": 4032972130000000,
          "cpu_usage_perc": 55.07630434782609,
          "precpu_stats.cpu_usage.total_usage": 28911422000,
          "precpu_stats.system_cpu_usage": 4032968450000000,
          "read": "2022-11-08T19:29:49.680506464",
          "system_cpu_delta": 3680000000
         },
         {
          "cpu_delta": 502500000,
          "cpu_stats.cpu_usage.total_usage": 30425708000,
          "cpu_stats.online_cpus": 4,
          "cpu_stats.system_cpu_usage": 4032979620000000,
          "cpu_usage_perc": 54.03225806451613,
          "precpu_stats.cpu_usage.total_usage": 29923208000,
          "precpu_stats.system_cpu_usage": 4032975900000000,
          "read": "2022-11-08T19:29:51.691626196",
          "system_cpu_delta": 3720000000
         },
         {
          "cpu_delta": 506210000,
          "cpu_stats.cpu_usage.total_usage": 31442828000,
          "cpu_stats.online_cpus": 4,
          "cpu_stats.system_cpu_usage": 4032987100000000,
          "cpu_usage_perc": 54.43118279569893,
          "precpu_stats.cpu_usage.total_usage": 30936618000,
          "precpu_stats.system_cpu_usage": 4032983380000000,
          "read": "2022-11-08T19:29:53.712882456",
          "system_cpu_delta": 3720000000
         },
         {
          "cpu_delta": 508788000,
          "cpu_stats.cpu_usage.total_usage": 32450361000,
          "cpu_stats.online_cpus": 4,
          "cpu_stats.system_cpu_usage": 4032994500000000,
          "cpu_usage_perc": 55.15317073170731,
          "precpu_stats.cpu_usage.total_usage": 31941573000,
          "precpu_stats.system_cpu_usage": 4032990810000000,
          "read": "2022-11-08T19:29:55.728729016",
          "system_cpu_delta": 3690000000
         },
         {
          "cpu_delta": 501256000,
          "cpu_stats.cpu_usage.total_usage": 33450403000,
          "cpu_stats.online_cpus": 4,
          "cpu_stats.system_cpu_usage": 4033001910000000,
          "cpu_usage_perc": 54.18983783783784,
          "precpu_stats.cpu_usage.total_usage": 32949147000,
          "precpu_stats.system_cpu_usage": 4032998210000000,
          "read": "2022-11-08T19:29:57.744219634",
          "system_cpu_delta": 3700000000
         },
         {
          "cpu_delta": 524193000,
          "cpu_stats.cpu_usage.total_usage": 34500278000,
          "cpu_stats.online_cpus": 4,
          "cpu_stats.system_cpu_usage": 4033009600000000,
          "cpu_usage_perc": 55.32379947229551,
          "precpu_stats.cpu_usage.total_usage": 33976085000,
          "precpu_stats.system_cpu_usage": 4033005810000000,
          "read": "2022-11-08T19:29:59.839435999",
          "system_cpu_delta": 3790000000
         },
         {
          "cpu_delta": 506943000,
          "cpu_stats.cpu_usage.total_usage": 35524084000,
          "cpu_stats.online_cpus": 4,
          "cpu_stats.system_cpu_usage": 4033017190000000,
          "cpu_usage_perc": 54.510000000000005,
          "precpu_stats.cpu_usage.total_usage": 35017141000,
          "precpu_stats.system_cpu_usage": 4033013470000000,
          "read": "2022-11-08T19:30:01.888039313",
          "system_cpu_delta": 3720000000
         },
         {
          "cpu_delta": 504902000,
          "cpu_stats.cpu_usage.total_usage": 36534885000,
          "cpu_stats.online_cpus": 4,
          "cpu_stats.system_cpu_usage": 4033024620000000,
          "cpu_usage_perc": 54.73192411924119,
          "precpu_stats.cpu_usage.total_usage": 36029983000,
          "precpu_stats.system_cpu_usage": 4033020930000000,
          "read": "2022-11-08T19:30:03.906741472",
          "system_cpu_delta": 3690000000
         },
         {
          "cpu_delta": 505163000,
          "cpu_stats.cpu_usage.total_usage": 37549474000,
          "cpu_stats.online_cpus": 4,
          "cpu_stats.system_cpu_usage": 4033032160000000,
          "cpu_usage_perc": 54.028128342245985,
          "precpu_stats.cpu_usage.total_usage": 37044311000,
          "precpu_stats.system_cpu_usage": 4033028420000000,
          "read": "2022-11-08T19:30:05.933055420",
          "system_cpu_delta": 3740000000
         },
         {
          "cpu_delta": 501255000,
          "cpu_stats.cpu_usage.total_usage": 38550208000,
          "cpu_stats.online_cpus": 4,
          "cpu_stats.system_cpu_usage": 4033039590000000,
          "cpu_usage_perc": 54.043665768194074,
          "precpu_stats.cpu_usage.total_usage": 38048953000,
          "precpu_stats.system_cpu_usage": 4033035880000000,
          "read": "2022-11-08T19:30:07.952803327",
          "system_cpu_delta": 3710000000
         },
         {
          "cpu_delta": 532112000,
          "cpu_stats.cpu_usage.total_usage": 39590130000,
          "cpu_stats.online_cpus": 4,
          "cpu_stats.system_cpu_usage": 4033047220000000,
          "cpu_usage_perc": 55.573054830287205,
          "precpu_stats.cpu_usage.total_usage": 39058018000,
          "precpu_stats.system_cpu_usage": 4033043390000000,
          "read": "2022-11-08T19:30:10.020222167",
          "system_cpu_delta": 3830000000
         },
         {
          "cpu_delta": 527964000,
          "cpu_stats.cpu_usage.total_usage": 40626767000,
          "cpu_stats.online_cpus": 4,
          "cpu_stats.system_cpu_usage": 4033054850000000,
          "cpu_usage_perc": 55.139843342036556,
          "precpu_stats.cpu_usage.total_usage": 40098803000,
          "precpu_stats.system_cpu_usage": 4033051020000000,
          "read": "2022-11-08T19:30:12.092220375",
          "system_cpu_delta": 3830000000
         },
         {
          "cpu_delta": 504051000,
          "cpu_stats.cpu_usage.total_usage": 41641346000,
          "cpu_stats.online_cpus": 4,
          "cpu_stats.system_cpu_usage": 4033062320000000,
          "cpu_usage_perc": 54.639674796747975,
          "precpu_stats.cpu_usage.total_usage": 41137295000,
          "precpu_stats.system_cpu_usage": 4033058630000000,
          "read": "2022-11-08T19:30:14.093693249",
          "system_cpu_delta": 3690000000
         },
         {
          "cpu_delta": 501836000,
          "cpu_stats.cpu_usage.total_usage": 42651314000,
          "cpu_stats.online_cpus": 4,
          "cpu_stats.system_cpu_usage": 4033069760000000,
          "cpu_usage_perc": 54.39956639566395,
          "precpu_stats.cpu_usage.total_usage": 42149478000,
          "precpu_stats.system_cpu_usage": 4033066070000000,
          "read": "2022-11-08T19:30:16.105847030",
          "system_cpu_delta": 3690000000
         },
         {
          "cpu_delta": 500163000,
          "cpu_stats.cpu_usage.total_usage": 43650498000,
          "cpu_stats.online_cpus": 4,
          "cpu_stats.system_cpu_usage": 4033077190000000,
          "cpu_usage_perc": 54.07167567567568,
          "precpu_stats.cpu_usage.total_usage": 43150335000,
          "precpu_stats.system_cpu_usage": 4033073490000000,
          "read": "2022-11-08T19:30:18.127864967",
          "system_cpu_delta": 3700000000
         },
         {
          "cpu_delta": 501507000,
          "cpu_stats.cpu_usage.total_usage": 44664991000,
          "cpu_stats.online_cpus": 4,
          "cpu_stats.system_cpu_usage": 4033084640000000,
          "cpu_usage_perc": 54.07083557951482,
          "precpu_stats.cpu_usage.total_usage": 44163484000,
          "precpu_stats.system_cpu_usage": 4033080930000000,
          "read": "2022-11-08T19:30:20.160311601",
          "system_cpu_delta": 3710000000
         },
         {
          "cpu_delta": 510999000,
          "cpu_stats.cpu_usage.total_usage": 45701382000,
          "cpu_stats.online_cpus": 4,
          "cpu_stats.system_cpu_usage": 4033092280000000,
          "cpu_usage_perc": 53.36804177545692,
          "precpu_stats.cpu_usage.total_usage": 45190383000,
          "precpu_stats.system_cpu_usage": 4033088450000000,
          "read": "2022-11-08T19:30:22.238736624",
          "system_cpu_delta": 3830000000
         },
         {
          "cpu_delta": 494425000,
          "cpu_stats.cpu_usage.total_usage": 46720707000,
          "cpu_stats.online_cpus": 4,
          "cpu_stats.system_cpu_usage": 4033099760000000,
          "cpu_usage_perc": 53.45135135135135,
          "precpu_stats.cpu_usage.total_usage": 46226282000,
          "precpu_stats.system_cpu_usage": 4033096060000000,
          "read": "2022-11-08T19:30:24.275943796",
          "system_cpu_delta": 3700000000
         },
         {
          "cpu_delta": 506844000,
          "cpu_stats.cpu_usage.total_usage": 47733852000,
          "cpu_stats.online_cpus": 4,
          "cpu_stats.system_cpu_usage": 4033107230000000,
          "cpu_usage_perc": 54.06336,
          "precpu_stats.cpu_usage.total_usage": 47227008000,
          "precpu_stats.system_cpu_usage": 4033103480000000,
          "read": "2022-11-08T19:30:26.292407332",
          "system_cpu_delta": 3750000000
         },
         {
          "cpu_delta": 500295000,
          "cpu_stats.cpu_usage.total_usage": 48739190000,
          "cpu_stats.online_cpus": 4,
          "cpu_stats.system_cpu_usage": 4033114670000000,
          "cpu_usage_perc": 53.65093833780161,
          "precpu_stats.cpu_usage.total_usage": 48238895000,
          "precpu_stats.system_cpu_usage": 4033110940000000,
          "read": "2022-11-08T19:30:28.310126552",
          "system_cpu_delta": 3730000000
         },
         {
          "cpu_delta": 500228000,
          "cpu_stats.cpu_usage.total_usage": 49738766000,
          "cpu_stats.online_cpus": 4,
          "cpu_stats.system_cpu_usage": 4033122090000000,
          "cpu_usage_perc": 54.225257452574525,
          "precpu_stats.cpu_usage.total_usage": 49238538000,
          "precpu_stats.system_cpu_usage": 4033118400000000,
          "read": "2022-11-08T19:30:30.320865230",
          "system_cpu_delta": 3690000000
         },
         {
          "cpu_delta": 504769000,
          "cpu_stats.cpu_usage.total_usage": 50755102000,
          "cpu_stats.online_cpus": 4,
          "cpu_stats.system_cpu_usage": 4033129930000000,
          "cpu_usage_perc": 51.50704081632653,
          "precpu_stats.cpu_usage.total_usage": 50250333000,
          "precpu_stats.system_cpu_usage": 4033126010000000,
          "read": "2022-11-08T19:30:32.351227584",
          "system_cpu_delta": 3920000000
         },
         {
          "cpu_delta": 535275000,
          "cpu_stats.cpu_usage.total_usage": 51798476000,
          "cpu_stats.online_cpus": 4,
          "cpu_stats.system_cpu_usage": 4033137930000000,
          "cpu_usage_perc": 51.71739130434783,
          "precpu_stats.cpu_usage.total_usage": 51263201000,
          "precpu_stats.system_cpu_usage": 4033133790000000,
          "read": "2022-11-08T19:30:34.446085253",
          "system_cpu_delta": 4140000000
         },
         {
          "cpu_delta": 500204000,
          "cpu_stats.cpu_usage.total_usage": 52828095000,
          "cpu_stats.online_cpus": 4,
          "cpu_stats.system_cpu_usage": 4033145860000000,
          "cpu_usage_perc": 51.04122448979592,
          "precpu_stats.cpu_usage.total_usage": 52327891000,
          "precpu_stats.system_cpu_usage": 4033141940000000,
          "read": "2022-11-08T19:30:36.510078831",
          "system_cpu_delta": 3920000000
         },
         {
          "cpu_delta": 510056000,
          "cpu_stats.cpu_usage.total_usage": 53837717000,
          "cpu_stats.online_cpus": 4,
          "cpu_stats.system_cpu_usage": 4033153740000000,
          "cpu_usage_perc": 51.52080808080808,
          "precpu_stats.cpu_usage.total_usage": 53327661000,
          "precpu_stats.system_cpu_usage": 4033149780000000,
          "read": "2022-11-08T19:30:38.545795219",
          "system_cpu_delta": 3960000000
         },
         {
          "cpu_delta": 511147000,
          "cpu_stats.cpu_usage.total_usage": 54856551000,
          "cpu_stats.online_cpus": 4,
          "cpu_stats.system_cpu_usage": 4033161590000000,
          "cpu_usage_perc": 51.6310101010101,
          "precpu_stats.cpu_usage.total_usage": 54345404000,
          "precpu_stats.system_cpu_usage": 4033157630000000,
          "read": "2022-11-08T19:30:40.567774863",
          "system_cpu_delta": 3960000000
         },
         {
          "cpu_delta": 511624000,
          "cpu_stats.cpu_usage.total_usage": 55878090000,
          "cpu_stats.online_cpus": 4,
          "cpu_stats.system_cpu_usage": 4033169410000000,
          "cpu_usage_perc": 52.2065306122449,
          "precpu_stats.cpu_usage.total_usage": 55366466000,
          "precpu_stats.system_cpu_usage": 4033165490000000,
          "read": "2022-11-08T19:30:42.597775209",
          "system_cpu_delta": 3920000000
         },
         {
          "cpu_delta": 499031000,
          "cpu_stats.cpu_usage.total_usage": 56876805000,
          "cpu_stats.online_cpus": 4,
          "cpu_stats.system_cpu_usage": 4033177160000000,
          "cpu_usage_perc": 51.71305699481865,
          "precpu_stats.cpu_usage.total_usage": 56377774000,
          "precpu_stats.system_cpu_usage": 4033173300000000,
          "read": "2022-11-08T19:30:44.590140045",
          "system_cpu_delta": 3860000000
         },
         {
          "cpu_delta": 532001000,
          "cpu_stats.cpu_usage.total_usage": 57926936000,
          "cpu_stats.online_cpus": 4,
          "cpu_stats.system_cpu_usage": 4033185200000000,
          "cpu_usage_perc": 52.80406947890819,
          "precpu_stats.cpu_usage.total_usage": 57394935000,
          "precpu_stats.system_cpu_usage": 4033181170000000,
          "read": "2022-11-08T19:30:46.673487485",
          "system_cpu_delta": 4030000000
         },
         {
          "cpu_delta": 506805000,
          "cpu_stats.cpu_usage.total_usage": 58936085000,
          "cpu_stats.online_cpus": 4,
          "cpu_stats.system_cpu_usage": 4033193140000000,
          "cpu_usage_perc": 51.58320610687023,
          "precpu_stats.cpu_usage.total_usage": 58429280000,
          "precpu_stats.system_cpu_usage": 4033189210000000,
          "read": "2022-11-08T19:30:48.722135572",
          "system_cpu_delta": 3930000000
         },
         {
          "cpu_delta": 510343000,
          "cpu_stats.cpu_usage.total_usage": 59960468000,
          "cpu_stats.online_cpus": 4,
          "cpu_stats.system_cpu_usage": 4033200970000000,
          "cpu_usage_perc": 52.34287179487179,
          "precpu_stats.cpu_usage.total_usage": 59450125000,
          "precpu_stats.system_cpu_usage": 4033197070000000,
          "read": "2022-11-08T19:30:50.748102498",
          "system_cpu_delta": 3900000000
         },
         {
          "cpu_delta": 505074000,
          "cpu_stats.cpu_usage.total_usage": 60972412000,
          "cpu_stats.online_cpus": 4,
          "cpu_stats.system_cpu_usage": 4033208790000000,
          "cpu_usage_perc": 51.80246153846154,
          "precpu_stats.cpu_usage.total_usage": 60467338000,
          "precpu_stats.system_cpu_usage": 4033204890000000,
          "read": "2022-11-08T19:30:52.760662437",
          "system_cpu_delta": 3900000000
         },
         {
          "cpu_delta": 510957000,
          "cpu_stats.cpu_usage.total_usage": 61961513000,
          "cpu_stats.online_cpus": 4,
          "cpu_stats.system_cpu_usage": 4033216490000000,
          "cpu_usage_perc": 53.08644155844156,
          "precpu_stats.cpu_usage.total_usage": 61450556000,
          "precpu_stats.system_cpu_usage": 4033212640000000,
          "read": "2022-11-08T19:30:54.781808843",
          "system_cpu_delta": 3850000000
         },
         {
          "cpu_delta": 504681000,
          "cpu_stats.cpu_usage.total_usage": 62967027000,
          "cpu_stats.online_cpus": 4,
          "cpu_stats.system_cpu_usage": 4033224340000000,
          "cpu_usage_perc": 51.4980612244898,
          "precpu_stats.cpu_usage.total_usage": 62462346000,
          "precpu_stats.system_cpu_usage": 4033220420000000,
          "read": "2022-11-08T19:30:56.817729150",
          "system_cpu_delta": 3920000000
         },
         {
          "cpu_delta": 431426000,
          "cpu_stats.cpu_usage.total_usage": 63908962000,
          "cpu_stats.online_cpus": 4,
          "cpu_stats.system_cpu_usage": 4033232190000000,
          "cpu_usage_perc": 46.018773333333336,
          "precpu_stats.cpu_usage.total_usage": 63477536000,
          "precpu_stats.system_cpu_usage": 4033228440000000,
          "read": "2022-11-08T19:30:58.925563588",
          "system_cpu_delta": 3750000000
         },
         {
          "cpu_delta": 493588000,
          "cpu_stats.cpu_usage.total_usage": 64732653000,
          "cpu_stats.online_cpus": 4,
          "cpu_stats.system_cpu_usage": 4033239110000000,
          "cpu_usage_perc": 58.240471976401174,
          "precpu_stats.cpu_usage.total_usage": 64239065000,
          "precpu_stats.system_cpu_usage": 4033235720000000,
          "read": "2022-11-08T19:31:00.963144714",
          "system_cpu_delta": 3390000000
         },
         {
          "cpu_delta": 475804000,
          "cpu_stats.cpu_usage.total_usage": 65678976000,
          "cpu_stats.online_cpus": 4,
          "cpu_stats.system_cpu_usage": 4033245880000000,
          "cpu_usage_perc": 56.47525222551929,
          "precpu_stats.cpu_usage.total_usage": 65203172000,
          "precpu_stats.system_cpu_usage": 4033242510000000,
          "read": "2022-11-08T19:31:02.975751206",
          "system_cpu_delta": 3370000000
         },
         {
          "cpu_delta": 480227000,
          "cpu_stats.cpu_usage.total_usage": 66632421000,
          "cpu_stats.online_cpus": 4,
          "cpu_stats.system_cpu_usage": 4033252680000000,
          "cpu_usage_perc": 56.8315976331361,
          "precpu_stats.cpu_usage.total_usage": 66152194000,
          "precpu_stats.system_cpu_usage": 4033249300000000,
          "read": "2022-11-08T19:31:04.996154934",
          "system_cpu_delta": 3380000000
         },
         {
          "cpu_delta": 410128000,
          "cpu_stats.cpu_usage.total_usage": 67455394000,
          "cpu_stats.online_cpus": 4,
          "cpu_stats.system_cpu_usage": 4033259370000000,
          "cpu_usage_perc": 49.11712574850299,
          "precpu_stats.cpu_usage.total_usage": 67045266000,
          "precpu_stats.system_cpu_usage": 4033256030000000,
          "read": "2022-11-08T19:31:07.011478955",
          "system_cpu_delta": 3340000000
         },
         {
          "cpu_delta": 419444000,
          "cpu_stats.cpu_usage.total_usage": 68310238000,
          "cpu_stats.online_cpus": 4,
          "cpu_stats.system_cpu_usage": 4033266090000000,
          "cpu_usage_perc": 50.38366366366366,
          "precpu_stats.cpu_usage.total_usage": 67890794000,
          "precpu_stats.system_cpu_usage": 4033262760000000,
          "read": "2022-11-08T19:31:09.030176461",
          "system_cpu_delta": 3330000000
         },
         {
          "cpu_delta": 462603000,
          "cpu_stats.cpu_usage.total_usage": 69185151000,
          "cpu_stats.online_cpus": 4,
          "cpu_stats.system_cpu_usage": 4033273290000000,
          "cpu_usage_perc": 48.95269841269842,
          "precpu_stats.cpu_usage.total_usage": 68722548000,
          "precpu_stats.system_cpu_usage": 4033269510000000,
          "read": "2022-11-08T19:31:11.112900781",
          "system_cpu_delta": 3780000000
         },
         {
          "cpu_delta": 198541000,
          "cpu_stats.cpu_usage.total_usage": 69928779000,
          "cpu_stats.online_cpus": 4,
          "cpu_stats.system_cpu_usage": 4033281090000000,
          "cpu_usage_perc": 21.17770666666667,
          "precpu_stats.cpu_usage.total_usage": 69730238000,
          "precpu_stats.system_cpu_usage": 4033277340000000,
          "read": "2022-11-08T19:31:13.178544058",
          "system_cpu_delta": 3750000000
         },
         {
          "cpu_delta": 499739000,
          "cpu_stats.cpu_usage.total_usage": 70502350000,
          "cpu_stats.online_cpus": 4,
          "cpu_stats.system_cpu_usage": 4033288770000000,
          "cpu_usage_perc": 50.86402035623409,
          "precpu_stats.cpu_usage.total_usage": 70002611000,
          "precpu_stats.system_cpu_usage": 4033284840000000,
          "read": "2022-11-08T19:31:15.174899238",
          "system_cpu_delta": 3930000000
         },
         {
          "cpu_delta": 58147000,
          "cpu_stats.cpu_usage.total_usage": 71060719000,
          "cpu_stats.online_cpus": 4,
          "cpu_stats.system_cpu_usage": 4033296530000000,
          "cpu_usage_perc": 6.02559585492228,
          "precpu_stats.cpu_usage.total_usage": 71002572000,
          "precpu_stats.system_cpu_usage": 4033292670000000,
          "read": "2022-11-08T19:31:17.205302843",
          "system_cpu_delta": 3860000000
         }
        ]
       },
       "encoding": {
        "x": {
         "axis": {
          "format": "%H:%M:%S",
          "labelAngle": -90
         },
         "field": "read",
         "timeUnit": "yearmonthdatehoursminutesseconds",
         "type": "ordinal"
        },
        "y": {
         "field": "cpu_usage_perc",
         "type": "quantitative"
        }
       },
       "height": 400,
       "mark": "line",
       "title": "Container with 0.5 cpu limit",
       "width": 800
      },
      "image/png": "[encoded data removed]",
      "text/plain": [
       "<VegaLite 4 object>\n",
       "\n",
       "If you see this message, it means the renderer has not been properly enabled\n",
       "for the frontend that you are using. For more information, see\n",
       "https://altair-viz.github.io/user_guide/troubleshooting.html\n"
      ]
     },
     "execution_count": 4,
     "metadata": {},
     "output_type": "execute_result"
    }
   ],
   "source": [
    "chart = generate_chart(run_with_num_cpu(0.5))\n",
    "print_relevant_logs()\n",
    "chart"
   ]
  },
  {
   "cell_type": "code",
   "execution_count": 5,
   "metadata": {},
   "outputs": [
    {
     "name": "stdout",
     "output_type": "stream",
     "text": [
      "19:43:57.254739 [info ] [MainThread]: Found 2000 models, 6000 tests, 0 snapshots, 0 analyses, 165 macros, 0 operations, 0 seed files, 0 sources, 0 exposures, 0 metrics\n",
      "19:44:19.448138 [debug] [MainThread]: Acquiring new postgres connection \"master\"\n",
      "\n"
     ]
    },
    {
     "data": {
      "application/vnd.vegalite.v4+json": {
       "$schema": "https://vega.github.io/schema/vega-lite/v4.17.0.json",
       "config": {
        "view": {
         "continuousHeight": 300,
         "continuousWidth": 400
        }
       },
       "data": {
        "name": "data-7666e4186910dc0954178c90dde2f686"
       },
       "datasets": {
        "data-7666e4186910dc0954178c90dde2f686": [
         {
          "cpu_delta": 123455000,
          "cpu_stats.cpu_usage.total_usage": 235639000,
          "cpu_stats.online_cpus": 4,
          "cpu_stats.system_cpu_usage": 4033307250000000,
          "cpu_usage_perc": 12.694601542416454,
          "precpu_stats.cpu_usage.total_usage": 112184000,
          "precpu_stats.system_cpu_usage": 4033303360000000,
          "read": "2022-11-08T19:31:20.249014003",
          "system_cpu_delta": 3890000000
         },
         {
          "cpu_delta": 137926000,
          "cpu_stats.cpu_usage.total_usage": 498641000,
          "cpu_stats.online_cpus": 4,
          "cpu_stats.system_cpu_usage": 4033315210000000,
          "cpu_usage_perc": 13.42345498783455,
          "precpu_stats.cpu_usage.total_usage": 360715000,
          "precpu_stats.system_cpu_usage": 4033311100000000,
          "read": "2022-11-08T19:31:22.351964150",
          "system_cpu_delta": 4110000000
         },
         {
          "cpu_delta": 124785000,
          "cpu_stats.cpu_usage.total_usage": 747862000,
          "cpu_stats.online_cpus": 4,
          "cpu_stats.system_cpu_usage": 4033322960000000,
          "cpu_usage_perc": 12.864432989690721,
          "precpu_stats.cpu_usage.total_usage": 623077000,
          "precpu_stats.system_cpu_usage": 4033319080000000,
          "read": "2022-11-08T19:31:24.388749039",
          "system_cpu_delta": 3880000000
         },
         {
          "cpu_delta": 130274000,
          "cpu_stats.cpu_usage.total_usage": 1011589000,
          "cpu_stats.online_cpus": 4,
          "cpu_stats.system_cpu_usage": 4033330700000000,
          "cpu_usage_perc": 13.46501291989664,
          "precpu_stats.cpu_usage.total_usage": 881315000,
          "precpu_stats.system_cpu_usage": 4033326830000000,
          "read": "2022-11-08T19:31:26.414430485",
          "system_cpu_delta": 3870000000
         },
         {
          "cpu_delta": 124952000,
          "cpu_stats.cpu_usage.total_usage": 1261794000,
          "cpu_stats.online_cpus": 4,
          "cpu_stats.system_cpu_usage": 4033338450000000,
          "cpu_usage_perc": 12.815589743589745,
          "precpu_stats.cpu_usage.total_usage": 1136842000,
          "precpu_stats.system_cpu_usage": 4033334550000000,
          "read": "2022-11-08T19:31:28.432190397",
          "system_cpu_delta": 3900000000
         },
         {
          "cpu_delta": 125709000,
          "cpu_stats.cpu_usage.total_usage": 1512479000,
          "cpu_stats.online_cpus": 4,
          "cpu_stats.system_cpu_usage": 4033346290000000,
          "cpu_usage_perc": 12.926375321336762,
          "precpu_stats.cpu_usage.total_usage": 1386770000,
          "precpu_stats.system_cpu_usage": 4033342400000000,
          "read": "2022-11-08T19:31:30.462690784",
          "system_cpu_delta": 3890000000
         },
         {
          "cpu_delta": 136899000,
          "cpu_stats.cpu_usage.total_usage": 1774431000,
          "cpu_stats.online_cpus": 4,
          "cpu_stats.system_cpu_usage": 4033354070000000,
          "cpu_usage_perc": 13.969285714285714,
          "precpu_stats.cpu_usage.total_usage": 1637532000,
          "precpu_stats.system_cpu_usage": 4033350150000000,
          "read": "2022-11-08T19:31:32.508845137",
          "system_cpu_delta": 3920000000
         },
         {
          "cpu_delta": 137073000,
          "cpu_stats.cpu_usage.total_usage": 2037037000,
          "cpu_stats.online_cpus": 4,
          "cpu_stats.system_cpu_usage": 4033362030000000,
          "cpu_usage_perc": 13.372975609756097,
          "precpu_stats.cpu_usage.total_usage": 1899964000,
          "precpu_stats.system_cpu_usage": 4033357930000000,
          "read": "2022-11-08T19:31:34.623084376",
          "system_cpu_delta": 4100000000
         },
         {
          "cpu_delta": 164018000,
          "cpu_stats.cpu_usage.total_usage": 2325884000,
          "cpu_stats.online_cpus": 4,
          "cpu_stats.system_cpu_usage": 4033369570000000,
          "cpu_usage_perc": 18.023956043956044,
          "precpu_stats.cpu_usage.total_usage": 2161866000,
          "precpu_stats.system_cpu_usage": 4033365930000000,
          "read": "2022-11-08T19:31:36.648370413",
          "system_cpu_delta": 3640000000
         },
         {
          "cpu_delta": 124794000,
          "cpu_stats.cpu_usage.total_usage": 2536810000,
          "cpu_stats.online_cpus": 4,
          "cpu_stats.system_cpu_usage": 4033377480000000,
          "cpu_usage_perc": 12.605454545454545,
          "precpu_stats.cpu_usage.total_usage": 2412016000,
          "precpu_stats.system_cpu_usage": 4033373520000000,
          "read": "2022-11-08T19:31:38.690011892",
          "system_cpu_delta": 3960000000
         },
         {
          "cpu_delta": 130546000,
          "cpu_stats.cpu_usage.total_usage": 2799463000,
          "cpu_stats.online_cpus": 4,
          "cpu_stats.system_cpu_usage": 4033385250000000,
          "cpu_usage_perc": 13.49312661498708,
          "precpu_stats.cpu_usage.total_usage": 2668917000,
          "precpu_stats.system_cpu_usage": 4033381380000000,
          "read": "2022-11-08T19:31:40.707313142",
          "system_cpu_delta": 3870000000
         },
         {
          "cpu_delta": 125554000,
          "cpu_stats.cpu_usage.total_usage": 3050194000,
          "cpu_stats.online_cpus": 4,
          "cpu_stats.system_cpu_usage": 4033393080000000,
          "cpu_usage_perc": 12.877333333333333,
          "precpu_stats.cpu_usage.total_usage": 2924640000,
          "precpu_stats.system_cpu_usage": 4033389180000000,
          "read": "2022-11-08T19:31:42.737630748",
          "system_cpu_delta": 3900000000
         },
         {
          "cpu_delta": 125148000,
          "cpu_stats.cpu_usage.total_usage": 3299429000,
          "cpu_stats.online_cpus": 4,
          "cpu_stats.system_cpu_usage": 4033400910000000,
          "cpu_usage_perc": 12.673215189873419,
          "precpu_stats.cpu_usage.total_usage": 3174281000,
          "precpu_stats.system_cpu_usage": 4033396960000000,
          "read": "2022-11-08T19:31:44.754173886",
          "system_cpu_delta": 3950000000
         },
         {
          "cpu_delta": 138072000,
          "cpu_stats.cpu_usage.total_usage": 3574761000,
          "cpu_stats.online_cpus": 4,
          "cpu_stats.system_cpu_usage": 4033409040000000,
          "cpu_usage_perc": 13.536470588235295,
          "precpu_stats.cpu_usage.total_usage": 3436689000,
          "precpu_stats.system_cpu_usage": 4033404960000000,
          "read": "2022-11-08T19:31:46.932645765",
          "system_cpu_delta": 4080000000
         },
         {
          "cpu_delta": 129425000,
          "cpu_stats.cpu_usage.total_usage": 3829212000,
          "cpu_stats.online_cpus": 4,
          "cpu_stats.system_cpu_usage": 4033416870000000,
          "cpu_usage_perc": 13.240409207161125,
          "precpu_stats.cpu_usage.total_usage": 3699787000,
          "precpu_stats.system_cpu_usage": 4033412960000000,
          "read": "2022-11-08T19:31:48.976079729",
          "system_cpu_delta": 3910000000
         },
         {
          "cpu_delta": 126533000,
          "cpu_stats.cpu_usage.total_usage": 4088927000,
          "cpu_stats.online_cpus": 4,
          "cpu_stats.system_cpu_usage": 4033424740000000,
          "cpu_usage_perc": 12.781111111111109,
          "precpu_stats.cpu_usage.total_usage": 3962394000,
          "precpu_stats.system_cpu_usage": 4033420780000000,
          "read": "2022-11-08T19:31:51.010050106",
          "system_cpu_delta": 3960000000
         },
         {
          "cpu_delta": 125029000,
          "cpu_stats.cpu_usage.total_usage": 4338089000,
          "cpu_stats.online_cpus": 4,
          "cpu_stats.system_cpu_usage": 4033432480000000,
          "cpu_usage_perc": 12.990025974025974,
          "precpu_stats.cpu_usage.total_usage": 4213060000,
          "precpu_stats.system_cpu_usage": 4033428630000000,
          "read": "2022-11-08T19:31:53.050946727",
          "system_cpu_delta": 3850000000
         },
         {
          "cpu_delta": 124944000,
          "cpu_stats.cpu_usage.total_usage": 4586645000,
          "cpu_stats.online_cpus": 4,
          "cpu_stats.system_cpu_usage": 4033439680000000,
          "cpu_usage_perc": 14.656187683284458,
          "precpu_stats.cpu_usage.total_usage": 4461701000,
          "precpu_stats.system_cpu_usage": 4033436270000000,
          "read": "2022-11-08T19:31:55.068770896",
          "system_cpu_delta": 3410000000
         },
         {
          "cpu_delta": 131522000,
          "cpu_stats.cpu_usage.total_usage": 4840227000,
          "cpu_stats.online_cpus": 4,
          "cpu_stats.system_cpu_usage": 4033446540000000,
          "cpu_usage_perc": 15.248927536231886,
          "precpu_stats.cpu_usage.total_usage": 4708705000,
          "precpu_stats.system_cpu_usage": 4033443090000000,
          "read": "2022-11-08T19:31:57.123560518",
          "system_cpu_delta": 3450000000
         },
         {
          "cpu_delta": 130346000,
          "cpu_stats.cpu_usage.total_usage": 5106457000,
          "cpu_stats.online_cpus": 4,
          "cpu_stats.system_cpu_usage": 4033453820000000,
          "cpu_usage_perc": 14.770084985835693,
          "precpu_stats.cpu_usage.total_usage": 4976111000,
          "precpu_stats.system_cpu_usage": 4033450290000000,
          "read": "2022-11-08T19:31:59.264171603",
          "system_cpu_delta": 3530000000
         },
         {
          "cpu_delta": 121691000,
          "cpu_stats.cpu_usage.total_usage": 5353856000,
          "cpu_stats.online_cpus": 4,
          "cpu_stats.system_cpu_usage": 4033460810000000,
          "cpu_usage_perc": 13.521222222222223,
          "precpu_stats.cpu_usage.total_usage": 5232165000,
          "precpu_stats.system_cpu_usage": 4033457210000000,
          "read": "2022-11-08T19:32:01.293883843",
          "system_cpu_delta": 3600000000
         },
         {
          "cpu_delta": 127834000,
          "cpu_stats.cpu_usage.total_usage": 5609231000,
          "cpu_stats.online_cpus": 4,
          "cpu_stats.system_cpu_usage": 4033467750000000,
          "cpu_usage_perc": 14.693563218390803,
          "precpu_stats.cpu_usage.total_usage": 5481397000,
          "precpu_stats.system_cpu_usage": 4033464270000000,
          "read": "2022-11-08T19:32:03.318970048",
          "system_cpu_delta": 3480000000
         },
         {
          "cpu_delta": 125125000,
          "cpu_stats.cpu_usage.total_usage": 5860555000,
          "cpu_stats.online_cpus": 4,
          "cpu_stats.system_cpu_usage": 4033474930000000,
          "cpu_usage_perc": 13.750000000000002,
          "precpu_stats.cpu_usage.total_usage": 5735430000,
          "precpu_stats.system_cpu_usage": 4033471290000000,
          "read": "2022-11-08T19:32:05.345476457",
          "system_cpu_delta": 3640000000
         },
         {
          "cpu_delta": 125428000,
          "cpu_stats.cpu_usage.total_usage": 6110148000,
          "cpu_stats.online_cpus": 4,
          "cpu_stats.system_cpu_usage": 4033482010000000,
          "cpu_usage_perc": 14.172655367231638,
          "precpu_stats.cpu_usage.total_usage": 5984720000,
          "precpu_stats.system_cpu_usage": 4033478470000000,
          "read": "2022-11-08T19:32:07.365773217",
          "system_cpu_delta": 3540000000
         },
         {
          "cpu_delta": 136514000,
          "cpu_stats.cpu_usage.total_usage": 6373893000,
          "cpu_stats.online_cpus": 4,
          "cpu_stats.system_cpu_usage": 4033489130000000,
          "cpu_usage_perc": 15.126204986149586,
          "precpu_stats.cpu_usage.total_usage": 6237379000,
          "precpu_stats.system_cpu_usage": 4033485520000000,
          "read": "2022-11-08T19:32:09.442512471",
          "system_cpu_delta": 3610000000
         },
         {
          "cpu_delta": 123912000,
          "cpu_stats.cpu_usage.total_usage": 6635544000,
          "cpu_stats.online_cpus": 4,
          "cpu_stats.system_cpu_usage": 4033496610000000,
          "cpu_usage_perc": 12.907499999999999,
          "precpu_stats.cpu_usage.total_usage": 6511632000,
          "precpu_stats.system_cpu_usage": 4033492770000000,
          "read": "2022-11-08T19:32:11.520783368",
          "system_cpu_delta": 3840000000
         },
         {
          "cpu_delta": 126473000,
          "cpu_stats.cpu_usage.total_usage": 6886473000,
          "cpu_stats.online_cpus": 4,
          "cpu_stats.system_cpu_usage": 4033503860000000,
          "cpu_usage_perc": 13.89813186813187,
          "precpu_stats.cpu_usage.total_usage": 6760000000,
          "precpu_stats.system_cpu_usage": 4033500220000000,
          "read": "2022-11-08T19:32:13.511672309",
          "system_cpu_delta": 3640000000
         },
         {
          "cpu_delta": 125115000,
          "cpu_stats.cpu_usage.total_usage": 7135908000,
          "cpu_stats.online_cpus": 4,
          "cpu_stats.system_cpu_usage": 4033511140000000,
          "cpu_usage_perc": 13.824861878453037,
          "precpu_stats.cpu_usage.total_usage": 7010793000,
          "precpu_stats.system_cpu_usage": 4033507520000000,
          "read": "2022-11-08T19:32:15.536849387",
          "system_cpu_delta": 3620000000
         },
         {
          "cpu_delta": 130411000,
          "cpu_stats.cpu_usage.total_usage": 7392514000,
          "cpu_stats.online_cpus": 4,
          "cpu_stats.system_cpu_usage": 4033518480000000,
          "cpu_usage_perc": 14.175108695652176,
          "precpu_stats.cpu_usage.total_usage": 7262103000,
          "precpu_stats.system_cpu_usage": 4033514800000000,
          "read": "2022-11-08T19:32:17.575303863",
          "system_cpu_delta": 3680000000
         },
         {
          "cpu_delta": 126230000,
          "cpu_stats.cpu_usage.total_usage": 7646939000,
          "cpu_stats.online_cpus": 4,
          "cpu_stats.system_cpu_usage": 4033525630000000,
          "cpu_usage_perc": 13.986703601108033,
          "precpu_stats.cpu_usage.total_usage": 7520709000,
          "precpu_stats.system_cpu_usage": 4033522020000000,
          "read": "2022-11-08T19:32:19.596303521",
          "system_cpu_delta": 3610000000
         },
         {
          "cpu_delta": 125758000,
          "cpu_stats.cpu_usage.total_usage": 7898084000,
          "cpu_stats.online_cpus": 4,
          "cpu_stats.system_cpu_usage": 4033532970000000,
          "cpu_usage_perc": 13.558814016172507,
          "precpu_stats.cpu_usage.total_usage": 7772326000,
          "precpu_stats.system_cpu_usage": 4033529260000000,
          "read": "2022-11-08T19:32:21.635446956",
          "system_cpu_delta": 3710000000
         },
         {
          "cpu_delta": 123520000,
          "cpu_stats.cpu_usage.total_usage": 8160620000,
          "cpu_stats.online_cpus": 4,
          "cpu_stats.system_cpu_usage": 4033540460000000,
          "cpu_usage_perc": 13.46267029972752,
          "precpu_stats.cpu_usage.total_usage": 8037100000,
          "precpu_stats.system_cpu_usage": 4033536790000000,
          "read": "2022-11-08T19:32:23.731388027",
          "system_cpu_delta": 3670000000
         },
         {
          "cpu_delta": 126675000,
          "cpu_stats.cpu_usage.total_usage": 8412000000,
          "cpu_stats.online_cpus": 4,
          "cpu_stats.system_cpu_usage": 4033547650000000,
          "cpu_usage_perc": 14.27323943661972,
          "precpu_stats.cpu_usage.total_usage": 8285325000,
          "precpu_stats.system_cpu_usage": 4033544100000000,
          "read": "2022-11-08T19:32:25.752553106",
          "system_cpu_delta": 3550000000
         },
         {
          "cpu_delta": 133673000,
          "cpu_stats.cpu_usage.total_usage": 8672548000,
          "cpu_stats.online_cpus": 4,
          "cpu_stats.system_cpu_usage": 4033554690000000,
          "cpu_usage_perc": 15.233390313390313,
          "precpu_stats.cpu_usage.total_usage": 8538875000,
          "precpu_stats.system_cpu_usage": 4033551180000000,
          "read": "2022-11-08T19:32:27.786197499",
          "system_cpu_delta": 3510000000
         },
         {
          "cpu_delta": 124174000,
          "cpu_stats.cpu_usage.total_usage": 8922247000,
          "cpu_stats.online_cpus": 4,
          "cpu_stats.system_cpu_usage": 4033562400000000,
          "cpu_usage_perc": 12.801443298969073,
          "precpu_stats.cpu_usage.total_usage": 8798073000,
          "precpu_stats.system_cpu_usage": 4033558520000000,
          "read": "2022-11-08T19:32:29.802874443",
          "system_cpu_delta": 3880000000
         },
         {
          "cpu_delta": 125248000,
          "cpu_stats.cpu_usage.total_usage": 9175230000,
          "cpu_stats.online_cpus": 4,
          "cpu_stats.system_cpu_usage": 4033570190000000,
          "cpu_usage_perc": 12.780408163265305,
          "precpu_stats.cpu_usage.total_usage": 9049982000,
          "precpu_stats.system_cpu_usage": 4033566270000000,
          "read": "2022-11-08T19:32:31.830360689",
          "system_cpu_delta": 3920000000
         },
         {
          "cpu_delta": 136318000,
          "cpu_stats.cpu_usage.total_usage": 9436365000,
          "cpu_stats.online_cpus": 4,
          "cpu_stats.system_cpu_usage": 4033578110000000,
          "cpu_usage_perc": 13.496831683168317,
          "precpu_stats.cpu_usage.total_usage": 9300047000,
          "precpu_stats.system_cpu_usage": 4033574070000000,
          "read": "2022-11-08T19:32:33.901419072",
          "system_cpu_delta": 4040000000
         },
         {
          "cpu_delta": 136501000,
          "cpu_stats.cpu_usage.total_usage": 9697632000,
          "cpu_stats.online_cpus": 4,
          "cpu_stats.system_cpu_usage": 4033585920000000,
          "cpu_usage_perc": 14.14518134715026,
          "precpu_stats.cpu_usage.total_usage": 9561131000,
          "precpu_stats.system_cpu_usage": 4033582060000000,
          "read": "2022-11-08T19:32:35.962135544",
          "system_cpu_delta": 3860000000
         },
         {
          "cpu_delta": 124756000,
          "cpu_stats.cpu_usage.total_usage": 9948505000,
          "cpu_stats.online_cpus": 4,
          "cpu_stats.system_cpu_usage": 4033593560000000,
          "cpu_usage_perc": 13.029347258485641,
          "precpu_stats.cpu_usage.total_usage": 9823749000,
          "precpu_stats.system_cpu_usage": 4033589730000000,
          "read": "2022-11-08T19:32:37.991979072",
          "system_cpu_delta": 3830000000
         },
         {
          "cpu_delta": 124862000,
          "cpu_stats.cpu_usage.total_usage": 10198752000,
          "cpu_stats.online_cpus": 4,
          "cpu_stats.system_cpu_usage": 4033601120000000,
          "cpu_usage_perc": 13.040417754569193,
          "precpu_stats.cpu_usage.total_usage": 10073890000,
          "precpu_stats.system_cpu_usage": 4033597290000000,
          "read": "2022-11-08T19:32:40.018779101",
          "system_cpu_delta": 3830000000
         },
         {
          "cpu_delta": 124292000,
          "cpu_stats.cpu_usage.total_usage": 10447865000,
          "cpu_stats.online_cpus": 4,
          "cpu_stats.system_cpu_usage": 4033608830000000,
          "cpu_usage_perc": 12.879999999999999,
          "precpu_stats.cpu_usage.total_usage": 10323573000,
          "precpu_stats.system_cpu_usage": 4033604970000000,
          "read": "2022-11-08T19:32:42.034907984",
          "system_cpu_delta": 3860000000
         },
         {
          "cpu_delta": 135949000,
          "cpu_stats.cpu_usage.total_usage": 10709598000,
          "cpu_stats.online_cpus": 4,
          "cpu_stats.system_cpu_usage": 4033616440000000,
          "cpu_usage_perc": 14.235497382198952,
          "precpu_stats.cpu_usage.total_usage": 10573649000,
          "precpu_stats.system_cpu_usage": 4033612620000000,
          "read": "2022-11-08T19:32:44.044208611",
          "system_cpu_delta": 3820000000
         },
         {
          "cpu_delta": 138132000,
          "cpu_stats.cpu_usage.total_usage": 10973107000,
          "cpu_stats.online_cpus": 4,
          "cpu_stats.system_cpu_usage": 4033624410000000,
          "cpu_usage_perc": 13.744477611940297,
          "precpu_stats.cpu_usage.total_usage": 10834975000,
          "precpu_stats.system_cpu_usage": 4033620390000000,
          "read": "2022-11-08T19:32:46.157832103",
          "system_cpu_delta": 4020000000
         },
         {
          "cpu_delta": 125013000,
          "cpu_stats.cpu_usage.total_usage": 11223192000,
          "cpu_stats.online_cpus": 4,
          "cpu_stats.system_cpu_usage": 4033632150000000,
          "cpu_usage_perc": 12.954715025906735,
          "precpu_stats.cpu_usage.total_usage": 11098179000,
          "precpu_stats.system_cpu_usage": 4033628290000000,
          "read": "2022-11-08T19:32:48.209998135",
          "system_cpu_delta": 3860000000
         },
         {
          "cpu_delta": 129188000,
          "cpu_stats.cpu_usage.total_usage": 11485526000,
          "cpu_stats.online_cpus": 4,
          "cpu_stats.system_cpu_usage": 4033639860000000,
          "cpu_usage_perc": 13.457083333333333,
          "precpu_stats.cpu_usage.total_usage": 11356338000,
          "precpu_stats.system_cpu_usage": 4033636020000000,
          "read": "2022-11-08T19:32:50.247883698",
          "system_cpu_delta": 3840000000
         },
         {
          "cpu_delta": 125351000,
          "cpu_stats.cpu_usage.total_usage": 11735757000,
          "cpu_stats.online_cpus": 4,
          "cpu_stats.system_cpu_usage": 4033647540000000,
          "cpu_usage_perc": 13.023480519480518,
          "precpu_stats.cpu_usage.total_usage": 11610406000,
          "precpu_stats.system_cpu_usage": 4033643690000000,
          "read": "2022-11-08T19:32:52.267877253",
          "system_cpu_delta": 3850000000
         },
         {
          "cpu_delta": 126409000,
          "cpu_stats.cpu_usage.total_usage": 11986533000,
          "cpu_stats.online_cpus": 4,
          "cpu_stats.system_cpu_usage": 4033655190000000,
          "cpu_usage_perc": 13.2365445026178,
          "precpu_stats.cpu_usage.total_usage": 11860124000,
          "precpu_stats.system_cpu_usage": 4033651370000000,
          "read": "2022-11-08T19:32:54.293816956",
          "system_cpu_delta": 3820000000
         },
         {
          "cpu_delta": 136207000,
          "cpu_stats.cpu_usage.total_usage": 12247345000,
          "cpu_stats.online_cpus": 4,
          "cpu_stats.system_cpu_usage": 4033663060000000,
          "cpu_usage_perc": 13.552935323383084,
          "precpu_stats.cpu_usage.total_usage": 12111138000,
          "precpu_stats.system_cpu_usage": 4033659040000000,
          "read": "2022-11-08T19:32:56.369597025",
          "system_cpu_delta": 4020000000
         },
         {
          "cpu_delta": 137017000,
          "cpu_stats.cpu_usage.total_usage": 12506660000,
          "cpu_stats.online_cpus": 4,
          "cpu_stats.system_cpu_usage": 4033671050000000,
          "cpu_usage_perc": 13.736040100250626,
          "precpu_stats.cpu_usage.total_usage": 12369643000,
          "precpu_stats.system_cpu_usage": 4033667060000000,
          "read": "2022-11-08T19:32:58.490162192",
          "system_cpu_delta": 3990000000
         },
         {
          "cpu_delta": 126064000,
          "cpu_stats.cpu_usage.total_usage": 12758442000,
          "cpu_stats.online_cpus": 4,
          "cpu_stats.system_cpu_usage": 4033678720000000,
          "cpu_usage_perc": 13.165953002610967,
          "precpu_stats.cpu_usage.total_usage": 12632378000,
          "precpu_stats.system_cpu_usage": 4033674890000000,
          "read": "2022-11-08T19:33:00.523249272",
          "system_cpu_delta": 3830000000
         },
         {
          "cpu_delta": 125871000,
          "cpu_stats.cpu_usage.total_usage": 13020311000,
          "cpu_stats.online_cpus": 4,
          "cpu_stats.system_cpu_usage": 4033686360000000,
          "cpu_usage_perc": 13.319682539682539,
          "precpu_stats.cpu_usage.total_usage": 12894440000,
          "precpu_stats.system_cpu_usage": 4033682580000000,
          "read": "2022-11-08T19:33:02.551122914",
          "system_cpu_delta": 3780000000
         },
         {
          "cpu_delta": 124739000,
          "cpu_stats.cpu_usage.total_usage": 13266535000,
          "cpu_stats.online_cpus": 4,
          "cpu_stats.system_cpu_usage": 4033694000000000,
          "cpu_usage_perc": 13.13042105263158,
          "precpu_stats.cpu_usage.total_usage": 13141796000,
          "precpu_stats.system_cpu_usage": 4033690200000000,
          "read": "2022-11-08T19:33:04.571766870",
          "system_cpu_delta": 3800000000
         },
         {
          "cpu_delta": 124569000,
          "cpu_stats.cpu_usage.total_usage": 13516423000,
          "cpu_stats.online_cpus": 4,
          "cpu_stats.system_cpu_usage": 4033701680000000,
          "cpu_usage_perc": 12.942233766233766,
          "precpu_stats.cpu_usage.total_usage": 13391854000,
          "precpu_stats.system_cpu_usage": 4033697830000000,
          "read": "2022-11-08T19:33:06.596369207",
          "system_cpu_delta": 3850000000
         },
         {
          "cpu_delta": 139370000,
          "cpu_stats.cpu_usage.total_usage": 13779369000,
          "cpu_stats.online_cpus": 4,
          "cpu_stats.system_cpu_usage": 4033709520000000,
          "cpu_usage_perc": 14.113417721518987,
          "precpu_stats.cpu_usage.total_usage": 13639999000,
          "precpu_stats.system_cpu_usage": 4033705570000000,
          "read": "2022-11-08T19:33:08.675819760",
          "system_cpu_delta": 3950000000
         },
         {
          "cpu_delta": 137007000,
          "cpu_stats.cpu_usage.total_usage": 14040969000,
          "cpu_stats.online_cpus": 4,
          "cpu_stats.system_cpu_usage": 4033717310000000,
          "cpu_usage_perc": 14.271562500000002,
          "precpu_stats.cpu_usage.total_usage": 13903962000,
          "precpu_stats.system_cpu_usage": 4033713470000000,
          "read": "2022-11-08T19:33:10.745965411",
          "system_cpu_delta": 3840000000
         },
         {
          "cpu_delta": 124173000,
          "cpu_stats.cpu_usage.total_usage": 14290575000,
          "cpu_stats.online_cpus": 4,
          "cpu_stats.system_cpu_usage": 4033724940000000,
          "cpu_usage_perc": 13.10532981530343,
          "precpu_stats.cpu_usage.total_usage": 14166402000,
          "precpu_stats.system_cpu_usage": 4033721150000000,
          "read": "2022-11-08T19:33:12.773927980",
          "system_cpu_delta": 3790000000
         },
         {
          "cpu_delta": 125046000,
          "cpu_stats.cpu_usage.total_usage": 14543119000,
          "cpu_stats.online_cpus": 4,
          "cpu_stats.system_cpu_usage": 4033732570000000,
          "cpu_usage_perc": 13.059634464751957,
          "precpu_stats.cpu_usage.total_usage": 14418073000,
          "precpu_stats.system_cpu_usage": 4033728740000000,
          "read": "2022-11-08T19:33:14.768245294",
          "system_cpu_delta": 3830000000
         },
         {
          "cpu_delta": 125335000,
          "cpu_stats.cpu_usage.total_usage": 14791510000,
          "cpu_stats.online_cpus": 4,
          "cpu_stats.system_cpu_usage": 4033740270000000,
          "cpu_usage_perc": 12.95452196382429,
          "precpu_stats.cpu_usage.total_usage": 14666175000,
          "precpu_stats.system_cpu_usage": 4033736400000000,
          "read": "2022-11-08T19:33:16.799099718",
          "system_cpu_delta": 3870000000
         },
         {
          "cpu_delta": 136143000,
          "cpu_stats.cpu_usage.total_usage": 15053012000,
          "cpu_stats.online_cpus": 4,
          "cpu_stats.system_cpu_usage": 4033747980000000,
          "cpu_usage_perc": 13.999280205655525,
          "precpu_stats.cpu_usage.total_usage": 14916869000,
          "precpu_stats.system_cpu_usage": 4033744090000000,
          "read": "2022-11-08T19:33:18.840481592",
          "system_cpu_delta": 3890000000
         },
         {
          "cpu_delta": 138420000,
          "cpu_stats.cpu_usage.total_usage": 15315813000,
          "cpu_stats.online_cpus": 4,
          "cpu_stats.system_cpu_usage": 4033755880000000,
          "cpu_usage_perc": 13.773134328358209,
          "precpu_stats.cpu_usage.total_usage": 15177393000,
          "precpu_stats.system_cpu_usage": 4033751860000000,
          "read": "2022-11-08T19:33:20.938337110",
          "system_cpu_delta": 4020000000
         },
         {
          "cpu_delta": 116634000,
          "cpu_stats.cpu_usage.total_usage": 15557602000,
          "cpu_stats.online_cpus": 4,
          "cpu_stats.system_cpu_usage": 4033763530000000,
          "cpu_usage_perc": 12.149375,
          "precpu_stats.cpu_usage.total_usage": 15440968000,
          "precpu_stats.system_cpu_usage": 4033759690000000,
          "read": "2022-11-08T19:33:22.972115102",
          "system_cpu_delta": 3840000000
         },
         {
          "cpu_delta": 127188000,
          "cpu_stats.cpu_usage.total_usage": 15810082000,
          "cpu_stats.online_cpus": 4,
          "cpu_stats.system_cpu_usage": 4033771170000000,
          "cpu_usage_perc": 13.353070866141733,
          "precpu_stats.cpu_usage.total_usage": 15682894000,
          "precpu_stats.system_cpu_usage": 4033767360000000,
          "read": "2022-11-08T19:33:25.006664323",
          "system_cpu_delta": 3810000000
         },
         {
          "cpu_delta": 127155000,
          "cpu_stats.cpu_usage.total_usage": 16070544000,
          "cpu_stats.online_cpus": 4,
          "cpu_stats.system_cpu_usage": 4033778810000000,
          "cpu_usage_perc": 13.314659685863875,
          "precpu_stats.cpu_usage.total_usage": 15943389000,
          "precpu_stats.system_cpu_usage": 4033774990000000,
          "read": "2022-11-08T19:33:27.036522410",
          "system_cpu_delta": 3820000000
         },
         {
          "cpu_delta": 125856000,
          "cpu_stats.cpu_usage.total_usage": 16320788000,
          "cpu_stats.online_cpus": 4,
          "cpu_stats.system_cpu_usage": 4033786460000000,
          "cpu_usage_perc": 13.144229765013055,
          "precpu_stats.cpu_usage.total_usage": 16194932000,
          "precpu_stats.system_cpu_usage": 4033782630000000,
          "read": "2022-11-08T19:33:29.060818167",
          "system_cpu_delta": 3830000000
         },
         {
          "cpu_delta": 130174000,
          "cpu_stats.cpu_usage.total_usage": 16579633000,
          "cpu_stats.online_cpus": 4,
          "cpu_stats.system_cpu_usage": 4033794270000000,
          "cpu_usage_perc": 13.489533678756477,
          "precpu_stats.cpu_usage.total_usage": 16449459000,
          "precpu_stats.system_cpu_usage": 4033790410000000,
          "read": "2022-11-08T19:33:31.138038030",
          "system_cpu_delta": 3860000000
         },
         {
          "cpu_delta": 131607000,
          "cpu_stats.cpu_usage.total_usage": 16835882000,
          "cpu_stats.online_cpus": 4,
          "cpu_stats.system_cpu_usage": 4033802090000000,
          "cpu_usage_perc": 13.638031088082903,
          "precpu_stats.cpu_usage.total_usage": 16704275000,
          "precpu_stats.system_cpu_usage": 4033798230000000,
          "read": "2022-11-08T19:33:33.211608061",
          "system_cpu_delta": 3860000000
         },
         {
          "cpu_delta": 125865000,
          "cpu_stats.cpu_usage.total_usage": 17092599000,
          "cpu_stats.online_cpus": 4,
          "cpu_stats.system_cpu_usage": 4033809670000000,
          "cpu_usage_perc": 13.214173228346457,
          "precpu_stats.cpu_usage.total_usage": 16966734000,
          "precpu_stats.system_cpu_usage": 4033805860000000,
          "read": "2022-11-08T19:33:35.231454203",
          "system_cpu_delta": 3810000000
         },
         {
          "cpu_delta": 124293000,
          "cpu_stats.cpu_usage.total_usage": 17342567000,
          "cpu_stats.online_cpus": 4,
          "cpu_stats.system_cpu_usage": 4033817370000000,
          "cpu_usage_perc": 12.913558441558443,
          "precpu_stats.cpu_usage.total_usage": 17218274000,
          "precpu_stats.system_cpu_usage": 4033813520000000,
          "read": "2022-11-08T19:33:37.253580800",
          "system_cpu_delta": 3850000000
         },
         {
          "cpu_delta": 125044000,
          "cpu_stats.cpu_usage.total_usage": 17591397000,
          "cpu_stats.online_cpus": 4,
          "cpu_stats.system_cpu_usage": 4033825080000000,
          "cpu_usage_perc": 12.991584415584414,
          "precpu_stats.cpu_usage.total_usage": 17466353000,
          "precpu_stats.system_cpu_usage": 4033821230000000,
          "read": "2022-11-08T19:33:39.287920616",
          "system_cpu_delta": 3850000000
         },
         {
          "cpu_delta": 137495000,
          "cpu_stats.cpu_usage.total_usage": 17853483000,
          "cpu_stats.online_cpus": 4,
          "cpu_stats.system_cpu_usage": 4033832770000000,
          "cpu_usage_perc": 14.359791122715404,
          "precpu_stats.cpu_usage.total_usage": 17715988000,
          "precpu_stats.system_cpu_usage": 4033828940000000,
          "read": "2022-11-08T19:33:41.330776165",
          "system_cpu_delta": 3830000000
         },
         {
          "cpu_delta": 137164000,
          "cpu_stats.cpu_usage.total_usage": 18115906000,
          "cpu_stats.online_cpus": 4,
          "cpu_stats.system_cpu_usage": 4033840680000000,
          "cpu_usage_perc": 13.614292803970224,
          "precpu_stats.cpu_usage.total_usage": 17978742000,
          "precpu_stats.system_cpu_usage": 4033836650000000,
          "read": "2022-11-08T19:33:43.431742621",
          "system_cpu_delta": 4030000000
         },
         {
          "cpu_delta": 124294000,
          "cpu_stats.cpu_usage.total_usage": 18366012000,
          "cpu_stats.online_cpus": 4,
          "cpu_stats.system_cpu_usage": 4033848330000000,
          "cpu_usage_perc": 12.947291666666667,
          "precpu_stats.cpu_usage.total_usage": 18241718000,
          "precpu_stats.system_cpu_usage": 4033844490000000,
          "read": "2022-11-08T19:33:45.463707349",
          "system_cpu_delta": 3840000000
         },
         {
          "cpu_delta": 132571000,
          "cpu_stats.cpu_usage.total_usage": 18623360000,
          "cpu_stats.online_cpus": 4,
          "cpu_stats.system_cpu_usage": 4033856010000000,
          "cpu_usage_perc": 13.702428940568476,
          "precpu_stats.cpu_usage.total_usage": 18490789000,
          "precpu_stats.system_cpu_usage": 4033852140000000,
          "read": "2022-11-08T19:33:47.496185633",
          "system_cpu_delta": 3870000000
         },
         {
          "cpu_delta": 125220000,
          "cpu_stats.cpu_usage.total_usage": 18878477000,
          "cpu_stats.online_cpus": 4,
          "cpu_stats.system_cpu_usage": 4033863690000000,
          "cpu_usage_perc": 13.112041884816755,
          "precpu_stats.cpu_usage.total_usage": 18753257000,
          "precpu_stats.system_cpu_usage": 4033859870000000,
          "read": "2022-11-08T19:33:49.515077817",
          "system_cpu_delta": 3820000000
         },
         {
          "cpu_delta": 121707000,
          "cpu_stats.cpu_usage.total_usage": 19125785000,
          "cpu_stats.online_cpus": 4,
          "cpu_stats.system_cpu_usage": 4033871400000000,
          "cpu_usage_perc": 12.612124352331605,
          "precpu_stats.cpu_usage.total_usage": 19004078000,
          "precpu_stats.system_cpu_usage": 4033867540000000,
          "read": "2022-11-08T19:33:51.548269313",
          "system_cpu_delta": 3860000000
         },
         {
          "cpu_delta": 137621000,
          "cpu_stats.cpu_usage.total_usage": 19387851000,
          "cpu_stats.online_cpus": 4,
          "cpu_stats.system_cpu_usage": 4033879250000000,
          "cpu_usage_perc": 13.659652605459058,
          "precpu_stats.cpu_usage.total_usage": 19250230000,
          "precpu_stats.system_cpu_usage": 4033875220000000,
          "read": "2022-11-08T19:33:53.648073075",
          "system_cpu_delta": 4030000000
         },
         {
          "cpu_delta": 127932000,
          "cpu_stats.cpu_usage.total_usage": 19650525000,
          "cpu_stats.online_cpus": 4,
          "cpu_stats.system_cpu_usage": 4033886990000000,
          "cpu_usage_perc": 13.431181102362205,
          "precpu_stats.cpu_usage.total_usage": 19522593000,
          "precpu_stats.system_cpu_usage": 4033883180000000,
          "read": "2022-11-08T19:33:55.704462353",
          "system_cpu_delta": 3810000000
         },
         {
          "cpu_delta": 129006000,
          "cpu_stats.cpu_usage.total_usage": 19900510000,
          "cpu_stats.online_cpus": 4,
          "cpu_stats.system_cpu_usage": 4033894600000000,
          "cpu_usage_perc": 13.57957894736842,
          "precpu_stats.cpu_usage.total_usage": 19771504000,
          "precpu_stats.system_cpu_usage": 4033890800000000,
          "read": "2022-11-08T19:33:57.727414385",
          "system_cpu_delta": 3800000000
         },
         {
          "cpu_delta": 124343000,
          "cpu_stats.cpu_usage.total_usage": 20150769000,
          "cpu_stats.online_cpus": 4,
          "cpu_stats.system_cpu_usage": 4033902220000000,
          "cpu_usage_perc": 13.123271767810026,
          "precpu_stats.cpu_usage.total_usage": 20026426000,
          "precpu_stats.system_cpu_usage": 4033898430000000,
          "read": "2022-11-08T19:33:59.754805953",
          "system_cpu_delta": 3790000000
         },
         {
          "cpu_delta": 130559000,
          "cpu_stats.cpu_usage.total_usage": 20406409000,
          "cpu_stats.online_cpus": 4,
          "cpu_stats.system_cpu_usage": 4033909910000000,
          "cpu_usage_perc": 13.67109947643979,
          "precpu_stats.cpu_usage.total_usage": 20275850000,
          "precpu_stats.system_cpu_usage": 4033906090000000,
          "read": "2022-11-08T19:34:01.791643941",
          "system_cpu_delta": 3820000000
         },
         {
          "cpu_delta": 121315000,
          "cpu_stats.cpu_usage.total_usage": 20660155000,
          "cpu_stats.online_cpus": 4,
          "cpu_stats.system_cpu_usage": 4033917550000000,
          "cpu_usage_perc": 12.604155844155846,
          "precpu_stats.cpu_usage.total_usage": 20538840000,
          "precpu_stats.system_cpu_usage": 4033913700000000,
          "read": "2022-11-08T19:34:03.826694785",
          "system_cpu_delta": 3850000000
         },
         {
          "cpu_delta": 129078000,
          "cpu_stats.cpu_usage.total_usage": 20922089000,
          "cpu_stats.online_cpus": 4,
          "cpu_stats.system_cpu_usage": 4033925470000000,
          "cpu_usage_perc": 13.238769230769233,
          "precpu_stats.cpu_usage.total_usage": 20793011000,
          "precpu_stats.system_cpu_usage": 4033921570000000,
          "read": "2022-11-08T19:34:05.938639661",
          "system_cpu_delta": 3900000000
         },
         {
          "cpu_delta": 126566000,
          "cpu_stats.cpu_usage.total_usage": 21173128000,
          "cpu_stats.online_cpus": 4,
          "cpu_stats.system_cpu_usage": 4033933100000000,
          "cpu_usage_perc": 13.322736842105263,
          "precpu_stats.cpu_usage.total_usage": 21046562000,
          "precpu_stats.system_cpu_usage": 4033929300000000,
          "read": "2022-11-08T19:34:07.968041492",
          "system_cpu_delta": 3800000000
         },
         {
          "cpu_delta": 131097000,
          "cpu_stats.cpu_usage.total_usage": 21436195000,
          "cpu_stats.online_cpus": 4,
          "cpu_stats.system_cpu_usage": 4033940740000000,
          "cpu_usage_perc": 13.836094986807387,
          "precpu_stats.cpu_usage.total_usage": 21305098000,
          "precpu_stats.system_cpu_usage": 4033936950000000,
          "read": "2022-11-08T19:34:10.005810756",
          "system_cpu_delta": 3790000000
         },
         {
          "cpu_delta": 125235000,
          "cpu_stats.cpu_usage.total_usage": 21685355000,
          "cpu_stats.online_cpus": 4,
          "cpu_stats.system_cpu_usage": 4033948360000000,
          "cpu_usage_perc": 13.182631578947369,
          "precpu_stats.cpu_usage.total_usage": 21560120000,
          "precpu_stats.system_cpu_usage": 4033944560000000,
          "read": "2022-11-08T19:34:12.028386792",
          "system_cpu_delta": 3800000000
         },
         {
          "cpu_delta": 125052000,
          "cpu_stats.cpu_usage.total_usage": 21933716000,
          "cpu_stats.online_cpus": 4,
          "cpu_stats.system_cpu_usage": 4033956010000000,
          "cpu_usage_perc": 13.163368421052631,
          "precpu_stats.cpu_usage.total_usage": 21808664000,
          "precpu_stats.system_cpu_usage": 4033952210000000,
          "read": "2022-11-08T19:34:14.033018819",
          "system_cpu_delta": 3800000000
         },
         {
          "cpu_delta": 124102000,
          "cpu_stats.cpu_usage.total_usage": 22194851000,
          "cpu_stats.online_cpus": 4,
          "cpu_stats.system_cpu_usage": 4033963860000000,
          "cpu_usage_perc": 12.695856777493605,
          "precpu_stats.cpu_usage.total_usage": 22070749000,
          "precpu_stats.system_cpu_usage": 4033959950000000,
          "read": "2022-11-08T19:34:16.128113133",
          "system_cpu_delta": 3910000000
         },
         {
          "cpu_delta": 132744000,
          "cpu_stats.cpu_usage.total_usage": 22453271000,
          "cpu_stats.online_cpus": 4,
          "cpu_stats.system_cpu_usage": 4033971640000000,
          "cpu_usage_perc": 13.755854922279791,
          "precpu_stats.cpu_usage.total_usage": 22320527000,
          "precpu_stats.system_cpu_usage": 4033967780000000,
          "read": "2022-11-08T19:34:18.173067318",
          "system_cpu_delta": 3860000000
         },
         {
          "cpu_delta": 125345000,
          "cpu_stats.cpu_usage.total_usage": 22707272000,
          "cpu_stats.online_cpus": 4,
          "cpu_stats.system_cpu_usage": 4033979330000000,
          "cpu_usage_perc": 13.125130890052356,
          "precpu_stats.cpu_usage.total_usage": 22581927000,
          "precpu_stats.system_cpu_usage": 4033975510000000,
          "read": "2022-11-08T19:34:20.195647532",
          "system_cpu_delta": 3820000000
         },
         {
          "cpu_delta": 125817000,
          "cpu_stats.cpu_usage.total_usage": 22958631000,
          "cpu_stats.online_cpus": 4,
          "cpu_stats.system_cpu_usage": 4033987040000000,
          "cpu_usage_perc": 13.038031088082903,
          "precpu_stats.cpu_usage.total_usage": 22832814000,
          "precpu_stats.system_cpu_usage": 4033983180000000,
          "read": "2022-11-08T19:34:22.216640982",
          "system_cpu_delta": 3860000000
         },
         {
          "cpu_delta": 124545000,
          "cpu_stats.cpu_usage.total_usage": 23207728000,
          "cpu_stats.online_cpus": 4,
          "cpu_stats.system_cpu_usage": 4033994780000000,
          "cpu_usage_perc": 12.773846153846154,
          "precpu_stats.cpu_usage.total_usage": 23083183000,
          "precpu_stats.system_cpu_usage": 4033990880000000,
          "read": "2022-11-08T19:34:24.248866991",
          "system_cpu_delta": 3900000000
         },
         {
          "cpu_delta": 138253000,
          "cpu_stats.cpu_usage.total_usage": 23470628000,
          "cpu_stats.online_cpus": 4,
          "cpu_stats.system_cpu_usage": 4034002470000000,
          "cpu_usage_perc": 14.216246786632391,
          "precpu_stats.cpu_usage.total_usage": 23332375000,
          "precpu_stats.system_cpu_usage": 4033998580000000,
          "read": "2022-11-08T19:34:26.285838252",
          "system_cpu_delta": 3890000000
         },
         {
          "cpu_delta": 137529000,
          "cpu_stats.cpu_usage.total_usage": 23732801000,
          "cpu_stats.online_cpus": 4,
          "cpu_stats.system_cpu_usage": 4034010470000000,
          "cpu_usage_perc": 13.856826196473552,
          "precpu_stats.cpu_usage.total_usage": 23595272000,
          "precpu_stats.system_cpu_usage": 4034006500000000,
          "read": "2022-11-08T19:34:28.404709002",
          "system_cpu_delta": 3970000000
         },
         {
          "cpu_delta": 125103000,
          "cpu_stats.cpu_usage.total_usage": 23982928000,
          "cpu_stats.online_cpus": 4,
          "cpu_stats.system_cpu_usage": 4034018160000000,
          "cpu_usage_perc": 13.0315625,
          "precpu_stats.cpu_usage.total_usage": 23857825000,
          "precpu_stats.system_cpu_usage": 4034014320000000,
          "read": "2022-11-08T19:34:30.437832992",
          "system_cpu_delta": 3840000000
         },
         {
          "cpu_delta": 125124000,
          "cpu_stats.cpu_usage.total_usage": 24242187000,
          "cpu_stats.online_cpus": 4,
          "cpu_stats.system_cpu_usage": 4034025840000000,
          "cpu_usage_perc": 13.24063492063492,
          "precpu_stats.cpu_usage.total_usage": 24117063000,
          "precpu_stats.system_cpu_usage": 4034022060000000,
          "read": "2022-11-08T19:34:32.478624206",
          "system_cpu_delta": 3780000000
         },
         {
          "cpu_delta": 126053000,
          "cpu_stats.cpu_usage.total_usage": 24495790000,
          "cpu_stats.online_cpus": 4,
          "cpu_stats.system_cpu_usage": 4034033540000000,
          "cpu_usage_perc": 13.062487046632123,
          "precpu_stats.cpu_usage.total_usage": 24369737000,
          "precpu_stats.system_cpu_usage": 4034029680000000,
          "read": "2022-11-08T19:34:34.504479653",
          "system_cpu_delta": 3860000000
         },
         {
          "cpu_delta": 118626000,
          "cpu_stats.cpu_usage.total_usage": 24740658000,
          "cpu_stats.online_cpus": 4,
          "cpu_stats.system_cpu_usage": 4034041200000000,
          "cpu_usage_perc": 12.389138381201043,
          "precpu_stats.cpu_usage.total_usage": 24622032000,
          "precpu_stats.system_cpu_usage": 4034037370000000,
          "read": "2022-11-08T19:34:36.532960665",
          "system_cpu_delta": 3830000000
         },
         {
          "cpu_delta": 125559000,
          "cpu_stats.cpu_usage.total_usage": 25003073000,
          "cpu_stats.online_cpus": 4,
          "cpu_stats.system_cpu_usage": 4034049100000000,
          "cpu_usage_perc": 12.779541984732825,
          "precpu_stats.cpu_usage.total_usage": 24877514000,
          "precpu_stats.system_cpu_usage": 4034045170000000,
          "read": "2022-11-08T19:34:38.617046173",
          "system_cpu_delta": 3930000000
         },
         {
          "cpu_delta": 125658000,
          "cpu_stats.cpu_usage.total_usage": 25265179000,
          "cpu_stats.online_cpus": 4,
          "cpu_stats.system_cpu_usage": 4034056930000000,
          "cpu_usage_perc": 13.262058047493403,
          "precpu_stats.cpu_usage.total_usage": 25139521000,
          "precpu_stats.system_cpu_usage": 4034053140000000,
          "read": "2022-11-08T19:34:40.689830644",
          "system_cpu_delta": 3790000000
         },
         {
          "cpu_delta": 125114000,
          "cpu_stats.cpu_usage.total_usage": 25515171000,
          "cpu_stats.online_cpus": 4,
          "cpu_stats.system_cpu_usage": 4034064690000000,
          "cpu_usage_perc": 12.832205128205128,
          "precpu_stats.cpu_usage.total_usage": 25390057000,
          "precpu_stats.system_cpu_usage": 4034060790000000,
          "read": "2022-11-08T19:34:42.721508205",
          "system_cpu_delta": 3900000000
         },
         {
          "cpu_delta": 125889000,
          "cpu_stats.cpu_usage.total_usage": 25766217000,
          "cpu_stats.online_cpus": 4,
          "cpu_stats.system_cpu_usage": 4034072400000000,
          "cpu_usage_perc": 12.978247422680411,
          "precpu_stats.cpu_usage.total_usage": 25640328000,
          "precpu_stats.system_cpu_usage": 4034068520000000,
          "read": "2022-11-08T19:34:44.734337305",
          "system_cpu_delta": 3880000000
         },
         {
          "cpu_delta": 131984000,
          "cpu_stats.cpu_usage.total_usage": 26026947000,
          "cpu_stats.online_cpus": 4,
          "cpu_stats.system_cpu_usage": 4034080090000000,
          "cpu_usage_perc": 13.748333333333335,
          "precpu_stats.cpu_usage.total_usage": 25894963000,
          "precpu_stats.system_cpu_usage": 4034076250000000,
          "read": "2022-11-08T19:34:46.763285571",
          "system_cpu_delta": 3840000000
         },
         {
          "cpu_delta": 124765000,
          "cpu_stats.cpu_usage.total_usage": 26276894000,
          "cpu_stats.online_cpus": 4,
          "cpu_stats.system_cpu_usage": 4034087710000000,
          "cpu_usage_perc": 13.133157894736842,
          "precpu_stats.cpu_usage.total_usage": 26152129000,
          "precpu_stats.system_cpu_usage": 4034083910000000,
          "read": "2022-11-08T19:34:48.785143107",
          "system_cpu_delta": 3800000000
         },
         {
          "cpu_delta": 138951000,
          "cpu_stats.cpu_usage.total_usage": 26540423000,
          "cpu_stats.online_cpus": 4,
          "cpu_stats.system_cpu_usage": 4034095800000000,
          "cpu_usage_perc": 13.490388349514562,
          "precpu_stats.cpu_usage.total_usage": 26401472000,
          "precpu_stats.system_cpu_usage": 4034091680000000,
          "read": "2022-11-08T19:34:50.926061444",
          "system_cpu_delta": 4120000000
         },
         {
          "cpu_delta": 131242000,
          "cpu_stats.cpu_usage.total_usage": 26800242000,
          "cpu_stats.online_cpus": 4,
          "cpu_stats.system_cpu_usage": 4034103510000000,
          "cpu_usage_perc": 13.671041666666667,
          "precpu_stats.cpu_usage.total_usage": 26669000000,
          "precpu_stats.system_cpu_usage": 4034099670000000,
          "read": "2022-11-08T19:34:52.954312710",
          "system_cpu_delta": 3840000000
         },
         {
          "cpu_delta": 124923000,
          "cpu_stats.cpu_usage.total_usage": 27051949000,
          "cpu_stats.online_cpus": 4,
          "cpu_stats.system_cpu_usage": 4034111190000000,
          "cpu_usage_perc": 13.0128125,
          "precpu_stats.cpu_usage.total_usage": 26927026000,
          "precpu_stats.system_cpu_usage": 4034107350000000,
          "read": "2022-11-08T19:34:54.980876367",
          "system_cpu_delta": 3840000000
         },
         {
          "cpu_delta": 126295000,
          "cpu_stats.cpu_usage.total_usage": 27303052000,
          "cpu_stats.online_cpus": 4,
          "cpu_stats.system_cpu_usage": 4034118860000000,
          "cpu_usage_perc": 13.155729166666665,
          "precpu_stats.cpu_usage.total_usage": 27176757000,
          "precpu_stats.system_cpu_usage": 4034115020000000,
          "read": "2022-11-08T19:34:57.008771779",
          "system_cpu_delta": 3840000000
         },
         {
          "cpu_delta": 135708000,
          "cpu_stats.cpu_usage.total_usage": 27563008000,
          "cpu_stats.online_cpus": 4,
          "cpu_stats.system_cpu_usage": 4034126590000000,
          "cpu_usage_perc": 13.990515463917525,
          "precpu_stats.cpu_usage.total_usage": 27427300000,
          "precpu_stats.system_cpu_usage": 4034122710000000,
          "read": "2022-11-08T19:34:59.055439881",
          "system_cpu_delta": 3880000000
         },
         {
          "cpu_delta": 138804000,
          "cpu_stats.cpu_usage.total_usage": 27827948000,
          "cpu_stats.online_cpus": 4,
          "cpu_stats.system_cpu_usage": 4034134570000000,
          "cpu_usage_perc": 13.250978520286397,
          "precpu_stats.cpu_usage.total_usage": 27689144000,
          "precpu_stats.system_cpu_usage": 4034130380000000,
          "read": "2022-11-08T19:35:01.161229235",
          "system_cpu_delta": 4190000000
         },
         {
          "cpu_delta": 124713000,
          "cpu_stats.cpu_usage.total_usage": 28077758000,
          "cpu_stats.online_cpus": 4,
          "cpu_stats.system_cpu_usage": 4034142290000000,
          "cpu_usage_perc": 13.05895287958115,
          "precpu_stats.cpu_usage.total_usage": 27953045000,
          "precpu_stats.system_cpu_usage": 4034138470000000,
          "read": "2022-11-08T19:35:03.198954427",
          "system_cpu_delta": 3820000000
         },
         {
          "cpu_delta": 126029000,
          "cpu_stats.cpu_usage.total_usage": 28328499000,
          "cpu_stats.online_cpus": 4,
          "cpu_stats.system_cpu_usage": 4034150000000000,
          "cpu_usage_perc": 13.059999999999999,
          "precpu_stats.cpu_usage.total_usage": 28202470000,
          "precpu_stats.system_cpu_usage": 4034146140000000,
          "read": "2022-11-08T19:35:05.228677082",
          "system_cpu_delta": 3860000000
         },
         {
          "cpu_delta": 128527000,
          "cpu_stats.cpu_usage.total_usage": 28586735000,
          "cpu_stats.online_cpus": 4,
          "cpu_stats.system_cpu_usage": 4034157690000000,
          "cpu_usage_perc": 13.423185378590077,
          "precpu_stats.cpu_usage.total_usage": 28458208000,
          "precpu_stats.system_cpu_usage": 4034153860000000,
          "read": "2022-11-08T19:35:07.251984962",
          "system_cpu_delta": 3830000000
         },
         {
          "cpu_delta": 125708000,
          "cpu_stats.cpu_usage.total_usage": 28840894000,
          "cpu_stats.online_cpus": 4,
          "cpu_stats.system_cpu_usage": 4034165410000000,
          "cpu_usage_perc": 13.06057142857143,
          "precpu_stats.cpu_usage.total_usage": 28715186000,
          "precpu_stats.system_cpu_usage": 4034161560000000,
          "read": "2022-11-08T19:35:09.283675836",
          "system_cpu_delta": 3850000000
         },
         {
          "cpu_delta": 125602000,
          "cpu_stats.cpu_usage.total_usage": 29090885000,
          "cpu_stats.online_cpus": 4,
          "cpu_stats.system_cpu_usage": 4034173130000000,
          "cpu_usage_perc": 12.88225641025641,
          "precpu_stats.cpu_usage.total_usage": 28965283000,
          "precpu_stats.system_cpu_usage": 4034169230000000,
          "read": "2022-11-08T19:35:11.329970723",
          "system_cpu_delta": 3900000000
         },
         {
          "cpu_delta": 122517000,
          "cpu_stats.cpu_usage.total_usage": 29351792000,
          "cpu_stats.online_cpus": 4,
          "cpu_stats.system_cpu_usage": 4034181120000000,
          "cpu_usage_perc": 12.07064039408867,
          "precpu_stats.cpu_usage.total_usage": 29229275000,
          "precpu_stats.system_cpu_usage": 4034177060000000,
          "read": "2022-11-08T19:35:13.415916082",
          "system_cpu_delta": 4060000000
         },
         {
          "cpu_delta": 126958000,
          "cpu_stats.cpu_usage.total_usage": 29614775000,
          "cpu_stats.online_cpus": 4,
          "cpu_stats.system_cpu_usage": 4034188860000000,
          "cpu_usage_perc": 13.054807197943443,
          "precpu_stats.cpu_usage.total_usage": 29487817000,
          "precpu_stats.system_cpu_usage": 4034184970000000,
          "read": "2022-11-08T19:35:15.449033343",
          "system_cpu_delta": 3890000000
         },
         {
          "cpu_delta": 124332000,
          "cpu_stats.cpu_usage.total_usage": 29864480000,
          "cpu_stats.online_cpus": 4,
          "cpu_stats.system_cpu_usage": 4034196560000000,
          "cpu_usage_perc": 12.95125,
          "precpu_stats.cpu_usage.total_usage": 29740148000,
          "precpu_stats.system_cpu_usage": 4034192720000000,
          "read": "2022-11-08T19:35:17.480168344",
          "system_cpu_delta": 3840000000
         },
         {
          "cpu_delta": 126074000,
          "cpu_stats.cpu_usage.total_usage": 30116251000,
          "cpu_stats.online_cpus": 4,
          "cpu_stats.system_cpu_usage": 4034204260000000,
          "cpu_usage_perc": 13.098597402597404,
          "precpu_stats.cpu_usage.total_usage": 29990177000,
          "precpu_stats.system_cpu_usage": 4034200410000000,
          "read": "2022-11-08T19:35:19.514777590",
          "system_cpu_delta": 3850000000
         },
         {
          "cpu_delta": 131281000,
          "cpu_stats.cpu_usage.total_usage": 30377410000,
          "cpu_stats.online_cpus": 4,
          "cpu_stats.system_cpu_usage": 4034211940000000,
          "cpu_usage_perc": 13.604248704663213,
          "precpu_stats.cpu_usage.total_usage": 30246129000,
          "precpu_stats.system_cpu_usage": 4034208080000000,
          "read": "2022-11-08T19:35:21.537760781",
          "system_cpu_delta": 3860000000
         },
         {
          "cpu_delta": 125506000,
          "cpu_stats.cpu_usage.total_usage": 30628127000,
          "cpu_stats.online_cpus": 4,
          "cpu_stats.system_cpu_usage": 4034219800000000,
          "cpu_usage_perc": 12.613668341708543,
          "precpu_stats.cpu_usage.total_usage": 30502621000,
          "precpu_stats.system_cpu_usage": 4034215820000000,
          "read": "2022-11-08T19:35:23.618416439",
          "system_cpu_delta": 3980000000
         },
         {
          "cpu_delta": 124498000,
          "cpu_stats.cpu_usage.total_usage": 30890229000,
          "cpu_stats.online_cpus": 4,
          "cpu_stats.system_cpu_usage": 4034227630000000,
          "cpu_usage_perc": 12.868010335917312,
          "precpu_stats.cpu_usage.total_usage": 30765731000,
          "precpu_stats.system_cpu_usage": 4034223760000000,
          "read": "2022-11-08T19:35:25.677081813",
          "system_cpu_delta": 3870000000
         },
         {
          "cpu_delta": 125842000,
          "cpu_stats.cpu_usage.total_usage": 31141263000,
          "cpu_stats.online_cpus": 4,
          "cpu_stats.system_cpu_usage": 4034235310000000,
          "cpu_usage_perc": 13.006925064599484,
          "precpu_stats.cpu_usage.total_usage": 31015421000,
          "precpu_stats.system_cpu_usage": 4034231440000000,
          "read": "2022-11-08T19:35:27.703549389",
          "system_cpu_delta": 3870000000
         },
         {
          "cpu_delta": 128813000,
          "cpu_stats.cpu_usage.total_usage": 31398824000,
          "cpu_stats.online_cpus": 4,
          "cpu_stats.system_cpu_usage": 4034243010000000,
          "cpu_usage_perc": 13.418020833333333,
          "precpu_stats.cpu_usage.total_usage": 31270011000,
          "precpu_stats.system_cpu_usage": 4034239170000000,
          "read": "2022-11-08T19:35:29.733661528",
          "system_cpu_delta": 3840000000
         },
         {
          "cpu_delta": 126330000,
          "cpu_stats.cpu_usage.total_usage": 31653203000,
          "cpu_stats.online_cpus": 4,
          "cpu_stats.system_cpu_usage": 4034250690000000,
          "cpu_usage_perc": 13.193733681462142,
          "precpu_stats.cpu_usage.total_usage": 31526873000,
          "precpu_stats.system_cpu_usage": 4034246860000000,
          "read": "2022-11-08T19:35:31.749634643",
          "system_cpu_delta": 3830000000
         },
         {
          "cpu_delta": 126078000,
          "cpu_stats.cpu_usage.total_usage": 31903532000,
          "cpu_stats.online_cpus": 4,
          "cpu_stats.system_cpu_usage": 4034258400000000,
          "cpu_usage_perc": 13.065077720207254,
          "precpu_stats.cpu_usage.total_usage": 31777454000,
          "precpu_stats.system_cpu_usage": 4034254540000000,
          "read": "2022-11-08T19:35:33.781584871",
          "system_cpu_delta": 3860000000
         },
         {
          "cpu_delta": 125312000,
          "cpu_stats.cpu_usage.total_usage": 32165412000,
          "cpu_stats.online_cpus": 4,
          "cpu_stats.system_cpu_usage": 4034266410000000,
          "cpu_usage_perc": 12.49995012468828,
          "precpu_stats.cpu_usage.total_usage": 32040100000,
          "precpu_stats.system_cpu_usage": 4034262400000000,
          "read": "2022-11-08T19:35:35.894715002",
          "system_cpu_delta": 4010000000
         },
         {
          "cpu_delta": 133745000,
          "cpu_stats.cpu_usage.total_usage": 32425065000,
          "cpu_stats.online_cpus": 4,
          "cpu_stats.system_cpu_usage": 4034274090000000,
          "cpu_usage_perc": 13.931770833333335,
          "precpu_stats.cpu_usage.total_usage": 32291320000,
          "precpu_stats.system_cpu_usage": 4034270250000000,
          "read": "2022-11-08T19:35:37.934745098",
          "system_cpu_delta": 3840000000
         },
         {
          "cpu_delta": 124141000,
          "cpu_stats.cpu_usage.total_usage": 32677641000,
          "cpu_stats.online_cpus": 4,
          "cpu_stats.system_cpu_usage": 4034281740000000,
          "cpu_usage_perc": 12.897766233766234,
          "precpu_stats.cpu_usage.total_usage": 32553500000,
          "precpu_stats.system_cpu_usage": 4034277890000000,
          "read": "2022-11-08T19:35:39.956235694",
          "system_cpu_delta": 3850000000
         },
         {
          "cpu_delta": 125832000,
          "cpu_stats.cpu_usage.total_usage": 32927906000,
          "cpu_stats.online_cpus": 4,
          "cpu_stats.system_cpu_usage": 4034289420000000,
          "cpu_usage_perc": 13.245473684210527,
          "precpu_stats.cpu_usage.total_usage": 32802074000,
          "precpu_stats.system_cpu_usage": 4034285620000000,
          "read": "2022-11-08T19:35:41.992017046",
          "system_cpu_delta": 3800000000
         },
         {
          "cpu_delta": 132411000,
          "cpu_stats.cpu_usage.total_usage": 33183966000,
          "cpu_stats.online_cpus": 4,
          "cpu_stats.system_cpu_usage": 4034297150000000,
          "cpu_usage_perc": 13.721347150259067,
          "precpu_stats.cpu_usage.total_usage": 33051555000,
          "precpu_stats.system_cpu_usage": 4034293290000000,
          "read": "2022-11-08T19:35:44.004399932",
          "system_cpu_delta": 3860000000
         },
         {
          "cpu_delta": 126923000,
          "cpu_stats.cpu_usage.total_usage": 33441295000,
          "cpu_stats.online_cpus": 4,
          "cpu_stats.system_cpu_usage": 4034304940000000,
          "cpu_usage_perc": 12.852962025316456,
          "precpu_stats.cpu_usage.total_usage": 33314372000,
          "precpu_stats.system_cpu_usage": 4034300990000000,
          "read": "2022-11-08T19:35:46.069411316",
          "system_cpu_delta": 3950000000
         },
         {
          "cpu_delta": 133081000,
          "cpu_stats.cpu_usage.total_usage": 33709155000,
          "cpu_stats.online_cpus": 4,
          "cpu_stats.system_cpu_usage": 4034312970000000,
          "cpu_usage_perc": 13.0471568627451,
          "precpu_stats.cpu_usage.total_usage": 33576074000,
          "precpu_stats.system_cpu_usage": 4034308890000000,
          "read": "2022-11-08T19:35:48.205091825",
          "system_cpu_delta": 4080000000
         },
         {
          "cpu_delta": 126703000,
          "cpu_stats.cpu_usage.total_usage": 33966971000,
          "cpu_stats.online_cpus": 4,
          "cpu_stats.system_cpu_usage": 4034320610000000,
          "cpu_usage_perc": 13.232689295039165,
          "precpu_stats.cpu_usage.total_usage": 33840268000,
          "precpu_stats.system_cpu_usage": 4034316780000000,
          "read": "2022-11-08T19:35:50.222651646",
          "system_cpu_delta": 3830000000
         },
         {
          "cpu_delta": 125833000,
          "cpu_stats.cpu_usage.total_usage": 34215873000,
          "cpu_stats.online_cpus": 4,
          "cpu_stats.system_cpu_usage": 4034328330000000,
          "cpu_usage_perc": 13.107604166666667,
          "precpu_stats.cpu_usage.total_usage": 34090040000,
          "precpu_stats.system_cpu_usage": 4034324490000000,
          "read": "2022-11-08T19:35:52.248873229",
          "system_cpu_delta": 3840000000
         },
         {
          "cpu_delta": 124270000,
          "cpu_stats.cpu_usage.total_usage": 34464416000,
          "cpu_stats.online_cpus": 4,
          "cpu_stats.system_cpu_usage": 4034335990000000,
          "cpu_usage_perc": 12.944791666666667,
          "precpu_stats.cpu_usage.total_usage": 34340146000,
          "precpu_stats.system_cpu_usage": 4034332150000000,
          "read": "2022-11-08T19:35:54.278312383",
          "system_cpu_delta": 3840000000
         },
         {
          "cpu_delta": 135569000,
          "cpu_stats.cpu_usage.total_usage": 34725337000,
          "cpu_stats.online_cpus": 4,
          "cpu_stats.system_cpu_usage": 4034343720000000,
          "cpu_usage_perc": 14.048601036269432,
          "precpu_stats.cpu_usage.total_usage": 34589768000,
          "precpu_stats.system_cpu_usage": 4034339860000000,
          "read": "2022-11-08T19:35:56.314743719",
          "system_cpu_delta": 3860000000
         },
         {
          "cpu_delta": 135643000,
          "cpu_stats.cpu_usage.total_usage": 34989585000,
          "cpu_stats.online_cpus": 4,
          "cpu_stats.system_cpu_usage": 4034351640000000,
          "cpu_usage_perc": 13.13733656174334,
          "precpu_stats.cpu_usage.total_usage": 34853942000,
          "precpu_stats.system_cpu_usage": 4034347510000000,
          "read": "2022-11-08T19:35:58.413612896",
          "system_cpu_delta": 4130000000
         },
         {
          "cpu_delta": 125445000,
          "cpu_stats.cpu_usage.total_usage": 35239555000,
          "cpu_stats.online_cpus": 4,
          "cpu_stats.system_cpu_usage": 4034359340000000,
          "cpu_usage_perc": 13.170078740157482,
          "precpu_stats.cpu_usage.total_usage": 35114110000,
          "precpu_stats.system_cpu_usage": 4034355530000000,
          "read": "2022-11-08T19:36:00.456315903",
          "system_cpu_delta": 3810000000
         },
         {
          "cpu_delta": 124896000,
          "cpu_stats.cpu_usage.total_usage": 35490210000,
          "cpu_stats.online_cpus": 4,
          "cpu_stats.system_cpu_usage": 4034367060000000,
          "cpu_usage_perc": 12.94259067357513,
          "precpu_stats.cpu_usage.total_usage": 35365314000,
          "precpu_stats.system_cpu_usage": 4034363200000000,
          "read": "2022-11-08T19:36:02.486282999",
          "system_cpu_delta": 3860000000
         },
         {
          "cpu_delta": 136080000,
          "cpu_stats.cpu_usage.total_usage": 35752475000,
          "cpu_stats.online_cpus": 4,
          "cpu_stats.system_cpu_usage": 4034374730000000,
          "cpu_usage_perc": 14.138181818181819,
          "precpu_stats.cpu_usage.total_usage": 35616395000,
          "precpu_stats.system_cpu_usage": 4034370880000000,
          "read": "2022-11-08T19:36:04.513849365",
          "system_cpu_delta": 3850000000
         },
         {
          "cpu_delta": 124089000,
          "cpu_stats.cpu_usage.total_usage": 36002236000,
          "cpu_stats.online_cpus": 4,
          "cpu_stats.system_cpu_usage": 4034382380000000,
          "cpu_usage_perc": 12.892363636363635,
          "precpu_stats.cpu_usage.total_usage": 35878147000,
          "precpu_stats.system_cpu_usage": 4034378530000000,
          "read": "2022-11-08T19:36:06.529888408",
          "system_cpu_delta": 3850000000
         },
         {
          "cpu_delta": 124821000,
          "cpu_stats.cpu_usage.total_usage": 36251511000,
          "cpu_stats.online_cpus": 4,
          "cpu_stats.system_cpu_usage": 4034390120000000,
          "cpu_usage_perc": 12.835064267352186,
          "precpu_stats.cpu_usage.total_usage": 36126690000,
          "precpu_stats.system_cpu_usage": 4034386230000000,
          "read": "2022-11-08T19:36:08.573030265",
          "system_cpu_delta": 3890000000
         },
         {
          "cpu_delta": 134641000,
          "cpu_stats.cpu_usage.total_usage": 36524112000,
          "cpu_stats.online_cpus": 4,
          "cpu_stats.system_cpu_usage": 4034398250000000,
          "cpu_usage_perc": 13.232530712530712,
          "precpu_stats.cpu_usage.total_usage": 36389471000,
          "precpu_stats.system_cpu_usage": 4034394180000000,
          "read": "2022-11-08T19:36:10.714530066",
          "system_cpu_delta": 4070000000
         },
         {
          "cpu_delta": 124437000,
          "cpu_stats.cpu_usage.total_usage": 36776790000,
          "cpu_stats.online_cpus": 4,
          "cpu_stats.system_cpu_usage": 4034405980000000,
          "cpu_usage_perc": 12.828556701030926,
          "precpu_stats.cpu_usage.total_usage": 36652353000,
          "precpu_stats.system_cpu_usage": 4034402100000000,
          "read": "2022-11-08T19:36:12.739297918",
          "system_cpu_delta": 3880000000
         },
         {
          "cpu_delta": 125436000,
          "cpu_stats.cpu_usage.total_usage": 37027462000,
          "cpu_stats.online_cpus": 4,
          "cpu_stats.system_cpu_usage": 4034413620000000,
          "cpu_usage_perc": 13.134659685863875,
          "precpu_stats.cpu_usage.total_usage": 36902026000,
          "precpu_stats.system_cpu_usage": 4034409800000000,
          "read": "2022-11-08T19:36:14.730235554",
          "system_cpu_delta": 3820000000
         },
         {
          "cpu_delta": 124695000,
          "cpu_stats.cpu_usage.total_usage": 37277574000,
          "cpu_stats.online_cpus": 4,
          "cpu_stats.system_cpu_usage": 4034421320000000,
          "cpu_usage_perc": 12.989062500000001,
          "precpu_stats.cpu_usage.total_usage": 37152879000,
          "precpu_stats.system_cpu_usage": 4034417480000000,
          "read": "2022-11-08T19:36:16.758612324",
          "system_cpu_delta": 3840000000
         },
         {
          "cpu_delta": 130885000,
          "cpu_stats.cpu_usage.total_usage": 37540290000,
          "cpu_stats.online_cpus": 4,
          "cpu_stats.system_cpu_usage": 4034429010000000,
          "cpu_usage_perc": 13.777368421052632,
          "precpu_stats.cpu_usage.total_usage": 37409405000,
          "precpu_stats.system_cpu_usage": 4034425210000000,
          "read": "2022-11-08T19:36:18.794482786",
          "system_cpu_delta": 3800000000
         },
         {
          "cpu_delta": 128775000,
          "cpu_stats.cpu_usage.total_usage": 37793187000,
          "cpu_stats.online_cpus": 4,
          "cpu_stats.system_cpu_usage": 4034436880000000,
          "cpu_usage_perc": 12.974811083123425,
          "precpu_stats.cpu_usage.total_usage": 37664412000,
          "precpu_stats.system_cpu_usage": 4034432910000000,
          "read": "2022-11-08T19:36:20.877870032",
          "system_cpu_delta": 3970000000
         },
         {
          "cpu_delta": 123414000,
          "cpu_stats.cpu_usage.total_usage": 38052073000,
          "cpu_stats.online_cpus": 4,
          "cpu_stats.system_cpu_usage": 4034444680000000,
          "cpu_usage_perc": 12.922931937172773,
          "precpu_stats.cpu_usage.total_usage": 37928659000,
          "precpu_stats.system_cpu_usage": 4034440860000000,
          "read": "2022-11-08T19:36:22.942501295",
          "system_cpu_delta": 3820000000
         },
         {
          "cpu_delta": 129332000,
          "cpu_stats.cpu_usage.total_usage": 38306372000,
          "cpu_stats.online_cpus": 4,
          "cpu_stats.system_cpu_usage": 4034452370000000,
          "cpu_usage_perc": 13.578162729658793,
          "precpu_stats.cpu_usage.total_usage": 38177040000,
          "precpu_stats.system_cpu_usage": 4034448560000000,
          "read": "2022-11-08T19:36:24.977502288",
          "system_cpu_delta": 3810000000
         },
         {
          "cpu_delta": 125654000,
          "cpu_stats.cpu_usage.total_usage": 38565643000,
          "cpu_stats.online_cpus": 4,
          "cpu_stats.system_cpu_usage": 4034460070000000,
          "cpu_usage_perc": 13.157486910994765,
          "precpu_stats.cpu_usage.total_usage": 38439989000,
          "precpu_stats.system_cpu_usage": 4034456250000000,
          "read": "2022-11-08T19:36:27.005457159",
          "system_cpu_delta": 3820000000
         },
         {
          "cpu_delta": 124318000,
          "cpu_stats.cpu_usage.total_usage": 38814794000,
          "cpu_stats.online_cpus": 4,
          "cpu_stats.system_cpu_usage": 4034467750000000,
          "cpu_usage_perc": 13.051758530183728,
          "precpu_stats.cpu_usage.total_usage": 38690476000,
          "precpu_stats.system_cpu_usage": 4034463940000000,
          "read": "2022-11-08T19:36:29.026167804",
          "system_cpu_delta": 3810000000
         },
         {
          "cpu_delta": 132294000,
          "cpu_stats.cpu_usage.total_usage": 39072682000,
          "cpu_stats.online_cpus": 4,
          "cpu_stats.system_cpu_usage": 4034475570000000,
          "cpu_usage_perc": 13.53391304347826,
          "precpu_stats.cpu_usage.total_usage": 38940388000,
          "precpu_stats.system_cpu_usage": 4034471660000000,
          "read": "2022-11-08T19:36:31.082136531",
          "system_cpu_delta": 3910000000
         },
         {
          "cpu_delta": 125832000,
          "cpu_stats.cpu_usage.total_usage": 39327582000,
          "cpu_stats.online_cpus": 4,
          "cpu_stats.system_cpu_usage": 4034483480000000,
          "cpu_usage_perc": 12.872838874680307,
          "precpu_stats.cpu_usage.total_usage": 39201750000,
          "precpu_stats.system_cpu_usage": 4034479570000000,
          "read": "2022-11-08T19:36:33.162717871",
          "system_cpu_delta": 3910000000
         },
         {
          "cpu_delta": 130122000,
          "cpu_stats.cpu_usage.total_usage": 39588189000,
          "cpu_stats.online_cpus": 4,
          "cpu_stats.system_cpu_usage": 4034491190000000,
          "cpu_usage_perc": 13.625340314136125,
          "precpu_stats.cpu_usage.total_usage": 39458067000,
          "precpu_stats.system_cpu_usage": 4034487370000000,
          "read": "2022-11-08T19:36:35.188478808",
          "system_cpu_delta": 3820000000
         },
         {
          "cpu_delta": 125440000,
          "cpu_stats.cpu_usage.total_usage": 39839901000,
          "cpu_stats.online_cpus": 4,
          "cpu_stats.system_cpu_usage": 4034498920000000,
          "cpu_usage_perc": 12.965374677002583,
          "precpu_stats.cpu_usage.total_usage": 39714461000,
          "precpu_stats.system_cpu_usage": 4034495050000000,
          "read": "2022-11-08T19:36:37.214533242",
          "system_cpu_delta": 3870000000
         },
         {
          "cpu_delta": 123924000,
          "cpu_stats.cpu_usage.total_usage": 40088962000,
          "cpu_stats.online_cpus": 4,
          "cpu_stats.system_cpu_usage": 4034506660000000,
          "cpu_usage_perc": 12.841865284974094,
          "precpu_stats.cpu_usage.total_usage": 39965038000,
          "precpu_stats.system_cpu_usage": 4034502800000000,
          "read": "2022-11-08T19:36:39.241725247",
          "system_cpu_delta": 3860000000
         },
         {
          "cpu_delta": 124462000,
          "cpu_stats.cpu_usage.total_usage": 40340695000,
          "cpu_stats.online_cpus": 4,
          "cpu_stats.system_cpu_usage": 4034514340000000,
          "cpu_usage_perc": 12.931116883116884,
          "precpu_stats.cpu_usage.total_usage": 40216233000,
          "precpu_stats.system_cpu_usage": 4034510490000000,
          "read": "2022-11-08T19:36:41.270022448",
          "system_cpu_delta": 3850000000
         },
         {
          "cpu_delta": 124594000,
          "cpu_stats.cpu_usage.total_usage": 40603980000,
          "cpu_stats.online_cpus": 4,
          "cpu_stats.system_cpu_usage": 4034522170000000,
          "cpu_usage_perc": 12.585252525252525,
          "precpu_stats.cpu_usage.total_usage": 40479386000,
          "precpu_stats.system_cpu_usage": 4034518210000000,
          "read": "2022-11-08T19:36:43.328166224",
          "system_cpu_delta": 3960000000
         },
         {
          "cpu_delta": 130002000,
          "cpu_stats.cpu_usage.total_usage": 40866343000,
          "cpu_stats.online_cpus": 4,
          "cpu_stats.system_cpu_usage": 4034530100000000,
          "cpu_usage_perc": 12.903424317617866,
          "precpu_stats.cpu_usage.total_usage": 40736341000,
          "precpu_stats.system_cpu_usage": 4034526070000000,
          "read": "2022-11-08T19:36:45.435634201",
          "system_cpu_delta": 4030000000
         },
         {
          "cpu_delta": 133456000,
          "cpu_stats.cpu_usage.total_usage": 41124123000,
          "cpu_stats.online_cpus": 4,
          "cpu_stats.system_cpu_usage": 4034537760000000,
          "cpu_usage_perc": 13.829637305699482,
          "precpu_stats.cpu_usage.total_usage": 40990667000,
          "precpu_stats.system_cpu_usage": 4034533900000000,
          "read": "2022-11-08T19:36:47.463263831",
          "system_cpu_delta": 3860000000
         },
         {
          "cpu_delta": 125510000,
          "cpu_stats.cpu_usage.total_usage": 41377720000,
          "cpu_stats.online_cpus": 4,
          "cpu_stats.system_cpu_usage": 4034545410000000,
          "cpu_usage_perc": 12.939175257731957,
          "precpu_stats.cpu_usage.total_usage": 41252210000,
          "precpu_stats.system_cpu_usage": 4034541530000000,
          "read": "2022-11-08T19:36:49.478480448",
          "system_cpu_delta": 3880000000
         },
         {
          "cpu_delta": 124186000,
          "cpu_stats.cpu_usage.total_usage": 41627612000,
          "cpu_stats.online_cpus": 4,
          "cpu_stats.system_cpu_usage": 4034553040000000,
          "cpu_usage_perc": 13.003769633507853,
          "precpu_stats.cpu_usage.total_usage": 41503426000,
          "precpu_stats.system_cpu_usage": 4034549220000000,
          "read": "2022-11-08T19:36:51.496543998",
          "system_cpu_delta": 3820000000
         },
         {
          "cpu_delta": 120513000,
          "cpu_stats.cpu_usage.total_usage": 41877790000,
          "cpu_stats.online_cpus": 4,
          "cpu_stats.system_cpu_usage": 4034560720000000,
          "cpu_usage_perc": 12.52083116883117,
          "precpu_stats.cpu_usage.total_usage": 41757277000,
          "precpu_stats.system_cpu_usage": 4034556870000000,
          "read": "2022-11-08T19:36:53.538424274",
          "system_cpu_delta": 3850000000
         },
         {
          "cpu_delta": 137006000,
          "cpu_stats.cpu_usage.total_usage": 42139445000,
          "cpu_stats.online_cpus": 4,
          "cpu_stats.system_cpu_usage": 4034568520000000,
          "cpu_usage_perc": 13.909238578680203,
          "precpu_stats.cpu_usage.total_usage": 42002439000,
          "precpu_stats.system_cpu_usage": 4034564580000000,
          "read": "2022-11-08T19:36:55.592843805",
          "system_cpu_delta": 3940000000
         },
         {
          "cpu_delta": 125752000,
          "cpu_stats.cpu_usage.total_usage": 42401530000,
          "cpu_stats.online_cpus": 4,
          "cpu_stats.system_cpu_usage": 4034576390000000,
          "cpu_usage_perc": 13.099166666666667,
          "precpu_stats.cpu_usage.total_usage": 42275778000,
          "precpu_stats.system_cpu_usage": 4034572550000000,
          "read": "2022-11-08T19:36:57.680960333",
          "system_cpu_delta": 3840000000
         },
         {
          "cpu_delta": 124886000,
          "cpu_stats.cpu_usage.total_usage": 42652335000,
          "cpu_stats.online_cpus": 4,
          "cpu_stats.system_cpu_usage": 4034584100000000,
          "cpu_usage_perc": 12.841748071979433,
          "precpu_stats.cpu_usage.total_usage": 42527449000,
          "precpu_stats.system_cpu_usage": 4034580210000000,
          "read": "2022-11-08T19:36:59.706861763",
          "system_cpu_delta": 3890000000
         },
         {
          "cpu_delta": 125165000,
          "cpu_stats.cpu_usage.total_usage": 42902913000,
          "cpu_stats.online_cpus": 4,
          "cpu_stats.system_cpu_usage": 4034591750000000,
          "cpu_usage_perc": 13.140682414698162,
          "precpu_stats.cpu_usage.total_usage": 42777748000,
          "precpu_stats.system_cpu_usage": 4034587940000000,
          "read": "2022-11-08T19:37:01.723475587",
          "system_cpu_delta": 3810000000
         },
         {
          "cpu_delta": 130370000,
          "cpu_stats.cpu_usage.total_usage": 43157247000,
          "cpu_stats.online_cpus": 4,
          "cpu_stats.system_cpu_usage": 4034599430000000,
          "cpu_usage_perc": 13.580208333333331,
          "precpu_stats.cpu_usage.total_usage": 43026877000,
          "precpu_stats.system_cpu_usage": 4034595590000000,
          "read": "2022-11-08T19:37:03.758900956",
          "system_cpu_delta": 3840000000
         },
         {
          "cpu_delta": 126097000,
          "cpu_stats.cpu_usage.total_usage": 43415662000,
          "cpu_stats.online_cpus": 4,
          "cpu_stats.system_cpu_usage": 4034607090000000,
          "cpu_usage_perc": 13.238530183727034,
          "precpu_stats.cpu_usage.total_usage": 43289565000,
          "precpu_stats.system_cpu_usage": 4034603280000000,
          "read": "2022-11-08T19:37:05.788329108",
          "system_cpu_delta": 3810000000
         },
         {
          "cpu_delta": 125794000,
          "cpu_stats.cpu_usage.total_usage": 43665792000,
          "cpu_stats.online_cpus": 4,
          "cpu_stats.system_cpu_usage": 4034614870000000,
          "cpu_usage_perc": 12.90194871794872,
          "precpu_stats.cpu_usage.total_usage": 43539998000,
          "precpu_stats.system_cpu_usage": 4034610970000000,
          "read": "2022-11-08T19:37:07.847821677",
          "system_cpu_delta": 3900000000
         },
         {
          "cpu_delta": 125891000,
          "cpu_stats.cpu_usage.total_usage": 43928646000,
          "cpu_stats.online_cpus": 4,
          "cpu_stats.system_cpu_usage": 4034622780000000,
          "cpu_usage_perc": 13.011989664082687,
          "precpu_stats.cpu_usage.total_usage": 43802755000,
          "precpu_stats.system_cpu_usage": 4034618910000000,
          "read": "2022-11-08T19:37:09.939499726",
          "system_cpu_delta": 3870000000
         },
         {
          "cpu_delta": 135796000,
          "cpu_stats.cpu_usage.total_usage": 44190753000,
          "cpu_stats.online_cpus": 4,
          "cpu_stats.system_cpu_usage": 4034630540000000,
          "cpu_usage_perc": 13.963598971722366,
          "precpu_stats.cpu_usage.total_usage": 44054957000,
          "precpu_stats.system_cpu_usage": 4034626650000000,
          "read": "2022-11-08T19:37:11.968624038",
          "system_cpu_delta": 3890000000
         },
         {
          "cpu_delta": 125288000,
          "cpu_stats.cpu_usage.total_usage": 44440676000,
          "cpu_stats.online_cpus": 4,
          "cpu_stats.system_cpu_usage": 4034638180000000,
          "cpu_usage_perc": 13.153595800524934,
          "precpu_stats.cpu_usage.total_usage": 44315388000,
          "precpu_stats.system_cpu_usage": 4034634370000000,
          "read": "2022-11-08T19:37:13.972293786",
          "system_cpu_delta": 3810000000
         },
         {
          "cpu_delta": 123975000,
          "cpu_stats.cpu_usage.total_usage": 44690115000,
          "cpu_stats.online_cpus": 4,
          "cpu_stats.system_cpu_usage": 4034645870000000,
          "cpu_usage_perc": 12.947780678851176,
          "precpu_stats.cpu_usage.total_usage": 44566140000,
          "precpu_stats.system_cpu_usage": 4034642040000000,
          "read": "2022-11-08T19:37:16.000467471",
          "system_cpu_delta": 3830000000
         },
         {
          "cpu_delta": 137245000,
          "cpu_stats.cpu_usage.total_usage": 44952930000,
          "cpu_stats.online_cpus": 4,
          "cpu_stats.system_cpu_usage": 4034653700000000,
          "cpu_usage_perc": 13.898227848101266,
          "precpu_stats.cpu_usage.total_usage": 44815685000,
          "precpu_stats.system_cpu_usage": 4034649750000000,
          "read": "2022-11-08T19:37:18.072188232",
          "system_cpu_delta": 3950000000
         },
         {
          "cpu_delta": 136909000,
          "cpu_stats.cpu_usage.total_usage": 45214529000,
          "cpu_stats.online_cpus": 4,
          "cpu_stats.system_cpu_usage": 4034661610000000,
          "cpu_usage_perc": 13.725213032581454,
          "precpu_stats.cpu_usage.total_usage": 45077620000,
          "precpu_stats.system_cpu_usage": 4034657620000000,
          "read": "2022-11-08T19:37:20.148636964",
          "system_cpu_delta": 3990000000
         },
         {
          "cpu_delta": 126069000,
          "cpu_stats.cpu_usage.total_usage": 45465526000,
          "cpu_stats.online_cpus": 4,
          "cpu_stats.system_cpu_usage": 4034669280000000,
          "cpu_usage_perc": 13.166475195822455,
          "precpu_stats.cpu_usage.total_usage": 45339457000,
          "precpu_stats.system_cpu_usage": 4034665450000000,
          "read": "2022-11-08T19:37:22.175965591",
          "system_cpu_delta": 3830000000
         },
         {
          "cpu_delta": 125424000,
          "cpu_stats.cpu_usage.total_usage": 45716044000,
          "cpu_stats.online_cpus": 4,
          "cpu_stats.system_cpu_usage": 4034676930000000,
          "cpu_usage_perc": 13.09911227154047,
          "precpu_stats.cpu_usage.total_usage": 45590620000,
          "precpu_stats.system_cpu_usage": 4034673100000000,
          "read": "2022-11-08T19:37:24.194085191",
          "system_cpu_delta": 3830000000
         },
         {
          "cpu_delta": 126040000,
          "cpu_stats.cpu_usage.total_usage": 45965180000,
          "cpu_stats.online_cpus": 4,
          "cpu_stats.system_cpu_usage": 4034684670000000,
          "cpu_usage_perc": 13.061139896373057,
          "precpu_stats.cpu_usage.total_usage": 45839140000,
          "precpu_stats.system_cpu_usage": 4034680810000000,
          "read": "2022-11-08T19:37:26.222677758",
          "system_cpu_delta": 3860000000
         },
         {
          "cpu_delta": 123519000,
          "cpu_stats.cpu_usage.total_usage": 46227294000,
          "cpu_stats.online_cpus": 4,
          "cpu_stats.system_cpu_usage": 4034692370000000,
          "cpu_usage_perc": 12.8665625,
          "precpu_stats.cpu_usage.total_usage": 46103775000,
          "precpu_stats.system_cpu_usage": 4034688530000000,
          "read": "2022-11-08T19:37:28.258674032",
          "system_cpu_delta": 3840000000
         },
         {
          "cpu_delta": 125427000,
          "cpu_stats.cpu_usage.total_usage": 46477479000,
          "cpu_stats.online_cpus": 4,
          "cpu_stats.system_cpu_usage": 4034700210000000,
          "cpu_usage_perc": 12.766106870229008,
          "precpu_stats.cpu_usage.total_usage": 46352052000,
          "precpu_stats.system_cpu_usage": 4034696280000000,
          "read": "2022-11-08T19:37:30.326554533",
          "system_cpu_delta": 3930000000
         },
         {
          "cpu_delta": 124969000,
          "cpu_stats.cpu_usage.total_usage": 46739980000,
          "cpu_stats.online_cpus": 4,
          "cpu_stats.system_cpu_usage": 4034708040000000,
          "cpu_usage_perc": 12.950155440414507,
          "precpu_stats.cpu_usage.total_usage": 46615011000,
          "precpu_stats.system_cpu_usage": 4034704180000000,
          "read": "2022-11-08T19:37:32.392790631",
          "system_cpu_delta": 3860000000
         },
         {
          "cpu_delta": 124310000,
          "cpu_stats.cpu_usage.total_usage": 46989560000,
          "cpu_stats.online_cpus": 4,
          "cpu_stats.system_cpu_usage": 4034715680000000,
          "cpu_usage_perc": 12.915324675324674,
          "precpu_stats.cpu_usage.total_usage": 46865250000,
          "precpu_stats.system_cpu_usage": 4034711830000000,
          "read": "2022-11-08T19:37:34.413630274",
          "system_cpu_delta": 3850000000
         },
         {
          "cpu_delta": 135820000,
          "cpu_stats.cpu_usage.total_usage": 47252510000,
          "cpu_stats.online_cpus": 4,
          "cpu_stats.system_cpu_usage": 4034723360000000,
          "cpu_usage_perc": 14.259317585301837,
          "precpu_stats.cpu_usage.total_usage": 47116690000,
          "precpu_stats.system_cpu_usage": 4034719550000000,
          "read": "2022-11-08T19:37:36.449595044",
          "system_cpu_delta": 3810000000
         },
         {
          "cpu_delta": 126485000,
          "cpu_stats.cpu_usage.total_usage": 47503738000,
          "cpu_stats.online_cpus": 4,
          "cpu_stats.system_cpu_usage": 4034731030000000,
          "cpu_usage_perc": 13.039690721649485,
          "precpu_stats.cpu_usage.total_usage": 47377253000,
          "precpu_stats.system_cpu_usage": 4034727150000000,
          "read": "2022-11-08T19:37:38.471215322",
          "system_cpu_delta": 3880000000
         },
         {
          "cpu_delta": 124859000,
          "cpu_stats.cpu_usage.total_usage": 47752222000,
          "cpu_stats.online_cpus": 4,
          "cpu_stats.system_cpu_usage": 4034738690000000,
          "cpu_usage_perc": 13.040104438642297,
          "precpu_stats.cpu_usage.total_usage": 47627363000,
          "precpu_stats.system_cpu_usage": 4034734860000000,
          "read": "2022-11-08T19:37:40.498005373",
          "system_cpu_delta": 3830000000
         },
         {
          "cpu_delta": 124858000,
          "cpu_stats.cpu_usage.total_usage": 48014458000,
          "cpu_stats.online_cpus": 4,
          "cpu_stats.system_cpu_usage": 4034746740000000,
          "cpu_usage_perc": 12.61191919191919,
          "precpu_stats.cpu_usage.total_usage": 47889600000,
          "precpu_stats.system_cpu_usage": 4034742780000000,
          "read": "2022-11-08T19:37:42.621255290",
          "system_cpu_delta": 3960000000
         },
         {
          "cpu_delta": 134720000,
          "cpu_stats.cpu_usage.total_usage": 48277187000,
          "cpu_stats.online_cpus": 4,
          "cpu_stats.system_cpu_usage": 4034754470000000,
          "cpu_usage_perc": 13.924547803617571,
          "precpu_stats.cpu_usage.total_usage": 48142467000,
          "precpu_stats.system_cpu_usage": 4034750600000000,
          "read": "2022-11-08T19:37:44.627274033",
          "system_cpu_delta": 3870000000
         },
         {
          "cpu_delta": 126404000,
          "cpu_stats.cpu_usage.total_usage": 48528624000,
          "cpu_stats.online_cpus": 4,
          "cpu_stats.system_cpu_usage": 4034762080000000,
          "cpu_usage_perc": 13.236020942408377,
          "precpu_stats.cpu_usage.total_usage": 48402220000,
          "precpu_stats.system_cpu_usage": 4034758260000000,
          "read": "2022-11-08T19:37:46.641753653",
          "system_cpu_delta": 3820000000
         },
         {
          "cpu_delta": 123063000,
          "cpu_stats.cpu_usage.total_usage": 48777325000,
          "cpu_stats.online_cpus": 4,
          "cpu_stats.system_cpu_usage": 4034769730000000,
          "cpu_usage_perc": 12.988179419525068,
          "precpu_stats.cpu_usage.total_usage": 48654262000,
          "precpu_stats.system_cpu_usage": 4034765940000000,
          "read": "2022-11-08T19:37:48.669407920",
          "system_cpu_delta": 3790000000
         },
         {
          "cpu_delta": 129355000,
          "cpu_stats.cpu_usage.total_usage": 49030822000,
          "cpu_stats.online_cpus": 4,
          "cpu_stats.system_cpu_usage": 4034777500000000,
          "cpu_usage_perc": 13.3012853470437,
          "precpu_stats.cpu_usage.total_usage": 48901467000,
          "precpu_stats.system_cpu_usage": 4034773610000000,
          "read": "2022-11-08T19:37:50.711720072",
          "system_cpu_delta": 3890000000
         },
         {
          "cpu_delta": 138853000,
          "cpu_stats.cpu_usage.total_usage": 49303330000,
          "cpu_stats.online_cpus": 4,
          "cpu_stats.system_cpu_usage": 4034785530000000,
          "cpu_usage_perc": 13.383421686746988,
          "precpu_stats.cpu_usage.total_usage": 49164477000,
          "precpu_stats.system_cpu_usage": 4034781380000000,
          "read": "2022-11-08T19:37:52.838308125",
          "system_cpu_delta": 4150000000
         },
         {
          "cpu_delta": 124093000,
          "cpu_stats.cpu_usage.total_usage": 49552706000,
          "cpu_stats.online_cpus": 4,
          "cpu_stats.system_cpu_usage": 4034793170000000,
          "cpu_usage_perc": 12.960104438642297,
          "precpu_stats.cpu_usage.total_usage": 49428613000,
          "precpu_stats.system_cpu_usage": 4034789340000000,
          "read": "2022-11-08T19:37:54.856941776",
          "system_cpu_delta": 3830000000
         },
         {
          "cpu_delta": 124820000,
          "cpu_stats.cpu_usage.total_usage": 49802483000,
          "cpu_stats.online_cpus": 4,
          "cpu_stats.system_cpu_usage": 4034800800000000,
          "cpu_usage_perc": 13.243501326259945,
          "precpu_stats.cpu_usage.total_usage": 49677663000,
          "precpu_stats.system_cpu_usage": 4034797030000000,
          "read": "2022-11-08T19:37:56.884872873",
          "system_cpu_delta": 3770000000
         },
         {
          "cpu_delta": 130160000,
          "cpu_stats.cpu_usage.total_usage": 50057863000,
          "cpu_stats.online_cpus": 4,
          "cpu_stats.system_cpu_usage": 4034808600000000,
          "cpu_usage_perc": 13.34974358974359,
          "precpu_stats.cpu_usage.total_usage": 49927703000,
          "precpu_stats.system_cpu_usage": 4034804700000000,
          "read": "2022-11-08T19:37:58.916631475",
          "system_cpu_delta": 3900000000
         },
         {
          "cpu_delta": 124247000,
          "cpu_stats.cpu_usage.total_usage": 50314734000,
          "cpu_stats.online_cpus": 4,
          "cpu_stats.system_cpu_usage": 4034816320000000,
          "cpu_usage_perc": 12.942395833333334,
          "precpu_stats.cpu_usage.total_usage": 50190487000,
          "precpu_stats.system_cpu_usage": 4034812480000000,
          "read": "2022-11-08T19:38:00.944266210",
          "system_cpu_delta": 3840000000
         },
         {
          "cpu_delta": 126039000,
          "cpu_stats.cpu_usage.total_usage": 50565923000,
          "cpu_stats.online_cpus": 4,
          "cpu_stats.system_cpu_usage": 4034824010000000,
          "cpu_usage_perc": 13.027286821705427,
          "precpu_stats.cpu_usage.total_usage": 50439884000,
          "precpu_stats.system_cpu_usage": 4034820140000000,
          "read": "2022-11-08T19:38:02.995559662",
          "system_cpu_delta": 3870000000
         },
         {
          "cpu_delta": 126334000,
          "cpu_stats.cpu_usage.total_usage": 50827709000,
          "cpu_stats.online_cpus": 4,
          "cpu_stats.system_cpu_usage": 4034831960000000,
          "cpu_usage_perc": 12.539354838709677,
          "precpu_stats.cpu_usage.total_usage": 50701375000,
          "precpu_stats.system_cpu_usage": 4034827930000000,
          "read": "2022-11-08T19:38:05.091616187",
          "system_cpu_delta": 4030000000
         },
         {
          "cpu_delta": 128334000,
          "cpu_stats.cpu_usage.total_usage": 51083674000,
          "cpu_stats.online_cpus": 4,
          "cpu_stats.system_cpu_usage": 4034839640000000,
          "cpu_usage_perc": 13.544485488126648,
          "precpu_stats.cpu_usage.total_usage": 50955340000,
          "precpu_stats.system_cpu_usage": 4034835850000000,
          "read": "2022-11-08T19:38:07.118281326",
          "system_cpu_delta": 3790000000
         },
         {
          "cpu_delta": 124490000,
          "cpu_stats.cpu_usage.total_usage": 51339926000,
          "cpu_stats.online_cpus": 4,
          "cpu_stats.system_cpu_usage": 4034847350000000,
          "cpu_usage_perc": 12.967708333333333,
          "precpu_stats.cpu_usage.total_usage": 51215436000,
          "precpu_stats.system_cpu_usage": 4034843510000000,
          "read": "2022-11-08T19:38:09.145620861",
          "system_cpu_delta": 3840000000
         },
         {
          "cpu_delta": 126684000,
          "cpu_stats.cpu_usage.total_usage": 51591414000,
          "cpu_stats.online_cpus": 4,
          "cpu_stats.system_cpu_usage": 4034855010000000,
          "cpu_usage_perc": 13.300157480314962,
          "precpu_stats.cpu_usage.total_usage": 51464730000,
          "precpu_stats.system_cpu_usage": 4034851200000000,
          "read": "2022-11-08T19:38:11.158332540",
          "system_cpu_delta": 3810000000
         },
         {
          "cpu_delta": 125169000,
          "cpu_stats.cpu_usage.total_usage": 51840417000,
          "cpu_stats.online_cpus": 4,
          "cpu_stats.system_cpu_usage": 4034862620000000,
          "cpu_usage_perc": 13.141102362204723,
          "precpu_stats.cpu_usage.total_usage": 51715248000,
          "precpu_stats.system_cpu_usage": 4034858810000000,
          "read": "2022-11-08T19:38:13.157326077",
          "system_cpu_delta": 3810000000
         },
         {
          "cpu_delta": 136836000,
          "cpu_stats.cpu_usage.total_usage": 52102322000,
          "cpu_stats.online_cpus": 4,
          "cpu_stats.system_cpu_usage": 4034870340000000,
          "cpu_usage_perc": 14.14325581395349,
          "precpu_stats.cpu_usage.total_usage": 51965486000,
          "precpu_stats.system_cpu_usage": 4034866470000000,
          "read": "2022-11-08T19:38:15.204137919",
          "system_cpu_delta": 3870000000
         },
         {
          "cpu_delta": 137598000,
          "cpu_stats.cpu_usage.total_usage": 52364661000,
          "cpu_stats.online_cpus": 4,
          "cpu_stats.system_cpu_usage": 4034878220000000,
          "cpu_usage_perc": 13.969340101522842,
          "precpu_stats.cpu_usage.total_usage": 52227063000,
          "precpu_stats.system_cpu_usage": 4034874280000000,
          "read": "2022-11-08T19:38:17.305875676",
          "system_cpu_delta": 3940000000
         },
         {
          "cpu_delta": 126428000,
          "cpu_stats.cpu_usage.total_usage": 52616144000,
          "cpu_stats.online_cpus": 4,
          "cpu_stats.system_cpu_usage": 4034885930000000,
          "cpu_usage_perc": 13.101347150259068,
          "precpu_stats.cpu_usage.total_usage": 52489716000,
          "precpu_stats.system_cpu_usage": 4034882070000000,
          "read": "2022-11-08T19:38:19.332570295",
          "system_cpu_delta": 3860000000
         },
         {
          "cpu_delta": 125271000,
          "cpu_stats.cpu_usage.total_usage": 52865351000,
          "cpu_stats.online_cpus": 4,
          "cpu_stats.system_cpu_usage": 4034893660000000,
          "cpu_usage_perc": 12.947906976744186,
          "precpu_stats.cpu_usage.total_usage": 52740080000,
          "precpu_stats.system_cpu_usage": 4034889790000000,
          "read": "2022-11-08T19:38:21.364922422",
          "system_cpu_delta": 3870000000
         },
         {
          "cpu_delta": 130278000,
          "cpu_stats.cpu_usage.total_usage": 53125012000,
          "cpu_stats.online_cpus": 4,
          "cpu_stats.system_cpu_usage": 4034901370000000,
          "cpu_usage_perc": 13.606057441253263,
          "precpu_stats.cpu_usage.total_usage": 52994734000,
          "precpu_stats.system_cpu_usage": 4034897540000000,
          "read": "2022-11-08T19:38:23.400232862",
          "system_cpu_delta": 3830000000
         },
         {
          "cpu_delta": 124278000,
          "cpu_stats.cpu_usage.total_usage": 53377622000,
          "cpu_stats.online_cpus": 4,
          "cpu_stats.system_cpu_usage": 4034909060000000,
          "cpu_usage_perc": 12.912,
          "precpu_stats.cpu_usage.total_usage": 53253344000,
          "precpu_stats.system_cpu_usage": 4034905210000000,
          "read": "2022-11-08T19:38:25.429815360",
          "system_cpu_delta": 3850000000
         },
         {
          "cpu_delta": 136360000,
          "cpu_stats.cpu_usage.total_usage": 53640022000,
          "cpu_stats.online_cpus": 4,
          "cpu_stats.system_cpu_usage": 4034916910000000,
          "cpu_usage_perc": 13.467654320987654,
          "precpu_stats.cpu_usage.total_usage": 53503662000,
          "precpu_stats.system_cpu_usage": 4034912860000000,
          "read": "2022-11-08T19:38:27.519433154",
          "system_cpu_delta": 4050000000
         },
         {
          "cpu_delta": 124949000,
          "cpu_stats.cpu_usage.total_usage": 53889550000,
          "cpu_stats.online_cpus": 4,
          "cpu_stats.system_cpu_usage": 4034924750000000,
          "cpu_usage_perc": 12.948082901554404,
          "precpu_stats.cpu_usage.total_usage": 53764601000,
          "precpu_stats.system_cpu_usage": 4034920890000000,
          "read": "2022-11-08T19:38:29.583643826",
          "system_cpu_delta": 3860000000
         },
         {
          "cpu_delta": 133483000,
          "cpu_stats.cpu_usage.total_usage": 54152413000,
          "cpu_stats.online_cpus": 4,
          "cpu_stats.system_cpu_usage": 4034932420000000,
          "cpu_usage_perc": 13.904479166666667,
          "precpu_stats.cpu_usage.total_usage": 54018930000,
          "precpu_stats.system_cpu_usage": 4034928580000000,
          "read": "2022-11-08T19:38:31.615473203",
          "system_cpu_delta": 3840000000
         },
         {
          "cpu_delta": 124908000,
          "cpu_stats.cpu_usage.total_usage": 54402702000,
          "cpu_stats.online_cpus": 4,
          "cpu_stats.system_cpu_usage": 4034940000000000,
          "cpu_usage_perc": 13.14821052631579,
          "precpu_stats.cpu_usage.total_usage": 54277794000,
          "precpu_stats.system_cpu_usage": 4034936200000000,
          "read": "2022-11-08T19:38:33.630373516",
          "system_cpu_delta": 3800000000
         },
         {
          "cpu_delta": 123947000,
          "cpu_stats.cpu_usage.total_usage": 54651706000,
          "cpu_stats.online_cpus": 4,
          "cpu_stats.system_cpu_usage": 4034947730000000,
          "cpu_usage_perc": 12.81105943152455,
          "precpu_stats.cpu_usage.total_usage": 54527759000,
          "precpu_stats.system_cpu_usage": 4034943860000000,
          "read": "2022-11-08T19:38:35.674858653",
          "system_cpu_delta": 3870000000
         },
         {
          "cpu_delta": 138087000,
          "cpu_stats.cpu_usage.total_usage": 54915080000,
          "cpu_stats.online_cpus": 4,
          "cpu_stats.system_cpu_usage": 4034955440000000,
          "cpu_usage_perc": 14.126547314578005,
          "precpu_stats.cpu_usage.total_usage": 54776993000,
          "precpu_stats.system_cpu_usage": 4034951530000000,
          "read": "2022-11-08T19:38:37.725020241",
          "system_cpu_delta": 3910000000
         },
         {
          "cpu_delta": 136495000,
          "cpu_stats.cpu_usage.total_usage": 55177096000,
          "cpu_stats.online_cpus": 4,
          "cpu_stats.system_cpu_usage": 4034963350000000,
          "cpu_usage_perc": 13.892620865139948,
          "precpu_stats.cpu_usage.total_usage": 55040601000,
          "precpu_stats.system_cpu_usage": 4034959420000000,
          "read": "2022-11-08T19:38:39.813101436",
          "system_cpu_delta": 3930000000
         },
         {
          "cpu_delta": 126209000,
          "cpu_stats.cpu_usage.total_usage": 55428604000,
          "cpu_stats.online_cpus": 4,
          "cpu_stats.system_cpu_usage": 4034971020000000,
          "cpu_usage_perc": 13.181096605744125,
          "precpu_stats.cpu_usage.total_usage": 55302395000,
          "precpu_stats.system_cpu_usage": 4034967190000000,
          "read": "2022-11-08T19:38:41.830679270",
          "system_cpu_delta": 3830000000
         },
         {
          "cpu_delta": 125364000,
          "cpu_stats.cpu_usage.total_usage": 55678227000,
          "cpu_stats.online_cpus": 4,
          "cpu_stats.system_cpu_usage": 4034978680000000,
          "cpu_usage_perc": 13.196210526315792,
          "precpu_stats.cpu_usage.total_usage": 55552863000,
          "precpu_stats.system_cpu_usage": 4034974880000000,
          "read": "2022-11-08T19:38:43.839184352",
          "system_cpu_delta": 3800000000
         },
         {
          "cpu_delta": 132427000,
          "cpu_stats.cpu_usage.total_usage": 55935086000,
          "cpu_stats.online_cpus": 4,
          "cpu_stats.system_cpu_usage": 4034986430000000,
          "cpu_usage_perc": 13.687545219638242,
          "precpu_stats.cpu_usage.total_usage": 55802659000,
          "precpu_stats.system_cpu_usage": 4034982560000000,
          "read": "2022-11-08T19:38:45.877895924",
          "system_cpu_delta": 3870000000
         },
         {
          "cpu_delta": 125189000,
          "cpu_stats.cpu_usage.total_usage": 56190287000,
          "cpu_stats.online_cpus": 4,
          "cpu_stats.system_cpu_usage": 4034994180000000,
          "cpu_usage_perc": 12.872904884318768,
          "precpu_stats.cpu_usage.total_usage": 56065098000,
          "precpu_stats.system_cpu_usage": 4034990290000000,
          "read": "2022-11-08T19:38:47.909944103",
          "system_cpu_delta": 3890000000
         },
         {
          "cpu_delta": 123407000,
          "cpu_stats.cpu_usage.total_usage": 56439882000,
          "cpu_stats.online_cpus": 4,
          "cpu_stats.system_cpu_usage": 4035001940000000,
          "cpu_usage_perc": 12.402713567839196,
          "precpu_stats.cpu_usage.total_usage": 56316475000,
          "precpu_stats.system_cpu_usage": 4034997960000000,
          "read": "2022-11-08T19:38:49.964416777",
          "system_cpu_delta": 3980000000
         },
         {
          "cpu_delta": 125337000,
          "cpu_stats.cpu_usage.total_usage": 56703031000,
          "cpu_stats.online_cpus": 4,
          "cpu_stats.system_cpu_usage": 4035009870000000,
          "cpu_usage_perc": 12.888123393316194,
          "precpu_stats.cpu_usage.total_usage": 56577694000,
          "precpu_stats.system_cpu_usage": 4035005980000000,
          "read": "2022-11-08T19:38:52.051360493",
          "system_cpu_delta": 3890000000
         },
         {
          "cpu_delta": 132403000,
          "cpu_stats.cpu_usage.total_usage": 56959972000,
          "cpu_stats.online_cpus": 4,
          "cpu_stats.system_cpu_usage": 4035017540000000,
          "cpu_usage_perc": 13.720518134715027,
          "precpu_stats.cpu_usage.total_usage": 56827569000,
          "precpu_stats.system_cpu_usage": 4035013680000000,
          "read": "2022-11-08T19:38:54.079593174",
          "system_cpu_delta": 3860000000
         },
         {
          "cpu_delta": 125565000,
          "cpu_stats.cpu_usage.total_usage": 57216159000,
          "cpu_stats.online_cpus": 4,
          "cpu_stats.system_cpu_usage": 4035025210000000,
          "cpu_usage_perc": 13.0796875,
          "precpu_stats.cpu_usage.total_usage": 57090594000,
          "precpu_stats.system_cpu_usage": 4035021370000000,
          "read": "2022-11-08T19:38:56.099688825",
          "system_cpu_delta": 3840000000
         },
         {
          "cpu_delta": 124417000,
          "cpu_stats.cpu_usage.total_usage": 57466564000,
          "cpu_stats.online_cpus": 4,
          "cpu_stats.system_cpu_usage": 4035032880000000,
          "cpu_usage_perc": 12.826494845360825,
          "precpu_stats.cpu_usage.total_usage": 57342147000,
          "precpu_stats.system_cpu_usage": 4035029000000000,
          "read": "2022-11-08T19:38:58.130830679",
          "system_cpu_delta": 3880000000
         },
         {
          "cpu_delta": 137152000,
          "cpu_stats.cpu_usage.total_usage": 57727980000,
          "cpu_stats.online_cpus": 4,
          "cpu_stats.system_cpu_usage": 4035040640000000,
          "cpu_usage_perc": 13.995102040816326,
          "precpu_stats.cpu_usage.total_usage": 57590828000,
          "precpu_stats.system_cpu_usage": 4035036720000000,
          "read": "2022-11-08T19:39:00.190910704",
          "system_cpu_delta": 3920000000
         },
         {
          "cpu_delta": 136849000,
          "cpu_stats.cpu_usage.total_usage": 57991164000,
          "cpu_stats.online_cpus": 4,
          "cpu_stats.system_cpu_usage": 4035048550000000,
          "cpu_usage_perc": 13.858126582278482,
          "precpu_stats.cpu_usage.total_usage": 57854315000,
          "precpu_stats.system_cpu_usage": 4035044600000000,
          "read": "2022-11-08T19:39:02.290123984",
          "system_cpu_delta": 3950000000
         },
         {
          "cpu_delta": 124779000,
          "cpu_stats.cpu_usage.total_usage": 58239390000,
          "cpu_stats.online_cpus": 4,
          "cpu_stats.system_cpu_usage": 4035056250000000,
          "cpu_usage_perc": 12.930466321243522,
          "precpu_stats.cpu_usage.total_usage": 58114611000,
          "precpu_stats.system_cpu_usage": 4035052390000000,
          "read": "2022-11-08T19:39:04.321622479",
          "system_cpu_delta": 3860000000
         },
         {
          "cpu_delta": 125112000,
          "cpu_stats.cpu_usage.total_usage": 58489589000,
          "cpu_stats.online_cpus": 4,
          "cpu_stats.system_cpu_usage": 4035063960000000,
          "cpu_usage_perc": 12.964974093264248,
          "precpu_stats.cpu_usage.total_usage": 58364477000,
          "precpu_stats.system_cpu_usage": 4035060100000000,
          "read": "2022-11-08T19:39:06.339831784",
          "system_cpu_delta": 3860000000
         },
         {
          "cpu_delta": 129631000,
          "cpu_stats.cpu_usage.total_usage": 58745037000,
          "cpu_stats.online_cpus": 4,
          "cpu_stats.system_cpu_usage": 4035071700000000,
          "cpu_usage_perc": 13.433264248704663,
          "precpu_stats.cpu_usage.total_usage": 58615406000,
          "precpu_stats.system_cpu_usage": 4035067840000000,
          "read": "2022-11-08T19:39:08.370435480",
          "system_cpu_delta": 3860000000
         },
         {
          "cpu_delta": 125914000,
          "cpu_stats.cpu_usage.total_usage": 59003699000,
          "cpu_stats.online_cpus": 4,
          "cpu_stats.system_cpu_usage": 4035079320000000,
          "cpu_usage_perc": 13.324232804232805,
          "precpu_stats.cpu_usage.total_usage": 58877785000,
          "precpu_stats.system_cpu_usage": 4035075540000000,
          "read": "2022-11-08T19:39:10.392863524",
          "system_cpu_delta": 3780000000
         },
         {
          "cpu_delta": 125297000,
          "cpu_stats.cpu_usage.total_usage": 59253319000,
          "cpu_stats.online_cpus": 4,
          "cpu_stats.system_cpu_usage": 4035087090000000,
          "cpu_usage_perc": 12.752875318066156,
          "precpu_stats.cpu_usage.total_usage": 59128022000,
          "precpu_stats.system_cpu_usage": 4035083160000000,
          "read": "2022-11-08T19:39:12.445846858",
          "system_cpu_delta": 3930000000
         },
         {
          "cpu_delta": 124018000,
          "cpu_stats.cpu_usage.total_usage": 59514673000,
          "cpu_stats.online_cpus": 4,
          "cpu_stats.system_cpu_usage": 4035095000000000,
          "cpu_usage_perc": 12.85160621761658,
          "precpu_stats.cpu_usage.total_usage": 59390655000,
          "precpu_stats.system_cpu_usage": 4035091140000000,
          "read": "2022-11-08T19:39:14.514945790",
          "system_cpu_delta": 3860000000
         },
         {
          "cpu_delta": 125412000,
          "cpu_stats.cpu_usage.total_usage": 59765692000,
          "cpu_stats.online_cpus": 4,
          "cpu_stats.system_cpu_usage": 4035102650000000,
          "cpu_usage_perc": 13.097859007832898,
          "precpu_stats.cpu_usage.total_usage": 59640280000,
          "precpu_stats.system_cpu_usage": 4035098820000000,
          "read": "2022-11-08T19:39:16.543421176",
          "system_cpu_delta": 3830000000
         },
         {
          "cpu_delta": 127545000,
          "cpu_stats.cpu_usage.total_usage": 60029230000,
          "cpu_stats.online_cpus": 4,
          "cpu_stats.system_cpu_usage": 4035110350000000,
          "cpu_usage_perc": 13.320626631853786,
          "precpu_stats.cpu_usage.total_usage": 59901685000,
          "precpu_stats.system_cpu_usage": 4035106520000000,
          "read": "2022-11-08T19:39:18.573192370",
          "system_cpu_delta": 3830000000
         },
         {
          "cpu_delta": 124709000,
          "cpu_stats.cpu_usage.total_usage": 60278777000,
          "cpu_stats.online_cpus": 4,
          "cpu_stats.system_cpu_usage": 4035118060000000,
          "cpu_usage_perc": 13.02443864229765,
          "precpu_stats.cpu_usage.total_usage": 60154068000,
          "precpu_stats.system_cpu_usage": 4035114230000000,
          "read": "2022-11-08T19:39:20.609142612",
          "system_cpu_delta": 3830000000
         },
         {
          "cpu_delta": 131826000,
          "cpu_stats.cpu_usage.total_usage": 60534895000,
          "cpu_stats.online_cpus": 4,
          "cpu_stats.system_cpu_usage": 4035125800000000,
          "cpu_usage_perc": 13.555372750642675,
          "precpu_stats.cpu_usage.total_usage": 60403069000,
          "precpu_stats.system_cpu_usage": 4035121910000000,
          "read": "2022-11-08T19:39:22.656440383",
          "system_cpu_delta": 3890000000
         },
         {
          "cpu_delta": 124598000,
          "cpu_stats.cpu_usage.total_usage": 60790163000,
          "cpu_stats.online_cpus": 4,
          "cpu_stats.system_cpu_usage": 4035133560000000,
          "cpu_usage_perc": 12.746598465473147,
          "precpu_stats.cpu_usage.total_usage": 60665565000,
          "precpu_stats.system_cpu_usage": 4035129650000000,
          "read": "2022-11-08T19:39:24.710782769",
          "system_cpu_delta": 3910000000
         },
         {
          "cpu_delta": 125456000,
          "cpu_stats.cpu_usage.total_usage": 61052255000,
          "cpu_stats.online_cpus": 4,
          "cpu_stats.system_cpu_usage": 4035141430000000,
          "cpu_usage_perc": 13.136753926701573,
          "precpu_stats.cpu_usage.total_usage": 60926799000,
          "precpu_stats.system_cpu_usage": 4035137610000000,
          "read": "2022-11-08T19:39:26.791087463",
          "system_cpu_delta": 3820000000
         },
         {
          "cpu_delta": 125299000,
          "cpu_stats.cpu_usage.total_usage": 61303025000,
          "cpu_stats.online_cpus": 4,
          "cpu_stats.system_cpu_usage": 4035149160000000,
          "cpu_usage_perc": 13.086057441253264,
          "precpu_stats.cpu_usage.total_usage": 61177726000,
          "precpu_stats.system_cpu_usage": 4035145330000000,
          "read": "2022-11-08T19:39:28.827533322",
          "system_cpu_delta": 3830000000
         },
         {
          "cpu_delta": 136959000,
          "cpu_stats.cpu_usage.total_usage": 61565148000,
          "cpu_stats.online_cpus": 4,
          "cpu_stats.system_cpu_usage": 4035156870000000,
          "cpu_usage_perc": 14.229506493506495,
          "precpu_stats.cpu_usage.total_usage": 61428189000,
          "precpu_stats.system_cpu_usage": 4035153020000000,
          "read": "2022-11-08T19:39:30.865482820",
          "system_cpu_delta": 3850000000
         },
         {
          "cpu_delta": 124145000,
          "cpu_stats.cpu_usage.total_usage": 61814546000,
          "cpu_stats.online_cpus": 4,
          "cpu_stats.system_cpu_usage": 4035164590000000,
          "cpu_usage_perc": 12.86476683937824,
          "precpu_stats.cpu_usage.total_usage": 61690401000,
          "precpu_stats.system_cpu_usage": 4035160730000000,
          "read": "2022-11-08T19:39:32.896777848",
          "system_cpu_delta": 3860000000
         },
         {
          "cpu_delta": 137717000,
          "cpu_stats.cpu_usage.total_usage": 62078176000,
          "cpu_stats.online_cpus": 4,
          "cpu_stats.system_cpu_usage": 4035172420000000,
          "cpu_usage_perc": 13.946025316455696,
          "precpu_stats.cpu_usage.total_usage": 61940459000,
          "precpu_stats.system_cpu_usage": 4035168470000000,
          "read": "2022-11-08T19:39:34.965702038",
          "system_cpu_delta": 3950000000
         },
         {
          "cpu_delta": 130082000,
          "cpu_stats.cpu_usage.total_usage": 62333092000,
          "cpu_stats.online_cpus": 4,
          "cpu_stats.system_cpu_usage": 4035180360000000,
          "cpu_usage_perc": 13.239898218829516,
          "precpu_stats.cpu_usage.total_usage": 62203010000,
          "precpu_stats.system_cpu_usage": 4035176430000000,
          "read": "2022-11-08T19:39:37.056821579",
          "system_cpu_delta": 3930000000
         },
         {
          "cpu_delta": 124872000,
          "cpu_stats.cpu_usage.total_usage": 62591020000,
          "cpu_stats.online_cpus": 4,
          "cpu_stats.system_cpu_usage": 4035188070000000,
          "cpu_usage_perc": 12.940103626943007,
          "precpu_stats.cpu_usage.total_usage": 62466148000,
          "precpu_stats.system_cpu_usage": 4035184210000000,
          "read": "2022-11-08T19:39:39.084725845",
          "system_cpu_delta": 3860000000
         },
         {
          "cpu_delta": 123920000,
          "cpu_stats.cpu_usage.total_usage": 62839763000,
          "cpu_stats.online_cpus": 4,
          "cpu_stats.system_cpu_usage": 4035195710000000,
          "cpu_usage_perc": 13.044210526315789,
          "precpu_stats.cpu_usage.total_usage": 62715843000,
          "precpu_stats.system_cpu_usage": 4035191910000000,
          "read": "2022-11-08T19:39:41.108876986",
          "system_cpu_delta": 3800000000
         },
         {
          "cpu_delta": 127071000,
          "cpu_stats.cpu_usage.total_usage": 63091905000,
          "cpu_stats.online_cpus": 4,
          "cpu_stats.system_cpu_usage": 4035203520000000,
          "cpu_usage_perc": 13.133953488372093,
          "precpu_stats.cpu_usage.total_usage": 62964834000,
          "precpu_stats.system_cpu_usage": 4035199650000000,
          "read": "2022-11-08T19:39:43.120706389",
          "system_cpu_delta": 3870000000
         },
         {
          "cpu_delta": 124309000,
          "cpu_stats.cpu_usage.total_usage": 63351846000,
          "cpu_stats.online_cpus": 4,
          "cpu_stats.system_cpu_usage": 4035211220000000,
          "cpu_usage_perc": 12.915220779220778,
          "precpu_stats.cpu_usage.total_usage": 63227537000,
          "precpu_stats.system_cpu_usage": 4035207370000000,
          "read": "2022-11-08T19:39:45.149290808",
          "system_cpu_delta": 3850000000
         },
         {
          "cpu_delta": 137910000,
          "cpu_stats.cpu_usage.total_usage": 63616044000,
          "cpu_stats.online_cpus": 4,
          "cpu_stats.system_cpu_usage": 4035219150000000,
          "cpu_usage_perc": 13.520588235294117,
          "precpu_stats.cpu_usage.total_usage": 63478134000,
          "precpu_stats.system_cpu_usage": 4035215070000000,
          "read": "2022-11-08T19:39:47.240741686",
          "system_cpu_delta": 4080000000
         },
         {
          "cpu_delta": 124542000,
          "cpu_stats.cpu_usage.total_usage": 63864443000,
          "cpu_stats.online_cpus": 4,
          "cpu_stats.system_cpu_usage": 4035226910000000,
          "cpu_usage_perc": 12.872558139534885,
          "precpu_stats.cpu_usage.total_usage": 63739901000,
          "precpu_stats.system_cpu_usage": 4035223040000000,
          "read": "2022-11-08T19:39:49.291202766",
          "system_cpu_delta": 3870000000
         },
         {
          "cpu_delta": 125335000,
          "cpu_stats.cpu_usage.total_usage": 64115153000,
          "cpu_stats.online_cpus": 4,
          "cpu_stats.system_cpu_usage": 4035234660000000,
          "cpu_usage_perc": 12.921134020618558,
          "precpu_stats.cpu_usage.total_usage": 63989818000,
          "precpu_stats.system_cpu_usage": 4035230780000000,
          "read": "2022-11-08T19:39:51.318672693",
          "system_cpu_delta": 3880000000
         },
         {
          "cpu_delta": 125198000,
          "cpu_stats.cpu_usage.total_usage": 64377368000,
          "cpu_stats.online_cpus": 4,
          "cpu_stats.system_cpu_usage": 4035242400000000,
          "cpu_usage_perc": 12.940361757105942,
          "precpu_stats.cpu_usage.total_usage": 64252170000,
          "precpu_stats.system_cpu_usage": 4035238530000000,
          "read": "2022-11-08T19:39:53.359125618",
          "system_cpu_delta": 3870000000
         },
         {
          "cpu_delta": 125996000,
          "cpu_stats.cpu_usage.total_usage": 64628571000,
          "cpu_stats.online_cpus": 4,
          "cpu_stats.system_cpu_usage": 4035250140000000,
          "cpu_usage_perc": 12.955886889460155,
          "precpu_stats.cpu_usage.total_usage": 64502575000,
          "precpu_stats.system_cpu_usage": 4035246250000000,
          "read": "2022-11-08T19:39:55.386435752",
          "system_cpu_delta": 3890000000
         },
         {
          "cpu_delta": 125867000,
          "cpu_stats.cpu_usage.total_usage": 64878194000,
          "cpu_stats.online_cpus": 4,
          "cpu_stats.system_cpu_usage": 4035257740000000,
          "cpu_usage_perc": 13.249157894736843,
          "precpu_stats.cpu_usage.total_usage": 64752327000,
          "precpu_stats.system_cpu_usage": 4035253940000000,
          "read": "2022-11-08T19:39:57.422915780",
          "system_cpu_delta": 3800000000
         },
         {
          "cpu_delta": 136864000,
          "cpu_stats.cpu_usage.total_usage": 65152037000,
          "cpu_stats.online_cpus": 4,
          "cpu_stats.system_cpu_usage": 4035265800000000,
          "cpu_usage_perc": 13.652269326683292,
          "precpu_stats.cpu_usage.total_usage": 65015173000,
          "precpu_stats.system_cpu_usage": 4035261790000000,
          "read": "2022-11-08T19:39:59.546301262",
          "system_cpu_delta": 4010000000
         },
         {
          "cpu_delta": 125247000,
          "cpu_stats.cpu_usage.total_usage": 65402117000,
          "cpu_stats.online_cpus": 4,
          "cpu_stats.system_cpu_usage": 4035273410000000,
          "cpu_usage_perc": 13.114869109947644,
          "precpu_stats.cpu_usage.total_usage": 65276870000,
          "precpu_stats.system_cpu_usage": 4035269590000000,
          "read": "2022-11-08T19:40:01.565684326",
          "system_cpu_delta": 3820000000
         },
         {
          "cpu_delta": 125320000,
          "cpu_stats.cpu_usage.total_usage": 65652538000,
          "cpu_stats.online_cpus": 4,
          "cpu_stats.system_cpu_usage": 4035281060000000,
          "cpu_usage_perc": 13.122513089005237,
          "precpu_stats.cpu_usage.total_usage": 65527218000,
          "precpu_stats.system_cpu_usage": 4035277240000000,
          "read": "2022-11-08T19:40:03.601092372",
          "system_cpu_delta": 3820000000
         },
         {
          "cpu_delta": 131846000,
          "cpu_stats.cpu_usage.total_usage": 65910913000,
          "cpu_stats.online_cpus": 4,
          "cpu_stats.system_cpu_usage": 4035288840000000,
          "cpu_usage_perc": 13.66279792746114,
          "precpu_stats.cpu_usage.total_usage": 65779067000,
          "precpu_stats.system_cpu_usage": 4035284980000000,
          "read": "2022-11-08T19:40:05.637768579",
          "system_cpu_delta": 3860000000
         },
         {
          "cpu_delta": 125482000,
          "cpu_stats.cpu_usage.total_usage": 66165667000,
          "cpu_stats.online_cpus": 4,
          "cpu_stats.system_cpu_usage": 4035296580000000,
          "cpu_usage_perc": 12.903033419023135,
          "precpu_stats.cpu_usage.total_usage": 66040185000,
          "precpu_stats.system_cpu_usage": 4035292690000000,
          "read": "2022-11-08T19:40:07.674616171",
          "system_cpu_delta": 3890000000
         },
         {
          "cpu_delta": 138721000,
          "cpu_stats.cpu_usage.total_usage": 66428769000,
          "cpu_stats.online_cpus": 4,
          "cpu_stats.system_cpu_usage": 4035304450000000,
          "cpu_usage_perc": 13.941809045226131,
          "precpu_stats.cpu_usage.total_usage": 66290048000,
          "precpu_stats.system_cpu_usage": 4035300470000000,
          "read": "2022-11-08T19:40:09.747124025",
          "system_cpu_delta": 3980000000
         },
         {
          "cpu_delta": 124457000,
          "cpu_stats.cpu_usage.total_usage": 66676478000,
          "cpu_stats.online_cpus": 4,
          "cpu_stats.system_cpu_usage": 4035312310000000,
          "cpu_usage_perc": 12.764820512820513,
          "precpu_stats.cpu_usage.total_usage": 66552021000,
          "precpu_stats.system_cpu_usage": 4035308410000000,
          "read": "2022-11-08T19:40:11.823440136",
          "system_cpu_delta": 3900000000
         },
         {
          "cpu_delta": 125437000,
          "cpu_stats.cpu_usage.total_usage": 66939777000,
          "cpu_stats.online_cpus": 4,
          "cpu_stats.system_cpu_usage": 4035320030000000,
          "cpu_usage_perc": 13.032415584415585,
          "precpu_stats.cpu_usage.total_usage": 66814340000,
          "precpu_stats.system_cpu_usage": 4035316180000000,
          "read": "2022-11-08T19:40:13.827546368",
          "system_cpu_delta": 3850000000
         },
         {
          "cpu_delta": 124297000,
          "cpu_stats.cpu_usage.total_usage": 67189845000,
          "cpu_stats.online_cpus": 4,
          "cpu_stats.system_cpu_usage": 4035327740000000,
          "cpu_usage_perc": 12.913974025974026,
          "precpu_stats.cpu_usage.total_usage": 67065548000,
          "precpu_stats.system_cpu_usage": 4035323890000000,
          "read": "2022-11-08T19:40:15.851388802",
          "system_cpu_delta": 3850000000
         },
         {
          "cpu_delta": 125363000,
          "cpu_stats.cpu_usage.total_usage": 67440177000,
          "cpu_stats.online_cpus": 4,
          "cpu_stats.system_cpu_usage": 4035335440000000,
          "cpu_usage_perc": 12.957416020671836,
          "precpu_stats.cpu_usage.total_usage": 67314814000,
          "precpu_stats.system_cpu_usage": 4035331570000000,
          "read": "2022-11-08T19:40:17.876633623",
          "system_cpu_delta": 3870000000
         },
         {
          "cpu_delta": 136581000,
          "cpu_stats.cpu_usage.total_usage": 67701854000,
          "cpu_stats.online_cpus": 4,
          "cpu_stats.system_cpu_usage": 4035343180000000,
          "cpu_usage_perc": 14.008307692307692,
          "precpu_stats.cpu_usage.total_usage": 67565273000,
          "precpu_stats.system_cpu_usage": 4035339280000000,
          "read": "2022-11-08T19:40:19.933931152",
          "system_cpu_delta": 3900000000
         },
         {
          "cpu_delta": 138518000,
          "cpu_stats.cpu_usage.total_usage": 67967230000,
          "cpu_stats.online_cpus": 4,
          "cpu_stats.system_cpu_usage": 4035351100000000,
          "cpu_usage_perc": 14.09852417302799,
          "precpu_stats.cpu_usage.total_usage": 67828712000,
          "precpu_stats.system_cpu_usage": 4035347170000000,
          "read": "2022-11-08T19:40:22.025284394",
          "system_cpu_delta": 3930000000
         },
         {
          "cpu_delta": 125053000,
          "cpu_stats.cpu_usage.total_usage": 68216084000,
          "cpu_stats.online_cpus": 4,
          "cpu_stats.system_cpu_usage": 4035358770000000,
          "cpu_usage_perc": 13.094554973821989,
          "precpu_stats.cpu_usage.total_usage": 68091031000,
          "precpu_stats.system_cpu_usage": 4035354950000000,
          "read": "2022-11-08T19:40:24.049067279",
          "system_cpu_delta": 3820000000
         },
         {
          "cpu_delta": 125475000,
          "cpu_stats.cpu_usage.total_usage": 68465894000,
          "cpu_stats.online_cpus": 4,
          "cpu_stats.system_cpu_usage": 4035366470000000,
          "cpu_usage_perc": 13.036363636363637,
          "precpu_stats.cpu_usage.total_usage": 68340419000,
          "precpu_stats.system_cpu_usage": 4035362620000000,
          "read": "2022-11-08T19:40:26.088751141",
          "system_cpu_delta": 3850000000
         },
         {
          "cpu_delta": 132033000,
          "cpu_stats.cpu_usage.total_usage": 68722379000,
          "cpu_stats.online_cpus": 4,
          "cpu_stats.system_cpu_usage": 4035374140000000,
          "cpu_usage_perc": 13.682176165803108,
          "precpu_stats.cpu_usage.total_usage": 68590346000,
          "precpu_stats.system_cpu_usage": 4035370280000000,
          "read": "2022-11-08T19:40:28.120061357",
          "system_cpu_delta": 3860000000
         },
         {
          "cpu_delta": 124961000,
          "cpu_stats.cpu_usage.total_usage": 68977669000,
          "cpu_stats.online_cpus": 4,
          "cpu_stats.system_cpu_usage": 4035381850000000,
          "cpu_usage_perc": 12.982961038961038,
          "precpu_stats.cpu_usage.total_usage": 68852708000,
          "precpu_stats.system_cpu_usage": 4035378000000000,
          "read": "2022-11-08T19:40:30.156957509",
          "system_cpu_delta": 3850000000
         },
         {
          "cpu_delta": 138095000,
          "cpu_stats.cpu_usage.total_usage": 69240189000,
          "cpu_stats.online_cpus": 4,
          "cpu_stats.system_cpu_usage": 4035389730000000,
          "cpu_usage_perc": 13.8095,
          "precpu_stats.cpu_usage.total_usage": 69102094000,
          "precpu_stats.system_cpu_usage": 4035385730000000,
          "read": "2022-11-08T19:40:32.249980135",
          "system_cpu_delta": 4000000000
         },
         {
          "cpu_delta": 128063000,
          "cpu_stats.cpu_usage.total_usage": 69493737000,
          "cpu_stats.online_cpus": 4,
          "cpu_stats.system_cpu_usage": 4035397520000000,
          "cpu_usage_perc": 13.305246753246752,
          "precpu_stats.cpu_usage.total_usage": 69365674000,
          "precpu_stats.system_cpu_usage": 4035393670000000,
          "read": "2022-11-08T19:40:34.307509800",
          "system_cpu_delta": 3850000000
         },
         {
          "cpu_delta": 123847000,
          "cpu_stats.cpu_usage.total_usage": 69752420000,
          "cpu_stats.online_cpus": 4,
          "cpu_stats.system_cpu_usage": 4035405190000000,
          "cpu_usage_perc": 13.00230971128609,
          "precpu_stats.cpu_usage.total_usage": 69628573000,
          "precpu_stats.system_cpu_usage": 4035401380000000,
          "read": "2022-11-08T19:40:36.329786667",
          "system_cpu_delta": 3810000000
         },
         {
          "cpu_delta": 123863000,
          "cpu_stats.cpu_usage.total_usage": 70002272000,
          "cpu_stats.online_cpus": 4,
          "cpu_stats.system_cpu_usage": 4035412880000000,
          "cpu_usage_perc": 12.835544041450778,
          "precpu_stats.cpu_usage.total_usage": 69878409000,
          "precpu_stats.system_cpu_usage": 4035409020000000,
          "read": "2022-11-08T19:40:38.363185584",
          "system_cpu_delta": 3860000000
         },
         {
          "cpu_delta": 124504000,
          "cpu_stats.cpu_usage.total_usage": 70253249000,
          "cpu_stats.online_cpus": 4,
          "cpu_stats.system_cpu_usage": 4035420540000000,
          "cpu_usage_perc": 12.93548051948052,
          "precpu_stats.cpu_usage.total_usage": 70128745000,
          "precpu_stats.system_cpu_usage": 4035416690000000,
          "read": "2022-11-08T19:40:40.399720519",
          "system_cpu_delta": 3850000000
         },
         {
          "cpu_delta": 134651000,
          "cpu_stats.cpu_usage.total_usage": 70514859000,
          "cpu_stats.online_cpus": 4,
          "cpu_stats.system_cpu_usage": 4035428190000000,
          "cpu_usage_perc": 13.989714285714285,
          "precpu_stats.cpu_usage.total_usage": 70380208000,
          "precpu_stats.system_cpu_usage": 4035424340000000,
          "read": "2022-11-08T19:40:42.430647970",
          "system_cpu_delta": 3850000000
         },
         {
          "cpu_delta": 124524000,
          "cpu_stats.cpu_usage.total_usage": 70778217000,
          "cpu_stats.online_cpus": 4,
          "cpu_stats.system_cpu_usage": 4035436190000000,
          "cpu_usage_perc": 12.870697674418604,
          "precpu_stats.cpu_usage.total_usage": 70653693000,
          "precpu_stats.system_cpu_usage": 4035432320000000,
          "read": "2022-11-08T19:40:44.541310809",
          "system_cpu_delta": 3870000000
         },
         {
          "cpu_delta": 130908000,
          "cpu_stats.cpu_usage.total_usage": 71032834000,
          "cpu_stats.online_cpus": 4,
          "cpu_stats.system_cpu_usage": 4035443920000000,
          "cpu_usage_perc": 13.56559585492228,
          "precpu_stats.cpu_usage.total_usage": 70901926000,
          "precpu_stats.system_cpu_usage": 4035440060000000,
          "read": "2022-11-08T19:40:46.589534801",
          "system_cpu_delta": 3860000000
         },
         {
          "cpu_delta": 125769000,
          "cpu_stats.cpu_usage.total_usage": 71290425000,
          "cpu_stats.online_cpus": 4,
          "cpu_stats.system_cpu_usage": 4035451510000000,
          "cpu_usage_perc": 13.238842105263156,
          "precpu_stats.cpu_usage.total_usage": 71164656000,
          "precpu_stats.system_cpu_usage": 4035447710000000,
          "read": "2022-11-08T19:40:48.605506694",
          "system_cpu_delta": 3800000000
         },
         {
          "cpu_delta": 124645000,
          "cpu_stats.cpu_usage.total_usage": 71539099000,
          "cpu_stats.online_cpus": 4,
          "cpu_stats.system_cpu_usage": 4035459240000000,
          "cpu_usage_perc": 12.916580310880828,
          "precpu_stats.cpu_usage.total_usage": 71414454000,
          "precpu_stats.system_cpu_usage": 4035455380000000,
          "read": "2022-11-08T19:40:50.627161015",
          "system_cpu_delta": 3860000000
         },
         {
          "cpu_delta": 126376000,
          "cpu_stats.cpu_usage.total_usage": 71790633000,
          "cpu_stats.online_cpus": 4,
          "cpu_stats.system_cpu_usage": 4035466960000000,
          "cpu_usage_perc": 13.095958549222797,
          "precpu_stats.cpu_usage.total_usage": 71664257000,
          "precpu_stats.system_cpu_usage": 4035463100000000,
          "read": "2022-11-08T19:40:52.655342941",
          "system_cpu_delta": 3860000000
         },
         {
          "cpu_delta": 132276000,
          "cpu_stats.cpu_usage.total_usage": 72053213000,
          "cpu_stats.online_cpus": 4,
          "cpu_stats.system_cpu_usage": 4035474800000000,
          "cpu_usage_perc": 13.497551020408164,
          "precpu_stats.cpu_usage.total_usage": 71920937000,
          "precpu_stats.system_cpu_usage": 4035470880000000,
          "read": "2022-11-08T19:40:54.723725469",
          "system_cpu_delta": 3920000000
         },
         {
          "cpu_delta": 139345000,
          "cpu_stats.cpu_usage.total_usage": 72315777000,
          "cpu_stats.online_cpus": 4,
          "cpu_stats.system_cpu_usage": 4035482780000000,
          "cpu_usage_perc": 13.9345,
          "precpu_stats.cpu_usage.total_usage": 72176432000,
          "precpu_stats.system_cpu_usage": 4035478780000000,
          "read": "2022-11-08T19:40:56.821604800",
          "system_cpu_delta": 4000000000
         },
         {
          "cpu_delta": 124857000,
          "cpu_stats.cpu_usage.total_usage": 72565259000,
          "cpu_stats.online_cpus": 4,
          "cpu_stats.system_cpu_usage": 4035490510000000,
          "cpu_usage_perc": 12.871855670103095,
          "precpu_stats.cpu_usage.total_usage": 72440402000,
          "precpu_stats.system_cpu_usage": 4035486630000000,
          "read": "2022-11-08T19:40:58.851594558",
          "system_cpu_delta": 3880000000
         },
         {
          "cpu_delta": 128123000,
          "cpu_stats.cpu_usage.total_usage": 72817061000,
          "cpu_stats.online_cpus": 4,
          "cpu_stats.system_cpu_usage": 4035498210000000,
          "cpu_usage_perc": 13.380992167101827,
          "precpu_stats.cpu_usage.total_usage": 72688938000,
          "precpu_stats.system_cpu_usage": 4035494380000000,
          "read": "2022-11-08T19:41:00.880134519",
          "system_cpu_delta": 3830000000
         },
         {
          "cpu_delta": 126619000,
          "cpu_stats.cpu_usage.total_usage": 73077851000,
          "cpu_stats.online_cpus": 4,
          "cpu_stats.system_cpu_usage": 4035505880000000,
          "cpu_usage_perc": 13.223916449086163,
          "precpu_stats.cpu_usage.total_usage": 72951232000,
          "precpu_stats.system_cpu_usage": 4035502050000000,
          "read": "2022-11-08T19:41:02.907038698",
          "system_cpu_delta": 3830000000
         },
         {
          "cpu_delta": 124679000,
          "cpu_stats.cpu_usage.total_usage": 73327092000,
          "cpu_stats.online_cpus": 4,
          "cpu_stats.system_cpu_usage": 4035513600000000,
          "cpu_usage_perc": 12.920103626943005,
          "precpu_stats.cpu_usage.total_usage": 73202413000,
          "precpu_stats.system_cpu_usage": 4035509740000000,
          "read": "2022-11-08T19:41:04.938917257",
          "system_cpu_delta": 3860000000
         },
         {
          "cpu_delta": 124805000,
          "cpu_stats.cpu_usage.total_usage": 73577664000,
          "cpu_stats.online_cpus": 4,
          "cpu_stats.system_cpu_usage": 4035521240000000,
          "cpu_usage_perc": 13.172031662269129,
          "precpu_stats.cpu_usage.total_usage": 73452859000,
          "precpu_stats.system_cpu_usage": 4035517450000000,
          "read": "2022-11-08T19:41:06.966292153",
          "system_cpu_delta": 3790000000
         },
         {
          "cpu_delta": 124191000,
          "cpu_stats.cpu_usage.total_usage": 73839160000,
          "cpu_stats.online_cpus": 4,
          "cpu_stats.system_cpu_usage": 4035529210000000,
          "cpu_usage_perc": 12.4191,
          "precpu_stats.cpu_usage.total_usage": 73714969000,
          "precpu_stats.system_cpu_usage": 4035525210000000,
          "read": "2022-11-08T19:41:09.059728399",
          "system_cpu_delta": 4000000000
         },
         {
          "cpu_delta": 126914000,
          "cpu_stats.cpu_usage.total_usage": 74102201000,
          "cpu_stats.online_cpus": 4,
          "cpu_stats.system_cpu_usage": 4035537010000000,
          "cpu_usage_perc": 13.324304461942257,
          "precpu_stats.cpu_usage.total_usage": 73975287000,
          "precpu_stats.system_cpu_usage": 4035533200000000,
          "read": "2022-11-08T19:41:11.114645221",
          "system_cpu_delta": 3810000000
         },
         {
          "cpu_delta": 125195000,
          "cpu_stats.cpu_usage.total_usage": 74353037000,
          "cpu_stats.online_cpus": 4,
          "cpu_stats.system_cpu_usage": 4035544750000000,
          "cpu_usage_perc": 12.97357512953368,
          "precpu_stats.cpu_usage.total_usage": 74227842000,
          "precpu_stats.system_cpu_usage": 4035540890000000,
          "read": "2022-11-08T19:41:13.133011292",
          "system_cpu_delta": 3860000000
         },
         {
          "cpu_delta": 125807000,
          "cpu_stats.cpu_usage.total_usage": 74604025000,
          "cpu_stats.online_cpus": 4,
          "cpu_stats.system_cpu_usage": 4035552440000000,
          "cpu_usage_perc": 13.070857142857143,
          "precpu_stats.cpu_usage.total_usage": 74478218000,
          "precpu_stats.system_cpu_usage": 4035548590000000,
          "read": "2022-11-08T19:41:15.152055605",
          "system_cpu_delta": 3850000000
         },
         {
          "cpu_delta": 131012000,
          "cpu_stats.cpu_usage.total_usage": 74867481000,
          "cpu_stats.online_cpus": 4,
          "cpu_stats.system_cpu_usage": 4035560160000000,
          "cpu_usage_perc": 13.57637305699482,
          "precpu_stats.cpu_usage.total_usage": 74736469000,
          "precpu_stats.system_cpu_usage": 4035556300000000,
          "read": "2022-11-08T19:41:17.178604498",
          "system_cpu_delta": 3860000000
         },
         {
          "cpu_delta": 124087000,
          "cpu_stats.cpu_usage.total_usage": 75114847000,
          "cpu_stats.online_cpus": 4,
          "cpu_stats.system_cpu_usage": 4035567900000000,
          "cpu_usage_perc": 12.759588688946016,
          "precpu_stats.cpu_usage.total_usage": 74990760000,
          "precpu_stats.system_cpu_usage": 4035564010000000,
          "read": "2022-11-08T19:41:19.224888433",
          "system_cpu_delta": 3890000000
         },
         {
          "cpu_delta": 130661000,
          "cpu_stats.cpu_usage.total_usage": 75383590000,
          "cpu_stats.online_cpus": 4,
          "cpu_stats.system_cpu_usage": 4035576070000000,
          "cpu_usage_perc": 13.198080808080809,
          "precpu_stats.cpu_usage.total_usage": 75252929000,
          "precpu_stats.system_cpu_usage": 4035572110000000,
          "read": "2022-11-08T19:41:21.372402790",
          "system_cpu_delta": 3960000000
         },
         {
          "cpu_delta": 126573000,
          "cpu_stats.cpu_usage.total_usage": 75641745000,
          "cpu_stats.online_cpus": 4,
          "cpu_stats.system_cpu_usage": 4035583620000000,
          "cpu_usage_perc": 13.646684636118597,
          "precpu_stats.cpu_usage.total_usage": 75515172000,
          "precpu_stats.system_cpu_usage": 4035579910000000,
          "read": "2022-11-08T19:41:23.403590578",
          "system_cpu_delta": 3710000000
         },
         {
          "cpu_delta": 125201000,
          "cpu_stats.cpu_usage.total_usage": 75890429000,
          "cpu_stats.online_cpus": 4,
          "cpu_stats.system_cpu_usage": 4035591380000000,
          "cpu_usage_perc": 12.808286445012786,
          "precpu_stats.cpu_usage.total_usage": 75765228000,
          "precpu_stats.system_cpu_usage": 4035587470000000,
          "read": "2022-11-08T19:41:25.425806669",
          "system_cpu_delta": 3910000000
         },
         {
          "cpu_delta": 125028000,
          "cpu_stats.cpu_usage.total_usage": 76141038000,
          "cpu_stats.online_cpus": 4,
          "cpu_stats.system_cpu_usage": 4035599060000000,
          "cpu_usage_perc": 13.09193717277487,
          "precpu_stats.cpu_usage.total_usage": 76016010000,
          "precpu_stats.system_cpu_usage": 4035595240000000,
          "read": "2022-11-08T19:41:27.445977839",
          "system_cpu_delta": 3820000000
         },
         {
          "cpu_delta": 131347000,
          "cpu_stats.cpu_usage.total_usage": 76402486000,
          "cpu_stats.online_cpus": 4,
          "cpu_stats.system_cpu_usage": 4035606850000000,
          "cpu_usage_perc": 13.402755102040818,
          "precpu_stats.cpu_usage.total_usage": 76271139000,
          "precpu_stats.system_cpu_usage": 4035602930000000,
          "read": "2022-11-08T19:41:29.498412789",
          "system_cpu_delta": 3920000000
         },
         {
          "cpu_delta": 136765000,
          "cpu_stats.cpu_usage.total_usage": 76664408000,
          "cpu_stats.online_cpus": 4,
          "cpu_stats.system_cpu_usage": 4035614760000000,
          "cpu_usage_perc": 13.642394014962594,
          "precpu_stats.cpu_usage.total_usage": 76527643000,
          "precpu_stats.system_cpu_usage": 4035610750000000,
          "read": "2022-11-08T19:41:31.610825184",
          "system_cpu_delta": 4010000000
         },
         {
          "cpu_delta": 125563000,
          "cpu_stats.cpu_usage.total_usage": 76915050000,
          "cpu_stats.online_cpus": 4,
          "cpu_stats.system_cpu_usage": 4035622500000000,
          "cpu_usage_perc": 12.978087855297158,
          "precpu_stats.cpu_usage.total_usage": 76789487000,
          "precpu_stats.system_cpu_usage": 4035618630000000,
          "read": "2022-11-08T19:41:33.646929993",
          "system_cpu_delta": 3870000000
         },
         {
          "cpu_delta": 129563000,
          "cpu_stats.cpu_usage.total_usage": 77169941000,
          "cpu_stats.online_cpus": 4,
          "cpu_stats.system_cpu_usage": 4035630330000000,
          "cpu_usage_perc": 13.220714285714285,
          "precpu_stats.cpu_usage.total_usage": 77040378000,
          "precpu_stats.system_cpu_usage": 4035626410000000,
          "read": "2022-11-08T19:41:35.662944507",
          "system_cpu_delta": 3920000000
         },
         {
          "cpu_delta": 124860000,
          "cpu_stats.cpu_usage.total_usage": 77428280000,
          "cpu_stats.online_cpus": 4,
          "cpu_stats.system_cpu_usage": 4035638130000000,
          "cpu_usage_perc": 12.872164948453607,
          "precpu_stats.cpu_usage.total_usage": 77303420000,
          "precpu_stats.system_cpu_usage": 4035634250000000,
          "read": "2022-11-08T19:41:37.696451184",
          "system_cpu_delta": 3880000000
         },
         {
          "cpu_delta": 124725000,
          "cpu_stats.cpu_usage.total_usage": 77677348000,
          "cpu_stats.online_cpus": 4,
          "cpu_stats.system_cpu_usage": 4035645890000000,
          "cpu_usage_perc": 12.9921875,
          "precpu_stats.cpu_usage.total_usage": 77552623000,
          "precpu_stats.system_cpu_usage": 4035642050000000,
          "read": "2022-11-08T19:41:39.722045604",
          "system_cpu_delta": 3840000000
         },
         {
          "cpu_delta": 124227000,
          "cpu_stats.cpu_usage.total_usage": 77928455000,
          "cpu_stats.online_cpus": 4,
          "cpu_stats.system_cpu_usage": 4035653670000000,
          "cpu_usage_perc": 12.741230769230768,
          "precpu_stats.cpu_usage.total_usage": 77804228000,
          "precpu_stats.system_cpu_usage": 4035649770000000,
          "read": "2022-11-08T19:41:41.755882775",
          "system_cpu_delta": 3900000000
         },
         {
          "cpu_delta": 129874000,
          "cpu_stats.cpu_usage.total_usage": 78203944000,
          "cpu_stats.online_cpus": 4,
          "cpu_stats.system_cpu_usage": 4035661750000000,
          "cpu_usage_perc": 13.458445595854924,
          "precpu_stats.cpu_usage.total_usage": 78074070000,
          "precpu_stats.system_cpu_usage": 4035657890000000,
          "read": "2022-11-08T19:41:43.870146719",
          "system_cpu_delta": 3860000000
         },
         {
          "cpu_delta": 124817000,
          "cpu_stats.cpu_usage.total_usage": 78453594000,
          "cpu_stats.online_cpus": 4,
          "cpu_stats.system_cpu_usage": 4035669470000000,
          "cpu_usage_perc": 13.035718015665795,
          "precpu_stats.cpu_usage.total_usage": 78328777000,
          "precpu_stats.system_cpu_usage": 4035665640000000,
          "read": "2022-11-08T19:41:45.905292577",
          "system_cpu_delta": 3830000000
         },
         {
          "cpu_delta": 134997000,
          "cpu_stats.cpu_usage.total_usage": 78713762000,
          "cpu_stats.online_cpus": 4,
          "cpu_stats.system_cpu_usage": 4035677240000000,
          "cpu_usage_perc": 13.845846153846153,
          "precpu_stats.cpu_usage.total_usage": 78578765000,
          "precpu_stats.system_cpu_usage": 4035673340000000,
          "read": "2022-11-08T19:41:47.948698162",
          "system_cpu_delta": 3900000000
         },
         {
          "cpu_delta": 124736000,
          "cpu_stats.cpu_usage.total_usage": 78965921000,
          "cpu_stats.online_cpus": 4,
          "cpu_stats.system_cpu_usage": 4035685020000000,
          "cpu_usage_perc": 12.85938144329897,
          "precpu_stats.cpu_usage.total_usage": 78841185000,
          "precpu_stats.system_cpu_usage": 4035681140000000,
          "read": "2022-11-08T19:41:49.992058553",
          "system_cpu_delta": 3880000000
         },
         {
          "cpu_delta": 126094000,
          "cpu_stats.cpu_usage.total_usage": 79216686000,
          "cpu_stats.online_cpus": 4,
          "cpu_stats.system_cpu_usage": 4035692710000000,
          "cpu_usage_perc": 13.203560209424085,
          "precpu_stats.cpu_usage.total_usage": 79090592000,
          "precpu_stats.system_cpu_usage": 4035688890000000,
          "read": "2022-11-08T19:41:52.022853233",
          "system_cpu_delta": 3820000000
         },
         {
          "cpu_delta": 124929000,
          "cpu_stats.cpu_usage.total_usage": 79478563000,
          "cpu_stats.online_cpus": 4,
          "cpu_stats.system_cpu_usage": 4035700640000000,
          "cpu_usage_perc": 12.461745635910225,
          "precpu_stats.cpu_usage.total_usage": 79353634000,
          "precpu_stats.system_cpu_usage": 4035696630000000,
          "read": "2022-11-08T19:41:54.137917401",
          "system_cpu_delta": 4010000000
         },
         {
          "cpu_delta": 124611000,
          "cpu_stats.cpu_usage.total_usage": 79740768000,
          "cpu_stats.online_cpus": 4,
          "cpu_stats.system_cpu_usage": 4035708440000000,
          "cpu_usage_perc": 12.980312499999998,
          "precpu_stats.cpu_usage.total_usage": 79616157000,
          "precpu_stats.system_cpu_usage": 4035704600000000,
          "read": "2022-11-08T19:41:56.186833910",
          "system_cpu_delta": 3840000000
         },
         {
          "cpu_delta": 125241000,
          "cpu_stats.cpu_usage.total_usage": 79991218000,
          "cpu_stats.online_cpus": 4,
          "cpu_stats.system_cpu_usage": 4035716140000000,
          "cpu_usage_perc": 13.012051948051948,
          "precpu_stats.cpu_usage.total_usage": 79865977000,
          "precpu_stats.system_cpu_usage": 4035712290000000,
          "read": "2022-11-08T19:41:58.217417277",
          "system_cpu_delta": 3850000000
         },
         {
          "cpu_delta": 136281000,
          "cpu_stats.cpu_usage.total_usage": 80252443000,
          "cpu_stats.online_cpus": 4,
          "cpu_stats.system_cpu_usage": 4035723880000000,
          "cpu_usage_perc": 14.159064935064936,
          "precpu_stats.cpu_usage.total_usage": 80116162000,
          "precpu_stats.system_cpu_usage": 4035720030000000,
          "read": "2022-11-08T19:42:00.254452486",
          "system_cpu_delta": 3850000000
         },
         {
          "cpu_delta": 124116000,
          "cpu_stats.cpu_usage.total_usage": 80503429000,
          "cpu_stats.online_cpus": 4,
          "cpu_stats.system_cpu_usage": 4035731560000000,
          "cpu_usage_perc": 12.828527131782947,
          "precpu_stats.cpu_usage.total_usage": 80379313000,
          "precpu_stats.system_cpu_usage": 4035727690000000,
          "read": "2022-11-08T19:42:02.290175757",
          "system_cpu_delta": 3870000000
         },
         {
          "cpu_delta": 137783000,
          "cpu_stats.cpu_usage.total_usage": 80765920000,
          "cpu_stats.online_cpus": 4,
          "cpu_stats.system_cpu_usage": 4035739410000000,
          "cpu_usage_perc": 13.952708860759493,
          "precpu_stats.cpu_usage.total_usage": 80628137000,
          "precpu_stats.system_cpu_usage": 4035735460000000,
          "read": "2022-11-08T19:42:04.361120132",
          "system_cpu_delta": 3950000000
         },
         {
          "cpu_delta": 138105000,
          "cpu_stats.cpu_usage.total_usage": 81027312000,
          "cpu_stats.online_cpus": 4,
          "cpu_stats.system_cpu_usage": 4035747330000000,
          "cpu_usage_perc": 14.05648854961832,
          "precpu_stats.cpu_usage.total_usage": 80889207000,
          "precpu_stats.system_cpu_usage": 4035743400000000,
          "read": "2022-11-08T19:42:06.449600045",
          "system_cpu_delta": 3930000000
         },
         {
          "cpu_delta": 125213000,
          "cpu_stats.cpu_usage.total_usage": 81277702000,
          "cpu_stats.online_cpus": 4,
          "cpu_stats.system_cpu_usage": 4035755000000000,
          "cpu_usage_perc": 13.11130890052356,
          "precpu_stats.cpu_usage.total_usage": 81152489000,
          "precpu_stats.system_cpu_usage": 4035751180000000,
          "read": "2022-11-08T19:42:08.467854144",
          "system_cpu_delta": 3820000000
         },
         {
          "cpu_delta": 125642000,
          "cpu_stats.cpu_usage.total_usage": 81528935000,
          "cpu_stats.online_cpus": 4,
          "cpu_stats.system_cpu_usage": 4035762750000000,
          "cpu_usage_perc": 12.919485861182519,
          "precpu_stats.cpu_usage.total_usage": 81403293000,
          "precpu_stats.system_cpu_usage": 4035758860000000,
          "read": "2022-11-08T19:42:10.499252852",
          "system_cpu_delta": 3890000000
         },
         {
          "cpu_delta": 125302000,
          "cpu_stats.cpu_usage.total_usage": 81779359000,
          "cpu_stats.online_cpus": 4,
          "cpu_stats.system_cpu_usage": 4035770420000000,
          "cpu_usage_perc": 13.01838961038961,
          "precpu_stats.cpu_usage.total_usage": 81654057000,
          "precpu_stats.system_cpu_usage": 4035766570000000,
          "read": "2022-11-08T19:42:12.520844157",
          "system_cpu_delta": 3850000000
         },
         {
          "cpu_delta": 132488000,
          "cpu_stats.cpu_usage.total_usage": 82040745000,
          "cpu_stats.online_cpus": 4,
          "cpu_stats.system_cpu_usage": 4035778160000000,
          "cpu_usage_perc": 13.693850129198967,
          "precpu_stats.cpu_usage.total_usage": 81908257000,
          "precpu_stats.system_cpu_usage": 4035774290000000,
          "read": "2022-11-08T19:42:14.549748777",
          "system_cpu_delta": 3870000000
         },
         {
          "cpu_delta": 136957000,
          "cpu_stats.cpu_usage.total_usage": 82302488000,
          "cpu_stats.online_cpus": 4,
          "cpu_stats.system_cpu_usage": 4035786030000000,
          "cpu_usage_perc": 13.593746898263026,
          "precpu_stats.cpu_usage.total_usage": 82165531000,
          "precpu_stats.system_cpu_usage": 4035782000000000,
          "read": "2022-11-08T19:42:16.632514366",
          "system_cpu_delta": 4030000000
         },
         {
          "cpu_delta": 124529000,
          "cpu_stats.cpu_usage.total_usage": 82553751000,
          "cpu_stats.online_cpus": 4,
          "cpu_stats.system_cpu_usage": 4035793810000000,
          "cpu_usage_perc": 13.073910761154856,
          "precpu_stats.cpu_usage.total_usage": 82429222000,
          "precpu_stats.system_cpu_usage": 4035790000000000,
          "read": "2022-11-08T19:42:18.705338600",
          "system_cpu_delta": 3810000000
         },
         {
          "cpu_delta": 128791000,
          "cpu_stats.cpu_usage.total_usage": 82817504000,
          "cpu_stats.online_cpus": 4,
          "cpu_stats.system_cpu_usage": 4035801540000000,
          "cpu_usage_perc": 13.380883116883115,
          "precpu_stats.cpu_usage.total_usage": 82688713000,
          "precpu_stats.system_cpu_usage": 4035797690000000,
          "read": "2022-11-08T19:42:20.742940941",
          "system_cpu_delta": 3850000000
         },
         {
          "cpu_delta": 124719000,
          "cpu_stats.cpu_usage.total_usage": 83066833000,
          "cpu_stats.online_cpus": 4,
          "cpu_stats.system_cpu_usage": 4035809250000000,
          "cpu_usage_perc": 12.957818181818181,
          "precpu_stats.cpu_usage.total_usage": 82942114000,
          "precpu_stats.system_cpu_usage": 4035805400000000,
          "read": "2022-11-08T19:42:22.768206017",
          "system_cpu_delta": 3850000000
         },
         {
          "cpu_delta": 125260000,
          "cpu_stats.cpu_usage.total_usage": 83316283000,
          "cpu_stats.online_cpus": 4,
          "cpu_stats.system_cpu_usage": 4035816990000000,
          "cpu_usage_perc": 12.913402061855669,
          "precpu_stats.cpu_usage.total_usage": 83191023000,
          "precpu_stats.system_cpu_usage": 4035813110000000,
          "read": "2022-11-08T19:42:24.802291346",
          "system_cpu_delta": 3880000000
         },
         {
          "cpu_delta": 126554000,
          "cpu_stats.cpu_usage.total_usage": 83579047000,
          "cpu_stats.online_cpus": 4,
          "cpu_stats.system_cpu_usage": 4035824740000000,
          "cpu_usage_perc": 13.182708333333334,
          "precpu_stats.cpu_usage.total_usage": 83452493000,
          "precpu_stats.system_cpu_usage": 4035820900000000,
          "read": "2022-11-08T19:42:26.851982530",
          "system_cpu_delta": 3840000000
         },
         {
          "cpu_delta": 137249000,
          "cpu_stats.cpu_usage.total_usage": 83840031000,
          "cpu_stats.online_cpus": 4,
          "cpu_stats.system_cpu_usage": 4035832720000000,
          "cpu_usage_perc": 13.622729528535979,
          "precpu_stats.cpu_usage.total_usage": 83702782000,
          "precpu_stats.system_cpu_usage": 4035828690000000,
          "read": "2022-11-08T19:42:28.963526871",
          "system_cpu_delta": 4030000000
         },
         {
          "cpu_delta": 125813000,
          "cpu_stats.cpu_usage.total_usage": 84091254000,
          "cpu_stats.online_cpus": 4,
          "cpu_stats.system_cpu_usage": 4035840420000000,
          "cpu_usage_perc": 13.037616580310882,
          "precpu_stats.cpu_usage.total_usage": 83965441000,
          "precpu_stats.system_cpu_usage": 4035836560000000,
          "read": "2022-11-08T19:42:30.994336189",
          "system_cpu_delta": 3860000000
         },
         {
          "cpu_delta": 131417000,
          "cpu_stats.cpu_usage.total_usage": 84348183000,
          "cpu_stats.online_cpus": 4,
          "cpu_stats.system_cpu_usage": 4035848070000000,
          "cpu_usage_perc": 13.725013054830287,
          "precpu_stats.cpu_usage.total_usage": 84216766000,
          "precpu_stats.system_cpu_usage": 4035844240000000,
          "read": "2022-11-08T19:42:33.026952695",
          "system_cpu_delta": 3830000000
         },
         {
          "cpu_delta": 125472000,
          "cpu_stats.cpu_usage.total_usage": 84605282000,
          "cpu_stats.online_cpus": 4,
          "cpu_stats.system_cpu_usage": 4035855810000000,
          "cpu_usage_perc": 12.935257731958764,
          "precpu_stats.cpu_usage.total_usage": 84479810000,
          "precpu_stats.system_cpu_usage": 4035851930000000,
          "read": "2022-11-08T19:42:35.061261387",
          "system_cpu_delta": 3880000000
         },
         {
          "cpu_delta": 125499000,
          "cpu_stats.cpu_usage.total_usage": 84855218000,
          "cpu_stats.online_cpus": 4,
          "cpu_stats.system_cpu_usage": 4035863590000000,
          "cpu_usage_perc": 12.971472868217054,
          "precpu_stats.cpu_usage.total_usage": 84729719000,
          "precpu_stats.system_cpu_usage": 4035859720000000,
          "read": "2022-11-08T19:42:37.104845641",
          "system_cpu_delta": 3870000000
         },
         {
          "cpu_delta": 124580000,
          "cpu_stats.cpu_usage.total_usage": 85116116000,
          "cpu_stats.online_cpus": 4,
          "cpu_stats.system_cpu_usage": 4035871580000000,
          "cpu_usage_perc": 12.154146341463415,
          "precpu_stats.cpu_usage.total_usage": 84991536000,
          "precpu_stats.system_cpu_usage": 4035867480000000,
          "read": "2022-11-08T19:42:39.214674558",
          "system_cpu_delta": 4100000000
         },
         {
          "cpu_delta": 126090000,
          "cpu_stats.cpu_usage.total_usage": 85379021000,
          "cpu_stats.online_cpus": 4,
          "cpu_stats.system_cpu_usage": 4035879360000000,
          "cpu_usage_perc": 13.066321243523316,
          "precpu_stats.cpu_usage.total_usage": 85252931000,
          "precpu_stats.system_cpu_usage": 4035875500000000,
          "read": "2022-11-08T19:42:41.267007631",
          "system_cpu_delta": 3860000000
         },
         {
          "cpu_delta": 124215000,
          "cpu_stats.cpu_usage.total_usage": 85629150000,
          "cpu_stats.online_cpus": 4,
          "cpu_stats.system_cpu_usage": 4035887160000000,
          "cpu_usage_perc": 12.707416879795396,
          "precpu_stats.cpu_usage.total_usage": 85504935000,
          "precpu_stats.system_cpu_usage": 4035883250000000,
          "read": "2022-11-08T19:42:43.278033957",
          "system_cpu_delta": 3910000000
         },
         {
          "cpu_delta": 128993000,
          "cpu_stats.cpu_usage.total_usage": 85890176000,
          "cpu_stats.online_cpus": 4,
          "cpu_stats.system_cpu_usage": 4035894870000000,
          "cpu_usage_perc": 13.298247422680411,
          "precpu_stats.cpu_usage.total_usage": 85761183000,
          "precpu_stats.system_cpu_usage": 4035890990000000,
          "read": "2022-11-08T19:42:45.311761498",
          "system_cpu_delta": 3880000000
         },
         {
          "cpu_delta": 125172000,
          "cpu_stats.cpu_usage.total_usage": 86140342000,
          "cpu_stats.online_cpus": 4,
          "cpu_stats.system_cpu_usage": 4035902540000000,
          "cpu_usage_perc": 12.97119170984456,
          "precpu_stats.cpu_usage.total_usage": 86015170000,
          "precpu_stats.system_cpu_usage": 4035898680000000,
          "read": "2022-11-08T19:42:47.338514913",
          "system_cpu_delta": 3860000000
         },
         {
          "cpu_delta": 138023000,
          "cpu_stats.cpu_usage.total_usage": 86403195000,
          "cpu_stats.online_cpus": 4,
          "cpu_stats.system_cpu_usage": 4035910360000000,
          "cpu_usage_perc": 13.941717171717173,
          "precpu_stats.cpu_usage.total_usage": 86265172000,
          "precpu_stats.system_cpu_usage": 4035906400000000,
          "read": "2022-11-08T19:42:49.410431868",
          "system_cpu_delta": 3960000000
         },
         {
          "cpu_delta": 132726000,
          "cpu_stats.cpu_usage.total_usage": 86661199000,
          "cpu_stats.online_cpus": 4,
          "cpu_stats.system_cpu_usage": 4035918330000000,
          "cpu_usage_perc": 13.339296482412061,
          "precpu_stats.cpu_usage.total_usage": 86528473000,
          "precpu_stats.system_cpu_usage": 4035914350000000,
          "read": "2022-11-08T19:42:51.497874521",
          "system_cpu_delta": 3980000000
         },
         {
          "cpu_delta": 125629000,
          "cpu_stats.cpu_usage.total_usage": 86915692000,
          "cpu_stats.online_cpus": 4,
          "cpu_stats.system_cpu_usage": 4035926060000000,
          "cpu_usage_perc": 12.951443298969073,
          "precpu_stats.cpu_usage.total_usage": 86790063000,
          "precpu_stats.system_cpu_usage": 4035922180000000,
          "read": "2022-11-08T19:42:53.521648722",
          "system_cpu_delta": 3880000000
         },
         {
          "cpu_delta": 125761000,
          "cpu_stats.cpu_usage.total_usage": 87166078000,
          "cpu_stats.online_cpus": 4,
          "cpu_stats.system_cpu_usage": 4035933800000000,
          "cpu_usage_perc": 12.965051546391754,
          "precpu_stats.cpu_usage.total_usage": 87040317000,
          "precpu_stats.system_cpu_usage": 4035929920000000,
          "read": "2022-11-08T19:42:55.562558556",
          "system_cpu_delta": 3880000000
         },
         {
          "cpu_delta": 130123000,
          "cpu_stats.cpu_usage.total_usage": 87421708000,
          "cpu_stats.online_cpus": 4,
          "cpu_stats.system_cpu_usage": 4035941420000000,
          "cpu_usage_perc": 13.697157894736842,
          "precpu_stats.cpu_usage.total_usage": 87291585000,
          "precpu_stats.system_cpu_usage": 4035937620000000,
          "read": "2022-11-08T19:42:57.596637280",
          "system_cpu_delta": 3800000000
         },
         {
          "cpu_delta": 124298000,
          "cpu_stats.cpu_usage.total_usage": 87677473000,
          "cpu_stats.online_cpus": 4,
          "cpu_stats.system_cpu_usage": 4035949130000000,
          "cpu_usage_perc": 12.847338501291988,
          "precpu_stats.cpu_usage.total_usage": 87553175000,
          "precpu_stats.system_cpu_usage": 4035945260000000,
          "read": "2022-11-08T19:42:59.625012654",
          "system_cpu_delta": 3870000000
         },
         {
          "cpu_delta": 136186000,
          "cpu_stats.cpu_usage.total_usage": 87939010000,
          "cpu_stats.online_cpus": 4,
          "cpu_stats.system_cpu_usage": 4035957090000000,
          "cpu_usage_perc": 13.584638403990024,
          "precpu_stats.cpu_usage.total_usage": 87802824000,
          "precpu_stats.system_cpu_usage": 4035953080000000,
          "read": "2022-11-08T19:43:01.725523446",
          "system_cpu_delta": 4010000000
         },
         {
          "cpu_delta": 124877000,
          "cpu_stats.cpu_usage.total_usage": 88189845000,
          "cpu_stats.online_cpus": 4,
          "cpu_stats.system_cpu_usage": 4035964850000000,
          "cpu_usage_perc": 12.940621761658031,
          "precpu_stats.cpu_usage.total_usage": 88064968000,
          "precpu_stats.system_cpu_usage": 4035960990000000,
          "read": "2022-11-08T19:43:03.777682271",
          "system_cpu_delta": 3860000000
         },
         {
          "cpu_delta": 130770000,
          "cpu_stats.cpu_usage.total_usage": 88452756000,
          "cpu_stats.online_cpus": 4,
          "cpu_stats.system_cpu_usage": 4035972610000000,
          "cpu_usage_perc": 13.412307692307692,
          "precpu_stats.cpu_usage.total_usage": 88321986000,
          "precpu_stats.system_cpu_usage": 4035968710000000,
          "read": "2022-11-08T19:43:05.813516996",
          "system_cpu_delta": 3900000000
         },
         {
          "cpu_delta": 125961000,
          "cpu_stats.cpu_usage.total_usage": 88705348000,
          "cpu_stats.online_cpus": 4,
          "cpu_stats.system_cpu_usage": 4035980340000000,
          "cpu_usage_perc": 12.95228791773779,
          "precpu_stats.cpu_usage.total_usage": 88579387000,
          "precpu_stats.system_cpu_usage": 4035976450000000,
          "read": "2022-11-08T19:43:07.847058797",
          "system_cpu_delta": 3890000000
         },
         {
          "cpu_delta": 132144000,
          "cpu_stats.cpu_usage.total_usage": 88960340000,
          "cpu_stats.online_cpus": 4,
          "cpu_stats.system_cpu_usage": 4035988120000000,
          "cpu_usage_perc": 13.415634517766497,
          "precpu_stats.cpu_usage.total_usage": 88828196000,
          "precpu_stats.system_cpu_usage": 4035984180000000,
          "read": "2022-11-08T19:43:09.899458750",
          "system_cpu_delta": 3940000000
         },
         {
          "cpu_delta": 125788000,
          "cpu_stats.cpu_usage.total_usage": 89215727000,
          "cpu_stats.online_cpus": 4,
          "cpu_stats.system_cpu_usage": 4035995870000000,
          "cpu_usage_perc": 12.934498714652957,
          "precpu_stats.cpu_usage.total_usage": 89089939000,
          "precpu_stats.system_cpu_usage": 4035991980000000,
          "read": "2022-11-08T19:43:11.944916782",
          "system_cpu_delta": 3890000000
         },
         {
          "cpu_delta": 137356000,
          "cpu_stats.cpu_usage.total_usage": 89478511000,
          "cpu_stats.online_cpus": 4,
          "cpu_stats.system_cpu_usage": 4036003710000000,
          "cpu_usage_perc": 14.015918367346938,
          "precpu_stats.cpu_usage.total_usage": 89341155000,
          "precpu_stats.system_cpu_usage": 4035999790000000,
          "read": "2022-11-08T19:43:13.997362347",
          "system_cpu_delta": 3920000000
         },
         {
          "cpu_delta": 124619000,
          "cpu_stats.cpu_usage.total_usage": 89727562000,
          "cpu_stats.online_cpus": 4,
          "cpu_stats.system_cpu_usage": 4036011460000000,
          "cpu_usage_perc": 12.847319587628867,
          "precpu_stats.cpu_usage.total_usage": 89602943000,
          "precpu_stats.system_cpu_usage": 4036007580000000,
          "read": "2022-11-08T19:43:16.039195194",
          "system_cpu_delta": 3880000000
         },
         {
          "cpu_delta": 133722000,
          "cpu_stats.cpu_usage.total_usage": 89987354000,
          "cpu_stats.online_cpus": 4,
          "cpu_stats.system_cpu_usage": 4036019240000000,
          "cpu_usage_perc": 13.785773195876288,
          "precpu_stats.cpu_usage.total_usage": 89853632000,
          "precpu_stats.system_cpu_usage": 4036015360000000,
          "read": "2022-11-08T19:43:18.082612315",
          "system_cpu_delta": 3880000000
         },
         {
          "cpu_delta": 125764000,
          "cpu_stats.cpu_usage.total_usage": 90241888000,
          "cpu_stats.online_cpus": 4,
          "cpu_stats.system_cpu_usage": 4036026990000000,
          "cpu_usage_perc": 12.965360824742266,
          "precpu_stats.cpu_usage.total_usage": 90116124000,
          "precpu_stats.system_cpu_usage": 4036023110000000,
          "read": "2022-11-08T19:43:20.122274714",
          "system_cpu_delta": 3880000000
         },
         {
          "cpu_delta": 124184000,
          "cpu_stats.cpu_usage.total_usage": 90491040000,
          "cpu_stats.online_cpus": 4,
          "cpu_stats.system_cpu_usage": 4036034790000000,
          "cpu_usage_perc": 12.704245524296676,
          "precpu_stats.cpu_usage.total_usage": 90366856000,
          "precpu_stats.system_cpu_usage": 4036030880000000,
          "read": "2022-11-08T19:43:22.161945433",
          "system_cpu_delta": 3910000000
         },
         {
          "cpu_delta": 125201000,
          "cpu_stats.cpu_usage.total_usage": 90753686000,
          "cpu_stats.online_cpus": 4,
          "cpu_stats.system_cpu_usage": 4036042670000000,
          "cpu_usage_perc": 12.551478696741855,
          "precpu_stats.cpu_usage.total_usage": 90628485000,
          "precpu_stats.system_cpu_usage": 4036038680000000,
          "read": "2022-11-08T19:43:24.248480456",
          "system_cpu_delta": 3990000000
         },
         {
          "cpu_delta": 125395000,
          "cpu_stats.cpu_usage.total_usage": 91016859000,
          "cpu_stats.online_cpus": 4,
          "cpu_stats.system_cpu_usage": 4036050530000000,
          "cpu_usage_perc": 13.199473684210528,
          "precpu_stats.cpu_usage.total_usage": 90891464000,
          "precpu_stats.system_cpu_usage": 4036046730000000,
          "read": "2022-11-08T19:43:26.321309689",
          "system_cpu_delta": 3800000000
         },
         {
          "cpu_delta": 123984000,
          "cpu_stats.cpu_usage.total_usage": 91265454000,
          "cpu_stats.online_cpus": 4,
          "cpu_stats.system_cpu_usage": 4036058190000000,
          "cpu_usage_perc": 13.016692913385826,
          "precpu_stats.cpu_usage.total_usage": 91141470000,
          "precpu_stats.system_cpu_usage": 4036054380000000,
          "read": "2022-11-08T19:43:28.341470684",
          "system_cpu_delta": 3810000000
         },
         {
          "cpu_delta": 124909000,
          "cpu_stats.cpu_usage.total_usage": 91515394000,
          "cpu_stats.online_cpus": 4,
          "cpu_stats.system_cpu_usage": 4036065930000000,
          "cpu_usage_perc": 12.943937823834197,
          "precpu_stats.cpu_usage.total_usage": 91390485000,
          "precpu_stats.system_cpu_usage": 4036062070000000,
          "read": "2022-11-08T19:43:30.370596272",
          "system_cpu_delta": 3860000000
         },
         {
          "cpu_delta": 124863000,
          "cpu_stats.cpu_usage.total_usage": 91777981000,
          "cpu_stats.online_cpus": 4,
          "cpu_stats.system_cpu_usage": 4036073600000000,
          "cpu_usage_perc": 13.040522193211487,
          "precpu_stats.cpu_usage.total_usage": 91653118000,
          "precpu_stats.system_cpu_usage": 4036069770000000,
          "read": "2022-11-08T19:43:32.400455994",
          "system_cpu_delta": 3830000000
         },
         {
          "cpu_delta": 124619000,
          "cpu_stats.cpu_usage.total_usage": 92028474000,
          "cpu_stats.online_cpus": 4,
          "cpu_stats.system_cpu_usage": 4036081320000000,
          "cpu_usage_perc": 12.981145833333333,
          "precpu_stats.cpu_usage.total_usage": 91903855000,
          "precpu_stats.system_cpu_usage": 4036077480000000,
          "read": "2022-11-08T19:43:34.429287792",
          "system_cpu_delta": 3840000000
         },
         {
          "cpu_delta": 126361000,
          "cpu_stats.cpu_usage.total_usage": 92291455000,
          "cpu_stats.online_cpus": 4,
          "cpu_stats.system_cpu_usage": 4036089350000000,
          "cpu_usage_perc": 13.196971279373368,
          "precpu_stats.cpu_usage.total_usage": 92165094000,
          "precpu_stats.system_cpu_usage": 4036085520000000,
          "read": "2022-11-08T19:43:36.548995163",
          "system_cpu_delta": 3830000000
         },
         {
          "cpu_delta": 136171000,
          "cpu_stats.cpu_usage.total_usage": 92552569000,
          "cpu_stats.online_cpus": 4,
          "cpu_stats.system_cpu_usage": 4036097040000000,
          "cpu_usage_perc": 14.147636363636366,
          "precpu_stats.cpu_usage.total_usage": 92416398000,
          "precpu_stats.system_cpu_usage": 4036093190000000,
          "read": "2022-11-08T19:43:38.588613001",
          "system_cpu_delta": 3850000000
         },
         {
          "cpu_delta": 125597000,
          "cpu_stats.cpu_usage.total_usage": 92803081000,
          "cpu_stats.online_cpus": 4,
          "cpu_stats.system_cpu_usage": 4036104710000000,
          "cpu_usage_perc": 13.15151832460733,
          "precpu_stats.cpu_usage.total_usage": 92677484000,
          "precpu_stats.system_cpu_usage": 4036100890000000,
          "read": "2022-11-08T19:43:40.608683943",
          "system_cpu_delta": 3820000000
         },
         {
          "cpu_delta": 125000000,
          "cpu_stats.cpu_usage.total_usage": 93052815000,
          "cpu_stats.online_cpus": 4,
          "cpu_stats.system_cpu_usage": 4036112470000000,
          "cpu_usage_perc": 12.755102040816327,
          "precpu_stats.cpu_usage.total_usage": 92927815000,
          "precpu_stats.system_cpu_usage": 4036108550000000,
          "read": "2022-11-08T19:43:42.639079199",
          "system_cpu_delta": 3920000000
         },
         {
          "cpu_delta": 123997000,
          "cpu_stats.cpu_usage.total_usage": 93302233000,
          "cpu_stats.online_cpus": 4,
          "cpu_stats.system_cpu_usage": 4036120180000000,
          "cpu_usage_perc": 12.950078328981723,
          "precpu_stats.cpu_usage.total_usage": 93178236000,
          "precpu_stats.system_cpu_usage": 4036116350000000,
          "read": "2022-11-08T19:43:44.643945089",
          "system_cpu_delta": 3830000000
         },
         {
          "cpu_delta": 128701000,
          "cpu_stats.cpu_usage.total_usage": 93565768000,
          "cpu_stats.online_cpus": 4,
          "cpu_stats.system_cpu_usage": 4036128020000000,
          "cpu_usage_perc": 12.8701,
          "precpu_stats.cpu_usage.total_usage": 93437067000,
          "precpu_stats.system_cpu_usage": 4036124020000000,
          "read": "2022-11-08T19:43:46.727223530",
          "system_cpu_delta": 4000000000
         },
         {
          "cpu_delta": 126463000,
          "cpu_stats.cpu_usage.total_usage": 93828444000,
          "cpu_stats.online_cpus": 4,
          "cpu_stats.system_cpu_usage": 4036135750000000,
          "cpu_usage_perc": 13.139012987012988,
          "precpu_stats.cpu_usage.total_usage": 93701981000,
          "precpu_stats.system_cpu_usage": 4036131900000000,
          "read": "2022-11-08T19:43:48.776534632",
          "system_cpu_delta": 3850000000
         },
         {
          "cpu_delta": 124629000,
          "cpu_stats.cpu_usage.total_usage": 94077869000,
          "cpu_stats.online_cpus": 4,
          "cpu_stats.system_cpu_usage": 4036143530000000,
          "cpu_usage_perc": 12.815321336760926,
          "precpu_stats.cpu_usage.total_usage": 93953240000,
          "precpu_stats.system_cpu_usage": 4036139640000000,
          "read": "2022-11-08T19:43:50.820683431",
          "system_cpu_delta": 3890000000
         },
         {
          "cpu_delta": 125190000,
          "cpu_stats.cpu_usage.total_usage": 94328805000,
          "cpu_stats.online_cpus": 4,
          "cpu_stats.system_cpu_usage": 4036151230000000,
          "cpu_usage_perc": 13.006753246753247,
          "precpu_stats.cpu_usage.total_usage": 94203615000,
          "precpu_stats.system_cpu_usage": 4036147380000000,
          "read": "2022-11-08T19:43:52.847679405",
          "system_cpu_delta": 3850000000
         },
         {
          "cpu_delta": 124144000,
          "cpu_stats.cpu_usage.total_usage": 94590388000,
          "cpu_stats.online_cpus": 4,
          "cpu_stats.system_cpu_usage": 4036158940000000,
          "cpu_usage_perc": 13.067789473684211,
          "precpu_stats.cpu_usage.total_usage": 94466244000,
          "precpu_stats.system_cpu_usage": 4036155140000000,
          "read": "2022-11-08T19:43:54.889722872",
          "system_cpu_delta": 3800000000
         },
         {
          "cpu_delta": 125301000,
          "cpu_stats.cpu_usage.total_usage": 94840286000,
          "cpu_stats.online_cpus": 4,
          "cpu_stats.system_cpu_usage": 4036166460000000,
          "cpu_usage_perc": 13.43710455764075,
          "precpu_stats.cpu_usage.total_usage": 94714985000,
          "precpu_stats.system_cpu_usage": 4036162730000000,
          "read": "2022-11-08T19:43:56.935645367",
          "system_cpu_delta": 3730000000
         },
         {
          "cpu_delta": 126949000,
          "cpu_stats.cpu_usage.total_usage": 95104632000,
          "cpu_stats.online_cpus": 4,
          "cpu_stats.system_cpu_usage": 4036174450000000,
          "cpu_usage_perc": 12.987109974424552,
          "precpu_stats.cpu_usage.total_usage": 94977683000,
          "precpu_stats.system_cpu_usage": 4036170540000000,
          "read": "2022-11-08T19:43:59.047754128",
          "system_cpu_delta": 3910000000
         },
         {
          "cpu_delta": 133130000,
          "cpu_stats.cpu_usage.total_usage": 95366658000,
          "cpu_stats.online_cpus": 4,
          "cpu_stats.system_cpu_usage": 4036182120000000,
          "cpu_usage_perc": 13.940314136125654,
          "precpu_stats.cpu_usage.total_usage": 95233528000,
          "precpu_stats.system_cpu_usage": 4036178300000000,
          "read": "2022-11-08T19:44:01.069486447",
          "system_cpu_delta": 3820000000
         },
         {
          "cpu_delta": 125709000,
          "cpu_stats.cpu_usage.total_usage": 95615939000,
          "cpu_stats.online_cpus": 4,
          "cpu_stats.system_cpu_usage": 4036189870000000,
          "cpu_usage_perc": 12.926375321336762,
          "precpu_stats.cpu_usage.total_usage": 95490230000,
          "precpu_stats.system_cpu_usage": 4036185980000000,
          "read": "2022-11-08T19:44:03.111373283",
          "system_cpu_delta": 3890000000
         },
         {
          "cpu_delta": 125755000,
          "cpu_stats.cpu_usage.total_usage": 95867028000,
          "cpu_stats.online_cpus": 4,
          "cpu_stats.system_cpu_usage": 4036197650000000,
          "cpu_usage_perc": 12.832142857142856,
          "precpu_stats.cpu_usage.total_usage": 95741273000,
          "precpu_stats.system_cpu_usage": 4036193730000000,
          "read": "2022-11-08T19:44:05.151159786",
          "system_cpu_delta": 3920000000
         },
         {
          "cpu_delta": 124848000,
          "cpu_stats.cpu_usage.total_usage": 96129389000,
          "cpu_stats.online_cpus": 4,
          "cpu_stats.system_cpu_usage": 4036205350000000,
          "cpu_usage_perc": 13.004999999999999,
          "precpu_stats.cpu_usage.total_usage": 96004541000,
          "precpu_stats.system_cpu_usage": 4036201510000000,
          "read": "2022-11-08T19:44:07.180865033",
          "system_cpu_delta": 3840000000
         },
         {
          "cpu_delta": 137354000,
          "cpu_stats.cpu_usage.total_usage": 96390925000,
          "cpu_stats.online_cpus": 4,
          "cpu_stats.system_cpu_usage": 4036213240000000,
          "cpu_usage_perc": 13.667064676616917,
          "precpu_stats.cpu_usage.total_usage": 96253571000,
          "precpu_stats.system_cpu_usage": 4036209220000000,
          "read": "2022-11-08T19:44:09.270729630",
          "system_cpu_delta": 4020000000
         },
         {
          "cpu_delta": 124968000,
          "cpu_stats.cpu_usage.total_usage": 96642172000,
          "cpu_stats.online_cpus": 4,
          "cpu_stats.system_cpu_usage": 4036221050000000,
          "cpu_usage_perc": 12.916589147286823,
          "precpu_stats.cpu_usage.total_usage": 96517204000,
          "precpu_stats.system_cpu_usage": 4036217180000000,
          "read": "2022-11-08T19:44:11.328287534",
          "system_cpu_delta": 3870000000
         },
         {
          "cpu_delta": 135693000,
          "cpu_stats.cpu_usage.total_usage": 96903403000,
          "cpu_stats.online_cpus": 4,
          "cpu_stats.system_cpu_usage": 4036228810000000,
          "cpu_usage_perc": 13.953007712082263,
          "precpu_stats.cpu_usage.total_usage": 96767710000,
          "precpu_stats.system_cpu_usage": 4036224920000000,
          "read": "2022-11-08T19:44:13.341938153",
          "system_cpu_delta": 3890000000
         },
         {
          "cpu_delta": 125836000,
          "cpu_stats.cpu_usage.total_usage": 97152984000,
          "cpu_stats.online_cpus": 4,
          "cpu_stats.system_cpu_usage": 4036236510000000,
          "cpu_usage_perc": 12.97278350515464,
          "precpu_stats.cpu_usage.total_usage": 97027148000,
          "precpu_stats.system_cpu_usage": 4036232630000000,
          "read": "2022-11-08T19:44:15.376795792",
          "system_cpu_delta": 3880000000
         },
         {
          "cpu_delta": 125560000,
          "cpu_stats.cpu_usage.total_usage": 97403484000,
          "cpu_stats.online_cpus": 4,
          "cpu_stats.system_cpu_usage": 4036244230000000,
          "cpu_usage_perc": 12.911053984575835,
          "precpu_stats.cpu_usage.total_usage": 97277924000,
          "precpu_stats.system_cpu_usage": 4036240340000000,
          "read": "2022-11-08T19:44:17.423052188",
          "system_cpu_delta": 3890000000
         },
         {
          "cpu_delta": 127357000,
          "cpu_stats.cpu_usage.total_usage": 97666239000,
          "cpu_stats.online_cpus": 4,
          "cpu_stats.system_cpu_usage": 4036251970000000,
          "cpu_usage_perc": 13.163514211886303,
          "precpu_stats.cpu_usage.total_usage": 97538882000,
          "precpu_stats.system_cpu_usage": 4036248100000000,
          "read": "2022-11-08T19:44:19.470957799",
          "system_cpu_delta": 3870000000
         },
         {
          "cpu_delta": 136673000,
          "cpu_stats.cpu_usage.total_usage": 97926689000,
          "cpu_stats.online_cpus": 4,
          "cpu_stats.system_cpu_usage": 4036259760000000,
          "cpu_usage_perc": 13.981892583120203,
          "precpu_stats.cpu_usage.total_usage": 97790016000,
          "precpu_stats.system_cpu_usage": 4036255850000000,
          "read": "2022-11-08T19:44:21.546019515",
          "system_cpu_delta": 3910000000
         },
         {
          "cpu_delta": 124806000,
          "cpu_stats.cpu_usage.total_usage": 98178607000,
          "cpu_stats.online_cpus": 4,
          "cpu_stats.system_cpu_usage": 4036267490000000,
          "cpu_usage_perc": 12.800615384615385,
          "precpu_stats.cpu_usage.total_usage": 98053801000,
          "precpu_stats.system_cpu_usage": 4036263590000000,
          "read": "2022-11-08T19:44:23.587872995",
          "system_cpu_delta": 3900000000
         },
         {
          "cpu_delta": 127474000,
          "cpu_stats.cpu_usage.total_usage": 98428140000,
          "cpu_stats.online_cpus": 4,
          "cpu_stats.system_cpu_usage": 4036275120000000,
          "cpu_usage_perc": 13.453720316622691,
          "precpu_stats.cpu_usage.total_usage": 98300666000,
          "precpu_stats.system_cpu_usage": 4036271330000000,
          "read": "2022-11-08T19:44:25.616893247",
          "system_cpu_delta": 3790000000
         },
         {
          "cpu_delta": 124865000,
          "cpu_stats.cpu_usage.total_usage": 98681896000,
          "cpu_stats.online_cpus": 4,
          "cpu_stats.system_cpu_usage": 4036282530000000,
          "cpu_usage_perc": 13.683835616438355,
          "precpu_stats.cpu_usage.total_usage": 98557031000,
          "precpu_stats.system_cpu_usage": 4036278880000000,
          "read": "2022-11-08T19:44:27.650775279",
          "system_cpu_delta": 3650000000
         },
         {
          "cpu_delta": 126473000,
          "cpu_stats.cpu_usage.total_usage": 98940134000,
          "cpu_stats.online_cpus": 4,
          "cpu_stats.system_cpu_usage": 4036289910000000,
          "cpu_usage_perc": 13.635902964959568,
          "precpu_stats.cpu_usage.total_usage": 98813661000,
          "precpu_stats.system_cpu_usage": 4036286200000000,
          "read": "2022-11-08T19:44:29.689902157",
          "system_cpu_delta": 3710000000
         },
         {
          "cpu_delta": 129160000,
          "cpu_stats.cpu_usage.total_usage": 99194333000,
          "cpu_stats.online_cpus": 4,
          "cpu_stats.system_cpu_usage": 4036297100000000,
          "cpu_usage_perc": 13.777066666666668,
          "precpu_stats.cpu_usage.total_usage": 99065173000,
          "precpu_stats.system_cpu_usage": 4036293350000000,
          "read": "2022-11-08T19:44:31.742186266",
          "system_cpu_delta": 3750000000
         },
         {
          "cpu_delta": 136290000,
          "cpu_stats.cpu_usage.total_usage": 99464686000,
          "cpu_stats.online_cpus": 4,
          "cpu_stats.system_cpu_usage": 4036304770000000,
          "cpu_usage_perc": 14.61554959785523,
          "precpu_stats.cpu_usage.total_usage": 99328396000,
          "precpu_stats.system_cpu_usage": 4036301040000000,
          "read": "2022-11-08T19:44:33.849262295",
          "system_cpu_delta": 3730000000
         },
         {
          "cpu_delta": 122602000,
          "cpu_stats.cpu_usage.total_usage": 99712347000,
          "cpu_stats.online_cpus": 4,
          "cpu_stats.system_cpu_usage": 4036312190000000,
          "cpu_usage_perc": 13.290189701897019,
          "precpu_stats.cpu_usage.total_usage": 99589745000,
          "precpu_stats.system_cpu_usage": 4036308500000000,
          "read": "2022-11-08T19:44:35.869694581",
          "system_cpu_delta": 3690000000
         },
         {
          "cpu_delta": 125271000,
          "cpu_stats.cpu_usage.total_usage": 99963161000,
          "cpu_stats.online_cpus": 4,
          "cpu_stats.system_cpu_usage": 4036319560000000,
          "cpu_usage_perc": 13.653514986376022,
          "precpu_stats.cpu_usage.total_usage": 99837890000,
          "precpu_stats.system_cpu_usage": 4036315890000000,
          "read": "2022-11-08T19:44:37.905683367",
          "system_cpu_delta": 3670000000
         },
         {
          "cpu_delta": 128383000,
          "cpu_stats.cpu_usage.total_usage": 100215651000,
          "cpu_stats.online_cpus": 4,
          "cpu_stats.system_cpu_usage": 4036326890000000,
          "cpu_usage_perc": 13.954673913043477,
          "precpu_stats.cpu_usage.total_usage": 100087268000,
          "precpu_stats.system_cpu_usage": 4036323210000000,
          "read": "2022-11-08T19:44:39.939689645",
          "system_cpu_delta": 3680000000
         },
         {
          "cpu_delta": 126134000,
          "cpu_stats.cpu_usage.total_usage": 100476059000,
          "cpu_stats.online_cpus": 4,
          "cpu_stats.system_cpu_usage": 4036334250000000,
          "cpu_usage_perc": 13.785136612021859,
          "precpu_stats.cpu_usage.total_usage": 100349925000,
          "precpu_stats.system_cpu_usage": 4036330590000000,
          "read": "2022-11-08T19:44:41.975069286",
          "system_cpu_delta": 3660000000
         },
         {
          "cpu_delta": 136663000,
          "cpu_stats.cpu_usage.total_usage": 100737873000,
          "cpu_stats.online_cpus": 4,
          "cpu_stats.system_cpu_usage": 4036341930000000,
          "cpu_usage_perc": 13.804343434343435,
          "precpu_stats.cpu_usage.total_usage": 100601210000,
          "precpu_stats.system_cpu_usage": 4036337970000000,
          "read": "2022-11-08T19:44:44.059012820",
          "system_cpu_delta": 3960000000
         },
         {
          "cpu_delta": 124278000,
          "cpu_stats.cpu_usage.total_usage": 100987623000,
          "cpu_stats.online_cpus": 4,
          "cpu_stats.system_cpu_usage": 4036349330000000,
          "cpu_usage_perc": 13.582295081967214,
          "precpu_stats.cpu_usage.total_usage": 100863345000,
          "precpu_stats.system_cpu_usage": 4036345670000000,
          "read": "2022-11-08T19:44:46.094741239",
          "system_cpu_delta": 3660000000
         },
         {
          "cpu_delta": 137149000,
          "cpu_stats.cpu_usage.total_usage": 101250084000,
          "cpu_stats.online_cpus": 4,
          "cpu_stats.system_cpu_usage": 4036356720000000,
          "cpu_usage_perc": 15.071318681318683,
          "precpu_stats.cpu_usage.total_usage": 101112935000,
          "precpu_stats.system_cpu_usage": 4036353080000000,
          "read": "2022-11-08T19:44:48.142537544",
          "system_cpu_delta": 3640000000
         },
         {
          "cpu_delta": 123951000,
          "cpu_stats.cpu_usage.total_usage": 101499661000,
          "cpu_stats.online_cpus": 4,
          "cpu_stats.system_cpu_usage": 4036364050000000,
          "cpu_usage_perc": 13.546557377049181,
          "precpu_stats.cpu_usage.total_usage": 101375710000,
          "precpu_stats.system_cpu_usage": 4036360390000000,
          "read": "2022-11-08T19:44:50.164127572",
          "system_cpu_delta": 3660000000
         },
         {
          "cpu_delta": 123745000,
          "cpu_stats.cpu_usage.total_usage": 101749779000,
          "cpu_stats.online_cpus": 4,
          "cpu_stats.system_cpu_usage": 4036371430000000,
          "cpu_usage_perc": 13.598351648351647,
          "precpu_stats.cpu_usage.total_usage": 101626034000,
          "precpu_stats.system_cpu_usage": 4036367790000000,
          "read": "2022-11-08T19:44:52.197582439",
          "system_cpu_delta": 3640000000
         },
         {
          "cpu_delta": 136564000,
          "cpu_stats.cpu_usage.total_usage": 102014171000,
          "cpu_stats.online_cpus": 4,
          "cpu_stats.system_cpu_usage": 4036378970000000,
          "cpu_usage_perc": 14.413087071240104,
          "precpu_stats.cpu_usage.total_usage": 101877607000,
          "precpu_stats.system_cpu_usage": 4036375180000000,
          "read": "2022-11-08T19:44:54.254697874",
          "system_cpu_delta": 3790000000
         },
         {
          "cpu_delta": 126178000,
          "cpu_stats.cpu_usage.total_usage": 102271986000,
          "cpu_stats.online_cpus": 4,
          "cpu_stats.system_cpu_usage": 4036386720000000,
          "cpu_usage_perc": 13.567526881720429,
          "precpu_stats.cpu_usage.total_usage": 102145808000,
          "precpu_stats.system_cpu_usage": 4036383000000000,
          "read": "2022-11-08T19:44:56.369578764",
          "system_cpu_delta": 3720000000
         },
         {
          "cpu_delta": 127111000,
          "cpu_stats.cpu_usage.total_usage": 102522942000,
          "cpu_stats.online_cpus": 4,
          "cpu_stats.system_cpu_usage": 4036394210000000,
          "cpu_usage_perc": 13.450899470899472,
          "precpu_stats.cpu_usage.total_usage": 102395831000,
          "precpu_stats.system_cpu_usage": 4036390430000000,
          "read": "2022-11-08T19:44:58.412581870",
          "system_cpu_delta": 3780000000
         },
         {
          "cpu_delta": 132470000,
          "cpu_stats.cpu_usage.total_usage": 102784041000,
          "cpu_stats.online_cpus": 4,
          "cpu_stats.system_cpu_usage": 4036401560000000,
          "cpu_usage_perc": 14.477595628415301,
          "precpu_stats.cpu_usage.total_usage": 102651571000,
          "precpu_stats.system_cpu_usage": 4036397900000000,
          "read": "2022-11-08T19:45:00.437973486",
          "system_cpu_delta": 3660000000
         },
         {
          "cpu_delta": 126042000,
          "cpu_stats.cpu_usage.total_usage": 103033765000,
          "cpu_stats.online_cpus": 4,
          "cpu_stats.system_cpu_usage": 4036408930000000,
          "cpu_usage_perc": 13.737547683923706,
          "precpu_stats.cpu_usage.total_usage": 102907723000,
          "precpu_stats.system_cpu_usage": 4036405260000000,
          "read": "2022-11-08T19:45:02.463530749",
          "system_cpu_delta": 3670000000
         },
         {
          "cpu_delta": 124318000,
          "cpu_stats.cpu_usage.total_usage": 103283204000,
          "cpu_stats.online_cpus": 4,
          "cpu_stats.system_cpu_usage": 4036416270000000,
          "cpu_usage_perc": 13.512826086956522,
          "precpu_stats.cpu_usage.total_usage": 103158886000,
          "precpu_stats.system_cpu_usage": 4036412590000000,
          "read": "2022-11-08T19:45:04.482118258",
          "system_cpu_delta": 3680000000
         },
         {
          "cpu_delta": 137468000,
          "cpu_stats.cpu_usage.total_usage": 103545036000,
          "cpu_stats.online_cpus": 4,
          "cpu_stats.system_cpu_usage": 4036423880000000,
          "cpu_usage_perc": 14.063222506393863,
          "precpu_stats.cpu_usage.total_usage": 103407568000,
          "precpu_stats.system_cpu_usage": 4036419970000000,
          "read": "2022-11-08T19:45:06.575940940",
          "system_cpu_delta": 3910000000
         },
         {
          "cpu_delta": 124044000,
          "cpu_stats.cpu_usage.total_usage": 103807511000,
          "cpu_stats.online_cpus": 4,
          "cpu_stats.system_cpu_usage": 4036431560000000,
          "cpu_usage_perc": 13.266737967914437,
          "precpu_stats.cpu_usage.total_usage": 103683467000,
          "precpu_stats.system_cpu_usage": 4036427820000000,
          "read": "2022-11-08T19:45:08.674097746",
          "system_cpu_delta": 3740000000
         },
         {
          "cpu_delta": 126094000,
          "cpu_stats.cpu_usage.total_usage": 104059001000,
          "cpu_stats.online_cpus": 4,
          "cpu_stats.system_cpu_usage": 4036439090000000,
          "cpu_usage_perc": 13.450026666666668,
          "precpu_stats.cpu_usage.total_usage": 103932907000,
          "precpu_stats.system_cpu_usage": 4036435340000000,
          "read": "2022-11-08T19:45:10.716839235",
          "system_cpu_delta": 3750000000
         },
         {
          "cpu_delta": 124208000,
          "cpu_stats.cpu_usage.total_usage": 104319657000,
          "cpu_stats.online_cpus": 4,
          "cpu_stats.system_cpu_usage": 4036446570000000,
          "cpu_usage_perc": 13.42789189189189,
          "precpu_stats.cpu_usage.total_usage": 104195449000,
          "precpu_stats.system_cpu_usage": 4036442870000000,
          "read": "2022-11-08T19:45:12.748266510",
          "system_cpu_delta": 3700000000
         },
         {
          "cpu_delta": 124415000,
          "cpu_stats.cpu_usage.total_usage": 104571304000,
          "cpu_stats.online_cpus": 4,
          "cpu_stats.system_cpu_usage": 4036453970000000,
          "cpu_usage_perc": 13.45027027027027,
          "precpu_stats.cpu_usage.total_usage": 104446889000,
          "precpu_stats.system_cpu_usage": 4036450270000000,
          "read": "2022-11-08T19:45:14.739063933",
          "system_cpu_delta": 3700000000
         },
         {
          "cpu_delta": 123959000,
          "cpu_stats.cpu_usage.total_usage": 104819185000,
          "cpu_stats.online_cpus": 4,
          "cpu_stats.system_cpu_usage": 4036461390000000,
          "cpu_usage_perc": 13.400972972972975,
          "precpu_stats.cpu_usage.total_usage": 104695226000,
          "precpu_stats.system_cpu_usage": 4036457690000000,
          "read": "2022-11-08T19:45:16.761794064",
          "system_cpu_delta": 3700000000
         },
         {
          "cpu_delta": 127467000,
          "cpu_stats.cpu_usage.total_usage": 105082745000,
          "cpu_stats.online_cpus": 4,
          "cpu_stats.system_cpu_usage": 4036469090000000,
          "cpu_usage_perc": 13.243324675324676,
          "precpu_stats.cpu_usage.total_usage": 104955278000,
          "precpu_stats.system_cpu_usage": 4036465240000000,
          "read": "2022-11-08T19:45:18.880232023",
          "system_cpu_delta": 3850000000
         },
         {
          "cpu_delta": 129265000,
          "cpu_stats.cpu_usage.total_usage": 105345085000,
          "cpu_stats.online_cpus": 4,
          "cpu_stats.system_cpu_usage": 4036476450000000,
          "cpu_usage_perc": 13.974594594594594,
          "precpu_stats.cpu_usage.total_usage": 105215820000,
          "precpu_stats.system_cpu_usage": 4036472750000000,
          "read": "2022-11-08T19:45:20.914345542",
          "system_cpu_delta": 3700000000
         },
         {
          "cpu_delta": 122991000,
          "cpu_stats.cpu_usage.total_usage": 105594238000,
          "cpu_stats.online_cpus": 4,
          "cpu_stats.system_cpu_usage": 4036483840000000,
          "cpu_usage_perc": 13.332357723577234,
          "precpu_stats.cpu_usage.total_usage": 105471247000,
          "precpu_stats.system_cpu_usage": 4036480150000000,
          "read": "2022-11-08T19:45:22.943712591",
          "system_cpu_delta": 3690000000
         },
         {
          "cpu_delta": 125674000,
          "cpu_stats.cpu_usage.total_usage": 105844983000,
          "cpu_stats.online_cpus": 4,
          "cpu_stats.system_cpu_usage": 4036491160000000,
          "cpu_usage_perc": 13.697438692098093,
          "precpu_stats.cpu_usage.total_usage": 105719309000,
          "precpu_stats.system_cpu_usage": 4036487490000000,
          "read": "2022-11-08T19:45:24.969828247",
          "system_cpu_delta": 3670000000
         },
         {
          "cpu_delta": 133276000,
          "cpu_stats.cpu_usage.total_usage": 106108830000,
          "cpu_stats.online_cpus": 4,
          "cpu_stats.system_cpu_usage": 4036498500000000,
          "cpu_usage_perc": 14.645714285714288,
          "precpu_stats.cpu_usage.total_usage": 105975554000,
          "precpu_stats.system_cpu_usage": 4036494860000000,
          "read": "2022-11-08T19:45:27.012130096",
          "system_cpu_delta": 3640000000
         },
         {
          "cpu_delta": 127155000,
          "cpu_stats.cpu_usage.total_usage": 106357163000,
          "cpu_stats.online_cpus": 4,
          "cpu_stats.system_cpu_usage": 4036505860000000,
          "cpu_usage_perc": 13.783739837398373,
          "precpu_stats.cpu_usage.total_usage": 106230008000,
          "precpu_stats.system_cpu_usage": 4036502170000000,
          "read": "2022-11-08T19:45:29.054405680",
          "system_cpu_delta": 3690000000
         },
         {
          "cpu_delta": 133895000,
          "cpu_stats.cpu_usage.total_usage": 106620174000,
          "cpu_stats.online_cpus": 4,
          "cpu_stats.system_cpu_usage": 4036513450000000,
          "cpu_usage_perc": 14.131398416886542,
          "precpu_stats.cpu_usage.total_usage": 106486279000,
          "precpu_stats.system_cpu_usage": 4036509660000000,
          "read": "2022-11-08T19:45:31.155752169",
          "system_cpu_delta": 3790000000
         },
         {
          "cpu_delta": 128790000,
          "cpu_stats.cpu_usage.total_usage": 106873405000,
          "cpu_stats.online_cpus": 4,
          "cpu_stats.system_cpu_usage": 4036520780000000,
          "cpu_usage_perc": 14.075409836065575,
          "precpu_stats.cpu_usage.total_usage": 106744615000,
          "precpu_stats.system_cpu_usage": 4036517120000000,
          "read": "2022-11-08T19:45:33.195918",
          "system_cpu_delta": 3660000000
         },
         {
          "cpu_delta": 126528000,
          "cpu_stats.cpu_usage.total_usage": 107134171000,
          "cpu_stats.online_cpus": 4,
          "cpu_stats.system_cpu_usage": 4036528530000000,
          "cpu_usage_perc": 12.652800000000001,
          "precpu_stats.cpu_usage.total_usage": 107007643000,
          "precpu_stats.system_cpu_usage": 4036524530000000,
          "read": "2022-11-08T19:45:35.250534688",
          "system_cpu_delta": 4000000000
         },
         {
          "cpu_delta": 124770000,
          "cpu_stats.cpu_usage.total_usage": 107394529000,
          "cpu_stats.online_cpus": 4,
          "cpu_stats.system_cpu_usage": 4036536350000000,
          "cpu_usage_perc": 12.862886597938145,
          "precpu_stats.cpu_usage.total_usage": 107269759000,
          "precpu_stats.system_cpu_usage": 4036532470000000,
          "read": "2022-11-08T19:45:37.326605824",
          "system_cpu_delta": 3880000000
         },
         {
          "cpu_delta": 125409000,
          "cpu_stats.cpu_usage.total_usage": 107644897000,
          "cpu_stats.online_cpus": 4,
          "cpu_stats.system_cpu_usage": 4036544040000000,
          "cpu_usage_perc": 12.995751295336788,
          "precpu_stats.cpu_usage.total_usage": 107519488000,
          "precpu_stats.system_cpu_usage": 4036540180000000,
          "read": "2022-11-08T19:45:39.351923106",
          "system_cpu_delta": 3860000000
         },
         {
          "cpu_delta": 125293000,
          "cpu_stats.cpu_usage.total_usage": 107907635000,
          "cpu_stats.online_cpus": 4,
          "cpu_stats.system_cpu_usage": 4036552020000000,
          "cpu_usage_perc": 12.560701754385963,
          "precpu_stats.cpu_usage.total_usage": 107782342000,
          "precpu_stats.system_cpu_usage": 4036548030000000,
          "read": "2022-11-08T19:45:41.460787312",
          "system_cpu_delta": 3990000000
         },
         {
          "cpu_delta": 138211000,
          "cpu_stats.cpu_usage.total_usage": 108170626000,
          "cpu_stats.online_cpus": 4,
          "cpu_stats.system_cpu_usage": 4036559800000000,
          "cpu_usage_perc": 14.285374677002585,
          "precpu_stats.cpu_usage.total_usage": 108032415000,
          "precpu_stats.system_cpu_usage": 4036555930000000,
          "read": "2022-11-08T19:45:43.478418610",
          "system_cpu_delta": 3870000000
         },
         {
          "cpu_delta": 128763000,
          "cpu_stats.cpu_usage.total_usage": 108420811000,
          "cpu_stats.online_cpus": 4,
          "cpu_stats.system_cpu_usage": 4036567360000000,
          "cpu_usage_perc": 13.995978260869565,
          "precpu_stats.cpu_usage.total_usage": 108292048000,
          "precpu_stats.system_cpu_usage": 4036563680000000,
          "read": "2022-11-08T19:45:45.512562404",
          "system_cpu_delta": 3680000000
         },
         {
          "cpu_delta": 41923000,
          "cpu_stats.cpu_usage.total_usage": 108501710000,
          "cpu_stats.online_cpus": 4,
          "cpu_stats.system_cpu_usage": 4036574970000000,
          "cpu_usage_perc": 4.401364829396325,
          "precpu_stats.cpu_usage.total_usage": 108459787000,
          "precpu_stats.system_cpu_usage": 4036571160000000,
          "read": "2022-11-08T19:45:47.534422628",
          "system_cpu_delta": 3810000000
         },
         {
          "cpu_delta": 129403000,
          "cpu_stats.cpu_usage.total_usage": 108756120000,
          "cpu_stats.online_cpus": 4,
          "cpu_stats.system_cpu_usage": 4036582700000000,
          "cpu_usage_perc": 13.479479166666666,
          "precpu_stats.cpu_usage.total_usage": 108626717000,
          "precpu_stats.system_cpu_usage": 4036578860000000,
          "read": "2022-11-08T19:45:49.568946841",
          "system_cpu_delta": 3840000000
         },
         {
          "cpu_delta": 124450000,
          "cpu_stats.cpu_usage.total_usage": 109014496000,
          "cpu_stats.online_cpus": 4,
          "cpu_stats.system_cpu_usage": 4036590520000000,
          "cpu_usage_perc": 12.764102564102565,
          "precpu_stats.cpu_usage.total_usage": 108890046000,
          "precpu_stats.system_cpu_usage": 4036586620000000,
          "read": "2022-11-08T19:45:51.625063418",
          "system_cpu_delta": 3900000000
         },
         {
          "cpu_delta": 125195000,
          "cpu_stats.cpu_usage.total_usage": 109277190000,
          "cpu_stats.online_cpus": 4,
          "cpu_stats.system_cpu_usage": 4036598510000000,
          "cpu_usage_perc": 12.8076726342711,
          "precpu_stats.cpu_usage.total_usage": 109151995000,
          "precpu_stats.system_cpu_usage": 4036594600000000,
          "read": "2022-11-08T19:45:53.732398181",
          "system_cpu_delta": 3910000000
         },
         {
          "cpu_delta": 137399000,
          "cpu_stats.cpu_usage.total_usage": 109539401000,
          "cpu_stats.online_cpus": 4,
          "cpu_stats.system_cpu_usage": 4036606320000000,
          "cpu_usage_perc": 14.02030612244898,
          "precpu_stats.cpu_usage.total_usage": 109402002000,
          "precpu_stats.system_cpu_usage": 4036602400000000,
          "read": "2022-11-08T19:45:55.782914620",
          "system_cpu_delta": 3920000000
         },
         {
          "cpu_delta": 126084000,
          "cpu_stats.cpu_usage.total_usage": 109790605000,
          "cpu_stats.online_cpus": 4,
          "cpu_stats.system_cpu_usage": 4036613950000000,
          "cpu_usage_perc": 13.099636363636364,
          "precpu_stats.cpu_usage.total_usage": 109664521000,
          "precpu_stats.system_cpu_usage": 4036610100000000,
          "read": "2022-11-08T19:45:57.804093307",
          "system_cpu_delta": 3850000000
         },
         {
          "cpu_delta": 77092000,
          "cpu_stats.cpu_usage.total_usage": 109990751000,
          "cpu_stats.online_cpus": 4,
          "cpu_stats.system_cpu_usage": 4036621670000000,
          "cpu_usage_perc": 8.072460732984293,
          "precpu_stats.cpu_usage.total_usage": 109913659000,
          "precpu_stats.system_cpu_usage": 4036617850000000,
          "read": "2022-11-08T19:45:59.846513407",
          "system_cpu_delta": 3820000000
         }
        ]
       },
       "encoding": {
        "x": {
         "axis": {
          "format": "%H:%M:%S",
          "labelAngle": -90
         },
         "field": "read",
         "timeUnit": "yearmonthdatehoursminutesseconds",
         "type": "ordinal"
        },
        "y": {
         "field": "cpu_usage_perc",
         "type": "quantitative"
        }
       },
       "height": 400,
       "mark": "line",
       "title": "Container with 0.125 cpu limit",
       "width": 800
      },
      "image/png": "[encoded data removed]",
      "text/plain": [
       "<VegaLite 4 object>\n",
       "\n",
       "If you see this message, it means the renderer has not been properly enabled\n",
       "for the frontend that you are using. For more information, see\n",
       "https://altair-viz.github.io/user_guide/troubleshooting.html\n"
      ]
     },
     "execution_count": 5,
     "metadata": {},
     "output_type": "execute_result"
    }
   ],
   "source": [
    "chart = generate_chart(run_with_num_cpu(0.125))\n",
    "print_relevant_logs()\n",
    "chart"
   ]
  },
  {
   "cell_type": "code",
   "execution_count": 6,
   "metadata": {},
   "outputs": [
    {
     "name": "stdout",
     "output_type": "stream",
     "text": [
      "19:47:18.384880 [info ] [MainThread]: Found 2000 models, 6000 tests, 0 snapshots, 0 analyses, 165 macros, 0 operations, 0 seed files, 0 sources, 0 exposures, 0 metrics\n",
      "19:47:19.685969 [debug] [MainThread]: Acquiring new postgres connection \"master\"\n",
      "\n"
     ]
    },
    {
     "data": {
      "application/vnd.vegalite.v4+json": {
       "$schema": "https://vega.github.io/schema/vega-lite/v4.17.0.json",
       "config": {
        "view": {
         "continuousHeight": 300,
         "continuousWidth": 400
        }
       },
       "data": {
        "name": "data-a8048139a2b5b58a31c27be34e2b47a3"
       },
       "datasets": {
        "data-a8048139a2b5b58a31c27be34e2b47a3": [
         {
          "cpu_delta": 990503000,
          "cpu_stats.cpu_usage.total_usage": 1460960000,
          "cpu_stats.online_cpus": 4,
          "cpu_stats.system_cpu_usage": 4036632620000000,
          "cpu_usage_perc": 100.3041012658228,
          "precpu_stats.cpu_usage.total_usage": 470457000,
          "precpu_stats.system_cpu_usage": 4036628670000000,
          "read": "2022-11-08T19:46:02.879144903",
          "system_cpu_delta": 3950000000
         },
         {
          "cpu_delta": 272133000,
          "cpu_stats.cpu_usage.total_usage": 2619562000,
          "cpu_stats.online_cpus": 4,
          "cpu_stats.system_cpu_usage": 4036639980000000,
          "cpu_usage_perc": 33.80534161490683,
          "precpu_stats.cpu_usage.total_usage": 2347429000,
          "precpu_stats.system_cpu_usage": 4036636760000000,
          "read": "2022-11-08T19:46:05.006388534",
          "system_cpu_delta": 3220000000
         },
         {
          "cpu_delta": 171439000,
          "cpu_stats.cpu_usage.total_usage": 2967998000,
          "cpu_stats.online_cpus": 4,
          "cpu_stats.system_cpu_usage": 4036646360000000,
          "cpu_usage_perc": 21.564654088050315,
          "precpu_stats.cpu_usage.total_usage": 2796559000,
          "precpu_stats.system_cpu_usage": 4036643180000000,
          "read": "2022-11-08T19:46:07.039290223",
          "system_cpu_delta": 3180000000
         },
         {
          "cpu_delta": 189970000,
          "cpu_stats.cpu_usage.total_usage": 3314337000,
          "cpu_stats.online_cpus": 4,
          "cpu_stats.system_cpu_usage": 4036652650000000,
          "cpu_usage_perc": 24.27731629392971,
          "precpu_stats.cpu_usage.total_usage": 3124367000,
          "precpu_stats.system_cpu_usage": 4036649520000000,
          "read": "2022-11-08T19:46:09.056979580",
          "system_cpu_delta": 3130000000
         },
         {
          "cpu_delta": 232823000,
          "cpu_stats.cpu_usage.total_usage": 3763398000,
          "cpu_stats.online_cpus": 4,
          "cpu_stats.system_cpu_usage": 4036659060000000,
          "cpu_usage_perc": 29.285911949685534,
          "precpu_stats.cpu_usage.total_usage": 3530575000,
          "precpu_stats.system_cpu_usage": 4036655880000000,
          "read": "2022-11-08T19:46:11.086700966",
          "system_cpu_delta": 3180000000
         },
         {
          "cpu_delta": 179755000,
          "cpu_stats.cpu_usage.total_usage": 4149144000,
          "cpu_stats.online_cpus": 4,
          "cpu_stats.system_cpu_usage": 4036665480000000,
          "cpu_usage_perc": 22.329813664596273,
          "precpu_stats.cpu_usage.total_usage": 3969389000,
          "precpu_stats.system_cpu_usage": 4036662260000000,
          "read": "2022-11-08T19:46:13.085064433",
          "system_cpu_delta": 3220000000
         },
         {
          "cpu_delta": 330953000,
          "cpu_stats.cpu_usage.total_usage": 4817320000,
          "cpu_stats.online_cpus": 4,
          "cpu_stats.system_cpu_usage": 4036672190000000,
          "cpu_usage_perc": 38.935647058823534,
          "precpu_stats.cpu_usage.total_usage": 4486367000,
          "precpu_stats.system_cpu_usage": 4036668790000000,
          "read": "2022-11-08T19:46:15.130376163",
          "system_cpu_delta": 3400000000
         },
         {
          "cpu_delta": 302964000,
          "cpu_stats.cpu_usage.total_usage": 5452686000,
          "cpu_stats.online_cpus": 4,
          "cpu_stats.system_cpu_usage": 4036678980000000,
          "cpu_usage_perc": 35.22837209302326,
          "precpu_stats.cpu_usage.total_usage": 5149722000,
          "precpu_stats.system_cpu_usage": 4036675540000000,
          "read": "2022-11-08T19:46:17.248617808",
          "system_cpu_delta": 3440000000
         },
         {
          "cpu_delta": 750328000,
          "cpu_stats.cpu_usage.total_usage": 6395403000,
          "cpu_stats.online_cpus": 4,
          "cpu_stats.system_cpu_usage": 4036685840000000,
          "cpu_usage_perc": 82.68077134986225,
          "precpu_stats.cpu_usage.total_usage": 5645075000,
          "precpu_stats.system_cpu_usage": 4036682210000000,
          "read": "2022-11-08T19:46:19.262158012",
          "system_cpu_delta": 3630000000
         },
         {
          "cpu_delta": 745654000,
          "cpu_stats.cpu_usage.total_usage": 7909515000,
          "cpu_stats.online_cpus": 4,
          "cpu_stats.system_cpu_usage": 4036692970000000,
          "cpu_usage_perc": 84.01735211267606,
          "precpu_stats.cpu_usage.total_usage": 7163861000,
          "precpu_stats.system_cpu_usage": 4036689420000000,
          "read": "2022-11-08T19:46:21.286189270",
          "system_cpu_delta": 3550000000
         },
         {
          "cpu_delta": 803610000,
          "cpu_stats.cpu_usage.total_usage": 9449509000,
          "cpu_stats.online_cpus": 4,
          "cpu_stats.system_cpu_usage": 4036700120000000,
          "cpu_usage_perc": 90.04033613445378,
          "precpu_stats.cpu_usage.total_usage": 8645899000,
          "precpu_stats.system_cpu_usage": 4036696550000000,
          "read": "2022-11-08T19:46:23.304620874",
          "system_cpu_delta": 3570000000
         },
         {
          "cpu_delta": 757694000,
          "cpu_stats.cpu_usage.total_usage": 11008642000,
          "cpu_stats.online_cpus": 4,
          "cpu_stats.system_cpu_usage": 4036707250000000,
          "cpu_usage_perc": 84.65854748603351,
          "precpu_stats.cpu_usage.total_usage": 10250948000,
          "precpu_stats.system_cpu_usage": 4036703670000000,
          "read": "2022-11-08T19:46:25.317457314",
          "system_cpu_delta": 3580000000
         },
         {
          "cpu_delta": 762998000,
          "cpu_stats.cpu_usage.total_usage": 12491634000,
          "cpu_stats.online_cpus": 4,
          "cpu_stats.system_cpu_usage": 4036714580000000,
          "cpu_usage_perc": 83.16054495912807,
          "precpu_stats.cpu_usage.total_usage": 11728636000,
          "precpu_stats.system_cpu_usage": 4036710910000000,
          "read": "2022-11-08T19:46:27.371594716",
          "system_cpu_delta": 3670000000
         },
         {
          "cpu_delta": 812631000,
          "cpu_stats.cpu_usage.total_usage": 14089591000,
          "cpu_stats.online_cpus": 4,
          "cpu_stats.system_cpu_usage": 4036722110000000,
          "cpu_usage_perc": 85.5401052631579,
          "precpu_stats.cpu_usage.total_usage": 13276960000,
          "precpu_stats.system_cpu_usage": 4036718310000000,
          "read": "2022-11-08T19:46:29.480268622",
          "system_cpu_delta": 3800000000
         },
         {
          "cpu_delta": 775042000,
          "cpu_stats.cpu_usage.total_usage": 15646427000,
          "cpu_stats.online_cpus": 4,
          "cpu_stats.system_cpu_usage": 4036729400000000,
          "cpu_usage_perc": 84.24369565217391,
          "precpu_stats.cpu_usage.total_usage": 14871385000,
          "precpu_stats.system_cpu_usage": 4036725720000000,
          "read": "2022-11-08T19:46:31.500976208",
          "system_cpu_delta": 3680000000
         },
         {
          "cpu_delta": 790101000,
          "cpu_stats.cpu_usage.total_usage": 17212962000,
          "cpu_stats.online_cpus": 4,
          "cpu_stats.system_cpu_usage": 4036736650000000,
          "cpu_usage_perc": 87.30397790055248,
          "precpu_stats.cpu_usage.total_usage": 16422861000,
          "precpu_stats.system_cpu_usage": 4036733030000000,
          "read": "2022-11-08T19:46:33.519817720",
          "system_cpu_delta": 3620000000
         },
         {
          "cpu_delta": 786578000,
          "cpu_stats.cpu_usage.total_usage": 18760479000,
          "cpu_stats.online_cpus": 4,
          "cpu_stats.system_cpu_usage": 4036743980000000,
          "cpu_usage_perc": 85.9648087431694,
          "precpu_stats.cpu_usage.total_usage": 17973901000,
          "precpu_stats.system_cpu_usage": 4036740320000000,
          "read": "2022-11-08T19:46:35.543331140",
          "system_cpu_delta": 3660000000
         },
         {
          "cpu_delta": 771841000,
          "cpu_stats.cpu_usage.total_usage": 20297222000,
          "cpu_stats.online_cpus": 4,
          "cpu_stats.system_cpu_usage": 4036751220000000,
          "cpu_usage_perc": 84.81769230769231,
          "precpu_stats.cpu_usage.total_usage": 19525381000,
          "precpu_stats.system_cpu_usage": 4036747580000000,
          "read": "2022-11-08T19:46:37.555000772",
          "system_cpu_delta": 3640000000
         },
         {
          "cpu_delta": 797237000,
          "cpu_stats.cpu_usage.total_usage": 21814710000,
          "cpu_stats.online_cpus": 4,
          "cpu_stats.system_cpu_usage": 4036758600000000,
          "cpu_usage_perc": 85.9554716981132,
          "precpu_stats.cpu_usage.total_usage": 21017473000,
          "precpu_stats.system_cpu_usage": 4036754890000000,
          "read": "2022-11-08T19:46:39.599523595",
          "system_cpu_delta": 3710000000
         },
         {
          "cpu_delta": 815791000,
          "cpu_stats.cpu_usage.total_usage": 23433684000,
          "cpu_stats.online_cpus": 4,
          "cpu_stats.system_cpu_usage": 4036766140000000,
          "cpu_usage_perc": 88.19362162162162,
          "precpu_stats.cpu_usage.total_usage": 22617893000,
          "precpu_stats.system_cpu_usage": 4036762440000000,
          "read": "2022-11-08T19:46:41.722399028",
          "system_cpu_delta": 3700000000
         },
         {
          "cpu_delta": 744255000,
          "cpu_stats.cpu_usage.total_usage": 24927125000,
          "cpu_stats.online_cpus": 4,
          "cpu_stats.system_cpu_usage": 4036773400000000,
          "cpu_usage_perc": 80.67804878048781,
          "precpu_stats.cpu_usage.total_usage": 24182870000,
          "precpu_stats.system_cpu_usage": 4036769710000000,
          "read": "2022-11-08T19:46:43.737833834",
          "system_cpu_delta": 3690000000
         },
         {
          "cpu_delta": 781883000,
          "cpu_stats.cpu_usage.total_usage": 26470852000,
          "cpu_stats.online_cpus": 4,
          "cpu_stats.system_cpu_usage": 4036780690000000,
          "cpu_usage_perc": 85.45169398907105,
          "precpu_stats.cpu_usage.total_usage": 25688969000,
          "precpu_stats.system_cpu_usage": 4036777030000000,
          "read": "2022-11-08T19:46:45.754556495",
          "system_cpu_delta": 3660000000
         },
         {
          "cpu_delta": 737763000,
          "cpu_stats.cpu_usage.total_usage": 27982149000,
          "cpu_stats.online_cpus": 4,
          "cpu_stats.system_cpu_usage": 4036787880000000,
          "cpu_usage_perc": 82.8947191011236,
          "precpu_stats.cpu_usage.total_usage": 27244386000,
          "precpu_stats.system_cpu_usage": 4036784320000000,
          "read": "2022-11-08T19:46:47.776004409",
          "system_cpu_delta": 3560000000
         },
         {
          "cpu_delta": 660722000,
          "cpu_stats.cpu_usage.total_usage": 29338581000,
          "cpu_stats.online_cpus": 4,
          "cpu_stats.system_cpu_usage": 4036794950000000,
          "cpu_usage_perc": 75.08204545454545,
          "precpu_stats.cpu_usage.total_usage": 28677859000,
          "precpu_stats.system_cpu_usage": 4036791430000000,
          "read": "2022-11-08T19:46:49.798464554",
          "system_cpu_delta": 3520000000
         },
         {
          "cpu_delta": 652947000,
          "cpu_stats.cpu_usage.total_usage": 30636220000,
          "cpu_stats.online_cpus": 4,
          "cpu_stats.system_cpu_usage": 4036802240000000,
          "cpu_usage_perc": 71.55583561643836,
          "precpu_stats.cpu_usage.total_usage": 29983273000,
          "precpu_stats.system_cpu_usage": 4036798590000000,
          "read": "2022-11-08T19:46:51.852728463",
          "system_cpu_delta": 3650000000
         },
         {
          "cpu_delta": 704394000,
          "cpu_stats.cpu_usage.total_usage": 31955690000,
          "cpu_stats.online_cpus": 4,
          "cpu_stats.system_cpu_usage": 4036809610000000,
          "cpu_usage_perc": 77.40593406593406,
          "precpu_stats.cpu_usage.total_usage": 31251296000,
          "precpu_stats.system_cpu_usage": 4036805970000000,
          "read": "2022-11-08T19:46:53.935904075",
          "system_cpu_delta": 3640000000
         },
         {
          "cpu_delta": 612070000,
          "cpu_stats.cpu_usage.total_usage": 33259034000,
          "cpu_stats.online_cpus": 4,
          "cpu_stats.system_cpu_usage": 4036816780000000,
          "cpu_usage_perc": 67.07616438356165,
          "precpu_stats.cpu_usage.total_usage": 32646964000,
          "precpu_stats.system_cpu_usage": 4036813130000000,
          "read": "2022-11-08T19:46:55.957242513",
          "system_cpu_delta": 3650000000
         },
         {
          "cpu_delta": 751295000,
          "cpu_stats.cpu_usage.total_usage": 34705881000,
          "cpu_stats.online_cpus": 4,
          "cpu_stats.system_cpu_usage": 4036823990000000,
          "cpu_usage_perc": 82.1087431693989,
          "precpu_stats.cpu_usage.total_usage": 33954586000,
          "precpu_stats.system_cpu_usage": 4036820330000000,
          "read": "2022-11-08T19:46:57.975378395",
          "system_cpu_delta": 3660000000
         },
         {
          "cpu_delta": 770729000,
          "cpu_stats.cpu_usage.total_usage": 36248595000,
          "cpu_stats.online_cpus": 4,
          "cpu_stats.system_cpu_usage": 4036831310000000,
          "cpu_usage_perc": 83.54785907859078,
          "precpu_stats.cpu_usage.total_usage": 35477866000,
          "precpu_stats.system_cpu_usage": 4036827620000000,
          "read": "2022-11-08T19:46:59.987975768",
          "system_cpu_delta": 3690000000
         },
         {
          "cpu_delta": 773993000,
          "cpu_stats.cpu_usage.total_usage": 37827459000,
          "cpu_stats.online_cpus": 4,
          "cpu_stats.system_cpu_usage": 4036838670000000,
          "cpu_usage_perc": 84.12967391304348,
          "precpu_stats.cpu_usage.total_usage": 37053466000,
          "precpu_stats.system_cpu_usage": 4036834990000000,
          "read": "2022-11-08T19:47:02.007861275",
          "system_cpu_delta": 3680000000
         },
         {
          "cpu_delta": 787832000,
          "cpu_stats.cpu_usage.total_usage": 39377667000,
          "cpu_stats.online_cpus": 4,
          "cpu_stats.system_cpu_usage": 4036845960000000,
          "cpu_usage_perc": 87.05325966850829,
          "precpu_stats.cpu_usage.total_usage": 38589835000,
          "precpu_stats.system_cpu_usage": 4036842340000000,
          "read": "2022-11-08T19:47:04.025583337",
          "system_cpu_delta": 3620000000
         },
         {
          "cpu_delta": 814144000,
          "cpu_stats.cpu_usage.total_usage": 40992050000,
          "cpu_stats.online_cpus": 4,
          "cpu_stats.system_cpu_usage": 4036853580000000,
          "cpu_usage_perc": 85.47443569553805,
          "precpu_stats.cpu_usage.total_usage": 40177906000,
          "precpu_stats.system_cpu_usage": 4036849770000000,
          "read": "2022-11-08T19:47:06.125351351",
          "system_cpu_delta": 3810000000
         },
         {
          "cpu_delta": 775082000,
          "cpu_stats.cpu_usage.total_usage": 42543196000,
          "cpu_stats.online_cpus": 4,
          "cpu_stats.system_cpu_usage": 4036860920000000,
          "cpu_usage_perc": 84.01972899728997,
          "precpu_stats.cpu_usage.total_usage": 41768114000,
          "precpu_stats.system_cpu_usage": 4036857230000000,
          "read": "2022-11-08T19:47:08.150779120",
          "system_cpu_delta": 3690000000
         },
         {
          "cpu_delta": 895359000,
          "cpu_stats.cpu_usage.total_usage": 44200301000,
          "cpu_stats.online_cpus": 4,
          "cpu_stats.system_cpu_usage": 4036868340000000,
          "cpu_usage_perc": 94.24831578947368,
          "precpu_stats.cpu_usage.total_usage": 43304942000,
          "precpu_stats.system_cpu_usage": 4036864540000000,
          "read": "2022-11-08T19:47:10.160640790",
          "system_cpu_delta": 3800000000
         },
         {
          "cpu_delta": 927766000,
          "cpu_stats.cpu_usage.total_usage": 46065874000,
          "cpu_stats.online_cpus": 4,
          "cpu_stats.system_cpu_usage": 4036876130000000,
          "cpu_usage_perc": 95.4001028277635,
          "precpu_stats.cpu_usage.total_usage": 45138108000,
          "precpu_stats.system_cpu_usage": 4036872240000000,
          "read": "2022-11-08T19:47:12.180101386",
          "system_cpu_delta": 3890000000
         },
         {
          "cpu_delta": 1003633000,
          "cpu_stats.cpu_usage.total_usage": 48074756000,
          "cpu_stats.online_cpus": 4,
          "cpu_stats.system_cpu_usage": 4036883950000000,
          "cpu_usage_perc": 102.4115306122449,
          "precpu_stats.cpu_usage.total_usage": 47071123000,
          "precpu_stats.system_cpu_usage": 4036880030000000,
          "read": "2022-11-08T19:47:14.168341442",
          "system_cpu_delta": 3920000000
         },
         {
          "cpu_delta": 1027248000,
          "cpu_stats.cpu_usage.total_usage": 50114705000,
          "cpu_stats.online_cpus": 4,
          "cpu_stats.system_cpu_usage": 4036891930000000,
          "cpu_usage_perc": 101.96009925558313,
          "precpu_stats.cpu_usage.total_usage": 49087457000,
          "precpu_stats.system_cpu_usage": 4036887900000000,
          "read": "2022-11-08T19:47:16.220466260",
          "system_cpu_delta": 4030000000
         },
         {
          "cpu_delta": 925550000,
          "cpu_stats.cpu_usage.total_usage": 52040600000,
          "cpu_stats.online_cpus": 4,
          "cpu_stats.system_cpu_usage": 4036899750000000,
          "cpu_usage_perc": 94.6854219948849,
          "precpu_stats.cpu_usage.total_usage": 51115050000,
          "precpu_stats.system_cpu_usage": 4036895840000000,
          "read": "2022-11-08T19:47:18.269567441",
          "system_cpu_delta": 3910000000
         },
         {
          "cpu_delta": 782773000,
          "cpu_stats.cpu_usage.total_usage": 53779783000,
          "cpu_stats.online_cpus": 4,
          "cpu_stats.system_cpu_usage": 4036907490000000,
          "cpu_usage_perc": 82.18089238845144,
          "precpu_stats.cpu_usage.total_usage": 52997010000,
          "precpu_stats.system_cpu_usage": 4036903680000000,
          "read": "2022-11-08T19:47:20.294649832",
          "system_cpu_delta": 3810000000
         },
         {
          "cpu_delta": 431055000,
          "cpu_stats.cpu_usage.total_usage": 54546905000,
          "cpu_stats.online_cpus": 4,
          "cpu_stats.system_cpu_usage": 4036914430000000,
          "cpu_usage_perc": 49.832947976878614,
          "precpu_stats.cpu_usage.total_usage": 54115850000,
          "precpu_stats.system_cpu_usage": 4036910970000000,
          "read": "2022-11-08T19:47:22.318931106",
          "system_cpu_delta": 3460000000
         },
         {
          "cpu_delta": 486296000,
          "cpu_stats.cpu_usage.total_usage": 55496080000,
          "cpu_stats.online_cpus": 4,
          "cpu_stats.system_cpu_usage": 4036921270000000,
          "cpu_usage_perc": 57.38005899705014,
          "precpu_stats.cpu_usage.total_usage": 55009784000,
          "precpu_stats.system_cpu_usage": 4036917880000000,
          "read": "2022-11-08T19:47:24.337077127",
          "system_cpu_delta": 3390000000
         },
         {
          "cpu_delta": 465418000,
          "cpu_stats.cpu_usage.total_usage": 56404687000,
          "cpu_stats.online_cpus": 4,
          "cpu_stats.system_cpu_usage": 4036927970000000,
          "cpu_usage_perc": 56.58577507598784,
          "precpu_stats.cpu_usage.total_usage": 55939269000,
          "precpu_stats.system_cpu_usage": 4036924680000000,
          "read": "2022-11-08T19:47:26.351094739",
          "system_cpu_delta": 3290000000
         },
         {
          "cpu_delta": 458337000,
          "cpu_stats.cpu_usage.total_usage": 57307118000,
          "cpu_stats.online_cpus": 4,
          "cpu_stats.system_cpu_usage": 4036934830000000,
          "cpu_usage_perc": 53.45037900874635,
          "precpu_stats.cpu_usage.total_usage": 56848781000,
          "precpu_stats.system_cpu_usage": 4036931400000000,
          "read": "2022-11-08T19:47:28.414835948",
          "system_cpu_delta": 3430000000
         },
         {
          "cpu_delta": 431053000,
          "cpu_stats.cpu_usage.total_usage": 58182528000,
          "cpu_stats.online_cpus": 4,
          "cpu_stats.system_cpu_usage": 4036941810000000,
          "cpu_usage_perc": 49.68910662824207,
          "precpu_stats.cpu_usage.total_usage": 57751475000,
          "precpu_stats.system_cpu_usage": 4036938340000000,
          "read": "2022-11-08T19:47:30.495805218",
          "system_cpu_delta": 3470000000
         },
         {
          "cpu_delta": 780371000,
          "cpu_stats.cpu_usage.total_usage": 59353913000,
          "cpu_stats.online_cpus": 4,
          "cpu_stats.system_cpu_usage": 4036948920000000,
          "cpu_usage_perc": 83.68589812332439,
          "precpu_stats.cpu_usage.total_usage": 58573542000,
          "precpu_stats.system_cpu_usage": 4036945190000000,
          "read": "2022-11-08T19:47:32.508907649",
          "system_cpu_delta": 3730000000
         },
         {
          "cpu_delta": 8755000,
          "cpu_stats.cpu_usage.total_usage": 59580838000,
          "cpu_stats.online_cpus": 4,
          "cpu_stats.system_cpu_usage": 4036956420000000,
          "cpu_usage_perc": 0.9240105540897098,
          "precpu_stats.cpu_usage.total_usage": 59572083000,
          "precpu_stats.system_cpu_usage": 4036952630000000,
          "read": "2022-11-08T19:47:34.531123711",
          "system_cpu_delta": 3790000000
         },
         {
          "cpu_delta": 228114000,
          "cpu_stats.cpu_usage.total_usage": 60624552000,
          "cpu_stats.online_cpus": 4,
          "cpu_stats.system_cpu_usage": 4036964160000000,
          "cpu_usage_perc": 23.948976377952754,
          "precpu_stats.cpu_usage.total_usage": 60396438000,
          "precpu_stats.system_cpu_usage": 4036960350000000,
          "read": "2022-11-08T19:47:36.554313257",
          "system_cpu_delta": 3810000000
         }
        ]
       },
       "encoding": {
        "x": {
         "axis": {
          "format": "%H:%M:%S",
          "labelAngle": -90
         },
         "field": "read",
         "timeUnit": "yearmonthdatehoursminutesseconds",
         "type": "ordinal"
        },
        "y": {
         "field": "cpu_usage_perc",
         "type": "quantitative"
        }
       },
       "height": 400,
       "mark": "line",
       "title": "Container with 2 cpu limit",
       "width": 800
      },
      "image/png": "[encoded data removed]",
      "text/plain": [
       "<VegaLite 4 object>\n",
       "\n",
       "If you see this message, it means the renderer has not been properly enabled\n",
       "for the frontend that you are using. For more information, see\n",
       "https://altair-viz.github.io/user_guide/troubleshooting.html\n"
      ]
     },
     "execution_count": 6,
     "metadata": {},
     "output_type": "execute_result"
    }
   ],
   "source": [
    "chart = generate_chart(run_with_num_cpu(2))\n",
    "print_relevant_logs()\n",
    "chart"
   ]
  },
  {
   "cell_type": "code",
   "execution_count": 7,
   "metadata": {},
   "outputs": [
    {
     "name": "stdout",
     "output_type": "stream",
     "text": [
      "19:48:51.504912 [info ] [MainThread]: Found 2000 models, 6000 tests, 0 snapshots, 0 analyses, 165 macros, 0 operations, 0 seed files, 0 sources, 0 exposures, 0 metrics\n",
      "19:48:52.838806 [debug] [MainThread]: Acquiring new postgres connection \"master\"\n",
      "\n"
     ]
    },
    {
     "data": {
      "application/vnd.vegalite.v4+json": {
       "$schema": "https://vega.github.io/schema/vega-lite/v4.17.0.json",
       "config": {
        "view": {
         "continuousHeight": 300,
         "continuousWidth": 400
        }
       },
       "data": {
        "name": "data-4ed78ab029f3336dae77c230fe053a29"
       },
       "datasets": {
        "data-4ed78ab029f3336dae77c230fe053a29": [
         {
          "cpu_delta": 981132000,
          "cpu_stats.cpu_usage.total_usage": 1635803000,
          "cpu_stats.online_cpus": 4,
          "cpu_stats.system_cpu_usage": 4036975160000000,
          "cpu_usage_perc": 99.86076335877863,
          "precpu_stats.cpu_usage.total_usage": 654671000,
          "precpu_stats.system_cpu_usage": 4036971230000000,
          "read": "2022-11-08T19:47:39.582045369",
          "system_cpu_delta": 3930000000
         },
         {
          "cpu_delta": 177690000,
          "cpu_stats.cpu_usage.total_usage": 2695223000,
          "cpu_stats.online_cpus": 4,
          "cpu_stats.system_cpu_usage": 4036982740000000,
          "cpu_usage_perc": 19.31413043478261,
          "precpu_stats.cpu_usage.total_usage": 2517533000,
          "precpu_stats.system_cpu_usage": 4036979060000000,
          "read": "2022-11-08T19:47:41.744370101",
          "system_cpu_delta": 3680000000
         },
         {
          "cpu_delta": 167640000,
          "cpu_stats.cpu_usage.total_usage": 3020000000,
          "cpu_stats.online_cpus": 4,
          "cpu_stats.system_cpu_usage": 4036989270000000,
          "cpu_usage_perc": 20.824844720496895,
          "precpu_stats.cpu_usage.total_usage": 2852360000,
          "precpu_stats.system_cpu_usage": 4036986050000000,
          "read": "2022-11-08T19:47:43.746815484",
          "system_cpu_delta": 3220000000
         },
         {
          "cpu_delta": 208969000,
          "cpu_stats.cpu_usage.total_usage": 3426231000,
          "cpu_stats.online_cpus": 4,
          "cpu_stats.system_cpu_usage": 4036995850000000,
          "cpu_usage_perc": 25.484024390243903,
          "precpu_stats.cpu_usage.total_usage": 3217262000,
          "precpu_stats.system_cpu_usage": 4036992570000000,
          "read": "2022-11-08T19:47:45.769935372",
          "system_cpu_delta": 3280000000
         },
         {
          "cpu_delta": 179736000,
          "cpu_stats.cpu_usage.total_usage": 3845721000,
          "cpu_stats.online_cpus": 4,
          "cpu_stats.system_cpu_usage": 4037002420000000,
          "cpu_usage_perc": 22.258328173374615,
          "precpu_stats.cpu_usage.total_usage": 3665985000,
          "precpu_stats.system_cpu_usage": 4036999190000000,
          "read": "2022-11-08T19:47:47.797285158",
          "system_cpu_delta": 3230000000
         },
         {
          "cpu_delta": 336198000,
          "cpu_stats.cpu_usage.total_usage": 4492374000,
          "cpu_stats.online_cpus": 4,
          "cpu_stats.system_cpu_usage": 4037008990000000,
          "cpu_usage_perc": 41.251288343558286,
          "precpu_stats.cpu_usage.total_usage": 4156176000,
          "precpu_stats.system_cpu_usage": 4037005730000000,
          "read": "2022-11-08T19:47:49.811873433",
          "system_cpu_delta": 3260000000
         },
         {
          "cpu_delta": 318351000,
          "cpu_stats.cpu_usage.total_usage": 5053734000,
          "cpu_stats.online_cpus": 4,
          "cpu_stats.system_cpu_usage": 4037015780000000,
          "cpu_usage_perc": 37.67467455621302,
          "precpu_stats.cpu_usage.total_usage": 4735383000,
          "precpu_stats.system_cpu_usage": 4037012400000000,
          "read": "2022-11-08T19:47:51.853433483",
          "system_cpu_delta": 3380000000
         },
         {
          "cpu_delta": 467666000,
          "cpu_stats.cpu_usage.total_usage": 5776373000,
          "cpu_stats.online_cpus": 4,
          "cpu_stats.system_cpu_usage": 4037022730000000,
          "cpu_usage_perc": 51.67580110497237,
          "precpu_stats.cpu_usage.total_usage": 5308707000,
          "precpu_stats.system_cpu_usage": 4037019110000000,
          "read": "2022-11-08T19:47:53.940199011",
          "system_cpu_delta": 3620000000
         },
         {
          "cpu_delta": 796059000,
          "cpu_stats.cpu_usage.total_usage": 7363628000,
          "cpu_stats.online_cpus": 4,
          "cpu_stats.system_cpu_usage": 4037030030000000,
          "cpu_usage_perc": 87.96232044198895,
          "precpu_stats.cpu_usage.total_usage": 6567569000,
          "precpu_stats.system_cpu_usage": 4037026410000000,
          "read": "2022-11-08T19:47:55.975105980",
          "system_cpu_delta": 3620000000
         },
         {
          "cpu_delta": 770039000,
          "cpu_stats.cpu_usage.total_usage": 8916635000,
          "cpu_stats.online_cpus": 4,
          "cpu_stats.system_cpu_usage": 4037037300000000,
          "cpu_usage_perc": 85.087182320442,
          "precpu_stats.cpu_usage.total_usage": 8146596000,
          "precpu_stats.system_cpu_usage": 4037033680000000,
          "read": "2022-11-08T19:47:57.997650705",
          "system_cpu_delta": 3620000000
         },
         {
          "cpu_delta": 735307000,
          "cpu_stats.cpu_usage.total_usage": 10424348000,
          "cpu_stats.online_cpus": 4,
          "cpu_stats.system_cpu_usage": 4037044510000000,
          "cpu_usage_perc": 81.025564738292,
          "precpu_stats.cpu_usage.total_usage": 9689041000,
          "precpu_stats.system_cpu_usage": 4037040880000000,
          "read": "2022-11-08T19:48:00.015565893",
          "system_cpu_delta": 3630000000
         },
         {
          "cpu_delta": 708794000,
          "cpu_stats.cpu_usage.total_usage": 11906427000,
          "cpu_stats.online_cpus": 4,
          "cpu_stats.system_cpu_usage": 4037051680000000,
          "cpu_usage_perc": 79.63977528089887,
          "precpu_stats.cpu_usage.total_usage": 11197633000,
          "precpu_stats.system_cpu_usage": 4037048120000000,
          "read": "2022-11-08T19:48:02.030200837",
          "system_cpu_delta": 3560000000
         },
         {
          "cpu_delta": 766983000,
          "cpu_stats.cpu_usage.total_usage": 13321099000,
          "cpu_stats.online_cpus": 4,
          "cpu_stats.system_cpu_usage": 4037058860000000,
          "cpu_usage_perc": 84.28384615384616,
          "precpu_stats.cpu_usage.total_usage": 12554116000,
          "precpu_stats.system_cpu_usage": 4037055220000000,
          "read": "2022-11-08T19:48:04.054679141",
          "system_cpu_delta": 3640000000
         },
         {
          "cpu_delta": 790959000,
          "cpu_stats.cpu_usage.total_usage": 14911775000,
          "cpu_stats.online_cpus": 4,
          "cpu_stats.system_cpu_usage": 4037066340000000,
          "cpu_usage_perc": 85.04935483870968,
          "precpu_stats.cpu_usage.total_usage": 14120816000,
          "precpu_stats.system_cpu_usage": 4037062620000000,
          "read": "2022-11-08T19:48:06.124986869",
          "system_cpu_delta": 3720000000
         },
         {
          "cpu_delta": 760298000,
          "cpu_stats.cpu_usage.total_usage": 16445081000,
          "cpu_stats.online_cpus": 4,
          "cpu_stats.system_cpu_usage": 4037073840000000,
          "cpu_usage_perc": 82.41712737127371,
          "precpu_stats.cpu_usage.total_usage": 15684783000,
          "precpu_stats.system_cpu_usage": 4037070150000000,
          "read": "2022-11-08T19:48:08.171931068",
          "system_cpu_delta": 3690000000
         },
         {
          "cpu_delta": 747989000,
          "cpu_stats.cpu_usage.total_usage": 17984138000,
          "cpu_stats.online_cpus": 4,
          "cpu_stats.system_cpu_usage": 4037081240000000,
          "cpu_usage_perc": 80.21329758713136,
          "precpu_stats.cpu_usage.total_usage": 17236149000,
          "precpu_stats.system_cpu_usage": 4037077510000000,
          "read": "2022-11-08T19:48:10.187941461",
          "system_cpu_delta": 3730000000
         },
         {
          "cpu_delta": 756631000,
          "cpu_stats.cpu_usage.total_usage": 19519366000,
          "cpu_stats.online_cpus": 4,
          "cpu_stats.system_cpu_usage": 4037088570000000,
          "cpu_usage_perc": 83.14626373626373,
          "precpu_stats.cpu_usage.total_usage": 18762735000,
          "precpu_stats.system_cpu_usage": 4037084930000000,
          "read": "2022-11-08T19:48:12.205509950",
          "system_cpu_delta": 3640000000
         },
         {
          "cpu_delta": 796136000,
          "cpu_stats.cpu_usage.total_usage": 21057830000,
          "cpu_stats.online_cpus": 4,
          "cpu_stats.system_cpu_usage": 4037095900000000,
          "cpu_usage_perc": 86.77231607629427,
          "precpu_stats.cpu_usage.total_usage": 20261694000,
          "precpu_stats.system_cpu_usage": 4037092230000000,
          "read": "2022-11-08T19:48:14.203517113",
          "system_cpu_delta": 3670000000
         },
         {
          "cpu_delta": 771543000,
          "cpu_stats.cpu_usage.total_usage": 22611530000,
          "cpu_stats.online_cpus": 4,
          "cpu_stats.system_cpu_usage": 4037103220000000,
          "cpu_usage_perc": 84.78494505494506,
          "precpu_stats.cpu_usage.total_usage": 21839987000,
          "precpu_stats.system_cpu_usage": 4037099580000000,
          "read": "2022-11-08T19:48:16.224895534",
          "system_cpu_delta": 3640000000
         },
         {
          "cpu_delta": 776349000,
          "cpu_stats.cpu_usage.total_usage": 24166660000,
          "cpu_stats.online_cpus": 4,
          "cpu_stats.system_cpu_usage": 4037110620000000,
          "cpu_usage_perc": 82.81056,
          "precpu_stats.cpu_usage.total_usage": 23390311000,
          "precpu_stats.system_cpu_usage": 4037106870000000,
          "read": "2022-11-08T19:48:18.266656613",
          "system_cpu_delta": 3750000000
         },
         {
          "cpu_delta": 757458000,
          "cpu_stats.cpu_usage.total_usage": 25746594000,
          "cpu_stats.online_cpus": 4,
          "cpu_stats.system_cpu_usage": 4037118220000000,
          "cpu_usage_perc": 82.33239130434782,
          "precpu_stats.cpu_usage.total_usage": 24989136000,
          "precpu_stats.system_cpu_usage": 4037114540000000,
          "read": "2022-11-08T19:48:20.348594553",
          "system_cpu_delta": 3680000000
         },
         {
          "cpu_delta": 752376000,
          "cpu_stats.cpu_usage.total_usage": 27286199000,
          "cpu_stats.online_cpus": 4,
          "cpu_stats.system_cpu_usage": 4037125580000000,
          "cpu_usage_perc": 81.11870619946092,
          "precpu_stats.cpu_usage.total_usage": 26533823000,
          "precpu_stats.system_cpu_usage": 4037121870000000,
          "read": "2022-11-08T19:48:22.373380556",
          "system_cpu_delta": 3710000000
         },
         {
          "cpu_delta": 746917000,
          "cpu_stats.cpu_usage.total_usage": 28800165000,
          "cpu_stats.online_cpus": 4,
          "cpu_stats.system_cpu_usage": 4037132890000000,
          "cpu_usage_perc": 81.18663043478261,
          "precpu_stats.cpu_usage.total_usage": 28053248000,
          "precpu_stats.system_cpu_usage": 4037129210000000,
          "read": "2022-11-08T19:48:24.390852904",
          "system_cpu_delta": 3680000000
         },
         {
          "cpu_delta": 768070000,
          "cpu_stats.cpu_usage.total_usage": 30338954000,
          "cpu_stats.online_cpus": 4,
          "cpu_stats.system_cpu_usage": 4037140230000000,
          "cpu_usage_perc": 82.81078167115903,
          "precpu_stats.cpu_usage.total_usage": 29570884000,
          "precpu_stats.system_cpu_usage": 4037136520000000,
          "read": "2022-11-08T19:48:26.406191938",
          "system_cpu_delta": 3710000000
         },
         {
          "cpu_delta": 753982000,
          "cpu_stats.cpu_usage.total_usage": 31871464000,
          "cpu_stats.online_cpus": 4,
          "cpu_stats.system_cpu_usage": 4037147590000000,
          "cpu_usage_perc": 80.85597855227881,
          "precpu_stats.cpu_usage.total_usage": 31117482000,
          "precpu_stats.system_cpu_usage": 4037143860000000,
          "read": "2022-11-08T19:48:28.428519716",
          "system_cpu_delta": 3730000000
         },
         {
          "cpu_delta": 791563000,
          "cpu_stats.cpu_usage.total_usage": 33470359000,
          "cpu_stats.online_cpus": 4,
          "cpu_stats.system_cpu_usage": 4037155110000000,
          "cpu_usage_perc": 86.27389645776566,
          "precpu_stats.cpu_usage.total_usage": 32678796000,
          "precpu_stats.system_cpu_usage": 4037151440000000,
          "read": "2022-11-08T19:48:30.486498410",
          "system_cpu_delta": 3670000000
         },
         {
          "cpu_delta": 785614000,
          "cpu_stats.cpu_usage.total_usage": 35093866000,
          "cpu_stats.online_cpus": 4,
          "cpu_stats.system_cpu_usage": 4037162690000000,
          "cpu_usage_perc": 84.93124324324324,
          "precpu_stats.cpu_usage.total_usage": 34308252000,
          "precpu_stats.system_cpu_usage": 4037158990000000,
          "read": "2022-11-08T19:48:32.566290901",
          "system_cpu_delta": 3700000000
         },
         {
          "cpu_delta": 737350000,
          "cpu_stats.cpu_usage.total_usage": 36599831000,
          "cpu_stats.online_cpus": 4,
          "cpu_stats.system_cpu_usage": 4037170040000000,
          "cpu_usage_perc": 79.49865229110512,
          "precpu_stats.cpu_usage.total_usage": 35862481000,
          "precpu_stats.system_cpu_usage": 4037166330000000,
          "read": "2022-11-08T19:48:34.582376208",
          "system_cpu_delta": 3710000000
         },
         {
          "cpu_delta": 776798000,
          "cpu_stats.cpu_usage.total_usage": 38164554000,
          "cpu_stats.online_cpus": 4,
          "cpu_stats.system_cpu_usage": 4037177460000000,
          "cpu_usage_perc": 82.85845333333334,
          "precpu_stats.cpu_usage.total_usage": 37387756000,
          "precpu_stats.system_cpu_usage": 4037173710000000,
          "read": "2022-11-08T19:48:36.614878544",
          "system_cpu_delta": 3750000000
         },
         {
          "cpu_delta": 783243000,
          "cpu_stats.cpu_usage.total_usage": 39714592000,
          "cpu_stats.online_cpus": 4,
          "cpu_stats.system_cpu_usage": 4037184780000000,
          "cpu_usage_perc": 84.90439024390244,
          "precpu_stats.cpu_usage.total_usage": 38931349000,
          "precpu_stats.system_cpu_usage": 4037181090000000,
          "read": "2022-11-08T19:48:38.631329778",
          "system_cpu_delta": 3690000000
         },
         {
          "cpu_delta": 778816000,
          "cpu_stats.cpu_usage.total_usage": 41271495000,
          "cpu_stats.online_cpus": 4,
          "cpu_stats.system_cpu_usage": 4037192120000000,
          "cpu_usage_perc": 84.88457765667576,
          "precpu_stats.cpu_usage.total_usage": 40492679000,
          "precpu_stats.system_cpu_usage": 4037188450000000,
          "read": "2022-11-08T19:48:40.651727881",
          "system_cpu_delta": 3670000000
         },
         {
          "cpu_delta": 1005449000,
          "cpu_stats.cpu_usage.total_usage": 43199282000,
          "cpu_stats.online_cpus": 4,
          "cpu_stats.system_cpu_usage": 4037200070000000,
          "cpu_usage_perc": 97.61640776699029,
          "precpu_stats.cpu_usage.total_usage": 42193833000,
          "precpu_stats.system_cpu_usage": 4037195950000000,
          "read": "2022-11-08T19:48:42.757311604",
          "system_cpu_delta": 4120000000
         },
         {
          "cpu_delta": 1007580000,
          "cpu_stats.cpu_usage.total_usage": 45115263000,
          "cpu_stats.online_cpus": 4,
          "cpu_stats.system_cpu_usage": 4037207860000000,
          "cpu_usage_perc": 101.77575757575758,
          "precpu_stats.cpu_usage.total_usage": 44107683000,
          "precpu_stats.system_cpu_usage": 4037203900000000,
          "read": "2022-11-08T19:48:44.797872887",
          "system_cpu_delta": 3960000000
         },
         {
          "cpu_delta": 1000944000,
          "cpu_stats.cpu_usage.total_usage": 47119413000,
          "cpu_stats.online_cpus": 4,
          "cpu_stats.system_cpu_usage": 4037215610000000,
          "cpu_usage_perc": 103.72476683937823,
          "precpu_stats.cpu_usage.total_usage": 46118469000,
          "precpu_stats.system_cpu_usage": 4037211750000000,
          "read": "2022-11-08T19:48:46.817126534",
          "system_cpu_delta": 3860000000
         },
         {
          "cpu_delta": 1011586000,
          "cpu_stats.cpu_usage.total_usage": 49136775000,
          "cpu_stats.online_cpus": 4,
          "cpu_stats.system_cpu_usage": 4037223330000000,
          "cpu_usage_perc": 102.43908860759494,
          "precpu_stats.cpu_usage.total_usage": 48125189000,
          "precpu_stats.system_cpu_usage": 4037219380000000,
          "read": "2022-11-08T19:48:48.839061452",
          "system_cpu_delta": 3950000000
         },
         {
          "cpu_delta": 1007802000,
          "cpu_stats.cpu_usage.total_usage": 51152356000,
          "cpu_stats.online_cpus": 4,
          "cpu_stats.system_cpu_usage": 4037231210000000,
          "cpu_usage_perc": 102.57526717557252,
          "precpu_stats.cpu_usage.total_usage": 50144554000,
          "precpu_stats.system_cpu_usage": 4037227280000000,
          "read": "2022-11-08T19:48:50.858584080",
          "system_cpu_delta": 3930000000
         },
         {
          "cpu_delta": 968429000,
          "cpu_stats.cpu_usage.total_usage": 52913780000,
          "cpu_stats.online_cpus": 4,
          "cpu_stats.system_cpu_usage": 4037239000000000,
          "cpu_usage_perc": 97.82111111111111,
          "precpu_stats.cpu_usage.total_usage": 51945351000,
          "precpu_stats.system_cpu_usage": 4037235040000000,
          "read": "2022-11-08T19:48:52.890577498",
          "system_cpu_delta": 3960000000
         },
         {
          "cpu_delta": 400825000,
          "cpu_stats.cpu_usage.total_usage": 53844627000,
          "cpu_stats.online_cpus": 4,
          "cpu_stats.system_cpu_usage": 4037246320000000,
          "cpu_usage_perc": 44.910364145658264,
          "precpu_stats.cpu_usage.total_usage": 53443802000,
          "precpu_stats.system_cpu_usage": 4037242750000000,
          "read": "2022-11-08T19:48:54.998694752",
          "system_cpu_delta": 3570000000
         },
         {
          "cpu_delta": 454712000,
          "cpu_stats.cpu_usage.total_usage": 54798450000,
          "cpu_stats.online_cpus": 4,
          "cpu_stats.system_cpu_usage": 4037253110000000,
          "cpu_usage_perc": 53.81207100591716,
          "precpu_stats.cpu_usage.total_usage": 54343738000,
          "precpu_stats.system_cpu_usage": 4037249730000000,
          "read": "2022-11-08T19:48:57.011234740",
          "system_cpu_delta": 3380000000
         },
         {
          "cpu_delta": 469011000,
          "cpu_stats.cpu_usage.total_usage": 55739405000,
          "cpu_stats.online_cpus": 4,
          "cpu_stats.system_cpu_usage": 4037259850000000,
          "cpu_usage_perc": 56.16898203592814,
          "precpu_stats.cpu_usage.total_usage": 55270394000,
          "precpu_stats.system_cpu_usage": 4037256510000000,
          "read": "2022-11-08T19:48:59.032271087",
          "system_cpu_delta": 3340000000
         },
         {
          "cpu_delta": 467204000,
          "cpu_stats.cpu_usage.total_usage": 56673265000,
          "cpu_stats.online_cpus": 4,
          "cpu_stats.system_cpu_usage": 4037266660000000,
          "cpu_usage_perc": 55.45448071216617,
          "precpu_stats.cpu_usage.total_usage": 56206061000,
          "precpu_stats.system_cpu_usage": 4037263290000000,
          "read": "2022-11-08T19:49:01.055334685",
          "system_cpu_delta": 3370000000
         },
         {
          "cpu_delta": 396402000,
          "cpu_stats.cpu_usage.total_usage": 57525995000,
          "cpu_stats.online_cpus": 4,
          "cpu_stats.system_cpu_usage": 4037273450000000,
          "cpu_usage_perc": 46.91147928994083,
          "precpu_stats.cpu_usage.total_usage": 57129593000,
          "precpu_stats.system_cpu_usage": 4037270070000000,
          "read": "2022-11-08T19:49:03.082586344",
          "system_cpu_delta": 3380000000
         },
         {
          "cpu_delta": 382977000,
          "cpu_stats.cpu_usage.total_usage": 58320036000,
          "cpu_stats.online_cpus": 4,
          "cpu_stats.system_cpu_usage": 4037280200000000,
          "cpu_usage_perc": 45.05611764705883,
          "precpu_stats.cpu_usage.total_usage": 57937059000,
          "precpu_stats.system_cpu_usage": 4037276800000000,
          "read": "2022-11-08T19:49:05.114986185",
          "system_cpu_delta": 3400000000
         },
         {
          "cpu_delta": 44476000,
          "cpu_stats.cpu_usage.total_usage": 59212624000,
          "cpu_stats.online_cpus": 4,
          "cpu_stats.system_cpu_usage": 4037288060000000,
          "cpu_usage_perc": 4.597002583979328,
          "precpu_stats.cpu_usage.total_usage": 59168148000,
          "precpu_stats.system_cpu_usage": 4037284190000000,
          "read": "2022-11-08T19:49:07.218552091",
          "system_cpu_delta": 3870000000
         },
         {
          "cpu_delta": 909548000,
          "cpu_stats.cpu_usage.total_usage": 60237537000,
          "cpu_stats.online_cpus": 4,
          "cpu_stats.system_cpu_usage": 4037295860000000,
          "cpu_usage_perc": 92.81102040816327,
          "precpu_stats.cpu_usage.total_usage": 59327989000,
          "precpu_stats.system_cpu_usage": 4037291940000000,
          "read": "2022-11-08T19:49:09.258908631",
          "system_cpu_delta": 3920000000
         }
        ]
       },
       "encoding": {
        "x": {
         "axis": {
          "format": "%H:%M:%S",
          "labelAngle": -90
         },
         "field": "read",
         "timeUnit": "yearmonthdatehoursminutesseconds",
         "type": "ordinal"
        },
        "y": {
         "field": "cpu_usage_perc",
         "type": "quantitative"
        }
       },
       "height": 400,
       "mark": "line",
       "title": "Container with None cpu limit",
       "width": 800
      },
      "image/png": "[encoded data removed]",
      "text/plain": [
       "<VegaLite 4 object>\n",
       "\n",
       "If you see this message, it means the renderer has not been properly enabled\n",
       "for the frontend that you are using. For more information, see\n",
       "https://altair-viz.github.io/user_guide/troubleshooting.html\n"
      ]
     },
     "execution_count": 7,
     "metadata": {},
     "output_type": "execute_result"
    }
   ],
   "source": [
    "chart = generate_chart(run_with_num_cpu())\n",
    "print_relevant_logs()\n",
    "chart"
   ]
  },
  {
   "cell_type": "markdown",
   "metadata": {},
   "source": [
    "### Appendix\n",
    "\n",
    "Interestingly running with `--cpus 2` or without any limits does not make the dbt container use more cpu for some reason. I was interested to see if we can get some stats on my machine that shows more than 100% usage or not so I ran the stress tests described here https://www.thorsten-hans.com/docker-container-cpu-limits-explained/."
   ]
  },
  {
   "cell_type": "code",
   "execution_count": 8,
   "metadata": {},
   "outputs": [
    {
     "data": {
      "application/vnd.vegalite.v4+json": {
       "$schema": "https://vega.github.io/schema/vega-lite/v4.17.0.json",
       "config": {
        "view": {
         "continuousHeight": 300,
         "continuousWidth": 400
        }
       },
       "data": {
        "name": "data-63f25364b0a439470090923f888e2eef"
       },
       "datasets": {
        "data-63f25364b0a439470090923f888e2eef": [
         {
          "cpu_delta": 3855603000,
          "cpu_stats.cpu_usage.total_usage": 6994043000,
          "cpu_stats.online_cpus": 4,
          "cpu_stats.system_cpu_usage": 4037306510000000,
          "cpu_usage_perc": 401.62531250000006,
          "precpu_stats.cpu_usage.total_usage": 3138440000,
          "precpu_stats.system_cpu_usage": 4037302670000000,
          "read": "2022-11-08T19:49:12.301464890",
          "system_cpu_delta": 3840000000
         },
         {
          "cpu_delta": 3950682000,
          "cpu_stats.cpu_usage.total_usage": 14851397000,
          "cpu_stats.online_cpus": 4,
          "cpu_stats.system_cpu_usage": 4037314370000000,
          "cpu_usage_perc": 398.05360201511337,
          "precpu_stats.cpu_usage.total_usage": 10900715000,
          "precpu_stats.system_cpu_usage": 4037310400000000,
          "read": "2022-11-08T19:49:14.293347167",
          "system_cpu_delta": 3970000000
         },
         {
          "cpu_delta": 3894458000,
          "cpu_stats.cpu_usage.total_usage": 22657944000,
          "cpu_stats.online_cpus": 4,
          "cpu_stats.system_cpu_usage": 4037322140000000,
          "cpu_usage_perc": 398.41002557544755,
          "precpu_stats.cpu_usage.total_usage": 18763486000,
          "precpu_stats.system_cpu_usage": 4037318230000000,
          "read": "2022-11-08T19:49:16.305111169",
          "system_cpu_delta": 3910000000
         },
         {
          "cpu_delta": 3841943000,
          "cpu_stats.cpu_usage.total_usage": 30356039000,
          "cpu_stats.online_cpus": 4,
          "cpu_stats.system_cpu_usage": 4037329840000000,
          "cpu_usage_perc": 406.55481481481485,
          "precpu_stats.cpu_usage.total_usage": 26514096000,
          "precpu_stats.system_cpu_usage": 4037326060000000,
          "read": "2022-11-08T19:49:18.332362892",
          "system_cpu_delta": 3780000000
         },
         {
          "cpu_delta": 3923704000,
          "cpu_stats.cpu_usage.total_usage": 38314202000,
          "cpu_stats.online_cpus": 4,
          "cpu_stats.system_cpu_usage": 4037337790000000,
          "cpu_usage_perc": 400.3779591836735,
          "precpu_stats.cpu_usage.total_usage": 34390498000,
          "precpu_stats.system_cpu_usage": 4037333870000000,
          "read": "2022-11-08T19:49:20.402552289",
          "system_cpu_delta": 3920000000
         },
         {
          "cpu_delta": 3813190000,
          "cpu_stats.cpu_usage.total_usage": 46055007000,
          "cpu_stats.online_cpus": 4,
          "cpu_stats.system_cpu_usage": 4037345530000000,
          "cpu_usage_perc": 400.33490813648297,
          "precpu_stats.cpu_usage.total_usage": 42241817000,
          "precpu_stats.system_cpu_usage": 4037341720000000,
          "read": "2022-11-08T19:49:22.414101473",
          "system_cpu_delta": 3810000000
         },
         {
          "cpu_delta": 3958640000,
          "cpu_stats.cpu_usage.total_usage": 53932731000,
          "cpu_stats.online_cpus": 4,
          "cpu_stats.system_cpu_usage": 4037353440000000,
          "cpu_usage_perc": 401.89238578680204,
          "precpu_stats.cpu_usage.total_usage": 49974091000,
          "precpu_stats.system_cpu_usage": 4037349500000000,
          "read": "2022-11-08T19:49:24.435491723",
          "system_cpu_delta": 3940000000
         },
         {
          "cpu_delta": 3949970000,
          "cpu_stats.cpu_usage.total_usage": 61764462000,
          "cpu_stats.online_cpus": 4,
          "cpu_stats.system_cpu_usage": 4037361220000000,
          "cpu_usage_perc": 398.98686868686866,
          "precpu_stats.cpu_usage.total_usage": 57814492000,
          "precpu_stats.system_cpu_usage": 4037357260000000,
          "read": "2022-11-08T19:49:26.453116749",
          "system_cpu_delta": 3960000000
         },
         {
          "cpu_delta": 3911175000,
          "cpu_stats.cpu_usage.total_usage": 69578409000,
          "cpu_stats.online_cpus": 4,
          "cpu_stats.system_cpu_usage": 4037368960000000,
          "cpu_usage_perc": 398.0839694656488,
          "precpu_stats.cpu_usage.total_usage": 65667234000,
          "precpu_stats.system_cpu_usage": 4037365030000000,
          "read": "2022-11-08T19:49:28.467939581",
          "system_cpu_delta": 3930000000
         },
         {
          "cpu_delta": 3851057000,
          "cpu_stats.cpu_usage.total_usage": 77281790000,
          "cpu_stats.online_cpus": 4,
          "cpu_stats.system_cpu_usage": 4037376760000000,
          "cpu_usage_perc": 399.0732642487047,
          "precpu_stats.cpu_usage.total_usage": 73430733000,
          "precpu_stats.system_cpu_usage": 4037372900000000,
          "read": "2022-11-08T19:49:30.487501304",
          "system_cpu_delta": 3860000000
         },
         {
          "cpu_delta": 3796778000,
          "cpu_stats.cpu_usage.total_usage": 85160493000,
          "cpu_stats.online_cpus": 4,
          "cpu_stats.system_cpu_usage": 4037384850000000,
          "cpu_usage_perc": 386.4405089058524,
          "precpu_stats.cpu_usage.total_usage": 81363715000,
          "precpu_stats.system_cpu_usage": 4037380920000000,
          "read": "2022-11-08T19:49:32.566754339",
          "system_cpu_delta": 3930000000
         },
         {
          "cpu_delta": 3924712000,
          "cpu_stats.cpu_usage.total_usage": 92951831000,
          "cpu_stats.online_cpus": 4,
          "cpu_stats.system_cpu_usage": 4037392770000000,
          "cpu_usage_perc": 395.4369773299748,
          "precpu_stats.cpu_usage.total_usage": 89027119000,
          "precpu_stats.system_cpu_usage": 4037388800000000,
          "read": "2022-11-08T19:49:34.585741659",
          "system_cpu_delta": 3970000000
         },
         {
          "cpu_delta": 3944137000,
          "cpu_stats.cpu_usage.total_usage": 100803932000,
          "cpu_stats.online_cpus": 4,
          "cpu_stats.system_cpu_usage": 4037400590000000,
          "cpu_usage_perc": 401.4388804071247,
          "precpu_stats.cpu_usage.total_usage": 96859795000,
          "precpu_stats.system_cpu_usage": 4037396660000000,
          "read": "2022-11-08T19:49:36.600840748",
          "system_cpu_delta": 3930000000
         },
         {
          "cpu_delta": 3865975000,
          "cpu_stats.cpu_usage.total_usage": 108589675000,
          "cpu_stats.online_cpus": 4,
          "cpu_stats.system_cpu_usage": 4037408330000000,
          "cpu_usage_perc": 401.65974025974026,
          "precpu_stats.cpu_usage.total_usage": 104723700000,
          "precpu_stats.system_cpu_usage": 4037404480000000,
          "read": "2022-11-08T19:49:38.617712423",
          "system_cpu_delta": 3850000000
         },
         {
          "cpu_delta": 3898443000,
          "cpu_stats.cpu_usage.total_usage": 116452958000,
          "cpu_stats.online_cpus": 4,
          "cpu_stats.system_cpu_usage": 4037416160000000,
          "cpu_usage_perc": 398.8176982097187,
          "precpu_stats.cpu_usage.total_usage": 112554515000,
          "precpu_stats.system_cpu_usage": 4037412250000000,
          "read": "2022-11-08T19:49:40.641808363",
          "system_cpu_delta": 3910000000
         },
         {
          "cpu_delta": 3739822000,
          "cpu_stats.cpu_usage.total_usage": 124020452000,
          "cpu_stats.online_cpus": 4,
          "cpu_stats.system_cpu_usage": 4037423450000000,
          "cpu_usage_perc": 443.8957863501484,
          "precpu_stats.cpu_usage.total_usage": 120280630000,
          "precpu_stats.system_cpu_usage": 4037420080000000,
          "read": "2022-11-08T19:49:42.636406031",
          "system_cpu_delta": 3370000000
         },
         {
          "cpu_delta": 4037130000,
          "cpu_stats.cpu_usage.total_usage": 132020912000,
          "cpu_stats.online_cpus": 4,
          "cpu_stats.system_cpu_usage": 4037431590000000,
          "cpu_usage_perc": 391.95436893203885,
          "precpu_stats.cpu_usage.total_usage": 127983782000,
          "precpu_stats.system_cpu_usage": 4037427470000000,
          "read": "2022-11-08T19:49:44.716734094",
          "system_cpu_delta": 4120000000
         },
         {
          "cpu_delta": 3939212000,
          "cpu_stats.cpu_usage.total_usage": 139850563000,
          "cpu_stats.online_cpus": 4,
          "cpu_stats.system_cpu_usage": 4037439400000000,
          "cpu_usage_perc": 402.9884398976982,
          "precpu_stats.cpu_usage.total_usage": 135911351000,
          "precpu_stats.system_cpu_usage": 4037435490000000,
          "read": "2022-11-08T19:49:46.728448092",
          "system_cpu_delta": 3910000000
         },
         {
          "cpu_delta": 3911166000,
          "cpu_stats.cpu_usage.total_usage": 147669052000,
          "cpu_stats.online_cpus": 4,
          "cpu_stats.system_cpu_usage": 4037446970000000,
          "cpu_usage_perc": 403.21298969072166,
          "precpu_stats.cpu_usage.total_usage": 143757886000,
          "precpu_stats.system_cpu_usage": 4037443090000000,
          "read": "2022-11-08T19:49:48.746684154",
          "system_cpu_delta": 3880000000
         },
         {
          "cpu_delta": 3957704000,
          "cpu_stats.cpu_usage.total_usage": 155533800000,
          "cpu_stats.online_cpus": 4,
          "cpu_stats.system_cpu_usage": 4037454840000000,
          "cpu_usage_perc": 400.7801518987342,
          "precpu_stats.cpu_usage.total_usage": 151576096000,
          "precpu_stats.system_cpu_usage": 4037450890000000,
          "read": "2022-11-08T19:49:50.760676672",
          "system_cpu_delta": 3950000000
         },
         {
          "cpu_delta": 3840571000,
          "cpu_stats.cpu_usage.total_usage": 163268140000,
          "cpu_stats.online_cpus": 4,
          "cpu_stats.system_cpu_usage": 4037462650000000,
          "cpu_usage_perc": 395.93515463917527,
          "precpu_stats.cpu_usage.total_usage": 159427569000,
          "precpu_stats.system_cpu_usage": 4037458770000000,
          "read": "2022-11-08T19:49:52.774780636",
          "system_cpu_delta": 3880000000
         },
         {
          "cpu_delta": 3921283000,
          "cpu_stats.cpu_usage.total_usage": 171051243000,
          "cpu_stats.online_cpus": 4,
          "cpu_stats.system_cpu_usage": 4037470460000000,
          "cpu_usage_perc": 397.0919493670886,
          "precpu_stats.cpu_usage.total_usage": 167129960000,
          "precpu_stats.system_cpu_usage": 4037466510000000,
          "read": "2022-11-08T19:49:54.815211276",
          "system_cpu_delta": 3950000000
         },
         {
          "cpu_delta": 3966926000,
          "cpu_stats.cpu_usage.total_usage": 178992358000,
          "cpu_stats.online_cpus": 4,
          "cpu_stats.system_cpu_usage": 4037478530000000,
          "cpu_usage_perc": 392.7649504950495,
          "precpu_stats.cpu_usage.total_usage": 175025432000,
          "precpu_stats.system_cpu_usage": 4037474490000000,
          "read": "2022-11-08T19:49:56.877868057",
          "system_cpu_delta": 4040000000
         },
         {
          "cpu_delta": 3931252000,
          "cpu_stats.cpu_usage.total_usage": 186785977000,
          "cpu_stats.online_cpus": 4,
          "cpu_stats.system_cpu_usage": 4037486000000000,
          "cpu_usage_perc": 399.11187817258883,
          "precpu_stats.cpu_usage.total_usage": 182854725000,
          "precpu_stats.system_cpu_usage": 4037482060000000,
          "read": "2022-11-08T19:49:58.894605881",
          "system_cpu_delta": 3940000000
         },
         {
          "cpu_delta": 3957259000,
          "cpu_stats.cpu_usage.total_usage": 194643040000,
          "cpu_stats.online_cpus": 4,
          "cpu_stats.system_cpu_usage": 4037493820000000,
          "cpu_usage_perc": 402.7744529262087,
          "precpu_stats.cpu_usage.total_usage": 190685781000,
          "precpu_stats.system_cpu_usage": 4037489890000000,
          "read": "2022-11-08T19:50:00.903298453",
          "system_cpu_delta": 3930000000
         },
         {
          "cpu_delta": 3828600000,
          "cpu_stats.cpu_usage.total_usage": 202365551000,
          "cpu_stats.online_cpus": 4,
          "cpu_stats.system_cpu_usage": 4037501670000000,
          "cpu_usage_perc": 394.70103092783506,
          "precpu_stats.cpu_usage.total_usage": 198536951000,
          "precpu_stats.system_cpu_usage": 4037497790000000,
          "read": "2022-11-08T19:50:02.919289591",
          "system_cpu_delta": 3880000000
         },
         {
          "cpu_delta": 3951963000,
          "cpu_stats.cpu_usage.total_usage": 210264008000,
          "cpu_stats.online_cpus": 4,
          "cpu_stats.system_cpu_usage": 4037509590000000,
          "cpu_usage_perc": 402.2354198473282,
          "precpu_stats.cpu_usage.total_usage": 206312045000,
          "precpu_stats.system_cpu_usage": 4037505660000000,
          "read": "2022-11-08T19:50:04.941319672",
          "system_cpu_delta": 3930000000
         },
         {
          "cpu_delta": 3876218000,
          "cpu_stats.cpu_usage.total_usage": 217991062000,
          "cpu_stats.online_cpus": 4,
          "cpu_stats.system_cpu_usage": 4037517150000000,
          "cpu_usage_perc": 427.1314600550964,
          "precpu_stats.cpu_usage.total_usage": 214114844000,
          "precpu_stats.system_cpu_usage": 4037513520000000,
          "read": "2022-11-08T19:50:06.966548924",
          "system_cpu_delta": 3630000000
         },
         {
          "cpu_delta": 3958062000,
          "cpu_stats.cpu_usage.total_usage": 225894621000,
          "cpu_stats.online_cpus": 4,
          "cpu_stats.system_cpu_usage": 4037524980000000,
          "cpu_usage_perc": 390.9197037037037,
          "precpu_stats.cpu_usage.total_usage": 221936559000,
          "precpu_stats.system_cpu_usage": 4037520930000000,
          "read": "2022-11-08T19:50:09.049549172",
          "system_cpu_delta": 4050000000
         },
         {
          "cpu_delta": 3969199000,
          "cpu_stats.cpu_usage.total_usage": 233664310000,
          "cpu_stats.online_cpus": 4,
          "cpu_stats.system_cpu_usage": 4037532800000000,
          "cpu_usage_perc": 402.9643654822335,
          "precpu_stats.cpu_usage.total_usage": 229695111000,
          "precpu_stats.system_cpu_usage": 4037528860000000,
          "read": "2022-11-08T19:50:11.062154880",
          "system_cpu_delta": 3940000000
         },
         {
          "cpu_delta": 3862382000,
          "cpu_stats.cpu_usage.total_usage": 241413901000,
          "cpu_stats.online_cpus": 4,
          "cpu_stats.system_cpu_usage": 4037540730000000,
          "cpu_usage_perc": 389.15687657430726,
          "precpu_stats.cpu_usage.total_usage": 237551519000,
          "precpu_stats.system_cpu_usage": 4037536760000000,
          "read": "2022-11-08T19:50:13.052052082",
          "system_cpu_delta": 3970000000
         },
         {
          "cpu_delta": 3951011000,
          "cpu_stats.cpu_usage.total_usage": 249291021000,
          "cpu_stats.online_cpus": 4,
          "cpu_stats.system_cpu_usage": 4037548600000000,
          "cpu_usage_perc": 405.23189743589745,
          "precpu_stats.cpu_usage.total_usage": 245340010000,
          "precpu_stats.system_cpu_usage": 4037544700000000,
          "read": "2022-11-08T19:50:15.069476541",
          "system_cpu_delta": 3900000000
         },
         {
          "cpu_delta": 3945229000,
          "cpu_stats.cpu_usage.total_usage": 257131700000,
          "cpu_stats.online_cpus": 4,
          "cpu_stats.system_cpu_usage": 4037556450000000,
          "cpu_usage_perc": 396.5054271356784,
          "precpu_stats.cpu_usage.total_usage": 253186471000,
          "precpu_stats.system_cpu_usage": 4037552470000000,
          "read": "2022-11-08T19:50:17.086087574",
          "system_cpu_delta": 3980000000
         },
         {
          "cpu_delta": 3772075000,
          "cpu_stats.cpu_usage.total_usage": 264830000000,
          "cpu_stats.online_cpus": 4,
          "cpu_stats.system_cpu_usage": 4037564250000000,
          "cpu_usage_perc": 393.9503916449086,
          "precpu_stats.cpu_usage.total_usage": 261057925000,
          "precpu_stats.system_cpu_usage": 4037560420000000,
          "read": "2022-11-08T19:50:19.126974754",
          "system_cpu_delta": 3830000000
         },
         {
          "cpu_delta": 4001699000,
          "cpu_stats.cpu_usage.total_usage": 272732244000,
          "cpu_stats.online_cpus": 4,
          "cpu_stats.system_cpu_usage": 4037572220000000,
          "cpu_usage_perc": 395.22953086419756,
          "precpu_stats.cpu_usage.total_usage": 268730545000,
          "precpu_stats.system_cpu_usage": 4037568170000000,
          "read": "2022-11-08T19:50:21.184058763",
          "system_cpu_delta": 4050000000
         },
         {
          "cpu_delta": 3835374000,
          "cpu_stats.cpu_usage.total_usage": 280454956000,
          "cpu_stats.online_cpus": 4,
          "cpu_stats.system_cpu_usage": 4037580050000000,
          "cpu_usage_perc": 393.3716923076923,
          "precpu_stats.cpu_usage.total_usage": 276619582000,
          "precpu_stats.system_cpu_usage": 4037576150000000,
          "read": "2022-11-08T19:50:23.201166154",
          "system_cpu_delta": 3900000000
         },
         {
          "cpu_delta": 3937643000,
          "cpu_stats.cpu_usage.total_usage": 288274076000,
          "cpu_stats.online_cpus": 4,
          "cpu_stats.system_cpu_usage": 4037587750000000,
          "cpu_usage_perc": 406.9915245478036,
          "precpu_stats.cpu_usage.total_usage": 284336433000,
          "precpu_stats.system_cpu_usage": 4037583880000000,
          "read": "2022-11-08T19:50:25.215720442",
          "system_cpu_delta": 3870000000
         },
         {
          "cpu_delta": 3945848000,
          "cpu_stats.cpu_usage.total_usage": 296124623000,
          "cpu_stats.online_cpus": 4,
          "cpu_stats.system_cpu_usage": 4037595580000000,
          "cpu_usage_perc": 408.8961658031088,
          "precpu_stats.cpu_usage.total_usage": 292178775000,
          "precpu_stats.system_cpu_usage": 4037591720000000,
          "read": "2022-11-08T19:50:27.231383947",
          "system_cpu_delta": 3860000000
         },
         {
          "cpu_delta": 3930552000,
          "cpu_stats.cpu_usage.total_usage": 303974015000,
          "cpu_stats.online_cpus": 4,
          "cpu_stats.system_cpu_usage": 4037603320000000,
          "cpu_usage_perc": 403.1335384615384,
          "precpu_stats.cpu_usage.total_usage": 300043463000,
          "precpu_stats.system_cpu_usage": 4037599420000000,
          "read": "2022-11-08T19:50:29.248794731",
          "system_cpu_delta": 3900000000
         },
         {
          "cpu_delta": 3912584000,
          "cpu_stats.cpu_usage.total_usage": 311710514000,
          "cpu_stats.online_cpus": 4,
          "cpu_stats.system_cpu_usage": 4037611290000000,
          "cpu_usage_perc": 388.3458064516129,
          "precpu_stats.cpu_usage.total_usage": 307797930000,
          "precpu_stats.system_cpu_usage": 4037607260000000,
          "read": "2022-11-08T19:50:31.275510075",
          "system_cpu_delta": 4030000000
         },
         {
          "cpu_delta": 3896978000,
          "cpu_stats.cpu_usage.total_usage": 319555957000,
          "cpu_stats.online_cpus": 4,
          "cpu_stats.system_cpu_usage": 4037619000000000,
          "cpu_usage_perc": 421.2949189189189,
          "precpu_stats.cpu_usage.total_usage": 315658979000,
          "precpu_stats.system_cpu_usage": 4037615300000000,
          "read": "2022-11-08T19:50:33.348069744",
          "system_cpu_delta": 3700000000
         },
         {
          "cpu_delta": 3885383000,
          "cpu_stats.cpu_usage.total_usage": 327379860000,
          "cpu_stats.online_cpus": 4,
          "cpu_stats.system_cpu_usage": 4037626090000000,
          "cpu_usage_perc": 501.33974193548386,
          "precpu_stats.cpu_usage.total_usage": 323494477000,
          "precpu_stats.system_cpu_usage": 4037622990000000,
          "read": "2022-11-08T19:50:35.364493930",
          "system_cpu_delta": 3100000000
         },
         {
          "cpu_delta": 3969088000,
          "cpu_stats.cpu_usage.total_usage": 335290239000,
          "cpu_stats.online_cpus": 4,
          "cpu_stats.system_cpu_usage": 4037633410000000,
          "cpu_usage_perc": 441.00977777777774,
          "precpu_stats.cpu_usage.total_usage": 331321151000,
          "precpu_stats.system_cpu_usage": 4037629810000000,
          "read": "2022-11-08T19:50:37.463571409",
          "system_cpu_delta": 3600000000
         },
         {
          "cpu_delta": 3906942000,
          "cpu_stats.cpu_usage.total_usage": 343055261000,
          "cpu_stats.online_cpus": 4,
          "cpu_stats.system_cpu_usage": 4037640750000000,
          "cpu_usage_perc": 429.3342857142857,
          "precpu_stats.cpu_usage.total_usage": 339148319000,
          "precpu_stats.system_cpu_usage": 4037637110000000,
          "read": "2022-11-08T19:50:39.485631948",
          "system_cpu_delta": 3640000000
         }
        ]
       },
       "encoding": {
        "x": {
         "axis": {
          "format": "%H:%M:%S",
          "labelAngle": -90
         },
         "field": "read",
         "timeUnit": "yearmonthdatehoursminutesseconds",
         "type": "ordinal"
        },
        "y": {
         "field": "cpu_usage_perc",
         "type": "quantitative"
        }
       },
       "height": 400,
       "mark": "line",
       "title": "Container with None cpu limit",
       "width": 800
      },
      "image/png": "[encoded data removed]",
      "text/plain": [
       "<VegaLite 4 object>\n",
       "\n",
       "If you see this message, it means the renderer has not been properly enabled\n",
       "for the frontend that you are using. For more information, see\n",
       "https://altair-viz.github.io/user_guide/troubleshooting.html\n"
      ]
     },
     "execution_count": 8,
     "metadata": {},
     "output_type": "execute_result"
    }
   ],
   "source": [
    "cmd = \"docker run --name stress_app --rm progrium/stress -c 8 -t 90s\".split(\" \")\n",
    "run_stress = subprocess.Popen(cmd, stdout=subprocess.PIPE)\n",
    "\n",
    "session = requests_unixsocket.Session()\n",
    "data = []\n",
    "\n",
    "while run_stress.poll() != 0:\n",
    "    r = session.get('http+unix://%2Fvar%2Frun%2Fdocker.sock/containers/stress_app/stats?stream=false')\n",
    "    if r.status_code == 200:\n",
    "        try:\n",
    "            data.append(r.json())\n",
    "        except:\n",
    "            pass\n",
    "\n",
    "data = [_ for _ in data if _[\"read\"] != \"0001-01-01T00:00:00Z\"]\n",
    "generate_chart((data, None))\n"
   ]
  },
  {
   "cell_type": "code",
   "execution_count": 9,
   "metadata": {},
   "outputs": [
    {
     "data": {
      "application/vnd.vegalite.v4+json": {
       "$schema": "https://vega.github.io/schema/vega-lite/v4.17.0.json",
       "config": {
        "view": {
         "continuousHeight": 300,
         "continuousWidth": 400
        }
       },
       "data": {
        "name": "data-e91d74dac7d44bdafd421c08d077b20d"
       },
       "datasets": {
        "data-e91d74dac7d44bdafd421c08d077b20d": [
         {
          "cpu_delta": 2006705000,
          "cpu_stats.cpu_usage.total_usage": 2663731000,
          "cpu_stats.online_cpus": 4,
          "cpu_stats.system_cpu_usage": 4037651820000000,
          "cpu_usage_perc": 224.8408963585434,
          "precpu_stats.cpu_usage.total_usage": 657026000,
          "precpu_stats.system_cpu_usage": 4037648250000000,
          "read": "2022-11-08T19:50:42.586864301",
          "system_cpu_delta": 3570000000
         },
         {
          "cpu_delta": 2163799000,
          "cpu_stats.cpu_usage.total_usage": 7009001000,
          "cpu_stats.online_cpus": 4,
          "cpu_stats.system_cpu_usage": 4037659010000000,
          "cpu_usage_perc": 244.49706214689266,
          "precpu_stats.cpu_usage.total_usage": 4845202000,
          "precpu_stats.system_cpu_usage": 4037655470000000,
          "read": "2022-11-08T19:50:44.695761806",
          "system_cpu_delta": 3540000000
         },
         {
          "cpu_delta": 2046383000,
          "cpu_stats.cpu_usage.total_usage": 11123243000,
          "cpu_stats.online_cpus": 4,
          "cpu_stats.system_cpu_usage": 4037666690000000,
          "cpu_usage_perc": 228.0092479108635,
          "precpu_stats.cpu_usage.total_usage": 9076860000,
          "precpu_stats.system_cpu_usage": 4037663100000000,
          "read": "2022-11-08T19:50:46.774656296",
          "system_cpu_delta": 3590000000
         },
         {
          "cpu_delta": 2027924000,
          "cpu_stats.cpu_usage.total_usage": 15173203000,
          "cpu_stats.online_cpus": 4,
          "cpu_stats.system_cpu_usage": 4037674140000000,
          "cpu_usage_perc": 220.42652173913044,
          "precpu_stats.cpu_usage.total_usage": 13145279000,
          "precpu_stats.system_cpu_usage": 4037670460000000,
          "read": "2022-11-08T19:50:48.787078989",
          "system_cpu_delta": 3680000000
         },
         {
          "cpu_delta": 2006355000,
          "cpu_stats.cpu_usage.total_usage": 19217274000,
          "cpu_stats.online_cpus": 4,
          "cpu_stats.system_cpu_usage": 4037681780000000,
          "cpu_usage_perc": 211.7525065963061,
          "precpu_stats.cpu_usage.total_usage": 17210919000,
          "precpu_stats.system_cpu_usage": 4037677990000000,
          "read": "2022-11-08T19:50:50.815805171",
          "system_cpu_delta": 3790000000
         },
         {
          "cpu_delta": 2001276000,
          "cpu_stats.cpu_usage.total_usage": 23217768000,
          "cpu_stats.online_cpus": 4,
          "cpu_stats.system_cpu_usage": 4037689380000000,
          "cpu_usage_perc": 211.7752380952381,
          "precpu_stats.cpu_usage.total_usage": 21216492000,
          "precpu_stats.system_cpu_usage": 4037685600000000,
          "read": "2022-11-08T19:50:52.831614515",
          "system_cpu_delta": 3780000000
         },
         {
          "cpu_delta": 2054057000,
          "cpu_stats.cpu_usage.total_usage": 27288275000,
          "cpu_stats.online_cpus": 4,
          "cpu_stats.system_cpu_usage": 4037696950000000,
          "cpu_usage_perc": 215.08450261780104,
          "precpu_stats.cpu_usage.total_usage": 25234218000,
          "precpu_stats.system_cpu_usage": 4037693130000000,
          "read": "2022-11-08T19:50:54.872441218",
          "system_cpu_delta": 3820000000
         },
         {
          "cpu_delta": 2076596000,
          "cpu_stats.cpu_usage.total_usage": 31416994000,
          "cpu_stats.online_cpus": 4,
          "cpu_stats.system_cpu_usage": 4037704340000000,
          "cpu_usage_perc": 223.28989247311827,
          "precpu_stats.cpu_usage.total_usage": 29340398000,
          "precpu_stats.system_cpu_usage": 4037700620000000,
          "read": "2022-11-08T19:50:56.912039629",
          "system_cpu_delta": 3720000000
         },
         {
          "cpu_delta": 2040598000,
          "cpu_stats.cpu_usage.total_usage": 35571967000,
          "cpu_stats.online_cpus": 4,
          "cpu_stats.system_cpu_usage": 4037711710000000,
          "cpu_usage_perc": 228.638431372549,
          "precpu_stats.cpu_usage.total_usage": 33531369000,
          "precpu_stats.system_cpu_usage": 4037708140000000,
          "read": "2022-11-08T19:50:58.985739380",
          "system_cpu_delta": 3570000000
         },
         {
          "cpu_delta": 2051396000,
          "cpu_stats.cpu_usage.total_usage": 39617051000,
          "cpu_stats.online_cpus": 4,
          "cpu_stats.system_cpu_usage": 4037718850000000,
          "cpu_usage_perc": 227.30149584487535,
          "precpu_stats.cpu_usage.total_usage": 37565655000,
          "precpu_stats.system_cpu_usage": 4037715240000000,
          "read": "2022-11-08T19:51:01.011192100",
          "system_cpu_delta": 3610000000
         },
         {
          "cpu_delta": 2001113000,
          "cpu_stats.cpu_usage.total_usage": 43618505000,
          "cpu_stats.online_cpus": 4,
          "cpu_stats.system_cpu_usage": 4037726010000000,
          "cpu_usage_perc": 225.47752112676056,
          "precpu_stats.cpu_usage.total_usage": 41617392000,
          "precpu_stats.system_cpu_usage": 4037722460000000,
          "read": "2022-11-08T19:51:03.028785713",
          "system_cpu_delta": 3550000000
         },
         {
          "cpu_delta": 2081578000,
          "cpu_stats.cpu_usage.total_usage": 47699011000,
          "cpu_stats.online_cpus": 4,
          "cpu_stats.system_cpu_usage": 4037733480000000,
          "cpu_usage_perc": 220.8570822281167,
          "precpu_stats.cpu_usage.total_usage": 45617433000,
          "precpu_stats.system_cpu_usage": 4037729710000000,
          "read": "2022-11-08T19:51:05.070739963",
          "system_cpu_delta": 3770000000
         },
         {
          "cpu_delta": 1989402000,
          "cpu_stats.cpu_usage.total_usage": 51729847000,
          "cpu_stats.online_cpus": 4,
          "cpu_stats.system_cpu_usage": 4037740890000000,
          "cpu_usage_perc": 218.0166575342466,
          "precpu_stats.cpu_usage.total_usage": 49740445000,
          "precpu_stats.system_cpu_usage": 4037737240000000,
          "read": "2022-11-08T19:51:07.089119496",
          "system_cpu_delta": 3650000000
         },
         {
          "cpu_delta": 2048298000,
          "cpu_stats.cpu_usage.total_usage": 55864275000,
          "cpu_stats.online_cpus": 4,
          "cpu_stats.system_cpu_usage": 4037748260000000,
          "cpu_usage_perc": 222.64108695652175,
          "precpu_stats.cpu_usage.total_usage": 53815977000,
          "precpu_stats.system_cpu_usage": 4037744580000000,
          "read": "2022-11-08T19:51:09.160227567",
          "system_cpu_delta": 3680000000
         },
         {
          "cpu_delta": 2033171000,
          "cpu_stats.cpu_usage.total_usage": 60021370000,
          "cpu_stats.online_cpus": 4,
          "cpu_stats.system_cpu_usage": 4037755580000000,
          "cpu_usage_perc": 226.53715877437324,
          "precpu_stats.cpu_usage.total_usage": 57988199000,
          "precpu_stats.system_cpu_usage": 4037751990000000,
          "read": "2022-11-08T19:51:11.202665692",
          "system_cpu_delta": 3590000000
         },
         {
          "cpu_delta": 1997554000,
          "cpu_stats.cpu_usage.total_usage": 64017013000,
          "cpu_stats.online_cpus": 4,
          "cpu_stats.system_cpu_usage": 4037762700000000,
          "cpu_usage_perc": 220.7241988950276,
          "precpu_stats.cpu_usage.total_usage": 62019459000,
          "precpu_stats.system_cpu_usage": 4037759080000000,
          "read": "2022-11-08T19:51:13.205582970",
          "system_cpu_delta": 3620000000
         },
         {
          "cpu_delta": 2039097000,
          "cpu_stats.cpu_usage.total_usage": 68058610000,
          "cpu_stats.online_cpus": 4,
          "cpu_stats.system_cpu_usage": 4037769830000000,
          "cpu_usage_perc": 228.47025210084033,
          "precpu_stats.cpu_usage.total_usage": 66019513000,
          "precpu_stats.system_cpu_usage": 4037766260000000,
          "read": "2022-11-08T19:51:15.234963573",
          "system_cpu_delta": 3570000000
         },
         {
          "cpu_delta": 2059658000,
          "cpu_stats.cpu_usage.total_usage": 72160831000,
          "cpu_stats.online_cpus": 4,
          "cpu_stats.system_cpu_usage": 4037777150000000,
          "cpu_usage_perc": 223.26915989159892,
          "precpu_stats.cpu_usage.total_usage": 70101173000,
          "precpu_stats.system_cpu_usage": 4037773460000000,
          "read": "2022-11-08T19:51:17.265628883",
          "system_cpu_delta": 3690000000
         },
         {
          "cpu_delta": 1943283000,
          "cpu_stats.cpu_usage.total_usage": 76124829000,
          "cpu_stats.online_cpus": 4,
          "cpu_stats.system_cpu_usage": 4037784320000000,
          "cpu_usage_perc": 217.7347899159664,
          "precpu_stats.cpu_usage.total_usage": 74181546000,
          "precpu_stats.system_cpu_usage": 4037780750000000,
          "read": "2022-11-08T19:51:19.278742363",
          "system_cpu_delta": 3570000000
         },
         {
          "cpu_delta": 2167831000,
          "cpu_stats.cpu_usage.total_usage": 80385871000,
          "cpu_stats.online_cpus": 4,
          "cpu_stats.system_cpu_usage": 4037791790000000,
          "cpu_usage_perc": 222.91321336760927,
          "precpu_stats.cpu_usage.total_usage": 78218040000,
          "precpu_stats.system_cpu_usage": 4037787900000000,
          "read": "2022-11-08T19:51:21.383624935",
          "system_cpu_delta": 3890000000
         },
         {
          "cpu_delta": 1999925000,
          "cpu_stats.cpu_usage.total_usage": 84418222000,
          "cpu_stats.online_cpus": 4,
          "cpu_stats.system_cpu_usage": 4037799040000000,
          "cpu_usage_perc": 222.83286908077991,
          "precpu_stats.cpu_usage.total_usage": 82418297000,
          "precpu_stats.system_cpu_usage": 4037795450000000,
          "read": "2022-11-08T19:51:23.407937210",
          "system_cpu_delta": 3590000000
         },
         {
          "cpu_delta": 1943219000,
          "cpu_stats.cpu_usage.total_usage": 88569600000,
          "cpu_stats.online_cpus": 4,
          "cpu_stats.system_cpu_usage": 4037806430000000,
          "cpu_usage_perc": 207.27669333333333,
          "precpu_stats.cpu_usage.total_usage": 86626381000,
          "precpu_stats.system_cpu_usage": 4037802680000000,
          "read": "2022-11-08T19:51:25.469328331",
          "system_cpu_delta": 3750000000
         },
         {
          "cpu_delta": 2015284000,
          "cpu_stats.cpu_usage.total_usage": 92617956000,
          "cpu_stats.online_cpus": 4,
          "cpu_stats.system_cpu_usage": 4037814350000000,
          "cpu_usage_perc": 203.5640404040404,
          "precpu_stats.cpu_usage.total_usage": 90602672000,
          "precpu_stats.system_cpu_usage": 4037810390000000,
          "read": "2022-11-08T19:51:27.494240797",
          "system_cpu_delta": 3960000000
         },
         {
          "cpu_delta": 2001583000,
          "cpu_stats.cpu_usage.total_usage": 96619321000,
          "cpu_stats.online_cpus": 4,
          "cpu_stats.system_cpu_usage": 4037822080000000,
          "cpu_usage_perc": 205.81830334190232,
          "precpu_stats.cpu_usage.total_usage": 94617738000,
          "precpu_stats.system_cpu_usage": 4037818190000000,
          "read": "2022-11-08T19:51:29.510310343",
          "system_cpu_delta": 3890000000
         },
         {
          "cpu_delta": 2043002000,
          "cpu_stats.cpu_usage.total_usage": 100659982000,
          "cpu_stats.online_cpus": 4,
          "cpu_stats.system_cpu_usage": 4037829960000000,
          "cpu_usage_perc": 206.36383838383838,
          "precpu_stats.cpu_usage.total_usage": 98616980000,
          "precpu_stats.system_cpu_usage": 4037826000000000,
          "read": "2022-11-08T19:51:31.546783624",
          "system_cpu_delta": 3960000000
         },
         {
          "cpu_delta": 2085877000,
          "cpu_stats.cpu_usage.total_usage": 104959075000,
          "cpu_stats.online_cpus": 4,
          "cpu_stats.system_cpu_usage": 4037838060000000,
          "cpu_usage_perc": 215.03886597938143,
          "precpu_stats.cpu_usage.total_usage": 102873198000,
          "precpu_stats.system_cpu_usage": 4037834180000000,
          "read": "2022-11-08T19:51:33.670499069",
          "system_cpu_delta": 3880000000
         },
         {
          "cpu_delta": 2002842000,
          "cpu_stats.cpu_usage.total_usage": 109019081000,
          "cpu_stats.online_cpus": 4,
          "cpu_stats.system_cpu_usage": 4037845760000000,
          "cpu_usage_perc": 210.27212598425197,
          "precpu_stats.cpu_usage.total_usage": 107016239000,
          "precpu_stats.system_cpu_usage": 4037841950000000,
          "read": "2022-11-08T19:51:35.709053700",
          "system_cpu_delta": 3810000000
         },
         {
          "cpu_delta": 2019474000,
          "cpu_stats.cpu_usage.total_usage": 113048895000,
          "cpu_stats.online_cpus": 4,
          "cpu_stats.system_cpu_usage": 4037853550000000,
          "cpu_usage_perc": 205.54442748091603,
          "precpu_stats.cpu_usage.total_usage": 111029421000,
          "precpu_stats.system_cpu_usage": 4037849620000000,
          "read": "2022-11-08T19:51:37.736078874",
          "system_cpu_delta": 3930000000
         },
         {
          "cpu_delta": 2047852000,
          "cpu_stats.cpu_usage.total_usage": 117141169000,
          "cpu_stats.online_cpus": 4,
          "cpu_stats.system_cpu_usage": 4037861400000000,
          "cpu_usage_perc": 210.03610256410258,
          "precpu_stats.cpu_usage.total_usage": 115093317000,
          "precpu_stats.system_cpu_usage": 4037857500000000,
          "read": "2022-11-08T19:51:39.760984976",
          "system_cpu_delta": 3900000000
         },
         {
          "cpu_delta": 2033197000,
          "cpu_stats.cpu_usage.total_usage": 121210720000,
          "cpu_stats.online_cpus": 4,
          "cpu_stats.system_cpu_usage": 4037869110000000,
          "cpu_usage_perc": 211.24124675324674,
          "precpu_stats.cpu_usage.total_usage": 119177523000,
          "precpu_stats.system_cpu_usage": 4037865260000000,
          "read": "2022-11-08T19:51:41.777571685",
          "system_cpu_delta": 3850000000
         },
         {
          "cpu_delta": 1993222000,
          "cpu_stats.cpu_usage.total_usage": 125211364000,
          "cpu_stats.online_cpus": 4,
          "cpu_stats.system_cpu_usage": 4037876860000000,
          "cpu_usage_perc": 204.43302564102567,
          "precpu_stats.cpu_usage.total_usage": 123218142000,
          "precpu_stats.system_cpu_usage": 4037872960000000,
          "read": "2022-11-08T19:51:43.784659728",
          "system_cpu_delta": 3900000000
         },
         {
          "cpu_delta": 2113873000,
          "cpu_stats.cpu_usage.total_usage": 129413884000,
          "cpu_stats.online_cpus": 4,
          "cpu_stats.system_cpu_usage": 4037884740000000,
          "cpu_usage_perc": 215.70132653061225,
          "precpu_stats.cpu_usage.total_usage": 127300011000,
          "precpu_stats.system_cpu_usage": 4037880820000000,
          "read": "2022-11-08T19:51:45.855841421",
          "system_cpu_delta": 3920000000
         },
         {
          "cpu_delta": 2030801000,
          "cpu_stats.cpu_usage.total_usage": 133495463000,
          "cpu_stats.online_cpus": 4,
          "cpu_stats.system_cpu_usage": 4037892520000000,
          "cpu_usage_perc": 217.78026809651476,
          "precpu_stats.cpu_usage.total_usage": 131464662000,
          "precpu_stats.system_cpu_usage": 4037888790000000,
          "read": "2022-11-08T19:51:47.927628302",
          "system_cpu_delta": 3730000000
         },
         {
          "cpu_delta": 2019023000,
          "cpu_stats.cpu_usage.total_usage": 137564322000,
          "cpu_stats.online_cpus": 4,
          "cpu_stats.system_cpu_usage": 4037900280000000,
          "cpu_usage_perc": 207.61161953727506,
          "precpu_stats.cpu_usage.total_usage": 135545299000,
          "precpu_stats.system_cpu_usage": 4037896390000000,
          "read": "2022-11-08T19:51:49.948064615",
          "system_cpu_delta": 3890000000
         },
         {
          "cpu_delta": 2015018000,
          "cpu_stats.cpu_usage.total_usage": 141618894000,
          "cpu_stats.online_cpus": 4,
          "cpu_stats.system_cpu_usage": 4037907830000000,
          "cpu_usage_perc": 208.81015544041452,
          "precpu_stats.cpu_usage.total_usage": 139603876000,
          "precpu_stats.system_cpu_usage": 4037903970000000,
          "read": "2022-11-08T19:51:51.963156108",
          "system_cpu_delta": 3860000000
         },
         {
          "cpu_delta": 1999829000,
          "cpu_stats.cpu_usage.total_usage": 145618812000,
          "cpu_stats.online_cpus": 4,
          "cpu_stats.system_cpu_usage": 4037915520000000,
          "cpu_usage_perc": 207.2361658031088,
          "precpu_stats.cpu_usage.total_usage": 143618983000,
          "precpu_stats.system_cpu_usage": 4037911660000000,
          "read": "2022-11-08T19:51:53.983724861",
          "system_cpu_delta": 3860000000
         },
         {
          "cpu_delta": 2000500000,
          "cpu_stats.cpu_usage.total_usage": 149618846000,
          "cpu_stats.online_cpus": 4,
          "cpu_stats.system_cpu_usage": 4037923110000000,
          "cpu_usage_perc": 205.706940874036,
          "precpu_stats.cpu_usage.total_usage": 147618346000,
          "precpu_stats.system_cpu_usage": 4037919220000000,
          "read": "2022-11-08T19:51:56.007133644",
          "system_cpu_delta": 3890000000
         },
         {
          "cpu_delta": 2199097000,
          "cpu_stats.cpu_usage.total_usage": 154217375000,
          "cpu_stats.online_cpus": 4,
          "cpu_stats.system_cpu_usage": 4037930900000000,
          "cpu_usage_perc": 236.4620430107527,
          "precpu_stats.cpu_usage.total_usage": 152018278000,
          "precpu_stats.system_cpu_usage": 4037927180000000,
          "read": "2022-11-08T19:51:58.274736181",
          "system_cpu_delta": 3720000000
         },
         {
          "cpu_delta": 1961086000,
          "cpu_stats.cpu_usage.total_usage": 158358053000,
          "cpu_stats.online_cpus": 4,
          "cpu_stats.system_cpu_usage": 4037938260000000,
          "cpu_usage_perc": 210.30412868632706,
          "precpu_stats.cpu_usage.total_usage": 156396967000,
          "precpu_stats.system_cpu_usage": 4037934530000000,
          "read": "2022-11-08T19:52:00.359873658",
          "system_cpu_delta": 3730000000
         },
         {
          "cpu_delta": 2002480000,
          "cpu_stats.cpu_usage.total_usage": 162361738000,
          "cpu_stats.online_cpus": 4,
          "cpu_stats.system_cpu_usage": 4037946080000000,
          "cpu_usage_perc": 205.38256410256412,
          "precpu_stats.cpu_usage.total_usage": 160359258000,
          "precpu_stats.system_cpu_usage": 4037942180000000,
          "read": "2022-11-08T19:52:02.386589563",
          "system_cpu_delta": 3900000000
         },
         {
          "cpu_delta": 2006996000,
          "cpu_stats.cpu_usage.total_usage": 166392928000,
          "cpu_stats.online_cpus": 4,
          "cpu_stats.system_cpu_usage": 4037954000000000,
          "cpu_usage_perc": 206.37491002570692,
          "precpu_stats.cpu_usage.total_usage": 164385932000,
          "precpu_stats.system_cpu_usage": 4037950110000000,
          "read": "2022-11-08T19:52:04.420604961",
          "system_cpu_delta": 3890000000
         },
         {
          "cpu_delta": 2193772000,
          "cpu_stats.cpu_usage.total_usage": 170665602000,
          "cpu_stats.online_cpus": 4,
          "cpu_stats.system_cpu_usage": 4037961210000000,
          "cpu_usage_perc": 268.35131498470946,
          "precpu_stats.cpu_usage.total_usage": 168471830000,
          "precpu_stats.system_cpu_usage": 4037957940000000,
          "read": "2022-11-08T19:52:06.445894055",
          "system_cpu_delta": 3270000000
         },
         {
          "cpu_delta": 1998358000,
          "cpu_stats.cpu_usage.total_usage": 174559884000,
          "cpu_stats.online_cpus": 4,
          "cpu_stats.system_cpu_usage": 4037968970000000,
          "cpu_usage_perc": 206.01628865979382,
          "precpu_stats.cpu_usage.total_usage": 172561526000,
          "precpu_stats.system_cpu_usage": 4037965090000000,
          "read": "2022-11-08T19:52:08.500142745",
          "system_cpu_delta": 3880000000
         },
         {
          "cpu_delta": 2133267000,
          "cpu_stats.cpu_usage.total_usage": 178765060000,
          "cpu_stats.online_cpus": 4,
          "cpu_stats.system_cpu_usage": 4037976810000000,
          "cpu_usage_perc": 213.32670000000002,
          "precpu_stats.cpu_usage.total_usage": 176631793000,
          "precpu_stats.system_cpu_usage": 4037972810000000,
          "read": "2022-11-08T19:52:10.600498004",
          "system_cpu_delta": 4000000000
         }
        ]
       },
       "encoding": {
        "x": {
         "axis": {
          "format": "%H:%M:%S",
          "labelAngle": -90
         },
         "field": "read",
         "timeUnit": "yearmonthdatehoursminutesseconds",
         "type": "ordinal"
        },
        "y": {
         "field": "cpu_usage_perc",
         "type": "quantitative"
        }
       },
       "height": 400,
       "mark": "line",
       "title": "Container with 2 cpu limit",
       "width": 800
      },
      "image/png": "[encoded data removed]",
      "text/plain": [
       "<VegaLite 4 object>\n",
       "\n",
       "If you see this message, it means the renderer has not been properly enabled\n",
       "for the frontend that you are using. For more information, see\n",
       "https://altair-viz.github.io/user_guide/troubleshooting.html\n"
      ]
     },
     "execution_count": 9,
     "metadata": {},
     "output_type": "execute_result"
    }
   ],
   "source": [
    "cmd = \"docker run --name stress_app --cpus 2 --rm progrium/stress -c 8 -t 90s\".split(\" \")\n",
    "run_stress = subprocess.Popen(cmd, stdout=subprocess.PIPE)\n",
    "\n",
    "session = requests_unixsocket.Session()\n",
    "data = []\n",
    "\n",
    "while run_stress.poll() != 0:\n",
    "    r = session.get('http+unix://%2Fvar%2Frun%2Fdocker.sock/containers/stress_app/stats?stream=false')\n",
    "    if r.status_code == 200:\n",
    "        try:\n",
    "            data.append(r.json())\n",
    "        except:\n",
    "            pass\n",
    "\n",
    "data = [_ for _ in data if _[\"read\"] != \"0001-01-01T00:00:00Z\"]\n",
    "generate_chart((data, 2))"
   ]
  },
  {
   "cell_type": "code",
   "execution_count": 10,
   "metadata": {},
   "outputs": [
    {
     "data": {
      "application/vnd.vegalite.v4+json": {
       "$schema": "https://vega.github.io/schema/vega-lite/v4.17.0.json",
       "config": {
        "view": {
         "continuousHeight": 300,
         "continuousWidth": 400
        }
       },
       "data": {
        "name": "data-005a1f6a3fb6657384bb674fbd76e399"
       },
       "datasets": {
        "data-005a1f6a3fb6657384bb674fbd76e399": [
         {
          "cpu_delta": 124709000,
          "cpu_stats.cpu_usage.total_usage": 222125000,
          "cpu_stats.online_cpus": 4,
          "cpu_stats.system_cpu_usage": 4037988270000000,
          "cpu_usage_perc": 12.628759493670886,
          "precpu_stats.cpu_usage.total_usage": 97416000,
          "precpu_stats.system_cpu_usage": 4037984320000000,
          "read": "2022-11-08T19:52:13.648515791",
          "system_cpu_delta": 3950000000
         },
         {
          "cpu_delta": 127529000,
          "cpu_stats.cpu_usage.total_usage": 474184000,
          "cpu_stats.online_cpus": 4,
          "cpu_stats.system_cpu_usage": 4037996140000000,
          "cpu_usage_perc": 13.01316326530612,
          "precpu_stats.cpu_usage.total_usage": 346655000,
          "precpu_stats.system_cpu_usage": 4037992220000000,
          "read": "2022-11-08T19:52:15.672321373",
          "system_cpu_delta": 3920000000
         },
         {
          "cpu_delta": 125992000,
          "cpu_stats.cpu_usage.total_usage": 734713000,
          "cpu_stats.online_cpus": 4,
          "cpu_stats.system_cpu_usage": 4038004000000000,
          "cpu_usage_perc": 12.791065989847716,
          "precpu_stats.cpu_usage.total_usage": 608721000,
          "precpu_stats.system_cpu_usage": 4038000060000000,
          "read": "2022-11-08T19:52:17.704339839",
          "system_cpu_delta": 3940000000
         },
         {
          "cpu_delta": 124816000,
          "cpu_stats.cpu_usage.total_usage": 984108000,
          "cpu_stats.online_cpus": 4,
          "cpu_stats.system_cpu_usage": 4038011790000000,
          "cpu_usage_perc": 12.768900255754476,
          "precpu_stats.cpu_usage.total_usage": 859292000,
          "precpu_stats.system_cpu_usage": 4038007880000000,
          "read": "2022-11-08T19:52:19.729349537",
          "system_cpu_delta": 3910000000
         },
         {
          "cpu_delta": 137000000,
          "cpu_stats.cpu_usage.total_usage": 1246640000,
          "cpu_stats.online_cpus": 4,
          "cpu_stats.system_cpu_usage": 4038019880000000,
          "cpu_usage_perc": 13.047619047619047,
          "precpu_stats.cpu_usage.total_usage": 1109640000,
          "precpu_stats.system_cpu_usage": 4038015680000000,
          "read": "2022-11-08T19:52:21.846691389",
          "system_cpu_delta": 4200000000
         },
         {
          "cpu_delta": 126461000,
          "cpu_stats.cpu_usage.total_usage": 1497489000,
          "cpu_stats.online_cpus": 4,
          "cpu_stats.system_cpu_usage": 4038027710000000,
          "cpu_usage_perc": 12.70964824120603,
          "precpu_stats.cpu_usage.total_usage": 1371028000,
          "precpu_stats.system_cpu_usage": 4038023730000000,
          "read": "2022-11-08T19:52:23.882794628",
          "system_cpu_delta": 3980000000
         },
         {
          "cpu_delta": 124985000,
          "cpu_stats.cpu_usage.total_usage": 1758209000,
          "cpu_stats.online_cpus": 4,
          "cpu_stats.system_cpu_usage": 4038035480000000,
          "cpu_usage_perc": 12.851928020565554,
          "precpu_stats.cpu_usage.total_usage": 1633224000,
          "precpu_stats.system_cpu_usage": 4038031590000000,
          "read": "2022-11-08T19:52:25.909210079",
          "system_cpu_delta": 3890000000
         },
         {
          "cpu_delta": 124961000,
          "cpu_stats.cpu_usage.total_usage": 2010729000,
          "cpu_stats.online_cpus": 4,
          "cpu_stats.system_cpu_usage": 4038043280000000,
          "cpu_usage_perc": 12.75112244897959,
          "precpu_stats.cpu_usage.total_usage": 1885768000,
          "precpu_stats.system_cpu_usage": 4038039360000000,
          "read": "2022-11-08T19:52:27.953445473",
          "system_cpu_delta": 3920000000
         },
         {
          "cpu_delta": 126641000,
          "cpu_stats.cpu_usage.total_usage": 2260530000,
          "cpu_stats.online_cpus": 4,
          "cpu_stats.system_cpu_usage": 4038051060000000,
          "cpu_usage_perc": 12.889669211195928,
          "precpu_stats.cpu_usage.total_usage": 2133889000,
          "precpu_stats.system_cpu_usage": 4038047130000000,
          "read": "2022-11-08T19:52:29.982543170",
          "system_cpu_delta": 3930000000
         },
         {
          "cpu_delta": 127053000,
          "cpu_stats.cpu_usage.total_usage": 2522702000,
          "cpu_stats.online_cpus": 4,
          "cpu_stats.system_cpu_usage": 4038058970000000,
          "cpu_usage_perc": 12.737142857142858,
          "precpu_stats.cpu_usage.total_usage": 2395649000,
          "precpu_stats.system_cpu_usage": 4038054980000000,
          "read": "2022-11-08T19:52:32.046142537",
          "system_cpu_delta": 3990000000
         },
         {
          "cpu_delta": 136229000,
          "cpu_stats.cpu_usage.total_usage": 2783393000,
          "cpu_stats.online_cpus": 4,
          "cpu_stats.system_cpu_usage": 4038066930000000,
          "cpu_usage_perc": 13.355784313725492,
          "precpu_stats.cpu_usage.total_usage": 2647164000,
          "precpu_stats.system_cpu_usage": 4038062850000000,
          "read": "2022-11-08T19:52:34.123498754",
          "system_cpu_delta": 4080000000
         },
         {
          "cpu_delta": 125499000,
          "cpu_stats.cpu_usage.total_usage": 3034337000,
          "cpu_stats.online_cpus": 4,
          "cpu_stats.system_cpu_usage": 4038074800000000,
          "cpu_usage_perc": 12.838772378516625,
          "precpu_stats.cpu_usage.total_usage": 2908838000,
          "precpu_stats.system_cpu_usage": 4038070890000000,
          "read": "2022-11-08T19:52:36.155254383",
          "system_cpu_delta": 3910000000
         },
         {
          "cpu_delta": 139131000,
          "cpu_stats.cpu_usage.total_usage": 3297091000,
          "cpu_stats.online_cpus": 4,
          "cpu_stats.system_cpu_usage": 4038082710000000,
          "cpu_usage_perc": 14.018236775818641,
          "precpu_stats.cpu_usage.total_usage": 3157960000,
          "precpu_stats.system_cpu_usage": 4038078740000000,
          "read": "2022-11-08T19:52:38.195361081",
          "system_cpu_delta": 3970000000
         },
         {
          "cpu_delta": 123517000,
          "cpu_stats.cpu_usage.total_usage": 3550737000,
          "cpu_stats.online_cpus": 4,
          "cpu_stats.system_cpu_usage": 4038090530000000,
          "cpu_usage_perc": 12.5717048346056,
          "precpu_stats.cpu_usage.total_usage": 3427220000,
          "precpu_stats.system_cpu_usage": 4038086600000000,
          "read": "2022-11-08T19:52:40.212576973",
          "system_cpu_delta": 3930000000
         },
         {
          "cpu_delta": 124024000,
          "cpu_stats.cpu_usage.total_usage": 3796640000,
          "cpu_stats.online_cpus": 4,
          "cpu_stats.system_cpu_usage": 4038098360000000,
          "cpu_usage_perc": 12.720410256410256,
          "precpu_stats.cpu_usage.total_usage": 3672616000,
          "precpu_stats.system_cpu_usage": 4038094460000000,
          "read": "2022-11-08T19:52:42.241823103",
          "system_cpu_delta": 3900000000
         },
         {
          "cpu_delta": 129172000,
          "cpu_stats.cpu_usage.total_usage": 4063669000,
          "cpu_stats.online_cpus": 4,
          "cpu_stats.system_cpu_usage": 4038106190000000,
          "cpu_usage_perc": 13.248410256410256,
          "precpu_stats.cpu_usage.total_usage": 3934497000,
          "precpu_stats.system_cpu_usage": 4038102290000000,
          "read": "2022-11-08T19:52:44.293363477",
          "system_cpu_delta": 3900000000
         },
         {
          "cpu_delta": 126334000,
          "cpu_stats.cpu_usage.total_usage": 4322809000,
          "cpu_stats.online_cpus": 4,
          "cpu_stats.system_cpu_usage": 4038114220000000,
          "cpu_usage_perc": 13.024123711340208,
          "precpu_stats.cpu_usage.total_usage": 4196475000,
          "precpu_stats.system_cpu_usage": 4038110340000000,
          "read": "2022-11-08T19:52:46.395898879",
          "system_cpu_delta": 3880000000
         },
         {
          "cpu_delta": 126432000,
          "cpu_stats.cpu_usage.total_usage": 4572859000,
          "cpu_stats.online_cpus": 4,
          "cpu_stats.system_cpu_usage": 4038122050000000,
          "cpu_usage_perc": 12.835736040609136,
          "precpu_stats.cpu_usage.total_usage": 4446427000,
          "precpu_stats.system_cpu_usage": 4038118110000000,
          "read": "2022-11-08T19:52:48.424847900",
          "system_cpu_delta": 3940000000
         },
         {
          "cpu_delta": 133498000,
          "cpu_stats.cpu_usage.total_usage": 4829406000,
          "cpu_stats.online_cpus": 4,
          "cpu_stats.system_cpu_usage": 4038129910000000,
          "cpu_usage_perc": 13.587582697201018,
          "precpu_stats.cpu_usage.total_usage": 4695908000,
          "precpu_stats.system_cpu_usage": 4038125980000000,
          "read": "2022-11-08T19:52:50.465247215",
          "system_cpu_delta": 3930000000
         },
         {
          "cpu_delta": 179067000,
          "cpu_stats.cpu_usage.total_usage": 5138672000,
          "cpu_stats.online_cpus": 4,
          "cpu_stats.system_cpu_usage": 4038137710000000,
          "cpu_usage_perc": 18.41305912596401,
          "precpu_stats.cpu_usage.total_usage": 4959605000,
          "precpu_stats.system_cpu_usage": 4038133820000000,
          "read": "2022-11-08T19:52:52.497634579",
          "system_cpu_delta": 3890000000
         },
         {
          "cpu_delta": 125341000,
          "cpu_stats.cpu_usage.total_usage": 5335185000,
          "cpu_stats.online_cpus": 4,
          "cpu_stats.system_cpu_usage": 4038145630000000,
          "cpu_usage_perc": 12.692759493670886,
          "precpu_stats.cpu_usage.total_usage": 5209844000,
          "precpu_stats.system_cpu_usage": 4038141680000000,
          "read": "2022-11-08T19:52:54.545143450",
          "system_cpu_delta": 3950000000
         },
         {
          "cpu_delta": 123648000,
          "cpu_stats.cpu_usage.total_usage": 5597019000,
          "cpu_stats.online_cpus": 4,
          "cpu_stats.system_cpu_usage": 4038153770000000,
          "cpu_usage_perc": 12.242376237623763,
          "precpu_stats.cpu_usage.total_usage": 5473371000,
          "precpu_stats.system_cpu_usage": 4038149730000000,
          "read": "2022-11-08T19:52:56.650551006",
          "system_cpu_delta": 4040000000
         },
         {
          "cpu_delta": 125520000,
          "cpu_stats.cpu_usage.total_usage": 5859905000,
          "cpu_stats.online_cpus": 4,
          "cpu_stats.system_cpu_usage": 4038161590000000,
          "cpu_usage_perc": 12.873846153846156,
          "precpu_stats.cpu_usage.total_usage": 5734385000,
          "precpu_stats.system_cpu_usage": 4038157690000000,
          "read": "2022-11-08T19:52:58.681782852",
          "system_cpu_delta": 3900000000
         },
         {
          "cpu_delta": 125105000,
          "cpu_stats.cpu_usage.total_usage": 6108788000,
          "cpu_stats.online_cpus": 4,
          "cpu_stats.system_cpu_usage": 4038169400000000,
          "cpu_usage_perc": 12.89742268041237,
          "precpu_stats.cpu_usage.total_usage": 5983683000,
          "precpu_stats.system_cpu_usage": 4038165520000000,
          "read": "2022-11-08T19:53:00.707809908",
          "system_cpu_delta": 3880000000
         },
         {
          "cpu_delta": 126095000,
          "cpu_stats.cpu_usage.total_usage": 6361109000,
          "cpu_stats.online_cpus": 4,
          "cpu_stats.system_cpu_usage": 4038177260000000,
          "cpu_usage_perc": 12.899744245524298,
          "precpu_stats.cpu_usage.total_usage": 6235014000,
          "precpu_stats.system_cpu_usage": 4038173350000000,
          "read": "2022-11-08T19:53:02.745752567",
          "system_cpu_delta": 3910000000
         },
         {
          "cpu_delta": 124924000,
          "cpu_stats.cpu_usage.total_usage": 6621283000,
          "cpu_stats.online_cpus": 4,
          "cpu_stats.system_cpu_usage": 4038185170000000,
          "cpu_usage_perc": 12.714910941475827,
          "precpu_stats.cpu_usage.total_usage": 6496359000,
          "precpu_stats.system_cpu_usage": 4038181240000000,
          "read": "2022-11-08T19:53:04.778332497",
          "system_cpu_delta": 3930000000
         },
         {
          "cpu_delta": 137776000,
          "cpu_stats.cpu_usage.total_usage": 6883962000,
          "cpu_stats.online_cpus": 4,
          "cpu_stats.system_cpu_usage": 4038193180000000,
          "cpu_usage_perc": 13.54063882063882,
          "precpu_stats.cpu_usage.total_usage": 6746186000,
          "precpu_stats.system_cpu_usage": 4038189110000000,
          "read": "2022-11-08T19:53:06.875380750",
          "system_cpu_delta": 4070000000
         },
         {
          "cpu_delta": 123389000,
          "cpu_stats.cpu_usage.total_usage": 7135205000,
          "cpu_stats.online_cpus": 4,
          "cpu_stats.system_cpu_usage": 4038201060000000,
          "cpu_usage_perc": 12.622915601023019,
          "precpu_stats.cpu_usage.total_usage": 7011816000,
          "precpu_stats.system_cpu_usage": 4038197150000000,
          "read": "2022-11-08T19:53:08.923143695",
          "system_cpu_delta": 3910000000
         },
         {
          "cpu_delta": 123240000,
          "cpu_stats.cpu_usage.total_usage": 7382896000,
          "cpu_stats.online_cpus": 4,
          "cpu_stats.system_cpu_usage": 4038208940000000,
          "cpu_usage_perc": 12.543511450381677,
          "precpu_stats.cpu_usage.total_usage": 7259656000,
          "precpu_stats.system_cpu_usage": 4038205010000000,
          "read": "2022-11-08T19:53:10.959155853",
          "system_cpu_delta": 3930000000
         },
         {
          "cpu_delta": 131188000,
          "cpu_stats.cpu_usage.total_usage": 7652640000,
          "cpu_stats.online_cpus": 4,
          "cpu_stats.system_cpu_usage": 4038216710000000,
          "cpu_usage_perc": 13.59461139896373,
          "precpu_stats.cpu_usage.total_usage": 7521452000,
          "precpu_stats.system_cpu_usage": 4038212850000000,
          "read": "2022-11-08T19:53:12.973255108",
          "system_cpu_delta": 3860000000
         },
         {
          "cpu_delta": 125402000,
          "cpu_stats.cpu_usage.total_usage": 7897648000,
          "cpu_stats.online_cpus": 4,
          "cpu_stats.system_cpu_usage": 4038224550000000,
          "cpu_usage_perc": 12.666868686868687,
          "precpu_stats.cpu_usage.total_usage": 7772246000,
          "precpu_stats.system_cpu_usage": 4038220590000000,
          "read": "2022-11-08T19:53:14.997100406",
          "system_cpu_delta": 3960000000
         },
         {
          "cpu_delta": 123814000,
          "cpu_stats.cpu_usage.total_usage": 8148024000,
          "cpu_stats.online_cpus": 4,
          "cpu_stats.system_cpu_usage": 4038232360000000,
          "cpu_usage_perc": 12.63408163265306,
          "precpu_stats.cpu_usage.total_usage": 8024210000,
          "precpu_stats.system_cpu_usage": 4038228440000000,
          "read": "2022-11-08T19:53:17.033083909",
          "system_cpu_delta": 3920000000
         },
         {
          "cpu_delta": 145013000,
          "cpu_stats.cpu_usage.total_usage": 8429468000,
          "cpu_stats.online_cpus": 4,
          "cpu_stats.system_cpu_usage": 4038240400000000,
          "cpu_usage_perc": 14.68486075949367,
          "precpu_stats.cpu_usage.total_usage": 8284455000,
          "precpu_stats.system_cpu_usage": 4038236450000000,
          "read": "2022-11-08T19:53:19.133114551",
          "system_cpu_delta": 3950000000
         },
         {
          "cpu_delta": 135121000,
          "cpu_stats.cpu_usage.total_usage": 8675763000,
          "cpu_stats.online_cpus": 4,
          "cpu_stats.system_cpu_usage": 4038248250000000,
          "cpu_usage_perc": 13.717868020304568,
          "precpu_stats.cpu_usage.total_usage": 8540642000,
          "precpu_stats.system_cpu_usage": 4038244310000000,
          "read": "2022-11-08T19:53:21.159909832",
          "system_cpu_delta": 3940000000
         },
         {
          "cpu_delta": 126853000,
          "cpu_stats.cpu_usage.total_usage": 8922385000,
          "cpu_stats.online_cpus": 4,
          "cpu_stats.system_cpu_usage": 4038256110000000,
          "cpu_usage_perc": 12.813434343434343,
          "precpu_stats.cpu_usage.total_usage": 8795532000,
          "precpu_stats.system_cpu_usage": 4038252150000000,
          "read": "2022-11-08T19:53:23.185467059",
          "system_cpu_delta": 3960000000
         },
         {
          "cpu_delta": 124714000,
          "cpu_stats.cpu_usage.total_usage": 9171516000,
          "cpu_stats.online_cpus": 4,
          "cpu_stats.system_cpu_usage": 4038263950000000,
          "cpu_usage_perc": 12.6935368956743,
          "precpu_stats.cpu_usage.total_usage": 9046802000,
          "precpu_stats.system_cpu_usage": 4038260020000000,
          "read": "2022-11-08T19:53:25.202748949",
          "system_cpu_delta": 3930000000
         },
         {
          "cpu_delta": 126366000,
          "cpu_stats.cpu_usage.total_usage": 9423812000,
          "cpu_stats.online_cpus": 4,
          "cpu_stats.system_cpu_usage": 4038271700000000,
          "cpu_usage_perc": 13.027422680412371,
          "precpu_stats.cpu_usage.total_usage": 9297446000,
          "precpu_stats.system_cpu_usage": 4038267820000000,
          "read": "2022-11-08T19:53:27.231031532",
          "system_cpu_delta": 3880000000
         },
         {
          "cpu_delta": 96699000,
          "cpu_stats.cpu_usage.total_usage": 9696990000,
          "cpu_stats.online_cpus": 4,
          "cpu_stats.system_cpu_usage": 4038279610000000,
          "cpu_usage_perc": 9.694135338345864,
          "precpu_stats.cpu_usage.total_usage": 9600291000,
          "precpu_stats.system_cpu_usage": 4038275620000000,
          "read": "2022-11-08T19:53:29.359173724",
          "system_cpu_delta": 3990000000
         },
         {
          "cpu_delta": 139438000,
          "cpu_stats.cpu_usage.total_usage": 9961879000,
          "cpu_stats.online_cpus": 4,
          "cpu_stats.system_cpu_usage": 4038287690000000,
          "cpu_usage_perc": 13.636968215158923,
          "precpu_stats.cpu_usage.total_usage": 9822441000,
          "precpu_stats.system_cpu_usage": 4038283600000000,
          "read": "2022-11-08T19:53:31.467682796",
          "system_cpu_delta": 4090000000
         },
         {
          "cpu_delta": 126138000,
          "cpu_stats.cpu_usage.total_usage": 10210016000,
          "cpu_stats.online_cpus": 4,
          "cpu_stats.system_cpu_usage": 4038295510000000,
          "cpu_usage_perc": 13.003917525773195,
          "precpu_stats.cpu_usage.total_usage": 10083878000,
          "precpu_stats.system_cpu_usage": 4038291630000000,
          "read": "2022-11-08T19:53:33.496480948",
          "system_cpu_delta": 3880000000
         },
         {
          "cpu_delta": 125163000,
          "cpu_stats.cpu_usage.total_usage": 10460432000,
          "cpu_stats.online_cpus": 4,
          "cpu_stats.system_cpu_usage": 4038303370000000,
          "cpu_usage_perc": 12.739236641221375,
          "precpu_stats.cpu_usage.total_usage": 10335269000,
          "precpu_stats.system_cpu_usage": 4038299440000000,
          "read": "2022-11-08T19:53:35.536523535",
          "system_cpu_delta": 3930000000
         },
         {
          "cpu_delta": 124193000,
          "cpu_stats.cpu_usage.total_usage": 10721845000,
          "cpu_stats.online_cpus": 4,
          "cpu_stats.system_cpu_usage": 4038311180000000,
          "cpu_usage_perc": 12.803402061855671,
          "precpu_stats.cpu_usage.total_usage": 10597652000,
          "precpu_stats.system_cpu_usage": 4038307300000000,
          "read": "2022-11-08T19:53:37.566524954",
          "system_cpu_delta": 3880000000
         },
         {
          "cpu_delta": 123817000,
          "cpu_stats.cpu_usage.total_usage": 10971003000,
          "cpu_stats.online_cpus": 4,
          "cpu_stats.system_cpu_usage": 4038319010000000,
          "cpu_usage_perc": 12.666700767263428,
          "precpu_stats.cpu_usage.total_usage": 10847186000,
          "precpu_stats.system_cpu_usage": 4038315100000000,
          "read": "2022-11-08T19:53:39.605792385",
          "system_cpu_delta": 3910000000
         },
         {
          "cpu_delta": 138377000,
          "cpu_stats.cpu_usage.total_usage": 11235181000,
          "cpu_stats.online_cpus": 4,
          "cpu_stats.system_cpu_usage": 4038326850000000,
          "cpu_usage_perc": 13.977474747474746,
          "precpu_stats.cpu_usage.total_usage": 11096804000,
          "precpu_stats.system_cpu_usage": 4038322890000000,
          "read": "2022-11-08T19:53:41.658562224",
          "system_cpu_delta": 3960000000
         }
        ]
       },
       "encoding": {
        "x": {
         "axis": {
          "format": "%H:%M:%S",
          "labelAngle": -90
         },
         "field": "read",
         "timeUnit": "yearmonthdatehoursminutesseconds",
         "type": "ordinal"
        },
        "y": {
         "field": "cpu_usage_perc",
         "type": "quantitative"
        }
       },
       "height": 400,
       "mark": "line",
       "title": "Container with 0.125 cpu limit",
       "width": 800
      },
      "image/png": "[encoded data removed]",
      "text/plain": [
       "<VegaLite 4 object>\n",
       "\n",
       "If you see this message, it means the renderer has not been properly enabled\n",
       "for the frontend that you are using. For more information, see\n",
       "https://altair-viz.github.io/user_guide/troubleshooting.html\n"
      ]
     },
     "execution_count": 10,
     "metadata": {},
     "output_type": "execute_result"
    }
   ],
   "source": [
    "cmd = \"docker run --name stress_app --cpus 0.125 --rm progrium/stress -c 8 -t 90s\".split(\" \")\n",
    "run_stress = subprocess.Popen(cmd, stdout=subprocess.PIPE)\n",
    "\n",
    "session = requests_unixsocket.Session()\n",
    "data = []\n",
    "\n",
    "while run_stress.poll() != 0:\n",
    "    r = session.get('http+unix://%2Fvar%2Frun%2Fdocker.sock/containers/stress_app/stats?stream=false')\n",
    "    if r.status_code == 200:\n",
    "        try:\n",
    "            data.append(r.json())\n",
    "        except:\n",
    "            pass\n",
    "\n",
    "data = [_ for _ in data if _[\"read\"] != \"0001-01-01T00:00:00Z\"]\n",
    "generate_chart((data, 0.125))"
   ]
  }
 ],
 "metadata": {
  "kernelspec": {
   "display_name": "Python 3 (ipykernel)",
   "language": "python",
   "name": "python3"
  },
  "language_info": {
   "codemirror_mode": {
    "name": "ipython",
    "version": 3
   },
   "file_extension": ".py",
   "mimetype": "text/x-python",
   "name": "python",
   "nbconvert_exporter": "python",
   "pygments_lexer": "ipython3",
   "version": "3.8.13"
  },
  "vscode": {
   "interpreter": {
    "hash": "71ec3774bd8c1161870e9ee74b5a876066cffd0506af57d74379c712897f0bf6"
   }
  }
 },
 "nbformat": 4,
 "nbformat_minor": 4
}
